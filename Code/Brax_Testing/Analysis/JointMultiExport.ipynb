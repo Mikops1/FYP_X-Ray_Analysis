{
 "cells": [
  {
   "cell_type": "code",
   "execution_count": 1,
   "id": "b2f212e7-081c-4c15-8b01-b1c779c36de5",
   "metadata": {},
   "outputs": [],
   "source": [
    "import pandas as pd\n",
    "import numpy as np\n",
    "import os\n",
    "\n",
    "csv_file = '../Arrays/BRAX2.csv'\n",
    "df = pd.read_csv(csv_file)\n",
    "base_dir = '../Arrays/'\n",
    "\n",
    "test_images = np.load(os.path.join(base_dir, 'images.npy'))\n",
    "test_labels = np.load(os.path.join(base_dir, 'labels.npy'))\n",
    "test_image_names = np.load(os.path.join(base_dir, 'image_names.npy'))\n",
    "data = pd.read_csv(csv_file)\n",
    "predictions = np.load('../Arrays/Merged_results.npy')\n",
    "\n",
    "df['PngPath'] = df['PngPath'].apply(os.path.basename)\n",
    "test_image_names = [os.path.basename(name) for name in test_image_names]\n",
    "\n",
    "filtered_df = df[df['PngPath'].isin(test_image_names)].copy()\n",
    "\n",
    "for i in range(predictions.shape[1]):\n",
    "    filtered_df.loc[:, f'Prediction_{i+1}'] = predictions[:, i]\n",
    "\n",
    "filtered_df.to_csv('BRAXJointMultiExport.csv', index=False)"
   ]
  },
  {
   "cell_type": "code",
   "execution_count": null,
   "id": "f8e0fc70-e41a-4c7f-9ba9-d91462c090df",
   "metadata": {},
   "outputs": [],
   "source": []
  }
 ],
 "metadata": {
  "kernelspec": {
   "display_name": "Python 3 (ipykernel)",
   "language": "python",
   "name": "python3"
  },
  "language_info": {
   "codemirror_mode": {
    "name": "ipython",
    "version": 3
   },
   "file_extension": ".py",
   "mimetype": "text/x-python",
   "name": "python",
   "nbconvert_exporter": "python",
   "pygments_lexer": "ipython3",
   "version": "3.11.11"
  }
 },
 "nbformat": 4,
 "nbformat_minor": 5
}
