{
 "cells": [
  {
   "cell_type": "code",
   "execution_count": 1,
   "id": "6d570d4a-5ab5-4069-8bf9-a11b1bd53563",
   "metadata": {},
   "outputs": [],
   "source": [
    "import numpy as np\n",
    "\n",
    "def merge_labels(labels):\n",
    "    labels = np.array(labels)\n",
    "    new_labels = np.zeros((labels.shape[0], 5))\n",
    "    new_labels[:, :2] = labels[:, :2]\n",
    "    new_labels[:, 2] = np.logical_or(labels[:, 2], labels[:, 3])\n",
    "    new_labels[:, 3:] = labels[:, 4:]\n",
    "\n",
    "    return new_labels\n",
    "base_array = '../../Data/Arrays/'\n",
    "labels = np.load(f'{base_array}test_labels.npy')\n",
    "\n",
    "new_labels = merge_labels(labels)\n",
    "\n",
    "save = 'Arrays/Joint_Test_Labels.npy'\n",
    "np.save(save, new_labels)"
   ]
  },
  {
   "cell_type": "code",
   "execution_count": 2,
   "id": "261718c1-d86b-4539-b4f1-263e5688661f",
   "metadata": {},
   "outputs": [
    {
     "name": "stdout",
     "output_type": "stream",
     "text": [
      "Column 0: 186.0 ones\n",
      "Column 1: 72.0 ones\n",
      "Column 2: 340.0 ones\n",
      "Column 3: 52.0 ones\n",
      "Column 4: 163.0 ones\n"
     ]
    }
   ],
   "source": [
    "import numpy as np\n",
    "\n",
    "new_labels = np.load('Arrays/Joint_Test_Labels.npy')\n",
    "\n",
    "ones_count = np.sum(new_labels, axis=0)\n",
    "\n",
    "for i, count in enumerate(ones_count):\n",
    "    print(f'Column {i}: {count} ones')"
   ]
  },
  {
   "cell_type": "code",
   "execution_count": null,
   "id": "7f21fcbe-1403-4c75-895b-4dd00fa218ce",
   "metadata": {},
   "outputs": [],
   "source": []
  }
 ],
 "metadata": {
  "kernelspec": {
   "display_name": "Python 3 (ipykernel)",
   "language": "python",
   "name": "python3"
  },
  "language_info": {
   "codemirror_mode": {
    "name": "ipython",
    "version": 3
   },
   "file_extension": ".py",
   "mimetype": "text/x-python",
   "name": "python",
   "nbconvert_exporter": "python",
   "pygments_lexer": "ipython3",
   "version": "3.11.11"
  }
 },
 "nbformat": 4,
 "nbformat_minor": 5
}
