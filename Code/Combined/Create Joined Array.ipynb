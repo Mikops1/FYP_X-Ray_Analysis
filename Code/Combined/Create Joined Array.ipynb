{
 "cells": [
  {
   "cell_type": "code",
   "execution_count": 1,
   "id": "6d570d4a-5ab5-4069-8bf9-a11b1bd53563",
   "metadata": {},
   "outputs": [],
   "source": [
    "import numpy as np\n",
    "\n",
    "def merge_labels(labels):\n",
    "    labels = np.array(labels)\n",
    "    new_labels = np.zeros((labels.shape[0], 5))\n",
    "    new_labels[:, :2] = labels[:, :2]\n",
    "    new_labels[:, 2] = np.logical_or(labels[:, 2], labels[:, 3])\n",
    "    new_labels[:, 3:] = labels[:, 4:]\n",
    "\n",
    "    return new_labels\n",
    "base_array = '../../Data/Arrays/'\n",
    "labels = np.load(f'{base_array}test_labels.npy')\n",
    "\n",
    "new_labels = merge_labels(labels)\n",
    "\n",
    "save = 'Arrays/Joint_Test_Labels.npy'\n",
    "np.save(save, new_labels)"
   ]
  },
  {
   "cell_type": "code",
   "execution_count": null,
   "id": "261718c1-d86b-4539-b4f1-263e5688661f",
   "metadata": {},
   "outputs": [],
   "source": []
  }
 ],
 "metadata": {
  "kernelspec": {
   "display_name": "Python 3 (ipykernel)",
   "language": "python",
   "name": "python3"
  },
  "language_info": {
   "codemirror_mode": {
    "name": "ipython",
    "version": 3
   },
   "file_extension": ".py",
   "mimetype": "text/x-python",
   "name": "python",
   "nbconvert_exporter": "python",
   "pygments_lexer": "ipython3",
   "version": "3.11.11"
  }
 },
 "nbformat": 4,
 "nbformat_minor": 5
}
