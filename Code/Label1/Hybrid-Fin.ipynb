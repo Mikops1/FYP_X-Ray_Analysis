{
 "cells": [
  {
   "cell_type": "code",
   "execution_count": 1,
   "id": "05fd7ab0-9370-4970-a49b-9b597c45c208",
   "metadata": {},
   "outputs": [
    {
     "name": "stderr",
     "output_type": "stream",
     "text": [
      "WARNING: pip is being invoked by an old script wrapper. This will fail in a future version of pip.\n",
      "Please see https://github.com/pypa/pip/issues/5599 for advice on fixing the underlying issue.\n",
      "To avoid this problem you can invoke Python with '-m pip' instead of running pip directly.\n"
     ]
    },
    {
     "data": {
      "text/html": [
       "<pre style=\"white-space:pre;overflow-x:auto;line-height:normal;font-family:Menlo,'DejaVu Sans Mono',consolas,'Courier New',monospace\">Requirement already satisfied: seaborn in /opt/conda/lib/python3.11/site-packages (0.13.2)\n",
       "</pre>\n"
      ],
      "text/plain": [
       "Requirement already satisfied: seaborn in /opt/conda/lib/python3.11/site-packages (0.13.2)\n"
      ]
     },
     "metadata": {},
     "output_type": "display_data"
    },
    {
     "data": {
      "text/html": [
       "<pre style=\"white-space:pre;overflow-x:auto;line-height:normal;font-family:Menlo,'DejaVu Sans Mono',consolas,'Courier New',monospace\">Requirement already satisfied: numpy!=1.24.0,&gt;=1.20 in /opt/conda/lib/python3.11/site-packages (from seaborn) (1.26.4)\n",
       "</pre>\n"
      ],
      "text/plain": [
       "Requirement already satisfied: numpy!=1.24.0,>=1.20 in /opt/conda/lib/python3.11/site-packages (from seaborn) (1.26.4)\n"
      ]
     },
     "metadata": {},
     "output_type": "display_data"
    },
    {
     "data": {
      "text/html": [
       "<pre style=\"white-space:pre;overflow-x:auto;line-height:normal;font-family:Menlo,'DejaVu Sans Mono',consolas,'Courier New',monospace\">Requirement already satisfied: pandas&gt;=1.2 in /opt/conda/lib/python3.11/site-packages (from seaborn) (2.2.3)\n",
       "</pre>\n"
      ],
      "text/plain": [
       "Requirement already satisfied: pandas>=1.2 in /opt/conda/lib/python3.11/site-packages (from seaborn) (2.2.3)\n"
      ]
     },
     "metadata": {},
     "output_type": "display_data"
    },
    {
     "data": {
      "text/html": [
       "<pre style=\"white-space:pre;overflow-x:auto;line-height:normal;font-family:Menlo,'DejaVu Sans Mono',consolas,'Courier New',monospace\">Requirement already satisfied: matplotlib!=3.6.1,&gt;=3.4 in /opt/conda/lib/python3.11/site-packages (from seaborn) (3.9.3)\n",
       "</pre>\n"
      ],
      "text/plain": [
       "Requirement already satisfied: matplotlib!=3.6.1,>=3.4 in /opt/conda/lib/python3.11/site-packages (from seaborn) (3.9.3)\n"
      ]
     },
     "metadata": {},
     "output_type": "display_data"
    },
    {
     "data": {
      "text/html": [
       "<pre style=\"white-space:pre;overflow-x:auto;line-height:normal;font-family:Menlo,'DejaVu Sans Mono',consolas,'Courier New',monospace\">Requirement already satisfied: contourpy&gt;=1.0.1 in /opt/conda/lib/python3.11/site-packages (from matplotlib!=3.6.1,&gt;=3.4-&gt;seaborn) (1.3.1)\n",
       "</pre>\n"
      ],
      "text/plain": [
       "Requirement already satisfied: contourpy>=1.0.1 in /opt/conda/lib/python3.11/site-packages (from matplotlib!=3.6.1,>=3.4->seaborn) (1.3.1)\n"
      ]
     },
     "metadata": {},
     "output_type": "display_data"
    },
    {
     "data": {
      "text/html": [
       "<pre style=\"white-space:pre;overflow-x:auto;line-height:normal;font-family:Menlo,'DejaVu Sans Mono',consolas,'Courier New',monospace\">Requirement already satisfied: cycler&gt;=0.10 in /opt/conda/lib/python3.11/site-packages (from matplotlib!=3.6.1,&gt;=3.4-&gt;seaborn) (0.12.1)\n",
       "</pre>\n"
      ],
      "text/plain": [
       "Requirement already satisfied: cycler>=0.10 in /opt/conda/lib/python3.11/site-packages (from matplotlib!=3.6.1,>=3.4->seaborn) (0.12.1)\n"
      ]
     },
     "metadata": {},
     "output_type": "display_data"
    },
    {
     "data": {
      "text/html": [
       "<pre style=\"white-space:pre;overflow-x:auto;line-height:normal;font-family:Menlo,'DejaVu Sans Mono',consolas,'Courier New',monospace\">Requirement already satisfied: fonttools&gt;=4.22.0 in /opt/conda/lib/python3.11/site-packages (from matplotlib!=3.6.1,&gt;=3.4-&gt;seaborn) (4.55.3)\n",
       "</pre>\n"
      ],
      "text/plain": [
       "Requirement already satisfied: fonttools>=4.22.0 in /opt/conda/lib/python3.11/site-packages (from matplotlib!=3.6.1,>=3.4->seaborn) (4.55.3)\n"
      ]
     },
     "metadata": {},
     "output_type": "display_data"
    },
    {
     "data": {
      "text/html": [
       "<pre style=\"white-space:pre;overflow-x:auto;line-height:normal;font-family:Menlo,'DejaVu Sans Mono',consolas,'Courier New',monospace\">Requirement already satisfied: kiwisolver&gt;=1.3.1 in /opt/conda/lib/python3.11/site-packages (from matplotlib!=3.6.1,&gt;=3.4-&gt;seaborn) (1.4.7)\n",
       "</pre>\n"
      ],
      "text/plain": [
       "Requirement already satisfied: kiwisolver>=1.3.1 in /opt/conda/lib/python3.11/site-packages (from matplotlib!=3.6.1,>=3.4->seaborn) (1.4.7)\n"
      ]
     },
     "metadata": {},
     "output_type": "display_data"
    },
    {
     "data": {
      "text/html": [
       "<pre style=\"white-space:pre;overflow-x:auto;line-height:normal;font-family:Menlo,'DejaVu Sans Mono',consolas,'Courier New',monospace\">Requirement already satisfied: packaging&gt;=20.0 in /opt/conda/lib/python3.11/site-packages (from matplotlib!=3.6.1,&gt;=3.4-&gt;seaborn) (24.2)\n",
       "</pre>\n"
      ],
      "text/plain": [
       "Requirement already satisfied: packaging>=20.0 in /opt/conda/lib/python3.11/site-packages (from matplotlib!=3.6.1,>=3.4->seaborn) (24.2)\n"
      ]
     },
     "metadata": {},
     "output_type": "display_data"
    },
    {
     "data": {
      "text/html": [
       "<pre style=\"white-space:pre;overflow-x:auto;line-height:normal;font-family:Menlo,'DejaVu Sans Mono',consolas,'Courier New',monospace\">Requirement already satisfied: pillow&gt;=8 in /opt/conda/lib/python3.11/site-packages (from matplotlib!=3.6.1,&gt;=3.4-&gt;seaborn) (10.4.0)\n",
       "</pre>\n"
      ],
      "text/plain": [
       "Requirement already satisfied: pillow>=8 in /opt/conda/lib/python3.11/site-packages (from matplotlib!=3.6.1,>=3.4->seaborn) (10.4.0)\n"
      ]
     },
     "metadata": {},
     "output_type": "display_data"
    },
    {
     "data": {
      "text/html": [
       "<pre style=\"white-space:pre;overflow-x:auto;line-height:normal;font-family:Menlo,'DejaVu Sans Mono',consolas,'Courier New',monospace\">Requirement already satisfied: pyparsing&gt;=2.3.1 in /opt/conda/lib/python3.11/site-packages (from matplotlib!=3.6.1,&gt;=3.4-&gt;seaborn) (3.2.0)\n",
       "</pre>\n"
      ],
      "text/plain": [
       "Requirement already satisfied: pyparsing>=2.3.1 in /opt/conda/lib/python3.11/site-packages (from matplotlib!=3.6.1,>=3.4->seaborn) (3.2.0)\n"
      ]
     },
     "metadata": {},
     "output_type": "display_data"
    },
    {
     "data": {
      "text/html": [
       "<pre style=\"white-space:pre;overflow-x:auto;line-height:normal;font-family:Menlo,'DejaVu Sans Mono',consolas,'Courier New',monospace\">Requirement already satisfied: python-dateutil&gt;=2.7 in /opt/conda/lib/python3.11/site-packages (from matplotlib!=3.6.1,&gt;=3.4-&gt;seaborn) (2.9.0.post0)\n",
       "</pre>\n"
      ],
      "text/plain": [
       "Requirement already satisfied: python-dateutil>=2.7 in /opt/conda/lib/python3.11/site-packages (from matplotlib!=3.6.1,>=3.4->seaborn) (2.9.0.post0)\n"
      ]
     },
     "metadata": {},
     "output_type": "display_data"
    },
    {
     "data": {
      "text/html": [
       "<pre style=\"white-space:pre;overflow-x:auto;line-height:normal;font-family:Menlo,'DejaVu Sans Mono',consolas,'Courier New',monospace\">Requirement already satisfied: pytz&gt;=2020.1 in /opt/conda/lib/python3.11/site-packages (from pandas&gt;=1.2-&gt;seaborn) (2023.3)\n",
       "</pre>\n"
      ],
      "text/plain": [
       "Requirement already satisfied: pytz>=2020.1 in /opt/conda/lib/python3.11/site-packages (from pandas>=1.2->seaborn) (2023.3)\n"
      ]
     },
     "metadata": {},
     "output_type": "display_data"
    },
    {
     "data": {
      "text/html": [
       "<pre style=\"white-space:pre;overflow-x:auto;line-height:normal;font-family:Menlo,'DejaVu Sans Mono',consolas,'Courier New',monospace\">Requirement already satisfied: tzdata&gt;=2022.7 in /opt/conda/lib/python3.11/site-packages (from pandas&gt;=1.2-&gt;seaborn) (2024.2)\n",
       "</pre>\n"
      ],
      "text/plain": [
       "Requirement already satisfied: tzdata>=2022.7 in /opt/conda/lib/python3.11/site-packages (from pandas>=1.2->seaborn) (2024.2)\n"
      ]
     },
     "metadata": {},
     "output_type": "display_data"
    },
    {
     "data": {
      "text/html": [
       "<pre style=\"white-space:pre;overflow-x:auto;line-height:normal;font-family:Menlo,'DejaVu Sans Mono',consolas,'Courier New',monospace\">Requirement already satisfied: six&gt;=1.5 in /opt/conda/lib/python3.11/site-packages (from python-dateutil&gt;=2.7-&gt;matplotlib!=3.6.1,&gt;=3.4-&gt;seaborn) (1.17.0)\n",
       "</pre>\n"
      ],
      "text/plain": [
       "Requirement already satisfied: six>=1.5 in /opt/conda/lib/python3.11/site-packages (from python-dateutil>=2.7->matplotlib!=3.6.1,>=3.4->seaborn) (1.17.0)\n"
      ]
     },
     "metadata": {},
     "output_type": "display_data"
    },
    {
     "name": "stdout",
     "output_type": "stream",
     "text": [
      "Initial class weights: {0: 0.5656606036378173, 1: 4.307458143074581}\n",
      "Start time:  2025-01-15 19:16:43.255303\n"
     ]
    },
    {
     "name": "stderr",
     "output_type": "stream",
     "text": [
      "WARNING: All log messages before absl::InitializeLog() is called are written to STDERR\n",
      "I0000 00:00:1736968603.415438    1539 cuda_executor.cc:1015] successful NUMA node read from SysFS had negative value (-1), but there must be at least one NUMA node, so returning NUMA node zero. See more at https://github.com/torvalds/linux/blob/v6.0/Documentation/ABI/testing/sysfs-bus-pci#L344-L355\n",
      "I0000 00:00:1736968603.470358    1539 cuda_executor.cc:1015] successful NUMA node read from SysFS had negative value (-1), but there must be at least one NUMA node, so returning NUMA node zero. See more at https://github.com/torvalds/linux/blob/v6.0/Documentation/ABI/testing/sysfs-bus-pci#L344-L355\n",
      "I0000 00:00:1736968603.473797    1539 cuda_executor.cc:1015] successful NUMA node read from SysFS had negative value (-1), but there must be at least one NUMA node, so returning NUMA node zero. See more at https://github.com/torvalds/linux/blob/v6.0/Documentation/ABI/testing/sysfs-bus-pci#L344-L355\n",
      "I0000 00:00:1736968603.478043    1539 cuda_executor.cc:1015] successful NUMA node read from SysFS had negative value (-1), but there must be at least one NUMA node, so returning NUMA node zero. See more at https://github.com/torvalds/linux/blob/v6.0/Documentation/ABI/testing/sysfs-bus-pci#L344-L355\n",
      "I0000 00:00:1736968603.481298    1539 cuda_executor.cc:1015] successful NUMA node read from SysFS had negative value (-1), but there must be at least one NUMA node, so returning NUMA node zero. See more at https://github.com/torvalds/linux/blob/v6.0/Documentation/ABI/testing/sysfs-bus-pci#L344-L355\n",
      "I0000 00:00:1736968603.484373    1539 cuda_executor.cc:1015] successful NUMA node read from SysFS had negative value (-1), but there must be at least one NUMA node, so returning NUMA node zero. See more at https://github.com/torvalds/linux/blob/v6.0/Documentation/ABI/testing/sysfs-bus-pci#L344-L355\n",
      "I0000 00:00:1736968603.677760    1539 cuda_executor.cc:1015] successful NUMA node read from SysFS had negative value (-1), but there must be at least one NUMA node, so returning NUMA node zero. See more at https://github.com/torvalds/linux/blob/v6.0/Documentation/ABI/testing/sysfs-bus-pci#L344-L355\n",
      "I0000 00:00:1736968603.679877    1539 cuda_executor.cc:1015] successful NUMA node read from SysFS had negative value (-1), but there must be at least one NUMA node, so returning NUMA node zero. See more at https://github.com/torvalds/linux/blob/v6.0/Documentation/ABI/testing/sysfs-bus-pci#L344-L355\n",
      "I0000 00:00:1736968603.681758    1539 cuda_executor.cc:1015] successful NUMA node read from SysFS had negative value (-1), but there must be at least one NUMA node, so returning NUMA node zero. See more at https://github.com/torvalds/linux/blob/v6.0/Documentation/ABI/testing/sysfs-bus-pci#L344-L355\n"
     ]
    },
    {
     "name": "stdout",
     "output_type": "stream",
     "text": [
      "Training iteration 1/5\n",
      "Epoch 1/50\n"
     ]
    },
    {
     "name": "stderr",
     "output_type": "stream",
     "text": [
      "I0000 00:00:1736968614.501480    1597 service.cc:146] XLA service 0x7fbeac005dc0 initialized for platform CUDA (this does not guarantee that XLA will be used). Devices:\n",
      "I0000 00:00:1736968614.501530    1597 service.cc:154]   StreamExecutor device (0): Tesla T4, Compute Capability 7.5\n"
     ]
    },
    {
     "name": "stdout",
     "output_type": "stream",
     "text": [
      "\u001b[1m  1/354\u001b[0m \u001b[37m━━━━━━━━━━━━━━━━━━━━\u001b[0m \u001b[1m2:15:16\u001b[0m 23s/step - accuracy: 0.5625 - loss: 0.5566"
     ]
    },
    {
     "name": "stderr",
     "output_type": "stream",
     "text": [
      "I0000 00:00:1736968634.553836    1597 device_compiler.h:188] Compiled cluster using XLA!  This line is logged at most once for the lifetime of the process.\n"
     ]
    },
    {
     "name": "stdout",
     "output_type": "stream",
     "text": [
      "\u001b[1m353/354\u001b[0m \u001b[32m━━━━━━━━━━━━━━━━━━━\u001b[0m\u001b[37m━\u001b[0m \u001b[1m0s\u001b[0m 191ms/step - accuracy: 0.5611 - loss: 0.1987"
     ]
    },
    {
     "name": "stderr",
     "output_type": "stream",
     "text": [
      "E0000 00:00:1736968706.908017    1597 gpu_timer.cc:183] Delay kernel timed out: measured time has sub-optimal accuracy. There may be a missing warmup execution, please investigate in Nsight Systems.\n",
      "E0000 00:00:1736968707.126897    1597 gpu_timer.cc:183] Delay kernel timed out: measured time has sub-optimal accuracy. There may be a missing warmup execution, please investigate in Nsight Systems.\n"
     ]
    },
    {
     "name": "stdout",
     "output_type": "stream",
     "text": [
      "\u001b[1m354/354\u001b[0m \u001b[32m━━━━━━━━━━━━━━━━━━━━\u001b[0m\u001b[37m\u001b[0m \u001b[1m120s\u001b[0m 275ms/step - accuracy: 0.5610 - loss: 0.1987 - val_accuracy: 0.1643 - val_loss: 0.1739 - learning_rate: 1.0000e-05\n",
      "Epoch 2/50\n",
      "\u001b[1m354/354\u001b[0m \u001b[32m━━━━━━━━━━━━━━━━━━━━\u001b[0m\u001b[37m\u001b[0m \u001b[1m75s\u001b[0m 212ms/step - accuracy: 0.4995 - loss: 0.1732 - val_accuracy: 0.8163 - val_loss: 0.1686 - learning_rate: 1.0000e-05\n",
      "Epoch 3/50\n",
      "\u001b[1m354/354\u001b[0m \u001b[32m━━━━━━━━━━━━━━━━━━━━\u001b[0m\u001b[37m\u001b[0m \u001b[1m75s\u001b[0m 212ms/step - accuracy: 0.6213 - loss: 0.1741 - val_accuracy: 0.8472 - val_loss: 0.1646 - learning_rate: 1.0000e-05\n",
      "Epoch 4/50\n",
      "\u001b[1m354/354\u001b[0m \u001b[32m━━━━━━━━━━━━━━━━━━━━\u001b[0m\u001b[37m\u001b[0m \u001b[1m75s\u001b[0m 212ms/step - accuracy: 0.5716 - loss: 0.1752 - val_accuracy: 0.7836 - val_loss: 0.1486 - learning_rate: 1.0000e-05\n",
      "Epoch 5/50\n",
      "\u001b[1m354/354\u001b[0m \u001b[32m━━━━━━━━━━━━━━━━━━━━\u001b[0m\u001b[37m\u001b[0m \u001b[1m74s\u001b[0m 209ms/step - accuracy: 0.6345 - loss: 0.1625 - val_accuracy: 0.4470 - val_loss: 0.1718 - learning_rate: 1.0000e-05\n",
      "Epoch 6/50\n",
      "\u001b[1m354/354\u001b[0m \u001b[32m━━━━━━━━━━━━━━━━━━━━\u001b[0m\u001b[37m\u001b[0m \u001b[1m75s\u001b[0m 213ms/step - accuracy: 0.5407 - loss: 0.1610 - val_accuracy: 0.7482 - val_loss: 0.1397 - learning_rate: 1.0000e-05\n",
      "Epoch 7/50\n",
      "\u001b[1m354/354\u001b[0m \u001b[32m━━━━━━━━━━━━━━━━━━━━\u001b[0m\u001b[37m\u001b[0m \u001b[1m75s\u001b[0m 213ms/step - accuracy: 0.7457 - loss: 0.1260 - val_accuracy: 0.8269 - val_loss: 0.0897 - learning_rate: 1.0000e-05\n",
      "Epoch 8/50\n",
      "\u001b[1m354/354\u001b[0m \u001b[32m━━━━━━━━━━━━━━━━━━━━\u001b[0m\u001b[37m\u001b[0m \u001b[1m74s\u001b[0m 210ms/step - accuracy: 0.7890 - loss: 0.1070 - val_accuracy: 0.7261 - val_loss: 0.1429 - learning_rate: 1.0000e-05\n",
      "Epoch 9/50\n",
      "\u001b[1m354/354\u001b[0m \u001b[32m━━━━━━━━━━━━━━━━━━━━\u001b[0m\u001b[37m\u001b[0m \u001b[1m74s\u001b[0m 210ms/step - accuracy: 0.8076 - loss: 0.1001 - val_accuracy: 0.5972 - val_loss: 0.2245 - learning_rate: 1.0000e-05\n",
      "Epoch 10/50\n",
      "\u001b[1m354/354\u001b[0m \u001b[32m━━━━━━━━━━━━━━━━━━━━\u001b[0m\u001b[37m\u001b[0m \u001b[1m76s\u001b[0m 214ms/step - accuracy: 0.8247 - loss: 0.0880 - val_accuracy: 0.8560 - val_loss: 0.0825 - learning_rate: 3.0000e-06\n",
      "Epoch 11/50\n",
      "\u001b[1m354/354\u001b[0m \u001b[32m━━━━━━━━━━━━━━━━━━━━\u001b[0m\u001b[37m\u001b[0m \u001b[1m74s\u001b[0m 210ms/step - accuracy: 0.8496 - loss: 0.0795 - val_accuracy: 0.8401 - val_loss: 0.0904 - learning_rate: 3.0000e-06\n",
      "Epoch 12/50\n",
      "\u001b[1m354/354\u001b[0m \u001b[32m━━━━━━━━━━━━━━━━━━━━\u001b[0m\u001b[37m\u001b[0m \u001b[1m74s\u001b[0m 210ms/step - accuracy: 0.8784 - loss: 0.0685 - val_accuracy: 0.8163 - val_loss: 0.0992 - learning_rate: 3.0000e-06\n",
      "Epoch 13/50\n",
      "\u001b[1m354/354\u001b[0m \u001b[32m━━━━━━━━━━━━━━━━━━━━\u001b[0m\u001b[37m\u001b[0m \u001b[1m76s\u001b[0m 214ms/step - accuracy: 0.8809 - loss: 0.0661 - val_accuracy: 0.8852 - val_loss: 0.0720 - learning_rate: 9.0000e-07\n",
      "Epoch 14/50\n",
      "\u001b[1m354/354\u001b[0m \u001b[32m━━━━━━━━━━━━━━━━━━━━\u001b[0m\u001b[37m\u001b[0m \u001b[1m74s\u001b[0m 210ms/step - accuracy: 0.8874 - loss: 0.0629 - val_accuracy: 0.8657 - val_loss: 0.0806 - learning_rate: 9.0000e-07\n",
      "Epoch 15/50\n",
      "\u001b[1m354/354\u001b[0m \u001b[32m━━━━━━━━━━━━━━━━━━━━\u001b[0m\u001b[37m\u001b[0m \u001b[1m74s\u001b[0m 210ms/step - accuracy: 0.8906 - loss: 0.0614 - val_accuracy: 0.8772 - val_loss: 0.0772 - learning_rate: 9.0000e-07\n",
      "Epoch 16/50\n",
      "\u001b[1m354/354\u001b[0m \u001b[32m━━━━━━━━━━━━━━━━━━━━\u001b[0m\u001b[37m\u001b[0m \u001b[1m74s\u001b[0m 210ms/step - accuracy: 0.9028 - loss: 0.0541 - val_accuracy: 0.8754 - val_loss: 0.0772 - learning_rate: 2.7000e-07\n",
      "Epoch 17/50\n",
      "\u001b[1m354/354\u001b[0m \u001b[32m━━━━━━━━━━━━━━━━━━━━\u001b[0m\u001b[37m\u001b[0m \u001b[1m74s\u001b[0m 210ms/step - accuracy: 0.9021 - loss: 0.0557 - val_accuracy: 0.8701 - val_loss: 0.0809 - learning_rate: 2.7000e-07\n",
      "Epoch 18/50\n",
      "\u001b[1m354/354\u001b[0m \u001b[32m━━━━━━━━━━━━━━━━━━━━\u001b[0m\u001b[37m\u001b[0m \u001b[1m74s\u001b[0m 210ms/step - accuracy: 0.8992 - loss: 0.0566 - val_accuracy: 0.8763 - val_loss: 0.0765 - learning_rate: 1.0000e-07\n",
      "Best current val:0.07200973480939865\n",
      "Training iteration 2/5\n",
      "Epoch 1/50\n",
      "\u001b[1m354/354\u001b[0m \u001b[32m━━━━━━━━━━━━━━━━━━━━\u001b[0m\u001b[37m\u001b[0m \u001b[1m81s\u001b[0m 216ms/step - accuracy: 0.4209 - loss: 0.2047 - val_accuracy: 0.8807 - val_loss: 0.1612 - learning_rate: 1.0000e-05\n",
      "Epoch 2/50\n",
      "\u001b[1m354/354\u001b[0m \u001b[32m━━━━━━━━━━━━━━━━━━━━\u001b[0m\u001b[37m\u001b[0m \u001b[1m73s\u001b[0m 207ms/step - accuracy: 0.6209 - loss: 0.1764 - val_accuracy: 0.8401 - val_loss: 0.1538 - learning_rate: 1.0000e-05\n",
      "Epoch 3/50\n",
      "\u001b[1m354/354\u001b[0m \u001b[32m━━━━━━━━━━━━━━━━━━━━\u001b[0m\u001b[37m\u001b[0m \u001b[1m73s\u001b[0m 208ms/step - accuracy: 0.5897 - loss: 0.1689 - val_accuracy: 0.1193 - val_loss: 0.1934 - learning_rate: 1.0000e-05\n",
      "Epoch 4/50\n",
      "\u001b[1m354/354\u001b[0m \u001b[32m━━━━━━━━━━━━━━━━━━━━\u001b[0m\u001b[37m\u001b[0m \u001b[1m73s\u001b[0m 207ms/step - accuracy: 0.3812 - loss: 0.1736 - val_accuracy: 0.5539 - val_loss: 0.1726 - learning_rate: 1.0000e-05\n",
      "Epoch 5/50\n",
      "\u001b[1m354/354\u001b[0m \u001b[32m━━━━━━━━━━━━━━━━━━━━\u001b[0m\u001b[37m\u001b[0m \u001b[1m73s\u001b[0m 207ms/step - accuracy: 0.5692 - loss: 0.1693 - val_accuracy: 0.5627 - val_loss: 0.1706 - learning_rate: 3.0000e-06\n",
      "Epoch 6/50\n",
      "\u001b[1m354/354\u001b[0m \u001b[32m━━━━━━━━━━━━━━━━━━━━\u001b[0m\u001b[37m\u001b[0m \u001b[1m74s\u001b[0m 208ms/step - accuracy: 0.6754 - loss: 0.1631 - val_accuracy: 0.5857 - val_loss: 0.1561 - learning_rate: 3.0000e-06\n",
      "Epoch 7/50\n",
      "\u001b[1m354/354\u001b[0m \u001b[32m━━━━━━━━━━━━━━━━━━━━\u001b[0m\u001b[37m\u001b[0m \u001b[1m74s\u001b[0m 208ms/step - accuracy: 0.6388 - loss: 0.1567 - val_accuracy: 0.5813 - val_loss: 0.1551 - learning_rate: 9.0000e-07\n",
      "Training iteration 3/5\n",
      "Epoch 1/50\n",
      "\u001b[1m354/354\u001b[0m \u001b[32m━━━━━━━━━━━━━━━━━━━━\u001b[0m\u001b[37m\u001b[0m \u001b[1m82s\u001b[0m 218ms/step - accuracy: 0.4578 - loss: 0.2102 - val_accuracy: 0.3746 - val_loss: 0.2057 - learning_rate: 1.0000e-05\n",
      "Epoch 2/50\n",
      "\u001b[1m354/354\u001b[0m \u001b[32m━━━━━━━━━━━━━━━━━━━━\u001b[0m\u001b[37m\u001b[0m \u001b[1m74s\u001b[0m 209ms/step - accuracy: 0.6495 - loss: 0.1440 - val_accuracy: 0.7332 - val_loss: 0.1227 - learning_rate: 1.0000e-05\n",
      "Epoch 3/50\n",
      "\u001b[1m354/354\u001b[0m \u001b[32m━━━━━━━━━━━━━━━━━━━━\u001b[0m\u001b[37m\u001b[0m \u001b[1m74s\u001b[0m 209ms/step - accuracy: 0.7719 - loss: 0.1085 - val_accuracy: 0.8304 - val_loss: 0.0886 - learning_rate: 1.0000e-05\n",
      "Epoch 4/50\n",
      "\u001b[1m354/354\u001b[0m \u001b[32m━━━━━━━━━━━━━━━━━━━━\u001b[0m\u001b[37m\u001b[0m \u001b[1m75s\u001b[0m 213ms/step - accuracy: 0.7973 - loss: 0.1018 - val_accuracy: 0.8958 - val_loss: 0.0612 - learning_rate: 1.0000e-05\n",
      "Epoch 5/50\n",
      "\u001b[1m354/354\u001b[0m \u001b[32m━━━━━━━━━━━━━━━━━━━━\u001b[0m\u001b[37m\u001b[0m \u001b[1m74s\u001b[0m 209ms/step - accuracy: 0.8309 - loss: 0.0919 - val_accuracy: 0.8357 - val_loss: 0.0842 - learning_rate: 1.0000e-05\n",
      "Epoch 6/50\n",
      "\u001b[1m354/354\u001b[0m \u001b[32m━━━━━━━━━━━━━━━━━━━━\u001b[0m\u001b[37m\u001b[0m \u001b[1m74s\u001b[0m 210ms/step - accuracy: 0.8579 - loss: 0.0775 - val_accuracy: 0.8330 - val_loss: 0.0896 - learning_rate: 1.0000e-05\n",
      "Epoch 7/50\n",
      "\u001b[1m354/354\u001b[0m \u001b[32m━━━━━━━━━━━━━━━━━━━━\u001b[0m\u001b[37m\u001b[0m \u001b[1m74s\u001b[0m 210ms/step - accuracy: 0.8775 - loss: 0.0632 - val_accuracy: 0.8604 - val_loss: 0.0797 - learning_rate: 3.0000e-06\n",
      "Epoch 8/50\n",
      "\u001b[1m354/354\u001b[0m \u001b[32m━━━━━━━━━━━━━━━━━━━━\u001b[0m\u001b[37m\u001b[0m \u001b[1m74s\u001b[0m 210ms/step - accuracy: 0.9036 - loss: 0.0541 - val_accuracy: 0.8772 - val_loss: 0.0745 - learning_rate: 3.0000e-06\n",
      "Epoch 9/50\n",
      "\u001b[1m354/354\u001b[0m \u001b[32m━━━━━━━━━━━━━━━━━━━━\u001b[0m\u001b[37m\u001b[0m \u001b[1m74s\u001b[0m 210ms/step - accuracy: 0.9224 - loss: 0.0451 - val_accuracy: 0.8958 - val_loss: 0.0673 - learning_rate: 9.0000e-07\n",
      "Best current val:0.061215054243803024\n",
      "Training iteration 4/5\n",
      "Epoch 1/50\n",
      "\u001b[1m354/354\u001b[0m \u001b[32m━━━━━━━━━━━━━━━━━━━━\u001b[0m\u001b[37m\u001b[0m \u001b[1m81s\u001b[0m 216ms/step - accuracy: 0.5343 - loss: 0.1847 - val_accuracy: 0.8807 - val_loss: 0.1721 - learning_rate: 1.0000e-05\n",
      "Epoch 2/50\n",
      "\u001b[1m354/354\u001b[0m \u001b[32m━━━━━━━━━━━━━━━━━━━━\u001b[0m\u001b[37m\u001b[0m \u001b[1m73s\u001b[0m 206ms/step - accuracy: 0.5827 - loss: 0.1718 - val_accuracy: 0.3542 - val_loss: 0.1734 - learning_rate: 1.0000e-05\n",
      "Epoch 3/50\n",
      "\u001b[1m354/354\u001b[0m \u001b[32m━━━━━━━━━━━━━━━━━━━━\u001b[0m\u001b[37m\u001b[0m \u001b[1m73s\u001b[0m 206ms/step - accuracy: 0.3737 - loss: 0.1780 - val_accuracy: 0.8463 - val_loss: 0.1731 - learning_rate: 1.0000e-05\n",
      "Epoch 4/50\n",
      "\u001b[1m354/354\u001b[0m \u001b[32m━━━━━━━━━━━━━━━━━━━━\u001b[0m\u001b[37m\u001b[0m \u001b[1m73s\u001b[0m 206ms/step - accuracy: 0.4226 - loss: 0.1806 - val_accuracy: 0.8807 - val_loss: 0.1728 - learning_rate: 3.0000e-06\n",
      "Epoch 5/50\n",
      "\u001b[1m354/354\u001b[0m \u001b[32m━━━━━━━━━━━━━━━━━━━━\u001b[0m\u001b[37m\u001b[0m \u001b[1m73s\u001b[0m 207ms/step - accuracy: 0.5829 - loss: 0.1771 - val_accuracy: 0.8807 - val_loss: 0.1716 - learning_rate: 3.0000e-06\n",
      "Epoch 6/50\n",
      "\u001b[1m354/354\u001b[0m \u001b[32m━━━━━━━━━━━━━━━━━━━━\u001b[0m\u001b[37m\u001b[0m \u001b[1m73s\u001b[0m 207ms/step - accuracy: 0.6056 - loss: 0.1734 - val_accuracy: 0.8807 - val_loss: 0.1726 - learning_rate: 3.0000e-06\n",
      "Epoch 7/50\n",
      "\u001b[1m354/354\u001b[0m \u001b[32m━━━━━━━━━━━━━━━━━━━━\u001b[0m\u001b[37m\u001b[0m \u001b[1m73s\u001b[0m 207ms/step - accuracy: 0.5892 - loss: 0.1718 - val_accuracy: 0.2597 - val_loss: 0.1734 - learning_rate: 3.0000e-06\n",
      "Epoch 8/50\n",
      "\u001b[1m354/354\u001b[0m \u001b[32m━━━━━━━━━━━━━━━━━━━━\u001b[0m\u001b[37m\u001b[0m \u001b[1m73s\u001b[0m 207ms/step - accuracy: 0.4868 - loss: 0.1737 - val_accuracy: 0.7800 - val_loss: 0.1727 - learning_rate: 9.0000e-07\n",
      "Epoch 9/50\n",
      "\u001b[1m354/354\u001b[0m \u001b[32m━━━━━━━━━━━━━━━━━━━━\u001b[0m\u001b[37m\u001b[0m \u001b[1m73s\u001b[0m 207ms/step - accuracy: 0.5607 - loss: 0.1773 - val_accuracy: 0.8807 - val_loss: 0.1716 - learning_rate: 9.0000e-07\n",
      "Epoch 10/50\n",
      "\u001b[1m354/354\u001b[0m \u001b[32m━━━━━━━━━━━━━━━━━━━━\u001b[0m\u001b[37m\u001b[0m \u001b[1m73s\u001b[0m 207ms/step - accuracy: 0.6545 - loss: 0.1774 - val_accuracy: 0.8807 - val_loss: 0.1715 - learning_rate: 2.7000e-07\n",
      "Epoch 11/50\n",
      "\u001b[1m354/354\u001b[0m \u001b[32m━━━━━━━━━━━━━━━━━━━━\u001b[0m\u001b[37m\u001b[0m \u001b[1m73s\u001b[0m 207ms/step - accuracy: 0.6352 - loss: 0.1708 - val_accuracy: 0.7845 - val_loss: 0.1723 - learning_rate: 2.7000e-07\n",
      "Epoch 12/50\n",
      "\u001b[1m354/354\u001b[0m \u001b[32m━━━━━━━━━━━━━━━━━━━━\u001b[0m\u001b[37m\u001b[0m \u001b[1m73s\u001b[0m 207ms/step - accuracy: 0.5816 - loss: 0.1745 - val_accuracy: 0.8277 - val_loss: 0.1720 - learning_rate: 2.7000e-07\n",
      "Epoch 13/50\n",
      "\u001b[1m354/354\u001b[0m \u001b[32m━━━━━━━━━━━━━━━━━━━━\u001b[0m\u001b[37m\u001b[0m \u001b[1m73s\u001b[0m 207ms/step - accuracy: 0.6092 - loss: 0.1782 - val_accuracy: 0.8790 - val_loss: 0.1711 - learning_rate: 1.0000e-07\n",
      "Epoch 14/50\n",
      "\u001b[1m354/354\u001b[0m \u001b[32m━━━━━━━━━━━━━━━━━━━━\u001b[0m\u001b[37m\u001b[0m \u001b[1m73s\u001b[0m 207ms/step - accuracy: 0.6611 - loss: 0.1718 - val_accuracy: 0.8799 - val_loss: 0.1711 - learning_rate: 1.0000e-07\n",
      "Epoch 15/50\n",
      "\u001b[1m354/354\u001b[0m \u001b[32m━━━━━━━━━━━━━━━━━━━━\u001b[0m\u001b[37m\u001b[0m \u001b[1m73s\u001b[0m 207ms/step - accuracy: 0.6824 - loss: 0.1729 - val_accuracy: 0.8790 - val_loss: 0.1709 - learning_rate: 1.0000e-07\n",
      "Epoch 16/50\n",
      "\u001b[1m354/354\u001b[0m \u001b[32m━━━━━━━━━━━━━━━━━━━━\u001b[0m\u001b[37m\u001b[0m \u001b[1m73s\u001b[0m 207ms/step - accuracy: 0.6966 - loss: 0.1691 - val_accuracy: 0.8578 - val_loss: 0.1715 - learning_rate: 1.0000e-07\n",
      "Epoch 17/50\n",
      "\u001b[1m354/354\u001b[0m \u001b[32m━━━━━━━━━━━━━━━━━━━━\u001b[0m\u001b[37m\u001b[0m \u001b[1m73s\u001b[0m 207ms/step - accuracy: 0.6683 - loss: 0.1745 - val_accuracy: 0.8772 - val_loss: 0.1708 - learning_rate: 1.0000e-07\n",
      "Epoch 18/50\n",
      "\u001b[1m354/354\u001b[0m \u001b[32m━━━━━━━━━━━━━━━━━━━━\u001b[0m\u001b[37m\u001b[0m \u001b[1m73s\u001b[0m 207ms/step - accuracy: 0.6958 - loss: 0.1729 - val_accuracy: 0.8799 - val_loss: 0.1707 - learning_rate: 1.0000e-07\n",
      "Epoch 19/50\n",
      "\u001b[1m354/354\u001b[0m \u001b[32m━━━━━━━━━━━━━━━━━━━━\u001b[0m\u001b[37m\u001b[0m \u001b[1m73s\u001b[0m 207ms/step - accuracy: 0.7040 - loss: 0.1759 - val_accuracy: 0.8807 - val_loss: 0.1702 - learning_rate: 1.0000e-07\n",
      "Epoch 20/50\n",
      "\u001b[1m354/354\u001b[0m \u001b[32m━━━━━━━━━━━━━━━━━━━━\u001b[0m\u001b[37m\u001b[0m \u001b[1m73s\u001b[0m 207ms/step - accuracy: 0.7422 - loss: 0.1718 - val_accuracy: 0.8781 - val_loss: 0.1705 - learning_rate: 1.0000e-07\n",
      "Epoch 21/50\n",
      "\u001b[1m354/354\u001b[0m \u001b[32m━━━━━━━━━━━━━━━━━━━━\u001b[0m\u001b[37m\u001b[0m \u001b[1m73s\u001b[0m 207ms/step - accuracy: 0.7036 - loss: 0.1788 - val_accuracy: 0.8693 - val_loss: 0.1708 - learning_rate: 1.0000e-07\n",
      "Epoch 22/50\n",
      "\u001b[1m354/354\u001b[0m \u001b[32m━━━━━━━━━━━━━━━━━━━━\u001b[0m\u001b[37m\u001b[0m \u001b[1m73s\u001b[0m 207ms/step - accuracy: 0.7299 - loss: 0.1722 - val_accuracy: 0.8719 - val_loss: 0.1707 - learning_rate: 1.0000e-07\n",
      "Epoch 23/50\n",
      "\u001b[1m354/354\u001b[0m \u001b[32m━━━━━━━━━━━━━━━━━━━━\u001b[0m\u001b[37m\u001b[0m \u001b[1m73s\u001b[0m 207ms/step - accuracy: 0.7225 - loss: 0.1734 - val_accuracy: 0.8719 - val_loss: 0.1702 - learning_rate: 1.0000e-07\n",
      "Epoch 24/50\n",
      "\u001b[1m354/354\u001b[0m \u001b[32m━━━━━━━━━━━━━━━━━━━━\u001b[0m\u001b[37m\u001b[0m \u001b[1m73s\u001b[0m 207ms/step - accuracy: 0.7259 - loss: 0.1684 - val_accuracy: 0.8640 - val_loss: 0.1705 - learning_rate: 1.0000e-07\n",
      "Epoch 25/50\n",
      "\u001b[1m354/354\u001b[0m \u001b[32m━━━━━━━━━━━━━━━━━━━━\u001b[0m\u001b[37m\u001b[0m \u001b[1m73s\u001b[0m 207ms/step - accuracy: 0.7177 - loss: 0.1734 - val_accuracy: 0.8631 - val_loss: 0.1704 - learning_rate: 1.0000e-07\n",
      "Epoch 26/50\n",
      "\u001b[1m354/354\u001b[0m \u001b[32m━━━━━━━━━━━━━━━━━━━━\u001b[0m\u001b[37m\u001b[0m \u001b[1m73s\u001b[0m 207ms/step - accuracy: 0.6886 - loss: 0.1795 - val_accuracy: 0.8710 - val_loss: 0.1699 - learning_rate: 1.0000e-07\n",
      "Epoch 27/50\n",
      "\u001b[1m354/354\u001b[0m \u001b[32m━━━━━━━━━━━━━━━━━━━━\u001b[0m\u001b[37m\u001b[0m \u001b[1m73s\u001b[0m 207ms/step - accuracy: 0.7533 - loss: 0.1735 - val_accuracy: 0.8701 - val_loss: 0.1697 - learning_rate: 1.0000e-07\n",
      "Epoch 28/50\n",
      "\u001b[1m354/354\u001b[0m \u001b[32m━━━━━━━━━━━━━━━━━━━━\u001b[0m\u001b[37m\u001b[0m \u001b[1m73s\u001b[0m 207ms/step - accuracy: 0.7092 - loss: 0.1773 - val_accuracy: 0.8701 - val_loss: 0.1695 - learning_rate: 1.0000e-07\n",
      "Epoch 29/50\n",
      "\u001b[1m354/354\u001b[0m \u001b[32m━━━━━━━━━━━━━━━━━━━━\u001b[0m\u001b[37m\u001b[0m \u001b[1m73s\u001b[0m 207ms/step - accuracy: 0.7474 - loss: 0.1753 - val_accuracy: 0.8675 - val_loss: 0.1695 - learning_rate: 1.0000e-07\n",
      "Epoch 30/50\n",
      "\u001b[1m354/354\u001b[0m \u001b[32m━━━━━━━━━━━━━━━━━━━━\u001b[0m\u001b[37m\u001b[0m \u001b[1m73s\u001b[0m 207ms/step - accuracy: 0.7426 - loss: 0.1711 - val_accuracy: 0.8595 - val_loss: 0.1697 - learning_rate: 1.0000e-07\n",
      "Epoch 31/50\n",
      "\u001b[1m354/354\u001b[0m \u001b[32m━━━━━━━━━━━━━━━━━━━━\u001b[0m\u001b[37m\u001b[0m \u001b[1m73s\u001b[0m 207ms/step - accuracy: 0.7484 - loss: 0.1726 - val_accuracy: 0.8595 - val_loss: 0.1697 - learning_rate: 1.0000e-07\n",
      "Epoch 32/50\n",
      "\u001b[1m354/354\u001b[0m \u001b[32m━━━━━━━━━━━━━━━━━━━━\u001b[0m\u001b[37m\u001b[0m \u001b[1m73s\u001b[0m 207ms/step - accuracy: 0.7767 - loss: 0.1656 - val_accuracy: 0.8489 - val_loss: 0.1700 - learning_rate: 1.0000e-07\n",
      "Epoch 33/50\n",
      "\u001b[1m354/354\u001b[0m \u001b[32m━━━━━━━━━━━━━━━━━━━━\u001b[0m\u001b[37m\u001b[0m \u001b[1m73s\u001b[0m 207ms/step - accuracy: 0.7439 - loss: 0.1710 - val_accuracy: 0.8489 - val_loss: 0.1698 - learning_rate: 1.0000e-07\n",
      "Epoch 34/50\n",
      "\u001b[1m354/354\u001b[0m \u001b[32m━━━━━━━━━━━━━━━━━━━━\u001b[0m\u001b[37m\u001b[0m \u001b[1m73s\u001b[0m 207ms/step - accuracy: 0.7318 - loss: 0.1737 - val_accuracy: 0.8525 - val_loss: 0.1694 - learning_rate: 1.0000e-07\n",
      "Epoch 35/50\n",
      "\u001b[1m354/354\u001b[0m \u001b[32m━━━━━━━━━━━━━━━━━━━━\u001b[0m\u001b[37m\u001b[0m \u001b[1m73s\u001b[0m 207ms/step - accuracy: 0.7551 - loss: 0.1728 - val_accuracy: 0.8613 - val_loss: 0.1687 - learning_rate: 1.0000e-07\n",
      "Epoch 36/50\n",
      "\u001b[1m354/354\u001b[0m \u001b[32m━━━━━━━━━━━━━━━━━━━━\u001b[0m\u001b[37m\u001b[0m \u001b[1m73s\u001b[0m 207ms/step - accuracy: 0.7760 - loss: 0.1693 - val_accuracy: 0.8631 - val_loss: 0.1685 - learning_rate: 1.0000e-07\n",
      "Epoch 37/50\n",
      "\u001b[1m354/354\u001b[0m \u001b[32m━━━━━━━━━━━━━━━━━━━━\u001b[0m\u001b[37m\u001b[0m \u001b[1m73s\u001b[0m 207ms/step - accuracy: 0.7553 - loss: 0.1744 - val_accuracy: 0.8525 - val_loss: 0.1690 - learning_rate: 1.0000e-07\n",
      "Epoch 38/50\n",
      "\u001b[1m354/354\u001b[0m \u001b[32m━━━━━━━━━━━━━━━━━━━━\u001b[0m\u001b[37m\u001b[0m \u001b[1m73s\u001b[0m 207ms/step - accuracy: 0.7547 - loss: 0.1746 - val_accuracy: 0.8534 - val_loss: 0.1684 - learning_rate: 1.0000e-07\n",
      "Epoch 39/50\n",
      "\u001b[1m354/354\u001b[0m \u001b[32m━━━━━━━━━━━━━━━━━━━━\u001b[0m\u001b[37m\u001b[0m \u001b[1m73s\u001b[0m 207ms/step - accuracy: 0.7540 - loss: 0.1774 - val_accuracy: 0.8648 - val_loss: 0.1674 - learning_rate: 1.0000e-07\n",
      "Epoch 40/50\n",
      "\u001b[1m354/354\u001b[0m \u001b[32m━━━━━━━━━━━━━━━━━━━━\u001b[0m\u001b[37m\u001b[0m \u001b[1m73s\u001b[0m 207ms/step - accuracy: 0.7782 - loss: 0.1740 - val_accuracy: 0.8534 - val_loss: 0.1679 - learning_rate: 1.0000e-07\n",
      "Epoch 41/50\n",
      "\u001b[1m354/354\u001b[0m \u001b[32m━━━━━━━━━━━━━━━━━━━━\u001b[0m\u001b[37m\u001b[0m \u001b[1m73s\u001b[0m 207ms/step - accuracy: 0.7601 - loss: 0.1747 - val_accuracy: 0.8542 - val_loss: 0.1674 - learning_rate: 1.0000e-07\n",
      "Epoch 42/50\n",
      "\u001b[1m354/354\u001b[0m \u001b[32m━━━━━━━━━━━━━━━━━━━━\u001b[0m\u001b[37m\u001b[0m \u001b[1m73s\u001b[0m 207ms/step - accuracy: 0.7911 - loss: 0.1683 - val_accuracy: 0.8357 - val_loss: 0.1684 - learning_rate: 1.0000e-07\n",
      "Epoch 43/50\n",
      "\u001b[1m354/354\u001b[0m \u001b[32m━━━━━━━━━━━━━━━━━━━━\u001b[0m\u001b[37m\u001b[0m \u001b[1m73s\u001b[0m 207ms/step - accuracy: 0.7543 - loss: 0.1746 - val_accuracy: 0.8551 - val_loss: 0.1671 - learning_rate: 1.0000e-07\n",
      "Epoch 44/50\n",
      "\u001b[1m354/354\u001b[0m \u001b[32m━━━━━━━━━━━━━━━━━━━━\u001b[0m\u001b[37m\u001b[0m \u001b[1m73s\u001b[0m 207ms/step - accuracy: 0.7651 - loss: 0.1729 - val_accuracy: 0.8489 - val_loss: 0.1673 - learning_rate: 1.0000e-07\n",
      "Epoch 45/50\n",
      "\u001b[1m354/354\u001b[0m \u001b[32m━━━━━━━━━━━━━━━━━━━━\u001b[0m\u001b[37m\u001b[0m \u001b[1m73s\u001b[0m 207ms/step - accuracy: 0.7728 - loss: 0.1679 - val_accuracy: 0.8419 - val_loss: 0.1675 - learning_rate: 1.0000e-07\n",
      "Epoch 46/50\n",
      "\u001b[1m354/354\u001b[0m \u001b[32m━━━━━━━━━━━━━━━━━━━━\u001b[0m\u001b[37m\u001b[0m \u001b[1m73s\u001b[0m 207ms/step - accuracy: 0.7636 - loss: 0.1683 - val_accuracy: 0.8410 - val_loss: 0.1673 - learning_rate: 1.0000e-07\n",
      "Epoch 47/50\n",
      "\u001b[1m354/354\u001b[0m \u001b[32m━━━━━━━━━━━━━━━━━━━━\u001b[0m\u001b[37m\u001b[0m \u001b[1m73s\u001b[0m 207ms/step - accuracy: 0.7500 - loss: 0.1749 - val_accuracy: 0.8330 - val_loss: 0.1673 - learning_rate: 1.0000e-07\n",
      "Epoch 48/50\n",
      "\u001b[1m354/354\u001b[0m \u001b[32m━━━━━━━━━━━━━━━━━━━━\u001b[0m\u001b[37m\u001b[0m \u001b[1m73s\u001b[0m 207ms/step - accuracy: 0.7664 - loss: 0.1693 - val_accuracy: 0.8286 - val_loss: 0.1674 - learning_rate: 1.0000e-07\n",
      "Training iteration 5/5\n",
      "Epoch 1/50\n",
      "\u001b[1m354/354\u001b[0m \u001b[32m━━━━━━━━━━━━━━━━━━━━\u001b[0m\u001b[37m\u001b[0m \u001b[1m81s\u001b[0m 216ms/step - accuracy: 0.5397 - loss: 0.1999 - val_accuracy: 0.1193 - val_loss: 0.1808 - learning_rate: 1.0000e-05\n",
      "Epoch 2/50\n",
      "\u001b[1m354/354\u001b[0m \u001b[32m━━━━━━━━━━━━━━━━━━━━\u001b[0m\u001b[37m\u001b[0m \u001b[1m73s\u001b[0m 207ms/step - accuracy: 0.4524 - loss: 0.1751 - val_accuracy: 0.6670 - val_loss: 0.1709 - learning_rate: 1.0000e-05\n",
      "Epoch 3/50\n",
      "\u001b[1m354/354\u001b[0m \u001b[32m━━━━━━━━━━━━━━━━━━━━\u001b[0m\u001b[37m\u001b[0m \u001b[1m74s\u001b[0m 208ms/step - accuracy: 0.6218 - loss: 0.1708 - val_accuracy: 0.7809 - val_loss: 0.1600 - learning_rate: 1.0000e-05\n",
      "Epoch 4/50\n",
      "\u001b[1m354/354\u001b[0m \u001b[32m━━━━━━━━━━━━━━━━━━━━\u001b[0m\u001b[37m\u001b[0m \u001b[1m74s\u001b[0m 208ms/step - accuracy: 0.5524 - loss: 0.1728 - val_accuracy: 0.1961 - val_loss: 0.1762 - learning_rate: 1.0000e-05\n",
      "Epoch 5/50\n",
      "\u001b[1m354/354\u001b[0m \u001b[32m━━━━━━━━━━━━━━━━━━━━\u001b[0m\u001b[37m\u001b[0m \u001b[1m74s\u001b[0m 209ms/step - accuracy: 0.5620 - loss: 0.1642 - val_accuracy: 0.8313 - val_loss: 0.0968 - learning_rate: 1.0000e-05\n",
      "Epoch 6/50\n",
      "\u001b[1m354/354\u001b[0m \u001b[32m━━━━━━━━━━━━━━━━━━━━\u001b[0m\u001b[37m\u001b[0m \u001b[1m74s\u001b[0m 209ms/step - accuracy: 0.7230 - loss: 0.1357 - val_accuracy: 0.8118 - val_loss: 0.1095 - learning_rate: 1.0000e-05\n",
      "Epoch 7/50\n",
      "\u001b[1m354/354\u001b[0m \u001b[32m━━━━━━━━━━━━━━━━━━━━\u001b[0m\u001b[37m\u001b[0m \u001b[1m74s\u001b[0m 209ms/step - accuracy: 0.8066 - loss: 0.1138 - val_accuracy: 0.8401 - val_loss: 0.0908 - learning_rate: 1.0000e-05\n",
      "Epoch 8/50\n",
      "\u001b[1m354/354\u001b[0m \u001b[32m━━━━━━━━━━━━━━━━━━━━\u001b[0m\u001b[37m\u001b[0m \u001b[1m74s\u001b[0m 209ms/step - accuracy: 0.8029 - loss: 0.1029 - val_accuracy: 0.7730 - val_loss: 0.1174 - learning_rate: 1.0000e-05\n",
      "Epoch 9/50\n",
      "\u001b[1m354/354\u001b[0m \u001b[32m━━━━━━━━━━━━━━━━━━━━\u001b[0m\u001b[37m\u001b[0m \u001b[1m74s\u001b[0m 209ms/step - accuracy: 0.8330 - loss: 0.0914 - val_accuracy: 0.8622 - val_loss: 0.0776 - learning_rate: 1.0000e-05\n",
      "Epoch 10/50\n",
      "\u001b[1m354/354\u001b[0m \u001b[32m━━━━━━━━━━━━━━━━━━━━\u001b[0m\u001b[37m\u001b[0m \u001b[1m76s\u001b[0m 214ms/step - accuracy: 0.8565 - loss: 0.0812 - val_accuracy: 0.9108 - val_loss: 0.0591 - learning_rate: 1.0000e-05\n",
      "Epoch 11/50\n",
      "\u001b[1m354/354\u001b[0m \u001b[32m━━━━━━━━━━━━━━━━━━━━\u001b[0m\u001b[37m\u001b[0m \u001b[1m74s\u001b[0m 209ms/step - accuracy: 0.8565 - loss: 0.0840 - val_accuracy: 0.8392 - val_loss: 0.0890 - learning_rate: 1.0000e-05\n",
      "Epoch 12/50\n",
      "\u001b[1m354/354\u001b[0m \u001b[32m━━━━━━━━━━━━━━━━━━━━\u001b[0m\u001b[37m\u001b[0m \u001b[1m74s\u001b[0m 210ms/step - accuracy: 0.8760 - loss: 0.0660 - val_accuracy: 0.9108 - val_loss: 0.0604 - learning_rate: 1.0000e-05\n",
      "Epoch 13/50\n",
      "\u001b[1m354/354\u001b[0m \u001b[32m━━━━━━━━━━━━━━━━━━━━\u001b[0m\u001b[37m\u001b[0m \u001b[1m74s\u001b[0m 210ms/step - accuracy: 0.9163 - loss: 0.0495 - val_accuracy: 0.8852 - val_loss: 0.0728 - learning_rate: 3.0000e-06\n",
      "Epoch 14/50\n",
      "\u001b[1m354/354\u001b[0m \u001b[32m━━━━━━━━━━━━━━━━━━━━\u001b[0m\u001b[37m\u001b[0m \u001b[1m74s\u001b[0m 210ms/step - accuracy: 0.9149 - loss: 0.0464 - val_accuracy: 0.9019 - val_loss: 0.0658 - learning_rate: 3.0000e-06\n",
      "Epoch 15/50\n",
      "\u001b[1m354/354\u001b[0m \u001b[32m━━━━━━━━━━━━━━━━━━━━\u001b[0m\u001b[37m\u001b[0m \u001b[1m74s\u001b[0m 210ms/step - accuracy: 0.9351 - loss: 0.0375 - val_accuracy: 0.9019 - val_loss: 0.0702 - learning_rate: 9.0000e-07\n",
      "Best current val:0.05909494310617447\n",
      "Training Complete\n"
     ]
    }
   ],
   "source": [
    "import os\n",
    "os.environ['TF_CPP_MIN_LOG_LEVEL'] = '3'\n",
    "import numpy as np\n",
    "import random\n",
    "import datetime\n",
    "import matplotlib.pyplot as plt\n",
    "import pip\n",
    "pip.main(['install','seaborn'])\n",
    "import seaborn as sns\n",
    "from sklearn.metrics import confusion_matrix\n",
    "from sklearn.utils.class_weight import compute_class_weight\n",
    "from keras.applications import DenseNet121, VGG19\n",
    "from keras.models import Model\n",
    "from keras.layers import Dense, Flatten, Dropout, LeakyReLU, GlobalAveragePooling2D, Conv2D, Input\n",
    "from keras.optimizers import Adam\n",
    "from keras.losses import BinaryFocalCrossentropy\n",
    "from keras.callbacks import EarlyStopping, ReduceLROnPlateau, ModelCheckpoint\n",
    "\n",
    "modelclass = '1'\n",
    "suffix = 'FIN'\n",
    "iterations = 5\n",
    "iterations2 = 5\n",
    "\n",
    "def CreateModel(learn_rate):\n",
    "    input_tensor = Input(shape=(256, 256, 3))\n",
    "    base_model = VGG19(weights='imagenet', include_top=False, input_shape=(256, 256, 3))\n",
    "\n",
    "    for layer in base_model.layers[:10]:\n",
    "        layer.trainable = False\n",
    "        \n",
    "    x = base_model.output\n",
    "    x = GlobalAveragePooling2D()(x)\n",
    "    x = Dense(1024)(x)\n",
    "    x = LeakyReLU(negative_slope=0.01)(x)\n",
    "    x = Dropout(0.5)(x)\n",
    "    predictions = Dense(1, activation='sigmoid')(x)\n",
    "\n",
    "    model = Model(inputs=base_model.input, outputs=predictions)\n",
    "    model.compile(optimizer=Adam(learning_rate=learn_rate),\n",
    "                  loss=BinaryFocalCrossentropy(),\n",
    "                  metrics=['accuracy'])\n",
    "\n",
    "    return model\n",
    "\n",
    "base_dir = '../../Data/Arrays/'\n",
    "class_dir = 'Converted Arrays/'\n",
    "train_images = np.load(os.path.join(base_dir, 'train_images.npy'))\n",
    "train_labels = np.load(os.path.join(class_dir, f'train_labels_class{modelclass}.npy'))\n",
    "val_images = np.load(os.path.join(base_dir, 'val_images.npy'))\n",
    "val_labels = np.load(os.path.join(class_dir, f'val_labels_class{modelclass}.npy'))\n",
    "\n",
    "if len(train_images.shape) == 3:\n",
    "    train_images = np.expand_dims(train_images, axis=-1)\n",
    "    train_images = np.repeat(train_images, 3, axis=-1)\n",
    "\n",
    "if len(val_images.shape) == 3:\n",
    "    val_images = np.expand_dims(val_images, axis=-1)\n",
    "    val_images = np.repeat(val_images, 3, axis=-1)\n",
    "\n",
    "class_weights = compute_class_weight('balanced', classes=np.unique(train_labels), y=train_labels.flatten())\n",
    "class_weights = {i: class_weights[i] for i in range(len(class_weights))}\n",
    "\n",
    "print(\"Initial class weights:\", class_weights)\n",
    "print(\"Start time: \", datetime.datetime.now())\n",
    "\n",
    "best_model_path = f'Models/class{suffix}{modelclass}temp.keras'\n",
    "model_checkpoint = ModelCheckpoint(best_model_path, monitor='val_loss', save_best_only=True, mode='min')\n",
    "\n",
    "best_val_loss = float('inf')\n",
    "for i in range(iterations):\n",
    "    early_stopping = EarlyStopping(monitor='val_loss', patience=5, restore_best_weights=True)\n",
    "    reduce_lr = ReduceLROnPlateau(monitor='val_loss', factor=0.3, patience=2, min_lr=1e-7)\n",
    "    model = CreateModel(1e-5)\n",
    "    print(f\"Training iteration {i+1}/{iterations}\")\n",
    "    history = model.fit(train_images, train_labels,\n",
    "                        epochs=50,\n",
    "                        batch_size=16,\n",
    "                        validation_data=(val_images, val_labels),\n",
    "                        class_weight=class_weights,\n",
    "                        callbacks=[early_stopping, reduce_lr, model_checkpoint])\n",
    "\n",
    "    model.load_weights(best_model_path)\n",
    "    val_loss = min(history.history['val_loss'])\n",
    "    if val_loss < best_val_loss:\n",
    "        best_val_loss = val_loss\n",
    "        print(f\"Best current val:{best_val_loss}\")\n",
    "        model.save(f'Models/class_{suffix}{modelclass}_overallbest.keras')\n",
    "\n",
    "print(\"Training Complete\")"
   ]
  },
  {
   "cell_type": "code",
   "execution_count": 2,
   "id": "b5bd43c1-b11b-4c5c-956e-06e030bd4e1e",
   "metadata": {},
   "outputs": [
    {
     "name": "stderr",
     "output_type": "stream",
     "text": [
      "/opt/conda/lib/python3.11/site-packages/keras/src/saving/saving_lib.py:719: UserWarning: Skipping variable loading for optimizer 'adam', because it has 2 variables whereas the saved optimizer has 46 variables. \n",
      "  saveable.load_own_variables(weights_store.get(inner_path))\n"
     ]
    },
    {
     "name": "stdout",
     "output_type": "stream",
     "text": [
      "Training iteration 1/5\n",
      "Epoch 1/50\n",
      "\u001b[1m354/354\u001b[0m \u001b[32m━━━━━━━━━━━━━━━━━━━━\u001b[0m\u001b[37m\u001b[0m \u001b[1m83s\u001b[0m 222ms/step - accuracy: 0.9170 - loss: 0.0646 - val_accuracy: 0.8807 - val_loss: 0.0709 - learning_rate: 1.0000e-07\n",
      "Epoch 2/50\n",
      "\u001b[1m354/354\u001b[0m \u001b[32m━━━━━━━━━━━━━━━━━━━━\u001b[0m\u001b[37m\u001b[0m \u001b[1m74s\u001b[0m 210ms/step - accuracy: 0.8870 - loss: 0.0603 - val_accuracy: 0.8737 - val_loss: 0.0748 - learning_rate: 1.0000e-07\n",
      "Epoch 3/50\n",
      "\u001b[1m354/354\u001b[0m \u001b[32m━━━━━━━━━━━━━━━━━━━━\u001b[0m\u001b[37m\u001b[0m \u001b[1m74s\u001b[0m 210ms/step - accuracy: 0.8833 - loss: 0.0617 - val_accuracy: 0.8693 - val_loss: 0.0758 - learning_rate: 1.0000e-07\n",
      "Epoch 4/50\n",
      "\u001b[1m354/354\u001b[0m \u001b[32m━━━━━━━━━━━━━━━━━━━━\u001b[0m\u001b[37m\u001b[0m \u001b[1m74s\u001b[0m 210ms/step - accuracy: 0.8784 - loss: 0.0632 - val_accuracy: 0.8701 - val_loss: 0.0750 - learning_rate: 1.0000e-07\n",
      "Epoch 5/50\n",
      "\u001b[1m354/354\u001b[0m \u001b[32m━━━━━━━━━━━━━━━━━━━━\u001b[0m\u001b[37m\u001b[0m \u001b[1m74s\u001b[0m 210ms/step - accuracy: 0.8782 - loss: 0.0642 - val_accuracy: 0.8693 - val_loss: 0.0745 - learning_rate: 1.0000e-08\n",
      "Epoch 6/50\n",
      "\u001b[1m354/354\u001b[0m \u001b[32m━━━━━━━━━━━━━━━━━━━━\u001b[0m\u001b[37m\u001b[0m \u001b[1m74s\u001b[0m 210ms/step - accuracy: 0.8772 - loss: 0.0648 - val_accuracy: 0.8693 - val_loss: 0.0743 - learning_rate: 1.0000e-08\n",
      "Best last val:0.07094943523406982\n",
      "Best current val:0.07094943523406982\n",
      "Training iteration 2/5\n",
      "Epoch 1/50\n",
      "\u001b[1m354/354\u001b[0m \u001b[32m━━━━━━━━━━━━━━━━━━━━\u001b[0m\u001b[37m\u001b[0m \u001b[1m83s\u001b[0m 222ms/step - accuracy: 0.9062 - loss: 0.0844 - val_accuracy: 0.8860 - val_loss: 0.0687 - learning_rate: 1.0000e-07\n",
      "Epoch 2/50\n",
      "\u001b[1m354/354\u001b[0m \u001b[32m━━━━━━━━━━━━━━━━━━━━\u001b[0m\u001b[37m\u001b[0m \u001b[1m74s\u001b[0m 208ms/step - accuracy: 0.8924 - loss: 0.0667 - val_accuracy: 0.8754 - val_loss: 0.0733 - learning_rate: 1.0000e-07\n",
      "Epoch 3/50\n",
      "\u001b[1m354/354\u001b[0m \u001b[32m━━━━━━━━━━━━━━━━━━━━\u001b[0m\u001b[37m\u001b[0m \u001b[1m74s\u001b[0m 208ms/step - accuracy: 0.8778 - loss: 0.0677 - val_accuracy: 0.8754 - val_loss: 0.0732 - learning_rate: 1.0000e-07\n",
      "Epoch 4/50\n",
      "\u001b[1m354/354\u001b[0m \u001b[32m━━━━━━━━━━━━━━━━━━━━\u001b[0m\u001b[37m\u001b[0m \u001b[1m74s\u001b[0m 209ms/step - accuracy: 0.8771 - loss: 0.0611 - val_accuracy: 0.8701 - val_loss: 0.0748 - learning_rate: 1.0000e-07\n",
      "Epoch 5/50\n",
      "\u001b[1m354/354\u001b[0m \u001b[32m━━━━━━━━━━━━━━━━━━━━\u001b[0m\u001b[37m\u001b[0m \u001b[1m74s\u001b[0m 209ms/step - accuracy: 0.8781 - loss: 0.0659 - val_accuracy: 0.8693 - val_loss: 0.0745 - learning_rate: 1.0000e-08\n",
      "Epoch 6/50\n",
      "\u001b[1m354/354\u001b[0m \u001b[32m━━━━━━━━━━━━━━━━━━━━\u001b[0m\u001b[37m\u001b[0m \u001b[1m74s\u001b[0m 209ms/step - accuracy: 0.8849 - loss: 0.0597 - val_accuracy: 0.8693 - val_loss: 0.0743 - learning_rate: 1.0000e-08\n",
      "Best last val:0.0686686709523201\n",
      "Best current val:0.0686686709523201\n",
      "Training iteration 3/5\n",
      "Epoch 1/50\n",
      "\u001b[1m354/354\u001b[0m \u001b[32m━━━━━━━━━━━━━━━━━━━━\u001b[0m\u001b[37m\u001b[0m \u001b[1m82s\u001b[0m 218ms/step - accuracy: 0.9136 - loss: 0.0708 - val_accuracy: 0.8799 - val_loss: 0.0712 - learning_rate: 1.0000e-07\n",
      "Epoch 2/50\n",
      "\u001b[1m354/354\u001b[0m \u001b[32m━━━━━━━━━━━━━━━━━━━━\u001b[0m\u001b[37m\u001b[0m \u001b[1m74s\u001b[0m 208ms/step - accuracy: 0.8797 - loss: 0.0686 - val_accuracy: 0.8737 - val_loss: 0.0730 - learning_rate: 1.0000e-07\n",
      "Epoch 3/50\n",
      "\u001b[1m354/354\u001b[0m \u001b[32m━━━━━━━━━━━━━━━━━━━━\u001b[0m\u001b[37m\u001b[0m \u001b[1m74s\u001b[0m 209ms/step - accuracy: 0.8796 - loss: 0.0654 - val_accuracy: 0.8737 - val_loss: 0.0728 - learning_rate: 1.0000e-07\n",
      "Epoch 4/50\n",
      "\u001b[1m354/354\u001b[0m \u001b[32m━━━━━━━━━━━━━━━━━━━━\u001b[0m\u001b[37m\u001b[0m \u001b[1m74s\u001b[0m 209ms/step - accuracy: 0.8909 - loss: 0.0615 - val_accuracy: 0.8701 - val_loss: 0.0746 - learning_rate: 1.0000e-07\n",
      "Epoch 5/50\n",
      "\u001b[1m354/354\u001b[0m \u001b[32m━━━━━━━━━━━━━━━━━━━━\u001b[0m\u001b[37m\u001b[0m \u001b[1m74s\u001b[0m 209ms/step - accuracy: 0.8816 - loss: 0.0624 - val_accuracy: 0.8684 - val_loss: 0.0743 - learning_rate: 1.0000e-08\n",
      "Epoch 6/50\n",
      "\u001b[1m354/354\u001b[0m \u001b[32m━━━━━━━━━━━━━━━━━━━━\u001b[0m\u001b[37m\u001b[0m \u001b[1m74s\u001b[0m 209ms/step - accuracy: 0.8808 - loss: 0.0624 - val_accuracy: 0.8693 - val_loss: 0.0742 - learning_rate: 1.0000e-08\n",
      "Training iteration 4/5\n",
      "Epoch 1/50\n",
      "\u001b[1m354/354\u001b[0m \u001b[32m━━━━━━━━━━━━━━━━━━━━\u001b[0m\u001b[37m\u001b[0m \u001b[1m83s\u001b[0m 221ms/step - accuracy: 0.9110 - loss: 0.0771 - val_accuracy: 0.8860 - val_loss: 0.0683 - learning_rate: 1.0000e-07\n",
      "Epoch 2/50\n",
      "\u001b[1m354/354\u001b[0m \u001b[32m━━━━━━━━━━━━━━━━━━━━\u001b[0m\u001b[37m\u001b[0m \u001b[1m74s\u001b[0m 208ms/step - accuracy: 0.8856 - loss: 0.0696 - val_accuracy: 0.8746 - val_loss: 0.0730 - learning_rate: 1.0000e-07\n",
      "Epoch 3/50\n",
      "\u001b[1m354/354\u001b[0m \u001b[32m━━━━━━━━━━━━━━━━━━━━\u001b[0m\u001b[37m\u001b[0m \u001b[1m74s\u001b[0m 209ms/step - accuracy: 0.8858 - loss: 0.0637 - val_accuracy: 0.8728 - val_loss: 0.0740 - learning_rate: 1.0000e-07\n",
      "Epoch 4/50\n",
      "\u001b[1m354/354\u001b[0m \u001b[32m━━━━━━━━━━━━━━━━━━━━\u001b[0m\u001b[37m\u001b[0m \u001b[1m74s\u001b[0m 209ms/step - accuracy: 0.8782 - loss: 0.0665 - val_accuracy: 0.8728 - val_loss: 0.0731 - learning_rate: 1.0000e-07\n",
      "Epoch 5/50\n",
      "\u001b[1m354/354\u001b[0m \u001b[32m━━━━━━━━━━━━━━━━━━━━\u001b[0m\u001b[37m\u001b[0m \u001b[1m74s\u001b[0m 209ms/step - accuracy: 0.8810 - loss: 0.0629 - val_accuracy: 0.8728 - val_loss: 0.0731 - learning_rate: 1.0000e-08\n",
      "Epoch 6/50\n",
      "\u001b[1m354/354\u001b[0m \u001b[32m━━━━━━━━━━━━━━━━━━━━\u001b[0m\u001b[37m\u001b[0m \u001b[1m74s\u001b[0m 209ms/step - accuracy: 0.8793 - loss: 0.0640 - val_accuracy: 0.8719 - val_loss: 0.0733 - learning_rate: 1.0000e-08\n",
      "Best last val:0.06829950213432312\n",
      "Best current val:0.06829950213432312\n",
      "Training iteration 5/5\n",
      "Epoch 1/50\n",
      "\u001b[1m354/354\u001b[0m \u001b[32m━━━━━━━━━━━━━━━━━━━━\u001b[0m\u001b[37m\u001b[0m \u001b[1m82s\u001b[0m 217ms/step - accuracy: 0.9090 - loss: 0.0772 - val_accuracy: 0.8860 - val_loss: 0.0689 - learning_rate: 1.0000e-07\n",
      "Epoch 2/50\n",
      "\u001b[1m354/354\u001b[0m \u001b[32m━━━━━━━━━━━━━━━━━━━━\u001b[0m\u001b[37m\u001b[0m \u001b[1m74s\u001b[0m 210ms/step - accuracy: 0.8933 - loss: 0.0641 - val_accuracy: 0.8754 - val_loss: 0.0738 - learning_rate: 1.0000e-07\n",
      "Epoch 3/50\n",
      "\u001b[1m354/354\u001b[0m \u001b[32m━━━━━━━━━━━━━━━━━━━━\u001b[0m\u001b[37m\u001b[0m \u001b[1m74s\u001b[0m 210ms/step - accuracy: 0.8761 - loss: 0.0664 - val_accuracy: 0.8746 - val_loss: 0.0733 - learning_rate: 1.0000e-07\n",
      "Epoch 4/50\n",
      "\u001b[1m354/354\u001b[0m \u001b[32m━━━━━━━━━━━━━━━━━━━━\u001b[0m\u001b[37m\u001b[0m \u001b[1m74s\u001b[0m 210ms/step - accuracy: 0.8791 - loss: 0.0618 - val_accuracy: 0.8701 - val_loss: 0.0741 - learning_rate: 1.0000e-07\n",
      "Epoch 5/50\n",
      "\u001b[1m354/354\u001b[0m \u001b[32m━━━━━━━━━━━━━━━━━━━━\u001b[0m\u001b[37m\u001b[0m \u001b[1m74s\u001b[0m 210ms/step - accuracy: 0.8813 - loss: 0.0618 - val_accuracy: 0.8719 - val_loss: 0.0738 - learning_rate: 1.0000e-08\n",
      "Epoch 6/50\n",
      "\u001b[1m354/354\u001b[0m \u001b[32m━━━━━━━━━━━━━━━━━━━━\u001b[0m\u001b[37m\u001b[0m \u001b[1m74s\u001b[0m 210ms/step - accuracy: 0.8683 - loss: 0.0658 - val_accuracy: 0.8719 - val_loss: 0.0736 - learning_rate: 1.0000e-08\n"
     ]
    }
   ],
   "source": [
    "best_model_path = f'Models/class{suffix}secondary{modelclass}temp.keras'\n",
    "model_checkpoint = ModelCheckpoint(best_model_path, monitor='val_loss', save_best_only=True, mode='min')\n",
    "best_val_loss = float('inf')\n",
    "for i in range (iterations2):\n",
    "    model = CreateModel(1e-7)\n",
    "    model.load_weights(f'Models/class_{suffix}{modelclass}_overallbest.keras')\n",
    "    early_stopping = EarlyStopping(monitor='val_loss', patience=5, restore_best_weights=True)\n",
    "    reduce_lr = ReduceLROnPlateau(monitor='val_loss', factor=0.1, patience=3, min_lr=1e-8)\n",
    "    \n",
    "    print(f\"Training iteration {i+1}/{iterations2}\")\n",
    "    history = model.fit(train_images, train_labels,\n",
    "                        epochs=50,\n",
    "                        batch_size=16,\n",
    "                        validation_data=(val_images, val_labels),\n",
    "                        class_weight=class_weights,\n",
    "                        callbacks=[early_stopping, reduce_lr, model_checkpoint])\n",
    "\n",
    "    model.load_weights(best_model_path)\n",
    "    val_loss = min(history.history['val_loss'])\n",
    "    if val_loss < best_val_loss:\n",
    "        best_val_loss = val_loss\n",
    "        print(f\"Best last val:{val_loss}\")\n",
    "        print(f\"Best current val:{best_val_loss}\")\n",
    "        model.save(f'Models/class_{suffix}{modelclass}_overallbestFIN.keras')"
   ]
  },
  {
   "cell_type": "code",
   "execution_count": null,
   "id": "8b98208d-c570-4f0a-9e6d-04db78e1617d",
   "metadata": {},
   "outputs": [
    {
     "name": "stdout",
     "output_type": "stream",
     "text": [
      "\u001b[1m15/24\u001b[0m \u001b[32m━━━━━━━━━━━━\u001b[0m\u001b[37m━━━━━━━━\u001b[0m \u001b[1m1s\u001b[0m 175ms/step - accuracy: 0.9027 - loss: 0.0726"
     ]
    }
   ],
   "source": [
    "\n",
    "test_images = np.load(os.path.join(base_dir, 'test_images.npy'))\n",
    "test_labels = np.load(os.path.join(class_dir, f'test_labels_class{modelclass}.npy'))\n",
    "test_image_names = np.load(os.path.join(base_dir, 'test_image_names.npy'), allow_pickle=True)\n",
    "\n",
    "if len(test_images.shape) == 3:\n",
    "    test_images = np.expand_dims(test_images, axis=-1)\n",
    "    test_images = np.repeat(test_images, 3, axis=-1)\n",
    "\n",
    "test_loss, test_accuracy = model.evaluate(test_images, test_labels, verbose=1)\n",
    "\n",
    "print(f\"Test Loss: {test_loss}\")\n",
    "print(f\"Test Accuracy: {test_accuracy}\")\n",
    "\n",
    "y_pred = model.predict(test_images)\n",
    "y_pred_binary = (y_pred > 0.5).astype(int)\n",
    "\n",
    "cm = confusion_matrix(test_labels, y_pred_binary)\n",
    "plt.figure(figsize=(6, 4))\n",
    "sns.heatmap(cm, annot=True, fmt='d', cmap='Blues', xticklabels=['Negative', 'Positive'], yticklabels=['Negative', 'Positive'])\n",
    "plt.xlabel('Predicted')\n",
    "plt.ylabel('True')\n",
    "plt.title('Confusion Matrix')\n",
    "plt.show()\n",
    "\n",
    "def display_image_with_predictions(image, image_name, actual_label, predicted_label, likelihood):\n",
    "    plt.imshow(image.squeeze(), cmap='gray')\n",
    "    plt.title(f\"Image: {image_name}\\nActual: {actual_label}\\nPredicted: {predicted_label}\\nLikelihood: {likelihood:.4f}\")\n",
    "    plt.axis('off')\n",
    "    plt.show()\n",
    "\n",
    "num_samples = 20\n",
    "indices = random.sample(range(test_images.shape[0]), num_samples)\n",
    "\n",
    "for idx in indices:\n",
    "    image = test_images[idx]\n",
    "    image_name = test_image_names[idx]\n",
    "    actual_label = test_labels[idx][0]\n",
    "    image_expanded = np.expand_dims(image, axis=0)\n",
    "    prediction = model.predict(image_expanded)[0][0]\n",
    "    \n",
    "    threshold = 0.5\n",
    "    predicted_label = int(prediction > threshold)\n",
    "    likelihood = prediction\n",
    "    \n",
    "    display_image_with_predictions(image, image_name, actual_label, predicted_label, likelihood)"
   ]
  },
  {
   "cell_type": "code",
   "execution_count": null,
   "id": "76f6cb33-e36e-464c-872a-2a03584ac325",
   "metadata": {},
   "outputs": [],
   "source": []
  }
 ],
 "metadata": {
  "kernelspec": {
   "display_name": "Python 3 (ipykernel)",
   "language": "python",
   "name": "python3"
  },
  "language_info": {
   "codemirror_mode": {
    "name": "ipython",
    "version": 3
   },
   "file_extension": ".py",
   "mimetype": "text/x-python",
   "name": "python",
   "nbconvert_exporter": "python",
   "pygments_lexer": "ipython3",
   "version": "3.11.11"
  }
 },
 "nbformat": 4,
 "nbformat_minor": 5
}
