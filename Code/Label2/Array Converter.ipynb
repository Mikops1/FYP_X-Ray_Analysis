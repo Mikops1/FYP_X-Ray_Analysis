{
 "cells": [
  {
   "cell_type": "code",
   "execution_count": 1,
   "id": "83f3a820-ffdd-4410-8c90-b29a24d4615c",
   "metadata": {},
   "outputs": [
    {
     "name": "stdout",
     "output_type": "stream",
     "text": [
      "Arrays Loaded\n"
     ]
    }
   ],
   "source": [
    "import os\n",
    "import numpy as np\n",
    "os.environ['TF_CPP_MIN_LOG_LEVEL'] = '3'\n",
    "import tensorflow as tf\n",
    "modelclass = '2'\n",
    "base_dir = '../../Data/Arrays/'\n",
    "train_labels = (os.path.join(base_dir, 'train_labels.npy'))\n",
    "val_labels = (os.path.join(base_dir, 'val_labels.npy'))\n",
    "test_labels = (os.path.join(base_dir, 'test_labels.npy'))\n",
    "\n",
    "print('Arrays Loaded')"
   ]
  },
  {
   "cell_type": "code",
   "execution_count": 2,
   "id": "edfc5275-5407-4d18-ad74-0d28b98a4bc1",
   "metadata": {},
   "outputs": [
    {
     "name": "stdout",
     "output_type": "stream",
     "text": [
      "Step Complete\n"
     ]
    }
   ],
   "source": [
    "import numpy as np\n",
    "import os\n",
    "\n",
    "class_index = int(modelclass)\n",
    "save_location = 'Converted Arrays/'\n",
    "if not os.path.exists(save_location):\n",
    "    os.makedirs(save_location)\n",
    "\n",
    "if not os.path.exists('Logs/'):\n",
    "    os.makedirs('Logs/')\n",
    "\n",
    "if not os.path.exists('Models/'):\n",
    "    os.makedirs('Models/')\n",
    "\n",
    "def convert_to_binary_labels(file_path, class_index):\n",
    "    labels = np.load(file_path)\n",
    "    \n",
    "    binary_labels = []\n",
    "    for label in labels:\n",
    "        binary_labels.append(int(label[class_index] == 1))\n",
    "    \n",
    "    return np.array(binary_labels)\n",
    "\n",
    "train_labels_binary = convert_to_binary_labels(train_labels, class_index)\n",
    "test_labels_binary = convert_to_binary_labels(test_labels, class_index)\n",
    "val_labels_binary = convert_to_binary_labels(val_labels, class_index)\n",
    "\n",
    "train_labels_binary = train_labels_binary.reshape(-1, 1)\n",
    "val_labels_binary = val_labels_binary.reshape(-1, 1)\n",
    "test_labels_binary = test_labels_binary.reshape(-1, 1)\n",
    "\n",
    "np.save(os.path.join(save_location, f'train_labels_class{modelclass}.npy'), train_labels_binary)\n",
    "np.save(os.path.join(save_location, f'test_labels_class{modelclass}.npy'), test_labels_binary)\n",
    "np.save(os.path.join(save_location, f'val_labels_class{modelclass}.npy'), val_labels_binary)\n",
    "print('Step Complete')"
   ]
  },
  {
   "cell_type": "code",
   "execution_count": 3,
   "id": "fdaa452a-b3d7-4cd2-8edd-df43ac0f20de",
   "metadata": {},
   "outputs": [
    {
     "name": "stdout",
     "output_type": "stream",
     "text": [
      "Train labels binary shape: (5660, 1)\n",
      "Train labels binary sample:\n",
      "00003683_000.png: [0]\n",
      "00006543_000.png: [1]\n",
      "00018366_000.png: [0]\n",
      "00017270_000.png: [0]\n",
      "00009527_000.png: [0]\n",
      "00015893_000.png: [0]\n",
      "00013673_001.png: [0]\n",
      "00000897_000.png: [0]\n",
      "00026983_001.png: [0]\n",
      "00006135_000.png: [0]\n",
      "Test labels binary shape: (755, 1)\n",
      "Test labels binary sample:\n",
      "00025118_001.png: [0]\n",
      "00004182_000.png: [0]\n",
      "00010590_000.png: [0]\n",
      "00009047_000.png: [0]\n",
      "00006808_000.png: [0]\n",
      "00029763_000.png: [0]\n",
      "00001968_001.png: [0]\n",
      "00016191_001.png: [0]\n",
      "00011303_000.png: [1]\n",
      "00017818_000.png: [0]\n",
      "Validation labels binary shape: (1132, 1)\n",
      "Validation labels binary sample:\n",
      "00017429_001.png: [1]\n",
      "00017664_000.png: [0]\n",
      "00017066_001.png: [0]\n",
      "00000889_000.png: [0]\n",
      "00004728_001.png: [0]\n",
      "00030234_000.png: [0]\n",
      "00013648_000.png: [1]\n",
      "00011506_000.png: [0]\n",
      "00017196_000.png: [0]\n",
      "00015136_001.png: [1]\n",
      "Number of 1's in the array: 1140\n"
     ]
    }
   ],
   "source": [
    "import numpy as np\n",
    "import os\n",
    "\n",
    "def load_image_names(file_path):\n",
    "    if not os.path.exists(file_path):\n",
    "        raise FileNotFoundError(f'No such file or directory: {file_path}')\n",
    "    image_names = np.load(file_path, allow_pickle=True)\n",
    "    return image_names\n",
    "\n",
    "train_image_names_path = os.path.join(base_dir, 'train_image_names.npy')\n",
    "test_image_names_path = os.path.join(base_dir, 'test_image_names.npy')\n",
    "val_image_names_path = os.path.join(base_dir, 'val_image_names.npy')\n",
    "\n",
    "train_image_names = load_image_names(train_image_names_path)\n",
    "test_image_names = load_image_names(test_image_names_path)\n",
    "val_image_names = load_image_names(val_image_names_path)\n",
    "\n",
    "print('Train labels binary shape:', train_labels_binary.shape)\n",
    "print('Train labels binary sample:')\n",
    "for i in range(10):\n",
    "    print(f'{train_image_names[i]}: {train_labels_binary[i]}')\n",
    "\n",
    "print('Test labels binary shape:', test_labels_binary.shape)\n",
    "print('Test labels binary sample:')\n",
    "for i in range(10):\n",
    "    print(f'{test_image_names[i]}: {test_labels_binary[i]}')\n",
    "\n",
    "print('Validation labels binary shape:', val_labels_binary.shape)\n",
    "print('Validation labels binary sample:')\n",
    "for i in range(10):\n",
    "    print(f'{val_image_names[i]}: {val_labels_binary[i]}')\n",
    "\n",
    "count_ones = np.sum(train_labels_binary == 1)\n",
    "print(f\"Number of 1's in the array: {count_ones}\")"
   ]
  },
  {
   "cell_type": "code",
   "execution_count": null,
   "id": "944c955f-1bd6-48eb-ba05-93fd9ba7341c",
   "metadata": {},
   "outputs": [],
   "source": []
  }
 ],
 "metadata": {
  "kernelspec": {
   "display_name": "Python 3 (ipykernel)",
   "language": "python",
   "name": "python3"
  },
  "language_info": {
   "codemirror_mode": {
    "name": "ipython",
    "version": 3
   },
   "file_extension": ".py",
   "mimetype": "text/x-python",
   "name": "python",
   "nbconvert_exporter": "python",
   "pygments_lexer": "ipython3",
   "version": "3.11.11"
  }
 },
 "nbformat": 4,
 "nbformat_minor": 5
}
