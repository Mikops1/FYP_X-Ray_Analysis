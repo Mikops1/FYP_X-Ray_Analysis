{
 "cells": [
  {
   "cell_type": "code",
   "execution_count": null,
   "id": "05fd7ab0-9370-4970-a49b-9b597c45c208",
   "metadata": {},
   "outputs": [
    {
     "name": "stderr",
     "output_type": "stream",
     "text": [
      "WARNING: pip is being invoked by an old script wrapper. This will fail in a future version of pip.\n",
      "Please see https://github.com/pypa/pip/issues/5599 for advice on fixing the underlying issue.\n",
      "To avoid this problem you can invoke Python with '-m pip' instead of running pip directly.\n"
     ]
    },
    {
     "data": {
      "text/html": [
       "<pre style=\"white-space:pre;overflow-x:auto;line-height:normal;font-family:Menlo,'DejaVu Sans Mono',consolas,'Courier New',monospace\">Requirement already satisfied: seaborn in /opt/conda/lib/python3.11/site-packages (0.13.2)\n",
       "</pre>\n"
      ],
      "text/plain": [
       "Requirement already satisfied: seaborn in /opt/conda/lib/python3.11/site-packages (0.13.2)\n"
      ]
     },
     "metadata": {},
     "output_type": "display_data"
    },
    {
     "data": {
      "text/html": [
       "<pre style=\"white-space:pre;overflow-x:auto;line-height:normal;font-family:Menlo,'DejaVu Sans Mono',consolas,'Courier New',monospace\">Requirement already satisfied: numpy!=1.24.0,&gt;=1.20 in /opt/conda/lib/python3.11/site-packages (from seaborn) (1.26.4)\n",
       "</pre>\n"
      ],
      "text/plain": [
       "Requirement already satisfied: numpy!=1.24.0,>=1.20 in /opt/conda/lib/python3.11/site-packages (from seaborn) (1.26.4)\n"
      ]
     },
     "metadata": {},
     "output_type": "display_data"
    },
    {
     "data": {
      "text/html": [
       "<pre style=\"white-space:pre;overflow-x:auto;line-height:normal;font-family:Menlo,'DejaVu Sans Mono',consolas,'Courier New',monospace\">Requirement already satisfied: pandas&gt;=1.2 in /opt/conda/lib/python3.11/site-packages (from seaborn) (2.2.3)\n",
       "</pre>\n"
      ],
      "text/plain": [
       "Requirement already satisfied: pandas>=1.2 in /opt/conda/lib/python3.11/site-packages (from seaborn) (2.2.3)\n"
      ]
     },
     "metadata": {},
     "output_type": "display_data"
    },
    {
     "data": {
      "text/html": [
       "<pre style=\"white-space:pre;overflow-x:auto;line-height:normal;font-family:Menlo,'DejaVu Sans Mono',consolas,'Courier New',monospace\">Requirement already satisfied: matplotlib!=3.6.1,&gt;=3.4 in /opt/conda/lib/python3.11/site-packages (from seaborn) (3.9.3)\n",
       "</pre>\n"
      ],
      "text/plain": [
       "Requirement already satisfied: matplotlib!=3.6.1,>=3.4 in /opt/conda/lib/python3.11/site-packages (from seaborn) (3.9.3)\n"
      ]
     },
     "metadata": {},
     "output_type": "display_data"
    },
    {
     "data": {
      "text/html": [
       "<pre style=\"white-space:pre;overflow-x:auto;line-height:normal;font-family:Menlo,'DejaVu Sans Mono',consolas,'Courier New',monospace\">Requirement already satisfied: contourpy&gt;=1.0.1 in /opt/conda/lib/python3.11/site-packages (from matplotlib!=3.6.1,&gt;=3.4-&gt;seaborn) (1.3.1)\n",
       "</pre>\n"
      ],
      "text/plain": [
       "Requirement already satisfied: contourpy>=1.0.1 in /opt/conda/lib/python3.11/site-packages (from matplotlib!=3.6.1,>=3.4->seaborn) (1.3.1)\n"
      ]
     },
     "metadata": {},
     "output_type": "display_data"
    },
    {
     "data": {
      "text/html": [
       "<pre style=\"white-space:pre;overflow-x:auto;line-height:normal;font-family:Menlo,'DejaVu Sans Mono',consolas,'Courier New',monospace\">Requirement already satisfied: cycler&gt;=0.10 in /opt/conda/lib/python3.11/site-packages (from matplotlib!=3.6.1,&gt;=3.4-&gt;seaborn) (0.12.1)\n",
       "</pre>\n"
      ],
      "text/plain": [
       "Requirement already satisfied: cycler>=0.10 in /opt/conda/lib/python3.11/site-packages (from matplotlib!=3.6.1,>=3.4->seaborn) (0.12.1)\n"
      ]
     },
     "metadata": {},
     "output_type": "display_data"
    },
    {
     "data": {
      "text/html": [
       "<pre style=\"white-space:pre;overflow-x:auto;line-height:normal;font-family:Menlo,'DejaVu Sans Mono',consolas,'Courier New',monospace\">Requirement already satisfied: fonttools&gt;=4.22.0 in /opt/conda/lib/python3.11/site-packages (from matplotlib!=3.6.1,&gt;=3.4-&gt;seaborn) (4.55.3)\n",
       "</pre>\n"
      ],
      "text/plain": [
       "Requirement already satisfied: fonttools>=4.22.0 in /opt/conda/lib/python3.11/site-packages (from matplotlib!=3.6.1,>=3.4->seaborn) (4.55.3)\n"
      ]
     },
     "metadata": {},
     "output_type": "display_data"
    },
    {
     "data": {
      "text/html": [
       "<pre style=\"white-space:pre;overflow-x:auto;line-height:normal;font-family:Menlo,'DejaVu Sans Mono',consolas,'Courier New',monospace\">Requirement already satisfied: kiwisolver&gt;=1.3.1 in /opt/conda/lib/python3.11/site-packages (from matplotlib!=3.6.1,&gt;=3.4-&gt;seaborn) (1.4.7)\n",
       "</pre>\n"
      ],
      "text/plain": [
       "Requirement already satisfied: kiwisolver>=1.3.1 in /opt/conda/lib/python3.11/site-packages (from matplotlib!=3.6.1,>=3.4->seaborn) (1.4.7)\n"
      ]
     },
     "metadata": {},
     "output_type": "display_data"
    },
    {
     "data": {
      "text/html": [
       "<pre style=\"white-space:pre;overflow-x:auto;line-height:normal;font-family:Menlo,'DejaVu Sans Mono',consolas,'Courier New',monospace\">Requirement already satisfied: packaging&gt;=20.0 in /opt/conda/lib/python3.11/site-packages (from matplotlib!=3.6.1,&gt;=3.4-&gt;seaborn) (24.2)\n",
       "</pre>\n"
      ],
      "text/plain": [
       "Requirement already satisfied: packaging>=20.0 in /opt/conda/lib/python3.11/site-packages (from matplotlib!=3.6.1,>=3.4->seaborn) (24.2)\n"
      ]
     },
     "metadata": {},
     "output_type": "display_data"
    },
    {
     "data": {
      "text/html": [
       "<pre style=\"white-space:pre;overflow-x:auto;line-height:normal;font-family:Menlo,'DejaVu Sans Mono',consolas,'Courier New',monospace\">Requirement already satisfied: pillow&gt;=8 in /opt/conda/lib/python3.11/site-packages (from matplotlib!=3.6.1,&gt;=3.4-&gt;seaborn) (10.4.0)\n",
       "</pre>\n"
      ],
      "text/plain": [
       "Requirement already satisfied: pillow>=8 in /opt/conda/lib/python3.11/site-packages (from matplotlib!=3.6.1,>=3.4->seaborn) (10.4.0)\n"
      ]
     },
     "metadata": {},
     "output_type": "display_data"
    },
    {
     "data": {
      "text/html": [
       "<pre style=\"white-space:pre;overflow-x:auto;line-height:normal;font-family:Menlo,'DejaVu Sans Mono',consolas,'Courier New',monospace\">Requirement already satisfied: pyparsing&gt;=2.3.1 in /opt/conda/lib/python3.11/site-packages (from matplotlib!=3.6.1,&gt;=3.4-&gt;seaborn) (3.2.0)\n",
       "</pre>\n"
      ],
      "text/plain": [
       "Requirement already satisfied: pyparsing>=2.3.1 in /opt/conda/lib/python3.11/site-packages (from matplotlib!=3.6.1,>=3.4->seaborn) (3.2.0)\n"
      ]
     },
     "metadata": {},
     "output_type": "display_data"
    },
    {
     "data": {
      "text/html": [
       "<pre style=\"white-space:pre;overflow-x:auto;line-height:normal;font-family:Menlo,'DejaVu Sans Mono',consolas,'Courier New',monospace\">Requirement already satisfied: python-dateutil&gt;=2.7 in /opt/conda/lib/python3.11/site-packages (from matplotlib!=3.6.1,&gt;=3.4-&gt;seaborn) (2.9.0.post0)\n",
       "</pre>\n"
      ],
      "text/plain": [
       "Requirement already satisfied: python-dateutil>=2.7 in /opt/conda/lib/python3.11/site-packages (from matplotlib!=3.6.1,>=3.4->seaborn) (2.9.0.post0)\n"
      ]
     },
     "metadata": {},
     "output_type": "display_data"
    },
    {
     "data": {
      "text/html": [
       "<pre style=\"white-space:pre;overflow-x:auto;line-height:normal;font-family:Menlo,'DejaVu Sans Mono',consolas,'Courier New',monospace\">Requirement already satisfied: pytz&gt;=2020.1 in /opt/conda/lib/python3.11/site-packages (from pandas&gt;=1.2-&gt;seaborn) (2023.3)\n",
       "</pre>\n"
      ],
      "text/plain": [
       "Requirement already satisfied: pytz>=2020.1 in /opt/conda/lib/python3.11/site-packages (from pandas>=1.2->seaborn) (2023.3)\n"
      ]
     },
     "metadata": {},
     "output_type": "display_data"
    },
    {
     "data": {
      "text/html": [
       "<pre style=\"white-space:pre;overflow-x:auto;line-height:normal;font-family:Menlo,'DejaVu Sans Mono',consolas,'Courier New',monospace\">Requirement already satisfied: tzdata&gt;=2022.7 in /opt/conda/lib/python3.11/site-packages (from pandas&gt;=1.2-&gt;seaborn) (2024.2)\n",
       "</pre>\n"
      ],
      "text/plain": [
       "Requirement already satisfied: tzdata>=2022.7 in /opt/conda/lib/python3.11/site-packages (from pandas>=1.2->seaborn) (2024.2)\n"
      ]
     },
     "metadata": {},
     "output_type": "display_data"
    },
    {
     "data": {
      "text/html": [
       "<pre style=\"white-space:pre;overflow-x:auto;line-height:normal;font-family:Menlo,'DejaVu Sans Mono',consolas,'Courier New',monospace\">Requirement already satisfied: six&gt;=1.5 in /opt/conda/lib/python3.11/site-packages (from python-dateutil&gt;=2.7-&gt;matplotlib!=3.6.1,&gt;=3.4-&gt;seaborn) (1.17.0)\n",
       "</pre>\n"
      ],
      "text/plain": [
       "Requirement already satisfied: six>=1.5 in /opt/conda/lib/python3.11/site-packages (from python-dateutil>=2.7->matplotlib!=3.6.1,>=3.4->seaborn) (1.17.0)\n"
      ]
     },
     "metadata": {},
     "output_type": "display_data"
    },
    {
     "name": "stdout",
     "output_type": "stream",
     "text": [
      "Initial class weights: {0: 0.8995549904640814, 1: 1.1256961018297533}\n",
      "Start time:  2025-01-16 10:53:50.724759\n"
     ]
    },
    {
     "name": "stderr",
     "output_type": "stream",
     "text": [
      "WARNING: All log messages before absl::InitializeLog() is called are written to STDERR\n",
      "I0000 00:00:1737024830.890091    7799 cuda_executor.cc:1015] successful NUMA node read from SysFS had negative value (-1), but there must be at least one NUMA node, so returning NUMA node zero. See more at https://github.com/torvalds/linux/blob/v6.0/Documentation/ABI/testing/sysfs-bus-pci#L344-L355\n",
      "I0000 00:00:1737024830.943716    7799 cuda_executor.cc:1015] successful NUMA node read from SysFS had negative value (-1), but there must be at least one NUMA node, so returning NUMA node zero. See more at https://github.com/torvalds/linux/blob/v6.0/Documentation/ABI/testing/sysfs-bus-pci#L344-L355\n",
      "I0000 00:00:1737024830.947188    7799 cuda_executor.cc:1015] successful NUMA node read from SysFS had negative value (-1), but there must be at least one NUMA node, so returning NUMA node zero. See more at https://github.com/torvalds/linux/blob/v6.0/Documentation/ABI/testing/sysfs-bus-pci#L344-L355\n",
      "I0000 00:00:1737024830.951501    7799 cuda_executor.cc:1015] successful NUMA node read from SysFS had negative value (-1), but there must be at least one NUMA node, so returning NUMA node zero. See more at https://github.com/torvalds/linux/blob/v6.0/Documentation/ABI/testing/sysfs-bus-pci#L344-L355\n",
      "I0000 00:00:1737024830.954762    7799 cuda_executor.cc:1015] successful NUMA node read from SysFS had negative value (-1), but there must be at least one NUMA node, so returning NUMA node zero. See more at https://github.com/torvalds/linux/blob/v6.0/Documentation/ABI/testing/sysfs-bus-pci#L344-L355\n",
      "I0000 00:00:1737024830.957774    7799 cuda_executor.cc:1015] successful NUMA node read from SysFS had negative value (-1), but there must be at least one NUMA node, so returning NUMA node zero. See more at https://github.com/torvalds/linux/blob/v6.0/Documentation/ABI/testing/sysfs-bus-pci#L344-L355\n",
      "I0000 00:00:1737024831.150792    7799 cuda_executor.cc:1015] successful NUMA node read from SysFS had negative value (-1), but there must be at least one NUMA node, so returning NUMA node zero. See more at https://github.com/torvalds/linux/blob/v6.0/Documentation/ABI/testing/sysfs-bus-pci#L344-L355\n",
      "I0000 00:00:1737024831.152771    7799 cuda_executor.cc:1015] successful NUMA node read from SysFS had negative value (-1), but there must be at least one NUMA node, so returning NUMA node zero. See more at https://github.com/torvalds/linux/blob/v6.0/Documentation/ABI/testing/sysfs-bus-pci#L344-L355\n",
      "I0000 00:00:1737024831.154482    7799 cuda_executor.cc:1015] successful NUMA node read from SysFS had negative value (-1), but there must be at least one NUMA node, so returning NUMA node zero. See more at https://github.com/torvalds/linux/blob/v6.0/Documentation/ABI/testing/sysfs-bus-pci#L344-L355\n"
     ]
    },
    {
     "name": "stdout",
     "output_type": "stream",
     "text": [
      "Training iteration 1/5\n",
      "Epoch 1/50\n"
     ]
    },
    {
     "name": "stderr",
     "output_type": "stream",
     "text": [
      "I0000 00:00:1737024841.954015    7847 service.cc:146] XLA service 0x7f9a88015f00 initialized for platform CUDA (this does not guarantee that XLA will be used). Devices:\n",
      "I0000 00:00:1737024841.954101    7847 service.cc:154]   StreamExecutor device (0): Tesla T4, Compute Capability 7.5\n"
     ]
    },
    {
     "name": "stdout",
     "output_type": "stream",
     "text": [
      "\u001b[1m  1/354\u001b[0m \u001b[37m━━━━━━━━━━━━━━━━━━━━\u001b[0m \u001b[1m2:00:57\u001b[0m 21s/step - accuracy: 0.4375 - loss: 0.3713"
     ]
    },
    {
     "name": "stderr",
     "output_type": "stream",
     "text": [
      "I0000 00:00:1737024859.566500    7847 device_compiler.h:188] Compiled cluster using XLA!  This line is logged at most once for the lifetime of the process.\n"
     ]
    },
    {
     "name": "stdout",
     "output_type": "stream",
     "text": [
      "\u001b[1m353/354\u001b[0m \u001b[32m━━━━━━━━━━━━━━━━━━━\u001b[0m\u001b[37m━\u001b[0m \u001b[1m0s\u001b[0m 189ms/step - accuracy: 0.4927 - loss: 0.2001"
     ]
    },
    {
     "name": "stderr",
     "output_type": "stream",
     "text": [
      "E0000 00:00:1737024930.830001    7846 gpu_timer.cc:183] Delay kernel timed out: measured time has sub-optimal accuracy. There may be a missing warmup execution, please investigate in Nsight Systems.\n",
      "E0000 00:00:1737024931.049862    7846 gpu_timer.cc:183] Delay kernel timed out: measured time has sub-optimal accuracy. There may be a missing warmup execution, please investigate in Nsight Systems.\n"
     ]
    },
    {
     "name": "stdout",
     "output_type": "stream",
     "text": [
      "\u001b[1m354/354\u001b[0m \u001b[32m━━━━━━━━━━━━━━━━━━━━\u001b[0m\u001b[37m\u001b[0m \u001b[1m116s\u001b[0m 270ms/step - accuracy: 0.4927 - loss: 0.2000 - val_accuracy: 0.4187 - val_loss: 0.1753 - learning_rate: 1.0000e-05\n",
      "Epoch 2/50\n",
      "\u001b[1m354/354\u001b[0m \u001b[32m━━━━━━━━━━━━━━━━━━━━\u001b[0m\u001b[37m\u001b[0m \u001b[1m75s\u001b[0m 211ms/step - accuracy: 0.5062 - loss: 0.1734 - val_accuracy: 0.4187 - val_loss: 0.1743 - learning_rate: 1.0000e-05\n",
      "Epoch 3/50\n",
      "\u001b[1m354/354\u001b[0m \u001b[32m━━━━━━━━━━━━━━━━━━━━\u001b[0m\u001b[37m\u001b[0m \u001b[1m75s\u001b[0m 211ms/step - accuracy: 0.4963 - loss: 0.1735 - val_accuracy: 0.4876 - val_loss: 0.1735 - learning_rate: 1.0000e-05\n",
      "Epoch 4/50\n",
      "\u001b[1m354/354\u001b[0m \u001b[32m━━━━━━━━━━━━━━━━━━━━\u001b[0m\u001b[37m\u001b[0m \u001b[1m75s\u001b[0m 211ms/step - accuracy: 0.5240 - loss: 0.1729 - val_accuracy: 0.5088 - val_loss: 0.1730 - learning_rate: 1.0000e-05\n",
      "Epoch 5/50\n",
      "\u001b[1m354/354\u001b[0m \u001b[32m━━━━━━━━━━━━━━━━━━━━\u001b[0m\u001b[37m\u001b[0m \u001b[1m73s\u001b[0m 207ms/step - accuracy: 0.5436 - loss: 0.1723 - val_accuracy: 0.4885 - val_loss: 0.1756 - learning_rate: 1.0000e-05\n",
      "Epoch 6/50\n",
      "\u001b[1m354/354\u001b[0m \u001b[32m━━━━━━━━━━━━━━━━━━━━\u001b[0m\u001b[37m\u001b[0m \u001b[1m75s\u001b[0m 211ms/step - accuracy: 0.5183 - loss: 0.1722 - val_accuracy: 0.6131 - val_loss: 0.1688 - learning_rate: 1.0000e-05\n",
      "Epoch 7/50\n",
      "\u001b[1m354/354\u001b[0m \u001b[32m━━━━━━━━━━━━━━━━━━━━\u001b[0m\u001b[37m\u001b[0m \u001b[1m73s\u001b[0m 208ms/step - accuracy: 0.5705 - loss: 0.1712 - val_accuracy: 0.5380 - val_loss: 0.1721 - learning_rate: 1.0000e-05\n",
      "Epoch 8/50\n",
      "\u001b[1m354/354\u001b[0m \u001b[32m━━━━━━━━━━━━━━━━━━━━\u001b[0m\u001b[37m\u001b[0m \u001b[1m74s\u001b[0m 208ms/step - accuracy: 0.5660 - loss: 0.1713 - val_accuracy: 0.5592 - val_loss: 0.1704 - learning_rate: 1.0000e-05\n",
      "Epoch 9/50\n",
      "\u001b[1m354/354\u001b[0m \u001b[32m━━━━━━━━━━━━━━━━━━━━\u001b[0m\u001b[37m\u001b[0m \u001b[1m75s\u001b[0m 212ms/step - accuracy: 0.5667 - loss: 0.1701 - val_accuracy: 0.6069 - val_loss: 0.1681 - learning_rate: 3.0000e-06\n",
      "Epoch 10/50\n",
      "\u001b[1m354/354\u001b[0m \u001b[32m━━━━━━━━━━━━━━━━━━━━\u001b[0m\u001b[37m\u001b[0m \u001b[1m75s\u001b[0m 212ms/step - accuracy: 0.5696 - loss: 0.1699 - val_accuracy: 0.6042 - val_loss: 0.1670 - learning_rate: 3.0000e-06\n",
      "Epoch 11/50\n",
      "\u001b[1m354/354\u001b[0m \u001b[32m━━━━━━━━━━━━━━━━━━━━\u001b[0m\u001b[37m\u001b[0m \u001b[1m75s\u001b[0m 212ms/step - accuracy: 0.6090 - loss: 0.1656 - val_accuracy: 0.6193 - val_loss: 0.1658 - learning_rate: 3.0000e-06\n",
      "Epoch 12/50\n",
      "\u001b[1m354/354\u001b[0m \u001b[32m━━━━━━━━━━━━━━━━━━━━\u001b[0m\u001b[37m\u001b[0m \u001b[1m74s\u001b[0m 209ms/step - accuracy: 0.6348 - loss: 0.1610 - val_accuracy: 0.6007 - val_loss: 0.1660 - learning_rate: 3.0000e-06\n",
      "Epoch 13/50\n",
      "\u001b[1m354/354\u001b[0m \u001b[32m━━━━━━━━━━━━━━━━━━━━\u001b[0m\u001b[37m\u001b[0m \u001b[1m75s\u001b[0m 213ms/step - accuracy: 0.6467 - loss: 0.1591 - val_accuracy: 0.6511 - val_loss: 0.1584 - learning_rate: 3.0000e-06\n",
      "Epoch 14/50\n",
      "\u001b[1m354/354\u001b[0m \u001b[32m━━━━━━━━━━━━━━━━━━━━\u001b[0m\u001b[37m\u001b[0m \u001b[1m74s\u001b[0m 209ms/step - accuracy: 0.6587 - loss: 0.1566 - val_accuracy: 0.6484 - val_loss: 0.1601 - learning_rate: 3.0000e-06\n",
      "Epoch 15/50\n",
      "\u001b[1m354/354\u001b[0m \u001b[32m━━━━━━━━━━━━━━━━━━━━\u001b[0m\u001b[37m\u001b[0m \u001b[1m75s\u001b[0m 213ms/step - accuracy: 0.6587 - loss: 0.1564 - val_accuracy: 0.6599 - val_loss: 0.1562 - learning_rate: 3.0000e-06\n",
      "Epoch 16/50\n",
      "\u001b[1m354/354\u001b[0m \u001b[32m━━━━━━━━━━━━━━━━━━━━\u001b[0m\u001b[37m\u001b[0m \u001b[1m74s\u001b[0m 209ms/step - accuracy: 0.6654 - loss: 0.1555 - val_accuracy: 0.6272 - val_loss: 0.1631 - learning_rate: 3.0000e-06\n",
      "Epoch 17/50\n",
      "\u001b[1m354/354\u001b[0m \u001b[32m━━━━━━━━━━━━━━━━━━━━\u001b[0m\u001b[37m\u001b[0m \u001b[1m75s\u001b[0m 213ms/step - accuracy: 0.6913 - loss: 0.1489 - val_accuracy: 0.6731 - val_loss: 0.1520 - learning_rate: 3.0000e-06\n",
      "Epoch 18/50\n",
      "\u001b[1m354/354\u001b[0m \u001b[32m━━━━━━━━━━━━━━━━━━━━\u001b[0m\u001b[37m\u001b[0m \u001b[1m75s\u001b[0m 213ms/step - accuracy: 0.7091 - loss: 0.1450 - val_accuracy: 0.6811 - val_loss: 0.1511 - learning_rate: 3.0000e-06\n",
      "Epoch 19/50\n",
      "\u001b[1m354/354\u001b[0m \u001b[32m━━━━━━━━━━━━━━━━━━━━\u001b[0m\u001b[37m\u001b[0m \u001b[1m74s\u001b[0m 209ms/step - accuracy: 0.7153 - loss: 0.1428 - val_accuracy: 0.6793 - val_loss: 0.1515 - learning_rate: 3.0000e-06\n",
      "Epoch 20/50\n",
      "\u001b[1m354/354\u001b[0m \u001b[32m━━━━━━━━━━━━━━━━━━━━\u001b[0m\u001b[37m\u001b[0m \u001b[1m74s\u001b[0m 209ms/step - accuracy: 0.7347 - loss: 0.1388 - val_accuracy: 0.6687 - val_loss: 0.1552 - learning_rate: 3.0000e-06\n",
      "Epoch 21/50\n",
      "\u001b[1m354/354\u001b[0m \u001b[32m━━━━━━━━━━━━━━━━━━━━\u001b[0m\u001b[37m\u001b[0m \u001b[1m74s\u001b[0m 209ms/step - accuracy: 0.7531 - loss: 0.1320 - val_accuracy: 0.6678 - val_loss: 0.1546 - learning_rate: 9.0000e-07\n",
      "Epoch 22/50\n",
      "\u001b[1m354/354\u001b[0m \u001b[32m━━━━━━━━━━━━━━━━━━━━\u001b[0m\u001b[37m\u001b[0m \u001b[1m74s\u001b[0m 209ms/step - accuracy: 0.7515 - loss: 0.1313 - val_accuracy: 0.6572 - val_loss: 0.1582 - learning_rate: 9.0000e-07\n",
      "Epoch 23/50\n",
      "\u001b[1m354/354\u001b[0m \u001b[32m━━━━━━━━━━━━━━━━━━━━\u001b[0m\u001b[37m\u001b[0m \u001b[1m76s\u001b[0m 213ms/step - accuracy: 0.7676 - loss: 0.1259 - val_accuracy: 0.6758 - val_loss: 0.1509 - learning_rate: 2.7000e-07\n",
      "Epoch 24/50\n",
      "\u001b[1m354/354\u001b[0m \u001b[32m━━━━━━━━━━━━━━━━━━━━\u001b[0m\u001b[37m\u001b[0m \u001b[1m74s\u001b[0m 210ms/step - accuracy: 0.7600 - loss: 0.1275 - val_accuracy: 0.6731 - val_loss: 0.1546 - learning_rate: 2.7000e-07\n",
      "Epoch 25/50\n",
      "\u001b[1m354/354\u001b[0m \u001b[32m━━━━━━━━━━━━━━━━━━━━\u001b[0m\u001b[37m\u001b[0m \u001b[1m74s\u001b[0m 209ms/step - accuracy: 0.7778 - loss: 0.1241 - val_accuracy: 0.6749 - val_loss: 0.1520 - learning_rate: 2.7000e-07\n",
      "Epoch 26/50\n",
      "\u001b[1m354/354\u001b[0m \u001b[32m━━━━━━━━━━━━━━━━━━━━\u001b[0m\u001b[37m\u001b[0m \u001b[1m74s\u001b[0m 208ms/step - accuracy: 0.7660 - loss: 0.1253 - val_accuracy: 0.6758 - val_loss: 0.1533 - learning_rate: 1.0000e-07\n",
      "Epoch 27/50\n",
      "\u001b[1m354/354\u001b[0m \u001b[32m━━━━━━━━━━━━━━━━━━━━\u001b[0m\u001b[37m\u001b[0m \u001b[1m74s\u001b[0m 210ms/step - accuracy: 0.7636 - loss: 0.1275 - val_accuracy: 0.6740 - val_loss: 0.1550 - learning_rate: 1.0000e-07\n",
      "Epoch 28/50\n",
      "\u001b[1m354/354\u001b[0m \u001b[32m━━━━━━━━━━━━━━━━━━━━\u001b[0m\u001b[37m\u001b[0m \u001b[1m74s\u001b[0m 210ms/step - accuracy: 0.7640 - loss: 0.1252 - val_accuracy: 0.6749 - val_loss: 0.1538 - learning_rate: 1.0000e-07\n",
      "Best current val:0.1509154736995697\n",
      "Training iteration 2/5\n",
      "Epoch 1/50\n",
      "\u001b[1m354/354\u001b[0m \u001b[32m━━━━━━━━━━━━━━━━━━━━\u001b[0m\u001b[37m\u001b[0m \u001b[1m82s\u001b[0m 218ms/step - accuracy: 0.5087 - loss: 0.2000 - val_accuracy: 0.5539 - val_loss: 0.1731 - learning_rate: 1.0000e-05\n",
      "Epoch 2/50\n",
      "\u001b[1m354/354\u001b[0m \u001b[32m━━━━━━━━━━━━━━━━━━━━\u001b[0m\u001b[37m\u001b[0m \u001b[1m74s\u001b[0m 208ms/step - accuracy: 0.5214 - loss: 0.1733 - val_accuracy: 0.5830 - val_loss: 0.1727 - learning_rate: 1.0000e-05\n",
      "Epoch 3/50\n",
      "\u001b[1m354/354\u001b[0m \u001b[32m━━━━━━━━━━━━━━━━━━━━\u001b[0m\u001b[37m\u001b[0m \u001b[1m74s\u001b[0m 209ms/step - accuracy: 0.5414 - loss: 0.1729 - val_accuracy: 0.5848 - val_loss: 0.1717 - learning_rate: 1.0000e-05\n",
      "Epoch 4/50\n",
      "\u001b[1m354/354\u001b[0m \u001b[32m━━━━━━━━━━━━━━━━━━━━\u001b[0m\u001b[37m\u001b[0m \u001b[1m74s\u001b[0m 208ms/step - accuracy: 0.5231 - loss: 0.1728 - val_accuracy: 0.5177 - val_loss: 0.1731 - learning_rate: 1.0000e-05\n",
      "Epoch 5/50\n",
      "\u001b[1m354/354\u001b[0m \u001b[32m━━━━━━━━━━━━━━━━━━━━\u001b[0m\u001b[37m\u001b[0m \u001b[1m74s\u001b[0m 208ms/step - accuracy: 0.5136 - loss: 0.1731 - val_accuracy: 0.5459 - val_loss: 0.1726 - learning_rate: 1.0000e-05\n",
      "Epoch 6/50\n",
      "\u001b[1m354/354\u001b[0m \u001b[32m━━━━━━━━━━━━━━━━━━━━\u001b[0m\u001b[37m\u001b[0m \u001b[1m74s\u001b[0m 209ms/step - accuracy: 0.5368 - loss: 0.1724 - val_accuracy: 0.5936 - val_loss: 0.1708 - learning_rate: 3.0000e-06\n",
      "Epoch 7/50\n",
      "\u001b[1m354/354\u001b[0m \u001b[32m━━━━━━━━━━━━━━━━━━━━\u001b[0m\u001b[37m\u001b[0m \u001b[1m74s\u001b[0m 208ms/step - accuracy: 0.5565 - loss: 0.1717 - val_accuracy: 0.5698 - val_loss: 0.1708 - learning_rate: 3.0000e-06\n",
      "Epoch 8/50\n",
      "\u001b[1m354/354\u001b[0m \u001b[32m━━━━━━━━━━━━━━━━━━━━\u001b[0m\u001b[37m\u001b[0m \u001b[1m74s\u001b[0m 209ms/step - accuracy: 0.5428 - loss: 0.1722 - val_accuracy: 0.5733 - val_loss: 0.1703 - learning_rate: 3.0000e-06\n",
      "Epoch 9/50\n",
      "\u001b[1m354/354\u001b[0m \u001b[32m━━━━━━━━━━━━━━━━━━━━\u001b[0m\u001b[37m\u001b[0m \u001b[1m74s\u001b[0m 209ms/step - accuracy: 0.5532 - loss: 0.1710 - val_accuracy: 0.5610 - val_loss: 0.1713 - learning_rate: 3.0000e-06\n",
      "Epoch 10/50\n",
      "\u001b[1m354/354\u001b[0m \u001b[32m━━━━━━━━━━━━━━━━━━━━\u001b[0m\u001b[37m\u001b[0m \u001b[1m74s\u001b[0m 209ms/step - accuracy: 0.5549 - loss: 0.1706 - val_accuracy: 0.5680 - val_loss: 0.1699 - learning_rate: 3.0000e-06\n",
      "Epoch 11/50\n",
      "\u001b[1m354/354\u001b[0m \u001b[32m━━━━━━━━━━━━━━━━━━━━\u001b[0m\u001b[37m\u001b[0m \u001b[1m74s\u001b[0m 209ms/step - accuracy: 0.5836 - loss: 0.1692 - val_accuracy: 0.6210 - val_loss: 0.1671 - learning_rate: 3.0000e-06\n",
      "Epoch 12/50\n",
      "\u001b[1m354/354\u001b[0m \u001b[32m━━━━━━━━━━━━━━━━━━━━\u001b[0m\u001b[37m\u001b[0m \u001b[1m74s\u001b[0m 209ms/step - accuracy: 0.6042 - loss: 0.1662 - val_accuracy: 0.6511 - val_loss: 0.1626 - learning_rate: 3.0000e-06\n",
      "Epoch 13/50\n",
      "\u001b[1m354/354\u001b[0m \u001b[32m━━━━━━━━━━━━━━━━━━━━\u001b[0m\u001b[37m\u001b[0m \u001b[1m74s\u001b[0m 209ms/step - accuracy: 0.6197 - loss: 0.1647 - val_accuracy: 0.6219 - val_loss: 0.1653 - learning_rate: 3.0000e-06\n",
      "Epoch 14/50\n",
      "\u001b[1m354/354\u001b[0m \u001b[32m━━━━━━━━━━━━━━━━━━━━\u001b[0m\u001b[37m\u001b[0m \u001b[1m74s\u001b[0m 209ms/step - accuracy: 0.6307 - loss: 0.1638 - val_accuracy: 0.6670 - val_loss: 0.1588 - learning_rate: 3.0000e-06\n",
      "Epoch 15/50\n",
      "\u001b[1m354/354\u001b[0m \u001b[32m━━━━━━━━━━━━━━━━━━━━\u001b[0m\u001b[37m\u001b[0m \u001b[1m74s\u001b[0m 209ms/step - accuracy: 0.6436 - loss: 0.1621 - val_accuracy: 0.6696 - val_loss: 0.1575 - learning_rate: 3.0000e-06\n",
      "Epoch 16/50\n",
      "\u001b[1m354/354\u001b[0m \u001b[32m━━━━━━━━━━━━━━━━━━━━\u001b[0m\u001b[37m\u001b[0m \u001b[1m74s\u001b[0m 209ms/step - accuracy: 0.6544 - loss: 0.1580 - val_accuracy: 0.6466 - val_loss: 0.1580 - learning_rate: 3.0000e-06\n",
      "Epoch 17/50\n",
      "\u001b[1m354/354\u001b[0m \u001b[32m━━━━━━━━━━━━━━━━━━━━\u001b[0m\u001b[37m\u001b[0m \u001b[1m74s\u001b[0m 209ms/step - accuracy: 0.6684 - loss: 0.1548 - val_accuracy: 0.6776 - val_loss: 0.1545 - learning_rate: 3.0000e-06\n",
      "Epoch 18/50\n",
      "\u001b[1m354/354\u001b[0m \u001b[32m━━━━━━━━━━━━━━━━━━━━\u001b[0m\u001b[37m\u001b[0m \u001b[1m74s\u001b[0m 210ms/step - accuracy: 0.6773 - loss: 0.1536 - val_accuracy: 0.5698 - val_loss: 0.1770 - learning_rate: 3.0000e-06\n",
      "Epoch 19/50\n",
      "\u001b[1m354/354\u001b[0m \u001b[32m━━━━━━━━━━━━━━━━━━━━\u001b[0m\u001b[37m\u001b[0m \u001b[1m74s\u001b[0m 209ms/step - accuracy: 0.6629 - loss: 0.1563 - val_accuracy: 0.6352 - val_loss: 0.1637 - learning_rate: 3.0000e-06\n",
      "Epoch 20/50\n",
      "\u001b[1m354/354\u001b[0m \u001b[32m━━━━━━━━━━━━━━━━━━━━\u001b[0m\u001b[37m\u001b[0m \u001b[1m74s\u001b[0m 209ms/step - accuracy: 0.7078 - loss: 0.1463 - val_accuracy: 0.6731 - val_loss: 0.1547 - learning_rate: 9.0000e-07\n",
      "Epoch 21/50\n",
      "\u001b[1m354/354\u001b[0m \u001b[32m━━━━━━━━━━━━━━━━━━━━\u001b[0m\u001b[37m\u001b[0m \u001b[1m74s\u001b[0m 210ms/step - accuracy: 0.7009 - loss: 0.1459 - val_accuracy: 0.6723 - val_loss: 0.1543 - learning_rate: 9.0000e-07\n",
      "Epoch 22/50\n",
      "\u001b[1m354/354\u001b[0m \u001b[32m━━━━━━━━━━━━━━━━━━━━\u001b[0m\u001b[37m\u001b[0m \u001b[1m76s\u001b[0m 214ms/step - accuracy: 0.7245 - loss: 0.1441 - val_accuracy: 0.6873 - val_loss: 0.1500 - learning_rate: 9.0000e-07\n",
      "Epoch 23/50\n",
      "\u001b[1m354/354\u001b[0m \u001b[32m━━━━━━━━━━━━━━━━━━━━\u001b[0m\u001b[37m\u001b[0m \u001b[1m76s\u001b[0m 214ms/step - accuracy: 0.7186 - loss: 0.1431 - val_accuracy: 0.6890 - val_loss: 0.1491 - learning_rate: 9.0000e-07\n",
      "Epoch 24/50\n",
      "\u001b[1m354/354\u001b[0m \u001b[32m━━━━━━━━━━━━━━━━━━━━\u001b[0m\u001b[37m\u001b[0m \u001b[1m74s\u001b[0m 209ms/step - accuracy: 0.7077 - loss: 0.1450 - val_accuracy: 0.6908 - val_loss: 0.1507 - learning_rate: 9.0000e-07\n",
      "Epoch 25/50\n",
      "\u001b[1m354/354\u001b[0m \u001b[32m━━━━━━━━━━━━━━━━━━━━\u001b[0m\u001b[37m\u001b[0m \u001b[1m74s\u001b[0m 210ms/step - accuracy: 0.7342 - loss: 0.1399 - val_accuracy: 0.6846 - val_loss: 0.1508 - learning_rate: 9.0000e-07\n",
      "Epoch 26/50\n",
      "\u001b[1m354/354\u001b[0m \u001b[32m━━━━━━━━━━━━━━━━━━━━\u001b[0m\u001b[37m\u001b[0m \u001b[1m74s\u001b[0m 210ms/step - accuracy: 0.7280 - loss: 0.1408 - val_accuracy: 0.6855 - val_loss: 0.1544 - learning_rate: 2.7000e-07\n",
      "Epoch 27/50\n",
      "\u001b[1m354/354\u001b[0m \u001b[32m━━━━━━━━━━━━━━━━━━━━\u001b[0m\u001b[37m\u001b[0m \u001b[1m74s\u001b[0m 209ms/step - accuracy: 0.7334 - loss: 0.1384 - val_accuracy: 0.6908 - val_loss: 0.1508 - learning_rate: 2.7000e-07\n",
      "Epoch 28/50\n",
      "\u001b[1m354/354\u001b[0m \u001b[32m━━━━━━━━━━━━━━━━━━━━\u001b[0m\u001b[37m\u001b[0m \u001b[1m74s\u001b[0m 210ms/step - accuracy: 0.7461 - loss: 0.1353 - val_accuracy: 0.6882 - val_loss: 0.1524 - learning_rate: 1.0000e-07\n",
      "Best current val:0.14912205934524536\n",
      "Training iteration 3/5\n",
      "Epoch 1/50\n",
      "\u001b[1m354/354\u001b[0m \u001b[32m━━━━━━━━━━━━━━━━━━━━\u001b[0m\u001b[37m\u001b[0m \u001b[1m82s\u001b[0m 218ms/step - accuracy: 0.5158 - loss: 0.1924 - val_accuracy: 0.5813 - val_loss: 0.1718 - learning_rate: 1.0000e-05\n",
      "Epoch 2/50\n",
      "\u001b[1m354/354\u001b[0m \u001b[32m━━━━━━━━━━━━━━━━━━━━\u001b[0m\u001b[37m\u001b[0m \u001b[1m74s\u001b[0m 208ms/step - accuracy: 0.4907 - loss: 0.1738 - val_accuracy: 0.5636 - val_loss: 0.1731 - learning_rate: 1.0000e-05\n",
      "Epoch 3/50\n",
      "\u001b[1m354/354\u001b[0m \u001b[32m━━━━━━━━━━━━━━━━━━━━\u001b[0m\u001b[37m\u001b[0m \u001b[1m74s\u001b[0m 208ms/step - accuracy: 0.5338 - loss: 0.1728 - val_accuracy: 0.5919 - val_loss: 0.1720 - learning_rate: 1.0000e-05\n",
      "Epoch 4/50\n",
      "\u001b[1m354/354\u001b[0m \u001b[32m━━━━━━━━━━━━━━━━━━━━\u001b[0m\u001b[37m\u001b[0m \u001b[1m74s\u001b[0m 208ms/step - accuracy: 0.5370 - loss: 0.1726 - val_accuracy: 0.5230 - val_loss: 0.1731 - learning_rate: 3.0000e-06\n",
      "Epoch 5/50\n",
      "\u001b[1m354/354\u001b[0m \u001b[32m━━━━━━━━━━━━━━━━━━━━\u001b[0m\u001b[37m\u001b[0m \u001b[1m74s\u001b[0m 208ms/step - accuracy: 0.5301 - loss: 0.1724 - val_accuracy: 0.4973 - val_loss: 0.1739 - learning_rate: 3.0000e-06\n",
      "Epoch 6/50\n",
      "\u001b[1m354/354\u001b[0m \u001b[32m━━━━━━━━━━━━━━━━━━━━\u001b[0m\u001b[37m\u001b[0m \u001b[1m74s\u001b[0m 208ms/step - accuracy: 0.5310 - loss: 0.1718 - val_accuracy: 0.5636 - val_loss: 0.1711 - learning_rate: 9.0000e-07\n",
      "Epoch 7/50\n",
      "\u001b[1m354/354\u001b[0m \u001b[32m━━━━━━━━━━━━━━━━━━━━\u001b[0m\u001b[37m\u001b[0m \u001b[1m74s\u001b[0m 209ms/step - accuracy: 0.5652 - loss: 0.1703 - val_accuracy: 0.6042 - val_loss: 0.1689 - learning_rate: 9.0000e-07\n",
      "Epoch 8/50\n",
      "\u001b[1m354/354\u001b[0m \u001b[32m━━━━━━━━━━━━━━━━━━━━\u001b[0m\u001b[37m\u001b[0m \u001b[1m74s\u001b[0m 209ms/step - accuracy: 0.5566 - loss: 0.1708 - val_accuracy: 0.6095 - val_loss: 0.1690 - learning_rate: 9.0000e-07\n",
      "Epoch 9/50\n",
      "\u001b[1m354/354\u001b[0m \u001b[32m━━━━━━━━━━━━━━━━━━━━\u001b[0m\u001b[37m\u001b[0m \u001b[1m74s\u001b[0m 208ms/step - accuracy: 0.5939 - loss: 0.1693 - val_accuracy: 0.5724 - val_loss: 0.1704 - learning_rate: 9.0000e-07\n",
      "Epoch 10/50\n",
      "\u001b[1m354/354\u001b[0m \u001b[32m━━━━━━━━━━━━━━━━━━━━\u001b[0m\u001b[37m\u001b[0m \u001b[1m74s\u001b[0m 209ms/step - accuracy: 0.5799 - loss: 0.1695 - val_accuracy: 0.6060 - val_loss: 0.1683 - learning_rate: 2.7000e-07\n",
      "Epoch 11/50\n",
      "\u001b[1m354/354\u001b[0m \u001b[32m━━━━━━━━━━━━━━━━━━━━\u001b[0m\u001b[37m\u001b[0m \u001b[1m74s\u001b[0m 209ms/step - accuracy: 0.5806 - loss: 0.1692 - val_accuracy: 0.6140 - val_loss: 0.1681 - learning_rate: 2.7000e-07\n",
      "Epoch 12/50\n",
      "\u001b[1m354/354\u001b[0m \u001b[32m━━━━━━━━━━━━━━━━━━━━\u001b[0m\u001b[37m\u001b[0m \u001b[1m74s\u001b[0m 208ms/step - accuracy: 0.5940 - loss: 0.1687 - val_accuracy: 0.6060 - val_loss: 0.1681 - learning_rate: 2.7000e-07\n",
      "Epoch 13/50\n",
      "\u001b[1m354/354\u001b[0m \u001b[32m━━━━━━━━━━━━━━━━━━━━\u001b[0m\u001b[37m\u001b[0m \u001b[1m74s\u001b[0m 209ms/step - accuracy: 0.6027 - loss: 0.1674 - val_accuracy: 0.5866 - val_loss: 0.1699 - learning_rate: 2.7000e-07\n",
      "Epoch 14/50\n",
      "\u001b[1m354/354\u001b[0m \u001b[32m━━━━━━━━━━━━━━━━━━━━\u001b[0m\u001b[37m\u001b[0m \u001b[1m74s\u001b[0m 209ms/step - accuracy: 0.5846 - loss: 0.1679 - val_accuracy: 0.6104 - val_loss: 0.1683 - learning_rate: 1.0000e-07\n",
      "Epoch 15/50\n",
      "\u001b[1m354/354\u001b[0m \u001b[32m━━━━━━━━━━━━━━━━━━━━\u001b[0m\u001b[37m\u001b[0m \u001b[1m74s\u001b[0m 209ms/step - accuracy: 0.5960 - loss: 0.1676 - val_accuracy: 0.6113 - val_loss: 0.1678 - learning_rate: 1.0000e-07\n",
      "Epoch 16/50\n",
      "\u001b[1m354/354\u001b[0m \u001b[32m━━━━━━━━━━━━━━━━━━━━\u001b[0m\u001b[37m\u001b[0m \u001b[1m74s\u001b[0m 209ms/step - accuracy: 0.6023 - loss: 0.1679 - val_accuracy: 0.6201 - val_loss: 0.1672 - learning_rate: 1.0000e-07\n",
      "Epoch 17/50\n",
      "\u001b[1m354/354\u001b[0m \u001b[32m━━━━━━━━━━━━━━━━━━━━\u001b[0m\u001b[37m\u001b[0m \u001b[1m74s\u001b[0m 209ms/step - accuracy: 0.6112 - loss: 0.1680 - val_accuracy: 0.6254 - val_loss: 0.1670 - learning_rate: 1.0000e-07\n",
      "Epoch 18/50\n",
      "\u001b[1m354/354\u001b[0m \u001b[32m━━━━━━━━━━━━━━━━━━━━\u001b[0m\u001b[37m\u001b[0m \u001b[1m74s\u001b[0m 209ms/step - accuracy: 0.5946 - loss: 0.1673 - val_accuracy: 0.6140 - val_loss: 0.1677 - learning_rate: 1.0000e-07\n",
      "Epoch 20/50\n",
      "\u001b[1m354/354\u001b[0m \u001b[32m━━━━━━━━━━━━━━━━━━━━\u001b[0m\u001b[37m\u001b[0m \u001b[1m74s\u001b[0m 209ms/step - accuracy: 0.5923 - loss: 0.1677 - val_accuracy: 0.6193 - val_loss: 0.1671 - learning_rate: 1.0000e-07\n",
      "Epoch 21/50\n",
      "\u001b[1m354/354\u001b[0m \u001b[32m━━━━━━━━━━━━━━━━━━━━\u001b[0m\u001b[37m\u001b[0m \u001b[1m74s\u001b[0m 209ms/step - accuracy: 0.6052 - loss: 0.1677 - val_accuracy: 0.6299 - val_loss: 0.1665 - learning_rate: 1.0000e-07\n",
      "Epoch 22/50\n",
      "\u001b[1m354/354\u001b[0m \u001b[32m━━━━━━━━━━━━━━━━━━━━\u001b[0m\u001b[37m\u001b[0m \u001b[1m74s\u001b[0m 209ms/step - accuracy: 0.5883 - loss: 0.1692 - val_accuracy: 0.6246 - val_loss: 0.1667 - learning_rate: 1.0000e-07\n",
      "Epoch 23/50\n",
      "\u001b[1m354/354\u001b[0m \u001b[32m━━━━━━━━━━━━━━━━━━━━\u001b[0m\u001b[37m\u001b[0m \u001b[1m74s\u001b[0m 209ms/step - accuracy: 0.5915 - loss: 0.1688 - val_accuracy: 0.6307 - val_loss: 0.1658 - learning_rate: 1.0000e-07\n",
      "Epoch 24/50\n",
      "\u001b[1m354/354\u001b[0m \u001b[32m━━━━━━━━━━━━━━━━━━━━\u001b[0m\u001b[37m\u001b[0m \u001b[1m74s\u001b[0m 209ms/step - accuracy: 0.5828 - loss: 0.1697 - val_accuracy: 0.6237 - val_loss: 0.1666 - learning_rate: 1.0000e-07\n",
      "Epoch 25/50\n",
      "\u001b[1m354/354\u001b[0m \u001b[32m━━━━━━━━━━━━━━━━━━━━\u001b[0m\u001b[37m\u001b[0m \u001b[1m74s\u001b[0m 209ms/step - accuracy: 0.5984 - loss: 0.1677 - val_accuracy: 0.6299 - val_loss: 0.1661 - learning_rate: 1.0000e-07\n",
      "Epoch 26/50\n",
      "\u001b[1m354/354\u001b[0m \u001b[32m━━━━━━━━━━━━━━━━━━━━\u001b[0m\u001b[37m\u001b[0m \u001b[1m74s\u001b[0m 209ms/step - accuracy: 0.5969 - loss: 0.1679 - val_accuracy: 0.6263 - val_loss: 0.1665 - learning_rate: 1.0000e-07\n",
      "Epoch 27/50\n",
      "\u001b[1m354/354\u001b[0m \u001b[32m━━━━━━━━━━━━━━━━━━━━\u001b[0m\u001b[37m\u001b[0m \u001b[1m74s\u001b[0m 209ms/step - accuracy: 0.5953 - loss: 0.1675 - val_accuracy: 0.6334 - val_loss: 0.1657 - learning_rate: 1.0000e-07\n",
      "Epoch 28/50\n",
      "\u001b[1m354/354\u001b[0m \u001b[32m━━━━━━━━━━━━━━━━━━━━\u001b[0m\u001b[37m\u001b[0m \u001b[1m74s\u001b[0m 209ms/step - accuracy: 0.6062 - loss: 0.1675 - val_accuracy: 0.6316 - val_loss: 0.1658 - learning_rate: 1.0000e-07\n",
      "Epoch 29/50\n",
      "\u001b[1m354/354\u001b[0m \u001b[32m━━━━━━━━━━━━━━━━━━━━\u001b[0m\u001b[37m\u001b[0m \u001b[1m74s\u001b[0m 209ms/step - accuracy: 0.6085 - loss: 0.1675 - val_accuracy: 0.6281 - val_loss: 0.1658 - learning_rate: 1.0000e-07\n",
      "Epoch 30/50\n",
      "\u001b[1m354/354\u001b[0m \u001b[32m━━━━━━━━━━━━━━━━━━━━\u001b[0m\u001b[37m\u001b[0m \u001b[1m74s\u001b[0m 209ms/step - accuracy: 0.5913 - loss: 0.1686 - val_accuracy: 0.6334 - val_loss: 0.1653 - learning_rate: 1.0000e-07\n",
      "Epoch 31/50\n",
      "\u001b[1m354/354\u001b[0m \u001b[32m━━━━━━━━━━━━━━━━━━━━\u001b[0m\u001b[37m\u001b[0m \u001b[1m74s\u001b[0m 209ms/step - accuracy: 0.6138 - loss: 0.1659 - val_accuracy: 0.6290 - val_loss: 0.1661 - learning_rate: 1.0000e-07\n",
      "Epoch 32/50\n",
      "\u001b[1m354/354\u001b[0m \u001b[32m━━━━━━━━━━━━━━━━━━━━\u001b[0m\u001b[37m\u001b[0m \u001b[1m74s\u001b[0m 209ms/step - accuracy: 0.6005 - loss: 0.1670 - val_accuracy: 0.6360 - val_loss: 0.1654 - learning_rate: 1.0000e-07\n",
      "Epoch 33/50\n",
      "\u001b[1m354/354\u001b[0m \u001b[32m━━━━━━━━━━━━━━━━━━━━\u001b[0m\u001b[37m\u001b[0m \u001b[1m74s\u001b[0m 209ms/step - accuracy: 0.6173 - loss: 0.1655 - val_accuracy: 0.6343 - val_loss: 0.1665 - learning_rate: 1.0000e-07\n",
      "Epoch 34/50\n",
      "\u001b[1m354/354\u001b[0m \u001b[32m━━━━━━━━━━━━━━━━━━━━\u001b[0m\u001b[37m\u001b[0m \u001b[1m74s\u001b[0m 209ms/step - accuracy: 0.6143 - loss: 0.1663 - val_accuracy: 0.6316 - val_loss: 0.1651 - learning_rate: 1.0000e-07\n",
      "Epoch 35/50\n",
      "\u001b[1m354/354\u001b[0m \u001b[32m━━━━━━━━━━━━━━━━━━━━\u001b[0m\u001b[37m\u001b[0m \u001b[1m74s\u001b[0m 209ms/step - accuracy: 0.5981 - loss: 0.1673 - val_accuracy: 0.6316 - val_loss: 0.1660 - learning_rate: 1.0000e-07\n",
      "Epoch 36/50\n",
      "\u001b[1m354/354\u001b[0m \u001b[32m━━━━━━━━━━━━━━━━━━━━\u001b[0m\u001b[37m\u001b[0m \u001b[1m74s\u001b[0m 209ms/step - accuracy: 0.6160 - loss: 0.1663 - val_accuracy: 0.6343 - val_loss: 0.1647 - learning_rate: 1.0000e-07\n",
      "Epoch 37/50\n",
      "\u001b[1m354/354\u001b[0m \u001b[32m━━━━━━━━━━━━━━━━━━━━\u001b[0m\u001b[37m\u001b[0m \u001b[1m74s\u001b[0m 209ms/step - accuracy: 0.6144 - loss: 0.1654 - val_accuracy: 0.6316 - val_loss: 0.1657 - learning_rate: 1.0000e-07\n",
      "Epoch 38/50\n",
      "\u001b[1m354/354\u001b[0m \u001b[32m━━━━━━━━━━━━━━━━━━━━\u001b[0m\u001b[37m\u001b[0m \u001b[1m74s\u001b[0m 209ms/step - accuracy: 0.6252 - loss: 0.1647 - val_accuracy: 0.6352 - val_loss: 0.1653 - learning_rate: 1.0000e-07\n",
      "Epoch 39/50\n",
      "\u001b[1m354/354\u001b[0m \u001b[32m━━━━━━━━━━━━━━━━━━━━\u001b[0m\u001b[37m\u001b[0m \u001b[1m74s\u001b[0m 209ms/step - accuracy: 0.6124 - loss: 0.1654 - val_accuracy: 0.6378 - val_loss: 0.1652 - learning_rate: 1.0000e-07\n",
      "Epoch 40/50\n",
      "\u001b[1m354/354\u001b[0m \u001b[32m━━━━━━━━━━━━━━━━━━━━\u001b[0m\u001b[37m\u001b[0m \u001b[1m74s\u001b[0m 209ms/step - accuracy: 0.6249 - loss: 0.1654 - val_accuracy: 0.6378 - val_loss: 0.1652 - learning_rate: 1.0000e-07\n",
      "Epoch 41/50\n",
      "\u001b[1m354/354\u001b[0m \u001b[32m━━━━━━━━━━━━━━━━━━━━\u001b[0m\u001b[37m\u001b[0m \u001b[1m74s\u001b[0m 209ms/step - accuracy: 0.6158 - loss: 0.1662 - val_accuracy: 0.6422 - val_loss: 0.1648 - learning_rate: 1.0000e-07\n",
      "Training iteration 4/5\n",
      "Epoch 1/50\n",
      "\u001b[1m354/354\u001b[0m \u001b[32m━━━━━━━━━━━━━━━━━━━━\u001b[0m\u001b[37m\u001b[0m \u001b[1m81s\u001b[0m 218ms/step - accuracy: 0.5024 - loss: 0.1894 - val_accuracy: 0.4187 - val_loss: 0.1736 - learning_rate: 1.0000e-05\n",
      "Epoch 2/50\n",
      "\u001b[1m354/354\u001b[0m \u001b[32m━━━━━━━━━━━━━━━━━━━━\u001b[0m\u001b[37m\u001b[0m \u001b[1m74s\u001b[0m 208ms/step - accuracy: 0.4863 - loss: 0.1733 - val_accuracy: 0.5892 - val_loss: 0.1732 - learning_rate: 1.0000e-05\n",
      "Epoch 3/50\n",
      "\u001b[1m354/354\u001b[0m \u001b[32m━━━━━━━━━━━━━━━━━━━━\u001b[0m\u001b[37m\u001b[0m \u001b[1m74s\u001b[0m 208ms/step - accuracy: 0.5127 - loss: 0.1734 - val_accuracy: 0.5822 - val_loss: 0.1726 - learning_rate: 1.0000e-05\n",
      "Epoch 4/50\n",
      "\u001b[1m354/354\u001b[0m \u001b[32m━━━━━━━━━━━━━━━━━━━━\u001b[0m\u001b[37m\u001b[0m \u001b[1m74s\u001b[0m 208ms/step - accuracy: 0.5472 - loss: 0.1730 - val_accuracy: 0.4187 - val_loss: 0.1743 - learning_rate: 1.0000e-05\n",
      "Epoch 5/50\n",
      "\u001b[1m354/354\u001b[0m \u001b[32m━━━━━━━━━━━━━━━━━━━━\u001b[0m\u001b[37m\u001b[0m \u001b[1m74s\u001b[0m 208ms/step - accuracy: 0.5116 - loss: 0.1731 - val_accuracy: 0.5875 - val_loss: 0.1724 - learning_rate: 1.0000e-05\n",
      "Epoch 6/50\n",
      "\u001b[1m354/354\u001b[0m \u001b[32m━━━━━━━━━━━━━━━━━━━━\u001b[0m\u001b[37m\u001b[0m \u001b[1m74s\u001b[0m 208ms/step - accuracy: 0.5286 - loss: 0.1731 - val_accuracy: 0.5362 - val_loss: 0.1729 - learning_rate: 1.0000e-05\n",
      "Epoch 7/50\n",
      "\u001b[1m354/354\u001b[0m \u001b[32m━━━━━━━━━━━━━━━━━━━━\u001b[0m\u001b[37m\u001b[0m \u001b[1m74s\u001b[0m 209ms/step - accuracy: 0.5289 - loss: 0.1720 - val_accuracy: 0.4912 - val_loss: 0.1740 - learning_rate: 1.0000e-05\n",
      "Epoch 8/50\n",
      "\u001b[1m354/354\u001b[0m \u001b[32m━━━━━━━━━━━━━━━━━━━━\u001b[0m\u001b[37m\u001b[0m \u001b[1m74s\u001b[0m 209ms/step - accuracy: 0.5425 - loss: 0.1714 - val_accuracy: 0.5945 - val_loss: 0.1698 - learning_rate: 3.0000e-06\n",
      "Epoch 9/50\n",
      "\u001b[1m354/354\u001b[0m \u001b[32m━━━━━━━━━━━━━━━━━━━━\u001b[0m\u001b[37m\u001b[0m \u001b[1m74s\u001b[0m 209ms/step - accuracy: 0.5619 - loss: 0.1711 - val_accuracy: 0.5618 - val_loss: 0.1716 - learning_rate: 3.0000e-06\n",
      "Epoch 10/50\n",
      "\u001b[1m354/354\u001b[0m \u001b[32m━━━━━━━━━━━━━━━━━━━━\u001b[0m\u001b[37m\u001b[0m \u001b[1m74s\u001b[0m 209ms/step - accuracy: 0.5477 - loss: 0.1716 - val_accuracy: 0.5698 - val_loss: 0.1699 - learning_rate: 3.0000e-06\n",
      "Epoch 11/50\n",
      "\u001b[1m354/354\u001b[0m \u001b[32m━━━━━━━━━━━━━━━━━━━━\u001b[0m\u001b[37m\u001b[0m \u001b[1m74s\u001b[0m 209ms/step - accuracy: 0.5625 - loss: 0.1703 - val_accuracy: 0.5998 - val_loss: 0.1679 - learning_rate: 9.0000e-07\n",
      "Epoch 12/50\n",
      "\u001b[1m354/354\u001b[0m \u001b[32m━━━━━━━━━━━━━━━━━━━━\u001b[0m\u001b[37m\u001b[0m \u001b[1m74s\u001b[0m 209ms/step - accuracy: 0.5747 - loss: 0.1699 - val_accuracy: 0.5751 - val_loss: 0.1690 - learning_rate: 9.0000e-07\n",
      "Epoch 13/50\n",
      "\u001b[1m354/354\u001b[0m \u001b[32m━━━━━━━━━━━━━━━━━━━━\u001b[0m\u001b[37m\u001b[0m \u001b[1m74s\u001b[0m 209ms/step - accuracy: 0.5941 - loss: 0.1680 - val_accuracy: 0.6299 - val_loss: 0.1657 - learning_rate: 9.0000e-07\n",
      "Epoch 14/50\n",
      "\u001b[1m354/354\u001b[0m \u001b[32m━━━━━━━━━━━━━━━━━━━━\u001b[0m\u001b[37m\u001b[0m \u001b[1m74s\u001b[0m 210ms/step - accuracy: 0.6002 - loss: 0.1671 - val_accuracy: 0.6281 - val_loss: 0.1652 - learning_rate: 9.0000e-07\n",
      "Epoch 15/50\n",
      "\u001b[1m354/354\u001b[0m \u001b[32m━━━━━━━━━━━━━━━━━━━━\u001b[0m\u001b[37m\u001b[0m \u001b[1m74s\u001b[0m 210ms/step - accuracy: 0.6089 - loss: 0.1657 - val_accuracy: 0.6290 - val_loss: 0.1642 - learning_rate: 9.0000e-07\n",
      "Epoch 16/50\n",
      "\u001b[1m354/354\u001b[0m \u001b[32m━━━━━━━━━━━━━━━━━━━━\u001b[0m\u001b[37m\u001b[0m \u001b[1m74s\u001b[0m 210ms/step - accuracy: 0.6073 - loss: 0.1649 - val_accuracy: 0.6210 - val_loss: 0.1645 - learning_rate: 9.0000e-07\n",
      "Epoch 17/50\n",
      "\u001b[1m354/354\u001b[0m \u001b[32m━━━━━━━━━━━━━━━━━━━━\u001b[0m\u001b[37m\u001b[0m \u001b[1m74s\u001b[0m 209ms/step - accuracy: 0.6237 - loss: 0.1629 - val_accuracy: 0.6184 - val_loss: 0.1645 - learning_rate: 9.0000e-07\n",
      "Epoch 18/50\n",
      "\u001b[1m354/354\u001b[0m \u001b[32m━━━━━━━━━━━━━━━━━━━━\u001b[0m\u001b[37m\u001b[0m \u001b[1m74s\u001b[0m 210ms/step - accuracy: 0.6231 - loss: 0.1631 - val_accuracy: 0.6263 - val_loss: 0.1633 - learning_rate: 2.7000e-07\n",
      "Epoch 19/50\n",
      "\u001b[1m354/354\u001b[0m \u001b[32m━━━━━━━━━━━━━━━━━━━━\u001b[0m\u001b[37m\u001b[0m \u001b[1m74s\u001b[0m 210ms/step - accuracy: 0.6358 - loss: 0.1608 - val_accuracy: 0.6564 - val_loss: 0.1611 - learning_rate: 2.7000e-07\n",
      "Epoch 20/50\n",
      "\u001b[1m354/354\u001b[0m \u001b[32m━━━━━━━━━━━━━━━━━━━━\u001b[0m\u001b[37m\u001b[0m \u001b[1m74s\u001b[0m 210ms/step - accuracy: 0.6380 - loss: 0.1618 - val_accuracy: 0.6670 - val_loss: 0.1604 - learning_rate: 2.7000e-07\n",
      "Epoch 21/50\n",
      "\u001b[1m354/354\u001b[0m \u001b[32m━━━━━━━━━━━━━━━━━━━━\u001b[0m\u001b[37m\u001b[0m \u001b[1m74s\u001b[0m 210ms/step - accuracy: 0.6405 - loss: 0.1614 - val_accuracy: 0.6475 - val_loss: 0.1613 - learning_rate: 2.7000e-07\n",
      "Epoch 22/50\n",
      "\u001b[1m354/354\u001b[0m \u001b[32m━━━━━━━━━━━━━━━━━━━━\u001b[0m\u001b[37m\u001b[0m \u001b[1m74s\u001b[0m 210ms/step - accuracy: 0.6531 - loss: 0.1606 - val_accuracy: 0.6299 - val_loss: 0.1628 - learning_rate: 2.7000e-07\n",
      "Epoch 23/50\n",
      "\u001b[1m354/354\u001b[0m \u001b[32m━━━━━━━━━━━━━━━━━━━━\u001b[0m\u001b[37m\u001b[0m \u001b[1m74s\u001b[0m 209ms/step - accuracy: 0.6426 - loss: 0.1603 - val_accuracy: 0.6528 - val_loss: 0.1608 - learning_rate: 1.0000e-07\n",
      "Epoch 24/50\n",
      "\u001b[1m354/354\u001b[0m \u001b[32m━━━━━━━━━━━━━━━━━━━━\u001b[0m\u001b[37m\u001b[0m \u001b[1m74s\u001b[0m 210ms/step - accuracy: 0.6489 - loss: 0.1613 - val_accuracy: 0.6458 - val_loss: 0.1612 - learning_rate: 1.0000e-07\n",
      "Epoch 25/50\n",
      "\u001b[1m354/354\u001b[0m \u001b[32m━━━━━━━━━━━━━━━━━━━━\u001b[0m\u001b[37m\u001b[0m \u001b[1m74s\u001b[0m 210ms/step - accuracy: 0.6446 - loss: 0.1616 - val_accuracy: 0.6572 - val_loss: 0.1607 - learning_rate: 1.0000e-07\n",
      "Training iteration 5/5\n",
      "Epoch 1/50\n",
      "\u001b[1m354/354\u001b[0m \u001b[32m━━━━━━━━━━━━━━━━━━━━\u001b[0m\u001b[37m\u001b[0m \u001b[1m82s\u001b[0m 218ms/step - accuracy: 0.4939 - loss: 0.1907 - val_accuracy: 0.5274 - val_loss: 0.1733 - learning_rate: 1.0000e-05\n",
      "Epoch 2/50\n",
      "\u001b[1m354/354\u001b[0m \u001b[32m━━━━━━━━━━━━━━━━━━━━\u001b[0m\u001b[37m\u001b[0m \u001b[1m74s\u001b[0m 208ms/step - accuracy: 0.5039 - loss: 0.1736 - val_accuracy: 0.5830 - val_loss: 0.1732 - learning_rate: 1.0000e-05\n",
      "Epoch 3/50\n",
      "\u001b[1m354/354\u001b[0m \u001b[32m━━━━━━━━━━━━━━━━━━━━\u001b[0m\u001b[37m\u001b[0m \u001b[1m74s\u001b[0m 208ms/step - accuracy: 0.4978 - loss: 0.1739 - val_accuracy: 0.4753 - val_loss: 0.1734 - learning_rate: 1.0000e-05\n",
      "Epoch 4/50\n",
      "\u001b[1m354/354\u001b[0m \u001b[32m━━━━━━━━━━━━━━━━━━━━\u001b[0m\u001b[37m\u001b[0m \u001b[1m74s\u001b[0m 208ms/step - accuracy: 0.5012 - loss: 0.1731 - val_accuracy: 0.5194 - val_loss: 0.1732 - learning_rate: 3.0000e-06\n",
      "Epoch 5/50\n",
      "\u001b[1m354/354\u001b[0m \u001b[32m━━━━━━━━━━━━━━━━━━━━\u001b[0m\u001b[37m\u001b[0m \u001b[1m74s\u001b[0m 209ms/step - accuracy: 0.5110 - loss: 0.1728 - val_accuracy: 0.5486 - val_loss: 0.1729 - learning_rate: 3.0000e-06\n",
      "Epoch 6/50\n",
      "\u001b[1m354/354\u001b[0m \u001b[32m━━━━━━━━━━━━━━━━━━━━\u001b[0m\u001b[37m\u001b[0m \u001b[1m74s\u001b[0m 209ms/step - accuracy: 0.5192 - loss: 0.1725 - val_accuracy: 0.5292 - val_loss: 0.1731 - learning_rate: 3.0000e-06\n",
      "Epoch 7/50\n",
      "\u001b[1m354/354\u001b[0m \u001b[32m━━━━━━━━━━━━━━━━━━━━\u001b[0m\u001b[37m\u001b[0m \u001b[1m74s\u001b[0m 208ms/step - accuracy: 0.5292 - loss: 0.1718 - val_accuracy: 0.5133 - val_loss: 0.1732 - learning_rate: 3.0000e-06\n",
      "Epoch 8/50\n",
      "\u001b[1m354/354\u001b[0m \u001b[32m━━━━━━━━━━━━━━━━━━━━\u001b[0m\u001b[37m\u001b[0m \u001b[1m74s\u001b[0m 209ms/step - accuracy: 0.5517 - loss: 0.1717 - val_accuracy: 0.5459 - val_loss: 0.1728 - learning_rate: 9.0000e-07\n",
      "Epoch 9/50\n",
      "\u001b[1m354/354\u001b[0m \u001b[32m━━━━━━━━━━━━━━━━━━━━\u001b[0m\u001b[37m\u001b[0m \u001b[1m74s\u001b[0m 209ms/step - accuracy: 0.5565 - loss: 0.1715 - val_accuracy: 0.5981 - val_loss: 0.1711 - learning_rate: 9.0000e-07\n",
      "Epoch 10/50\n",
      "\u001b[1m354/354\u001b[0m \u001b[32m━━━━━━━━━━━━━━━━━━━━\u001b[0m\u001b[37m\u001b[0m \u001b[1m74s\u001b[0m 209ms/step - accuracy: 0.5619 - loss: 0.1718 - val_accuracy: 0.6034 - val_loss: 0.1699 - learning_rate: 9.0000e-07\n",
      "Epoch 11/50\n",
      "\u001b[1m354/354\u001b[0m \u001b[32m━━━━━━━━━━━━━━━━━━━━\u001b[0m\u001b[37m\u001b[0m \u001b[1m74s\u001b[0m 209ms/step - accuracy: 0.5628 - loss: 0.1710 - val_accuracy: 0.6060 - val_loss: 0.1689 - learning_rate: 9.0000e-07\n",
      "Epoch 12/50\n",
      "\u001b[1m354/354\u001b[0m \u001b[32m━━━━━━━━━━━━━━━━━━━━\u001b[0m\u001b[37m\u001b[0m \u001b[1m74s\u001b[0m 209ms/step - accuracy: 0.5765 - loss: 0.1700 - val_accuracy: 0.5928 - val_loss: 0.1694 - learning_rate: 9.0000e-07\n",
      "Epoch 13/50\n",
      "\u001b[1m354/354\u001b[0m \u001b[32m━━━━━━━━━━━━━━━━━━━━\u001b[0m\u001b[37m\u001b[0m \u001b[1m74s\u001b[0m 209ms/step - accuracy: 0.5707 - loss: 0.1697 - val_accuracy: 0.6051 - val_loss: 0.1676 - learning_rate: 9.0000e-07\n",
      "Epoch 14/50\n",
      "\u001b[1m354/354\u001b[0m \u001b[32m━━━━━━━━━━━━━━━━━━━━\u001b[0m\u001b[37m\u001b[0m \u001b[1m74s\u001b[0m 209ms/step - accuracy: 0.5996 - loss: 0.1681 - val_accuracy: 0.6396 - val_loss: 0.1656 - learning_rate: 9.0000e-07\n",
      "Epoch 15/50\n",
      "\u001b[1m354/354\u001b[0m \u001b[32m━━━━━━━━━━━━━━━━━━━━\u001b[0m\u001b[37m\u001b[0m \u001b[1m74s\u001b[0m 209ms/step - accuracy: 0.6150 - loss: 0.1658 - val_accuracy: 0.6581 - val_loss: 0.1644 - learning_rate: 9.0000e-07\n",
      "Epoch 16/50\n",
      "\u001b[1m354/354\u001b[0m \u001b[32m━━━━━━━━━━━━━━━━━━━━\u001b[0m\u001b[37m\u001b[0m \u001b[1m74s\u001b[0m 209ms/step - accuracy: 0.6163 - loss: 0.1644 - val_accuracy: 0.6193 - val_loss: 0.1648 - learning_rate: 9.0000e-07\n",
      "Epoch 17/50\n",
      "\u001b[1m354/354\u001b[0m \u001b[32m━━━━━━━━━━━━━━━━━━━━\u001b[0m\u001b[37m\u001b[0m \u001b[1m74s\u001b[0m 209ms/step - accuracy: 0.6257 - loss: 0.1639 - val_accuracy: 0.6564 - val_loss: 0.1622 - learning_rate: 9.0000e-07\n",
      "Epoch 18/50\n",
      "\u001b[1m354/354\u001b[0m \u001b[32m━━━━━━━━━━━━━━━━━━━━\u001b[0m\u001b[37m\u001b[0m \u001b[1m74s\u001b[0m 209ms/step - accuracy: 0.6378 - loss: 0.1620 - val_accuracy: 0.6546 - val_loss: 0.1609 - learning_rate: 9.0000e-07\n",
      "Epoch 19/50\n",
      "\u001b[1m354/354\u001b[0m \u001b[32m━━━━━━━━━━━━━━━━━━━━\u001b[0m\u001b[37m\u001b[0m \u001b[1m74s\u001b[0m 209ms/step - accuracy: 0.6363 - loss: 0.1618 - val_accuracy: 0.6519 - val_loss: 0.1604 - learning_rate: 9.0000e-07\n",
      "Epoch 20/50\n",
      "\u001b[1m354/354\u001b[0m \u001b[32m━━━━━━━━━━━━━━━━━━━━\u001b[0m\u001b[37m\u001b[0m \u001b[1m74s\u001b[0m 209ms/step - accuracy: 0.6430 - loss: 0.1610 - val_accuracy: 0.5857 - val_loss: 0.1695 - learning_rate: 9.0000e-07\n",
      "Epoch 21/50\n",
      "\u001b[1m354/354\u001b[0m \u001b[32m━━━━━━━━━━━━━━━━━━━━\u001b[0m\u001b[37m\u001b[0m \u001b[1m74s\u001b[0m 209ms/step - accuracy: 0.6426 - loss: 0.1606 - val_accuracy: 0.6060 - val_loss: 0.1670 - learning_rate: 9.0000e-07\n",
      "Epoch 22/50\n",
      "\u001b[1m354/354\u001b[0m \u001b[32m━━━━━━━━━━━━━━━━━━━━\u001b[0m\u001b[37m\u001b[0m \u001b[1m74s\u001b[0m 209ms/step - accuracy: 0.6425 - loss: 0.1594 - val_accuracy: 0.6387 - val_loss: 0.1620 - learning_rate: 2.7000e-07\n",
      "Epoch 23/50\n",
      "\u001b[1m354/354\u001b[0m \u001b[32m━━━━━━━━━━━━━━━━━━━━\u001b[0m\u001b[37m\u001b[0m \u001b[1m74s\u001b[0m 209ms/step - accuracy: 0.6548 - loss: 0.1591 - val_accuracy: 0.6272 - val_loss: 0.1632 - learning_rate: 2.7000e-07\n",
      "Epoch 24/50\n",
      "\u001b[1m354/354\u001b[0m \u001b[32m━━━━━━━━━━━━━━━━━━━━\u001b[0m\u001b[37m\u001b[0m \u001b[1m74s\u001b[0m 210ms/step - accuracy: 0.6568 - loss: 0.1572 - val_accuracy: 0.6670 - val_loss: 0.1586 - learning_rate: 1.0000e-07\n",
      "Epoch 25/50\n",
      "\u001b[1m354/354\u001b[0m \u001b[32m━━━━━━━━━━━━━━━━━━━━\u001b[0m\u001b[37m\u001b[0m \u001b[1m74s\u001b[0m 209ms/step - accuracy: 0.6555 - loss: 0.1563 - val_accuracy: 0.6466 - val_loss: 0.1607 - learning_rate: 1.0000e-07\n",
      "Epoch 26/50\n",
      "\u001b[1m354/354\u001b[0m \u001b[32m━━━━━━━━━━━━━━━━━━━━\u001b[0m\u001b[37m\u001b[0m \u001b[1m74s\u001b[0m 210ms/step - accuracy: 0.6602 - loss: 0.1585 - val_accuracy: 0.6581 - val_loss: 0.1598 - learning_rate: 1.0000e-07\n",
      "Epoch 27/50\n",
      "\u001b[1m354/354\u001b[0m \u001b[32m━━━━━━━━━━━━━━━━━━━━\u001b[0m\u001b[37m\u001b[0m \u001b[1m74s\u001b[0m 210ms/step - accuracy: 0.6653 - loss: 0.1575 - val_accuracy: 0.6590 - val_loss: 0.1590 - learning_rate: 1.0000e-07\n",
      "Epoch 28/50\n",
      "\u001b[1m354/354\u001b[0m \u001b[32m━━━━━━━━━━━━━━━━━━━━\u001b[0m\u001b[37m\u001b[0m \u001b[1m74s\u001b[0m 210ms/step - accuracy: 0.6779 - loss: 0.1557 - val_accuracy: 0.6572 - val_loss: 0.1596 - learning_rate: 1.0000e-07\n",
      "Epoch 29/50\n",
      "\u001b[1m354/354\u001b[0m \u001b[32m━━━━━━━━━━━━━━━━━━━━\u001b[0m\u001b[37m\u001b[0m \u001b[1m74s\u001b[0m 210ms/step - accuracy: 0.6672 - loss: 0.1573 - val_accuracy: 0.6564 - val_loss: 0.1596 - learning_rate: 1.0000e-07\n",
      "Training Complete\n"
     ]
    }
   ],
   "source": [
    "import os\n",
    "os.environ['TF_CPP_MIN_LOG_LEVEL'] = '3'\n",
    "import numpy as np\n",
    "import random\n",
    "import datetime\n",
    "import matplotlib.pyplot as plt\n",
    "import pip\n",
    "pip.main(['install','seaborn'])\n",
    "import seaborn as sns\n",
    "from sklearn.metrics import confusion_matrix\n",
    "from sklearn.utils.class_weight import compute_class_weight\n",
    "from keras.applications import DenseNet121, VGG19\n",
    "from keras.models import Model\n",
    "from keras.layers import Dense, Flatten, Dropout, LeakyReLU, GlobalAveragePooling2D, Conv2D, Input\n",
    "from keras.optimizers import Adam\n",
    "from keras.losses import BinaryFocalCrossentropy\n",
    "from keras.callbacks import EarlyStopping, ReduceLROnPlateau, ModelCheckpoint\n",
    "\n",
    "modelclass = 'J'\n",
    "suffix = 'FIN'\n",
    "iterations = 5\n",
    "iterations2 = 5\n",
    "\n",
    "def CreateModel(learn_rate):\n",
    "    input_tensor = Input(shape=(256, 256, 3))\n",
    "    base_model = VGG19(weights='imagenet', include_top=False, input_shape=(256, 256, 3))\n",
    "\n",
    "    for layer in base_model.layers[:10]:\n",
    "        layer.trainable = False\n",
    "        \n",
    "    x = base_model.output\n",
    "    x = GlobalAveragePooling2D()(x)\n",
    "    x = Dense(1024)(x)\n",
    "    x = LeakyReLU(negative_slope=0.01)(x)\n",
    "    x = Dropout(0.5)(x)\n",
    "    predictions = Dense(1, activation='sigmoid')(x)\n",
    "\n",
    "    model = Model(inputs=base_model.input, outputs=predictions)\n",
    "    model.compile(optimizer=Adam(learning_rate=learn_rate),\n",
    "                  loss=BinaryFocalCrossentropy(),\n",
    "                  metrics=['accuracy'])\n",
    "\n",
    "    return model\n",
    "\n",
    "base_dir = '../../Data/Arrays/'\n",
    "class_dir = 'Converted Arrays/'\n",
    "train_images = np.load(os.path.join(base_dir, 'train_images.npy'))\n",
    "train_labels = np.load(os.path.join(class_dir, f'train_labels_class{modelclass}.npy'))\n",
    "val_images = np.load(os.path.join(base_dir, 'val_images.npy'))\n",
    "val_labels = np.load(os.path.join(class_dir, f'val_labels_class{modelclass}.npy'))\n",
    "\n",
    "if len(train_images.shape) == 3:\n",
    "    train_images = np.expand_dims(train_images, axis=-1)\n",
    "    train_images = np.repeat(train_images, 3, axis=-1)\n",
    "\n",
    "if len(val_images.shape) == 3:\n",
    "    val_images = np.expand_dims(val_images, axis=-1)\n",
    "    val_images = np.repeat(val_images, 3, axis=-1)\n",
    "\n",
    "class_weights = compute_class_weight('balanced', classes=np.unique(train_labels), y=train_labels.flatten())\n",
    "class_weights = {i: class_weights[i] for i in range(len(class_weights))}\n",
    "\n",
    "print(\"Initial class weights:\", class_weights)\n",
    "print(\"Start time: \", datetime.datetime.now())\n",
    "\n",
    "best_model_path = f'Models/class{suffix}{modelclass}temp.keras'\n",
    "model_checkpoint = ModelCheckpoint(best_model_path, monitor='val_loss', save_best_only=True, mode='min')\n",
    "\n",
    "best_val_loss = float('inf')\n",
    "for i in range(iterations):\n",
    "    early_stopping = EarlyStopping(monitor='val_loss', patience=5, restore_best_weights=True)\n",
    "    reduce_lr = ReduceLROnPlateau(monitor='val_loss', factor=0.3, patience=2, min_lr=1e-7)\n",
    "    model = CreateModel(1e-5)\n",
    "    print(f\"Training iteration {i+1}/{iterations}\")\n",
    "    history = model.fit(train_images, train_labels,\n",
    "                        epochs=50,\n",
    "                        batch_size=16,\n",
    "                        validation_data=(val_images, val_labels),\n",
    "                        class_weight=class_weights,\n",
    "                        callbacks=[early_stopping, reduce_lr, model_checkpoint])\n",
    "\n",
    "    model.load_weights(best_model_path)\n",
    "    val_loss = min(history.history['val_loss'])\n",
    "    if val_loss < best_val_loss:\n",
    "        best_val_loss = val_loss\n",
    "        print(f\"Best current val:{best_val_loss}\")\n",
    "        model.save(f'Models/class_{suffix}{modelclass}_overallbest.keras')\n",
    "\n",
    "print(\"Training Complete\")"
   ]
  },
  {
   "cell_type": "code",
   "execution_count": null,
   "id": "b5bd43c1-b11b-4c5c-956e-06e030bd4e1e",
   "metadata": {},
   "outputs": [
    {
     "name": "stderr",
     "output_type": "stream",
     "text": [
      "/opt/conda/lib/python3.11/site-packages/keras/src/saving/saving_lib.py:719: UserWarning: Skipping variable loading for optimizer 'adam', because it has 2 variables whereas the saved optimizer has 46 variables. \n",
      "  saveable.load_own_variables(weights_store.get(inner_path))\n"
     ]
    },
    {
     "name": "stdout",
     "output_type": "stream",
     "text": [
      "Training iteration 1/5\n",
      "Epoch 1/50\n",
      "\u001b[1m354/354\u001b[0m \u001b[32m━━━━━━━━━━━━━━━━━━━━\u001b[0m\u001b[37m\u001b[0m \u001b[1m84s\u001b[0m 223ms/step - accuracy: 0.7117 - loss: 0.1432 - val_accuracy: 0.6908 - val_loss: 0.1512 - learning_rate: 1.0000e-07\n",
      "Epoch 2/50\n",
      "\u001b[1m354/354\u001b[0m \u001b[32m━━━━━━━━━━━━━━━━━━━━\u001b[0m\u001b[37m\u001b[0m \u001b[1m76s\u001b[0m 214ms/step - accuracy: 0.7294 - loss: 0.1403 - val_accuracy: 0.6917 - val_loss: 0.1509 - learning_rate: 1.0000e-07\n",
      "Epoch 3/50\n",
      "\u001b[1m354/354\u001b[0m \u001b[32m━━━━━━━━━━━━━━━━━━━━\u001b[0m\u001b[37m\u001b[0m \u001b[1m74s\u001b[0m 210ms/step - accuracy: 0.7259 - loss: 0.1401 - val_accuracy: 0.6837 - val_loss: 0.1523 - learning_rate: 1.0000e-07\n",
      "Epoch 4/50\n",
      "\u001b[1m354/354\u001b[0m \u001b[32m━━━━━━━━━━━━━━━━━━━━\u001b[0m\u001b[37m\u001b[0m \u001b[1m74s\u001b[0m 210ms/step - accuracy: 0.7367 - loss: 0.1370 - val_accuracy: 0.6829 - val_loss: 0.1524 - learning_rate: 1.0000e-07\n",
      "Epoch 5/50\n",
      "\u001b[1m354/354\u001b[0m \u001b[32m━━━━━━━━━━━━━━━━━━━━\u001b[0m\u001b[37m\u001b[0m \u001b[1m74s\u001b[0m 210ms/step - accuracy: 0.7320 - loss: 0.1377 - val_accuracy: 0.6811 - val_loss: 0.1543 - learning_rate: 1.0000e-07\n",
      "Epoch 6/50\n",
      "\u001b[1m354/354\u001b[0m \u001b[32m━━━━━━━━━━━━━━━━━━━━\u001b[0m\u001b[37m\u001b[0m \u001b[1m74s\u001b[0m 210ms/step - accuracy: 0.7236 - loss: 0.1411 - val_accuracy: 0.6855 - val_loss: 0.1531 - learning_rate: 1.0000e-08\n",
      "Epoch 7/50\n",
      "\u001b[1m354/354\u001b[0m \u001b[32m━━━━━━━━━━━━━━━━━━━━\u001b[0m\u001b[37m\u001b[0m \u001b[1m74s\u001b[0m 210ms/step - accuracy: 0.7254 - loss: 0.1398 - val_accuracy: 0.6829 - val_loss: 0.1526 - learning_rate: 1.0000e-08\n",
      "Best last val:0.15087582170963287\n",
      "Best current val:0.15087582170963287\n",
      "Training iteration 2/5\n",
      "Epoch 1/50\n",
      "\u001b[1m354/354\u001b[0m \u001b[32m━━━━━━━━━━━━━━━━━━━━\u001b[0m\u001b[37m\u001b[0m \u001b[1m82s\u001b[0m 219ms/step - accuracy: 0.7079 - loss: 0.1447 - val_accuracy: 0.6846 - val_loss: 0.1529 - learning_rate: 1.0000e-07\n",
      "Epoch 2/50\n",
      "\u001b[1m354/354\u001b[0m \u001b[32m━━━━━━━━━━━━━━━━━━━━\u001b[0m\u001b[37m\u001b[0m \u001b[1m74s\u001b[0m 210ms/step - accuracy: 0.7289 - loss: 0.1400 - val_accuracy: 0.6846 - val_loss: 0.1519 - learning_rate: 1.0000e-07\n",
      "Epoch 3/50\n",
      "\u001b[1m354/354\u001b[0m \u001b[32m━━━━━━━━━━━━━━━━━━━━\u001b[0m\u001b[37m\u001b[0m \u001b[1m74s\u001b[0m 210ms/step - accuracy: 0.7244 - loss: 0.1411 - val_accuracy: 0.6793 - val_loss: 0.1527 - learning_rate: 1.0000e-07\n",
      "Epoch 4/50\n",
      "\u001b[1m354/354\u001b[0m \u001b[32m━━━━━━━━━━━━━━━━━━━━\u001b[0m\u001b[37m\u001b[0m \u001b[1m74s\u001b[0m 210ms/step - accuracy: 0.7111 - loss: 0.1433 - val_accuracy: 0.6811 - val_loss: 0.1525 - learning_rate: 1.0000e-07\n",
      "Epoch 5/50\n",
      "\u001b[1m354/354\u001b[0m \u001b[32m━━━━━━━━━━━━━━━━━━━━\u001b[0m\u001b[37m\u001b[0m \u001b[1m74s\u001b[0m 210ms/step - accuracy: 0.7183 - loss: 0.1411 - val_accuracy: 0.6829 - val_loss: 0.1538 - learning_rate: 1.0000e-07\n",
      "Epoch 6/50\n",
      "\u001b[1m354/354\u001b[0m \u001b[32m━━━━━━━━━━━━━━━━━━━━\u001b[0m\u001b[37m\u001b[0m \u001b[1m74s\u001b[0m 210ms/step - accuracy: 0.7234 - loss: 0.1383 - val_accuracy: 0.6811 - val_loss: 0.1530 - learning_rate: 1.0000e-08\n",
      "Epoch 7/50\n",
      "\u001b[1m354/354\u001b[0m \u001b[32m━━━━━━━━━━━━━━━━━━━━\u001b[0m\u001b[37m\u001b[0m \u001b[1m74s\u001b[0m 210ms/step - accuracy: 0.7371 - loss: 0.1389 - val_accuracy: 0.6820 - val_loss: 0.1528 - learning_rate: 1.0000e-08\n",
      "Training iteration 3/5\n",
      "Epoch 1/50\n",
      "\u001b[1m354/354\u001b[0m \u001b[32m━━━━━━━━━━━━━━━━━━━━\u001b[0m\u001b[37m\u001b[0m \u001b[1m83s\u001b[0m 223ms/step - accuracy: 0.7292 - loss: 0.1403 - val_accuracy: 0.6890 - val_loss: 0.1507 - learning_rate: 1.0000e-07\n",
      "Epoch 2/50\n",
      "\u001b[1m354/354\u001b[0m \u001b[32m━━━━━━━━━━━━━━━━━━━━\u001b[0m\u001b[37m\u001b[0m \u001b[1m74s\u001b[0m 210ms/step - accuracy: 0.7356 - loss: 0.1414 - val_accuracy: 0.6802 - val_loss: 0.1545 - learning_rate: 1.0000e-07\n",
      "Epoch 3/50\n",
      "\u001b[1m354/354\u001b[0m \u001b[32m━━━━━━━━━━━━━━━━━━━━\u001b[0m\u001b[37m\u001b[0m \u001b[1m74s\u001b[0m 210ms/step - accuracy: 0.7205 - loss: 0.1413 - val_accuracy: 0.6864 - val_loss: 0.1515 - learning_rate: 1.0000e-07\n",
      "Epoch 4/50\n",
      "\u001b[1m354/354\u001b[0m \u001b[32m━━━━━━━━━━━━━━━━━━━━\u001b[0m\u001b[37m\u001b[0m \u001b[1m74s\u001b[0m 210ms/step - accuracy: 0.7279 - loss: 0.1421 - val_accuracy: 0.6829 - val_loss: 0.1525 - learning_rate: 1.0000e-07\n",
      "Epoch 5/50\n",
      "\u001b[1m354/354\u001b[0m \u001b[32m━━━━━━━━━━━━━━━━━━━━\u001b[0m\u001b[37m\u001b[0m \u001b[1m74s\u001b[0m 210ms/step - accuracy: 0.7250 - loss: 0.1388 - val_accuracy: 0.6829 - val_loss: 0.1525 - learning_rate: 1.0000e-08\n",
      "Epoch 6/50\n",
      "\u001b[1m354/354\u001b[0m \u001b[32m━━━━━━━━━━━━━━━━━━━━\u001b[0m\u001b[37m\u001b[0m \u001b[1m74s\u001b[0m 210ms/step - accuracy: 0.7266 - loss: 0.1389 - val_accuracy: 0.6829 - val_loss: 0.1526 - learning_rate: 1.0000e-08\n",
      "Best last val:0.15074248611927032\n",
      "Best current val:0.15074248611927032\n",
      "Training iteration 4/5\n",
      "Epoch 1/50\n",
      "\u001b[1m354/354\u001b[0m \u001b[32m━━━━━━━━━━━━━━━━━━━━\u001b[0m\u001b[37m\u001b[0m \u001b[1m82s\u001b[0m 219ms/step - accuracy: 0.7231 - loss: 0.1407 - val_accuracy: 0.6829 - val_loss: 0.1526 - learning_rate: 1.0000e-07\n",
      "Epoch 2/50\n",
      "\u001b[1m354/354\u001b[0m \u001b[32m━━━━━━━━━━━━━━━━━━━━\u001b[0m\u001b[37m\u001b[0m \u001b[1m74s\u001b[0m 209ms/step - accuracy: 0.7126 - loss: 0.1422 - val_accuracy: 0.6837 - val_loss: 0.1519 - learning_rate: 1.0000e-07\n",
      "Epoch 3/50\n",
      "\u001b[1m354/354\u001b[0m \u001b[32m━━━━━━━━━━━━━━━━━━━━\u001b[0m\u001b[37m\u001b[0m \u001b[1m74s\u001b[0m 210ms/step - accuracy: 0.7311 - loss: 0.1404 - val_accuracy: 0.6811 - val_loss: 0.1542 - learning_rate: 1.0000e-07\n",
      "Epoch 4/50\n",
      "\u001b[1m354/354\u001b[0m \u001b[32m━━━━━━━━━━━━━━━━━━━━\u001b[0m\u001b[37m\u001b[0m \u001b[1m74s\u001b[0m 210ms/step - accuracy: 0.7145 - loss: 0.1410 - val_accuracy: 0.6855 - val_loss: 0.1519 - learning_rate: 1.0000e-07\n",
      "Epoch 5/50\n",
      "\u001b[1m354/354\u001b[0m \u001b[32m━━━━━━━━━━━━━━━━━━━━\u001b[0m\u001b[37m\u001b[0m \u001b[1m74s\u001b[0m 210ms/step - accuracy: 0.7262 - loss: 0.1406 - val_accuracy: 0.6829 - val_loss: 0.1529 - learning_rate: 1.0000e-07\n",
      "Epoch 6/50\n",
      "\u001b[1m354/354\u001b[0m \u001b[32m━━━━━━━━━━━━━━━━━━━━\u001b[0m\u001b[37m\u001b[0m \u001b[1m74s\u001b[0m 210ms/step - accuracy: 0.7288 - loss: 0.1409 - val_accuracy: 0.6829 - val_loss: 0.1526 - learning_rate: 1.0000e-08\n",
      "Epoch 7/50\n",
      "\u001b[1m354/354\u001b[0m \u001b[32m━━━━━━━━━━━━━━━━━━━━\u001b[0m\u001b[37m\u001b[0m \u001b[1m74s\u001b[0m 210ms/step - accuracy: 0.7307 - loss: 0.1386 - val_accuracy: 0.6837 - val_loss: 0.1525 - learning_rate: 1.0000e-08\n",
      "Epoch 8/50\n",
      "\u001b[1m354/354\u001b[0m \u001b[32m━━━━━━━━━━━━━━━━━━━━\u001b[0m\u001b[37m\u001b[0m \u001b[1m74s\u001b[0m 210ms/step - accuracy: 0.7374 - loss: 0.1372 - val_accuracy: 0.6829 - val_loss: 0.1527 - learning_rate: 1.0000e-08\n",
      "Epoch 9/50\n",
      "\u001b[1m354/354\u001b[0m \u001b[32m━━━━━━━━━━━━━━━━━━━━\u001b[0m\u001b[37m\u001b[0m \u001b[1m74s\u001b[0m 210ms/step - accuracy: 0.7289 - loss: 0.1387 - val_accuracy: 0.6829 - val_loss: 0.1527 - learning_rate: 1.0000e-08\n",
      "Training iteration 5/5\n",
      "Epoch 1/50\n",
      "\u001b[1m354/354\u001b[0m \u001b[32m━━━━━━━━━━━━━━━━━━━━\u001b[0m\u001b[37m\u001b[0m \u001b[1m82s\u001b[0m 219ms/step - accuracy: 0.7351 - loss: 0.1390 - val_accuracy: 0.6740 - val_loss: 0.1551 - learning_rate: 1.0000e-07\n",
      "Epoch 2/50\n",
      "\u001b[1m354/354\u001b[0m \u001b[32m━━━━━━━━━━━━━━━━━━━━\u001b[0m\u001b[37m\u001b[0m \u001b[1m74s\u001b[0m 210ms/step - accuracy: 0.7377 - loss: 0.1367 - val_accuracy: 0.6890 - val_loss: 0.1510 - learning_rate: 1.0000e-07\n",
      "Epoch 3/50\n",
      "\u001b[1m354/354\u001b[0m \u001b[32m━━━━━━━━━━━━━━━━━━━━\u001b[0m\u001b[37m\u001b[0m \u001b[1m74s\u001b[0m 210ms/step - accuracy: 0.7268 - loss: 0.1414 - val_accuracy: 0.6802 - val_loss: 0.1543 - learning_rate: 1.0000e-07\n",
      "Epoch 4/50\n",
      "\u001b[1m354/354\u001b[0m \u001b[32m━━━━━━━━━━━━━━━━━━━━\u001b[0m\u001b[37m\u001b[0m \u001b[1m74s\u001b[0m 210ms/step - accuracy: 0.7204 - loss: 0.1419 - val_accuracy: 0.6811 - val_loss: 0.1526 - learning_rate: 1.0000e-07\n",
      "Epoch 5/50\n",
      "\u001b[1m354/354\u001b[0m \u001b[32m━━━━━━━━━━━━━━━━━━━━\u001b[0m\u001b[37m\u001b[0m \u001b[1m74s\u001b[0m 210ms/step - accuracy: 0.7348 - loss: 0.1397 - val_accuracy: 0.6864 - val_loss: 0.1523 - learning_rate: 1.0000e-07\n",
      "Epoch 6/50\n",
      "\u001b[1m354/354\u001b[0m \u001b[32m━━━━━━━━━━━━━━━━━━━━\u001b[0m\u001b[37m\u001b[0m \u001b[1m74s\u001b[0m 210ms/step - accuracy: 0.7337 - loss: 0.1390 - val_accuracy: 0.6837 - val_loss: 0.1525 - learning_rate: 1.0000e-08\n",
      "Epoch 7/50\n",
      "\u001b[1m354/354\u001b[0m \u001b[32m━━━━━━━━━━━━━━━━━━━━\u001b[0m\u001b[37m\u001b[0m \u001b[1m74s\u001b[0m 210ms/step - accuracy: 0.7149 - loss: 0.1405 - val_accuracy: 0.6846 - val_loss: 0.1525 - learning_rate: 1.0000e-08\n"
     ]
    }
   ],
   "source": [
    "best_model_path = f'Models/class{suffix}secondary{modelclass}temp.keras'\n",
    "model_checkpoint = ModelCheckpoint(best_model_path, monitor='val_loss', save_best_only=True, mode='min')\n",
    "best_val_loss = float('inf')\n",
    "for i in range (iterations2):\n",
    "    model = CreateModel(1e-7)\n",
    "    model.load_weights(f'Models/class_{suffix}{modelclass}_overallbest.keras')\n",
    "    early_stopping = EarlyStopping(monitor='val_loss', patience=5, restore_best_weights=True)\n",
    "    reduce_lr = ReduceLROnPlateau(monitor='val_loss', factor=0.1, patience=3, min_lr=1e-8)\n",
    "    \n",
    "    print(f\"Training iteration {i+1}/{iterations2}\")\n",
    "    history = model.fit(train_images, train_labels,\n",
    "                        epochs=50,\n",
    "                        batch_size=16,\n",
    "                        validation_data=(val_images, val_labels),\n",
    "                        class_weight=class_weights,\n",
    "                        callbacks=[early_stopping, reduce_lr, model_checkpoint])\n",
    "\n",
    "    model.load_weights(best_model_path)\n",
    "    val_loss = min(history.history['val_loss'])\n",
    "    if val_loss < best_val_loss:\n",
    "        best_val_loss = val_loss\n",
    "        print(f\"Best last val:{val_loss}\")\n",
    "        print(f\"Best current val:{best_val_loss}\")\n",
    "        model.save(f'Models/class_{suffix}{modelclass}_overallbestFIN.keras')"
   ]
  },
  {
   "cell_type": "code",
   "execution_count": null,
   "id": "8b98208d-c570-4f0a-9e6d-04db78e1617d",
   "metadata": {},
   "outputs": [
    {
     "name": "stdout",
     "output_type": "stream",
     "text": [
      "\u001b[1m24/24\u001b[0m \u001b[32m━━━━━━━━━━━━━━━━━━━━\u001b[0m\u001b[37m\u001b[0m \u001b[1m25s\u001b[0m 546ms/step - accuracy: 0.6567 - loss: 0.1595\n",
      "Test Loss: 0.15638422966003418\n",
      "Test Accuracy: 0.6662251949310303\n"
     ]
    }
   ],
   "source": [
    "\n",
    "test_images = np.load(os.path.join(base_dir, 'test_images.npy'))\n",
    "test_labels = np.load(os.path.join(class_dir, f'test_labels_class{modelclass}.npy'))\n",
    "test_image_names = np.load(os.path.join(base_dir, 'test_image_names.npy'), allow_pickle=True)\n",
    "\n",
    "if len(test_images.shape) == 3:\n",
    "    test_images = np.expand_dims(test_images, axis=-1)\n",
    "    test_images = np.repeat(test_images, 3, axis=-1)\n",
    "\n",
    "test_loss, test_accuracy = model.evaluate(test_images, test_labels, verbose=1)\n",
    "\n",
    "print(f\"Test Loss: {test_loss}\")\n",
    "print(f\"Test Accuracy: {test_accuracy}\")\n",
    "\n",
    "y_pred = model.predict(test_images)\n",
    "y_pred_binary = (y_pred > 0.5).astype(int)\n",
    "\n",
    "cm = confusion_matrix(test_labels, y_pred_binary)\n",
    "plt.figure(figsize=(6, 4))\n",
    "sns.heatmap(cm, annot=True, fmt='d', cmap='Blues', xticklabels=['Negative', 'Positive'], yticklabels=['Negative', 'Positive'])\n",
    "plt.xlabel('Predicted')\n",
    "plt.ylabel('True')\n",
    "plt.title('Confusion Matrix')\n",
    "plt.show()\n",
    "\n",
    "def display_image_with_predictions(image, image_name, actual_label, predicted_label, likelihood):\n",
    "    plt.imshow(image.squeeze(), cmap='gray')\n",
    "    plt.title(f\"Image: {image_name}\\nActual: {actual_label}\\nPredicted: {predicted_label}\\nLikelihood: {likelihood:.4f}\")\n",
    "    plt.axis('off')\n",
    "    plt.show()\n",
    "\n",
    "num_samples = 20\n",
    "indices = random.sample(range(test_images.shape[0]), num_samples)\n",
    "\n",
    "for idx in indices:\n",
    "    image = test_images[idx]\n",
    "    image_name = test_image_names[idx]\n",
    "    actual_label = test_labels[idx][0]\n",
    "    image_expanded = np.expand_dims(image, axis=0)\n",
    "    prediction = model.predict(image_expanded)[0][0]\n",
    "    \n",
    "    threshold = 0.5\n",
    "    predicted_label = int(prediction > threshold)\n",
    "    likelihood = prediction\n",
    "    \n",
    "    display_image_with_predictions(image, image_name, actual_label, predicted_label, likelihood)"
   ]
  },
  {
   "cell_type": "code",
   "execution_count": null,
   "id": "76f6cb33-e36e-464c-872a-2a03584ac325",
   "metadata": {},
   "outputs": [],
   "source": []
  }
 ],
 "metadata": {
  "kernelspec": {
   "display_name": "Python 3 (ipykernel)",
   "language": "python",
   "name": "python3"
  },
  "language_info": {
   "codemirror_mode": {
    "name": "ipython",
    "version": 3
   },
   "file_extension": ".py",
   "mimetype": "text/x-python",
   "name": "python",
   "nbconvert_exporter": "python",
   "pygments_lexer": "ipython3",
   "version": "3.11.11"
  }
 },
 "nbformat": 4,
 "nbformat_minor": 5
}
