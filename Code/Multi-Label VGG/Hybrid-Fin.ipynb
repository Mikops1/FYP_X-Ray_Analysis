{
 "cells": [
  {
   "cell_type": "code",
   "execution_count": 1,
   "id": "05fd7ab0-9370-4970-a49b-9b597c45c208",
   "metadata": {},
   "outputs": [
    {
     "name": "stderr",
     "output_type": "stream",
     "text": [
      "WARNING: pip is being invoked by an old script wrapper. This will fail in a future version of pip.\n",
      "Please see https://github.com/pypa/pip/issues/5599 for advice on fixing the underlying issue.\n",
      "To avoid this problem you can invoke Python with '-m pip' instead of running pip directly.\n"
     ]
    },
    {
     "data": {
      "text/html": [
       "<pre style=\"white-space:pre;overflow-x:auto;line-height:normal;font-family:Menlo,'DejaVu Sans Mono',consolas,'Courier New',monospace\">Requirement already satisfied: seaborn in /opt/conda/lib/python3.11/site-packages (0.13.2)\n",
       "</pre>\n"
      ],
      "text/plain": [
       "Requirement already satisfied: seaborn in /opt/conda/lib/python3.11/site-packages (0.13.2)\n"
      ]
     },
     "metadata": {},
     "output_type": "display_data"
    },
    {
     "data": {
      "text/html": [
       "<pre style=\"white-space:pre;overflow-x:auto;line-height:normal;font-family:Menlo,'DejaVu Sans Mono',consolas,'Courier New',monospace\">Requirement already satisfied: numpy!=1.24.0,&gt;=1.20 in /opt/conda/lib/python3.11/site-packages (from seaborn) (1.26.4)\n",
       "</pre>\n"
      ],
      "text/plain": [
       "Requirement already satisfied: numpy!=1.24.0,>=1.20 in /opt/conda/lib/python3.11/site-packages (from seaborn) (1.26.4)\n"
      ]
     },
     "metadata": {},
     "output_type": "display_data"
    },
    {
     "data": {
      "text/html": [
       "<pre style=\"white-space:pre;overflow-x:auto;line-height:normal;font-family:Menlo,'DejaVu Sans Mono',consolas,'Courier New',monospace\">Requirement already satisfied: pandas&gt;=1.2 in /opt/conda/lib/python3.11/site-packages (from seaborn) (2.2.3)\n",
       "</pre>\n"
      ],
      "text/plain": [
       "Requirement already satisfied: pandas>=1.2 in /opt/conda/lib/python3.11/site-packages (from seaborn) (2.2.3)\n"
      ]
     },
     "metadata": {},
     "output_type": "display_data"
    },
    {
     "data": {
      "text/html": [
       "<pre style=\"white-space:pre;overflow-x:auto;line-height:normal;font-family:Menlo,'DejaVu Sans Mono',consolas,'Courier New',monospace\">Requirement already satisfied: matplotlib!=3.6.1,&gt;=3.4 in /opt/conda/lib/python3.11/site-packages (from seaborn) (3.9.3)\n",
       "</pre>\n"
      ],
      "text/plain": [
       "Requirement already satisfied: matplotlib!=3.6.1,>=3.4 in /opt/conda/lib/python3.11/site-packages (from seaborn) (3.9.3)\n"
      ]
     },
     "metadata": {},
     "output_type": "display_data"
    },
    {
     "data": {
      "text/html": [
       "<pre style=\"white-space:pre;overflow-x:auto;line-height:normal;font-family:Menlo,'DejaVu Sans Mono',consolas,'Courier New',monospace\">Requirement already satisfied: contourpy&gt;=1.0.1 in /opt/conda/lib/python3.11/site-packages (from matplotlib!=3.6.1,&gt;=3.4-&gt;seaborn) (1.3.1)\n",
       "</pre>\n"
      ],
      "text/plain": [
       "Requirement already satisfied: contourpy>=1.0.1 in /opt/conda/lib/python3.11/site-packages (from matplotlib!=3.6.1,>=3.4->seaborn) (1.3.1)\n"
      ]
     },
     "metadata": {},
     "output_type": "display_data"
    },
    {
     "data": {
      "text/html": [
       "<pre style=\"white-space:pre;overflow-x:auto;line-height:normal;font-family:Menlo,'DejaVu Sans Mono',consolas,'Courier New',monospace\">Requirement already satisfied: cycler&gt;=0.10 in /opt/conda/lib/python3.11/site-packages (from matplotlib!=3.6.1,&gt;=3.4-&gt;seaborn) (0.12.1)\n",
       "</pre>\n"
      ],
      "text/plain": [
       "Requirement already satisfied: cycler>=0.10 in /opt/conda/lib/python3.11/site-packages (from matplotlib!=3.6.1,>=3.4->seaborn) (0.12.1)\n"
      ]
     },
     "metadata": {},
     "output_type": "display_data"
    },
    {
     "data": {
      "text/html": [
       "<pre style=\"white-space:pre;overflow-x:auto;line-height:normal;font-family:Menlo,'DejaVu Sans Mono',consolas,'Courier New',monospace\">Requirement already satisfied: fonttools&gt;=4.22.0 in /opt/conda/lib/python3.11/site-packages (from matplotlib!=3.6.1,&gt;=3.4-&gt;seaborn) (4.55.3)\n",
       "</pre>\n"
      ],
      "text/plain": [
       "Requirement already satisfied: fonttools>=4.22.0 in /opt/conda/lib/python3.11/site-packages (from matplotlib!=3.6.1,>=3.4->seaborn) (4.55.3)\n"
      ]
     },
     "metadata": {},
     "output_type": "display_data"
    },
    {
     "data": {
      "text/html": [
       "<pre style=\"white-space:pre;overflow-x:auto;line-height:normal;font-family:Menlo,'DejaVu Sans Mono',consolas,'Courier New',monospace\">Requirement already satisfied: kiwisolver&gt;=1.3.1 in /opt/conda/lib/python3.11/site-packages (from matplotlib!=3.6.1,&gt;=3.4-&gt;seaborn) (1.4.7)\n",
       "</pre>\n"
      ],
      "text/plain": [
       "Requirement already satisfied: kiwisolver>=1.3.1 in /opt/conda/lib/python3.11/site-packages (from matplotlib!=3.6.1,>=3.4->seaborn) (1.4.7)\n"
      ]
     },
     "metadata": {},
     "output_type": "display_data"
    },
    {
     "data": {
      "text/html": [
       "<pre style=\"white-space:pre;overflow-x:auto;line-height:normal;font-family:Menlo,'DejaVu Sans Mono',consolas,'Courier New',monospace\">Requirement already satisfied: packaging&gt;=20.0 in /opt/conda/lib/python3.11/site-packages (from matplotlib!=3.6.1,&gt;=3.4-&gt;seaborn) (24.2)\n",
       "</pre>\n"
      ],
      "text/plain": [
       "Requirement already satisfied: packaging>=20.0 in /opt/conda/lib/python3.11/site-packages (from matplotlib!=3.6.1,>=3.4->seaborn) (24.2)\n"
      ]
     },
     "metadata": {},
     "output_type": "display_data"
    },
    {
     "data": {
      "text/html": [
       "<pre style=\"white-space:pre;overflow-x:auto;line-height:normal;font-family:Menlo,'DejaVu Sans Mono',consolas,'Courier New',monospace\">Requirement already satisfied: pillow&gt;=8 in /opt/conda/lib/python3.11/site-packages (from matplotlib!=3.6.1,&gt;=3.4-&gt;seaborn) (10.4.0)\n",
       "</pre>\n"
      ],
      "text/plain": [
       "Requirement already satisfied: pillow>=8 in /opt/conda/lib/python3.11/site-packages (from matplotlib!=3.6.1,>=3.4->seaborn) (10.4.0)\n"
      ]
     },
     "metadata": {},
     "output_type": "display_data"
    },
    {
     "data": {
      "text/html": [
       "<pre style=\"white-space:pre;overflow-x:auto;line-height:normal;font-family:Menlo,'DejaVu Sans Mono',consolas,'Courier New',monospace\">Requirement already satisfied: pyparsing&gt;=2.3.1 in /opt/conda/lib/python3.11/site-packages (from matplotlib!=3.6.1,&gt;=3.4-&gt;seaborn) (3.2.0)\n",
       "</pre>\n"
      ],
      "text/plain": [
       "Requirement already satisfied: pyparsing>=2.3.1 in /opt/conda/lib/python3.11/site-packages (from matplotlib!=3.6.1,>=3.4->seaborn) (3.2.0)\n"
      ]
     },
     "metadata": {},
     "output_type": "display_data"
    },
    {
     "data": {
      "text/html": [
       "<pre style=\"white-space:pre;overflow-x:auto;line-height:normal;font-family:Menlo,'DejaVu Sans Mono',consolas,'Courier New',monospace\">Requirement already satisfied: python-dateutil&gt;=2.7 in /opt/conda/lib/python3.11/site-packages (from matplotlib!=3.6.1,&gt;=3.4-&gt;seaborn) (2.9.0.post0)\n",
       "</pre>\n"
      ],
      "text/plain": [
       "Requirement already satisfied: python-dateutil>=2.7 in /opt/conda/lib/python3.11/site-packages (from matplotlib!=3.6.1,>=3.4->seaborn) (2.9.0.post0)\n"
      ]
     },
     "metadata": {},
     "output_type": "display_data"
    },
    {
     "data": {
      "text/html": [
       "<pre style=\"white-space:pre;overflow-x:auto;line-height:normal;font-family:Menlo,'DejaVu Sans Mono',consolas,'Courier New',monospace\">Requirement already satisfied: pytz&gt;=2020.1 in /opt/conda/lib/python3.11/site-packages (from pandas&gt;=1.2-&gt;seaborn) (2023.3)\n",
       "</pre>\n"
      ],
      "text/plain": [
       "Requirement already satisfied: pytz>=2020.1 in /opt/conda/lib/python3.11/site-packages (from pandas>=1.2->seaborn) (2023.3)\n"
      ]
     },
     "metadata": {},
     "output_type": "display_data"
    },
    {
     "data": {
      "text/html": [
       "<pre style=\"white-space:pre;overflow-x:auto;line-height:normal;font-family:Menlo,'DejaVu Sans Mono',consolas,'Courier New',monospace\">Requirement already satisfied: tzdata&gt;=2022.7 in /opt/conda/lib/python3.11/site-packages (from pandas&gt;=1.2-&gt;seaborn) (2024.2)\n",
       "</pre>\n"
      ],
      "text/plain": [
       "Requirement already satisfied: tzdata>=2022.7 in /opt/conda/lib/python3.11/site-packages (from pandas>=1.2->seaborn) (2024.2)\n"
      ]
     },
     "metadata": {},
     "output_type": "display_data"
    },
    {
     "data": {
      "text/html": [
       "<pre style=\"white-space:pre;overflow-x:auto;line-height:normal;font-family:Menlo,'DejaVu Sans Mono',consolas,'Courier New',monospace\">Requirement already satisfied: six&gt;=1.5 in /opt/conda/lib/python3.11/site-packages (from python-dateutil&gt;=2.7-&gt;matplotlib!=3.6.1,&gt;=3.4-&gt;seaborn) (1.17.0)\n",
       "</pre>\n"
      ],
      "text/plain": [
       "Requirement already satisfied: six>=1.5 in /opt/conda/lib/python3.11/site-packages (from python-dateutil>=2.7->matplotlib!=3.6.1,>=3.4->seaborn) (1.17.0)\n"
      ]
     },
     "metadata": {},
     "output_type": "display_data"
    },
    {
     "name": "stdout",
     "output_type": "stream",
     "text": [
      "Initial class weights: {0: 0.6147719044170891, 1: 2.678233438485804}\n",
      "Start time:  2025-01-17 18:11:11.952456\n"
     ]
    },
    {
     "name": "stderr",
     "output_type": "stream",
     "text": [
      "WARNING: All log messages before absl::InitializeLog() is called are written to STDERR\n",
      "I0000 00:00:1737137472.104173    2289 cuda_executor.cc:1015] successful NUMA node read from SysFS had negative value (-1), but there must be at least one NUMA node, so returning NUMA node zero. See more at https://github.com/torvalds/linux/blob/v6.0/Documentation/ABI/testing/sysfs-bus-pci#L344-L355\n",
      "I0000 00:00:1737137472.159109    2289 cuda_executor.cc:1015] successful NUMA node read from SysFS had negative value (-1), but there must be at least one NUMA node, so returning NUMA node zero. See more at https://github.com/torvalds/linux/blob/v6.0/Documentation/ABI/testing/sysfs-bus-pci#L344-L355\n",
      "I0000 00:00:1737137472.162458    2289 cuda_executor.cc:1015] successful NUMA node read from SysFS had negative value (-1), but there must be at least one NUMA node, so returning NUMA node zero. See more at https://github.com/torvalds/linux/blob/v6.0/Documentation/ABI/testing/sysfs-bus-pci#L344-L355\n",
      "I0000 00:00:1737137472.166654    2289 cuda_executor.cc:1015] successful NUMA node read from SysFS had negative value (-1), but there must be at least one NUMA node, so returning NUMA node zero. See more at https://github.com/torvalds/linux/blob/v6.0/Documentation/ABI/testing/sysfs-bus-pci#L344-L355\n",
      "I0000 00:00:1737137472.169844    2289 cuda_executor.cc:1015] successful NUMA node read from SysFS had negative value (-1), but there must be at least one NUMA node, so returning NUMA node zero. See more at https://github.com/torvalds/linux/blob/v6.0/Documentation/ABI/testing/sysfs-bus-pci#L344-L355\n",
      "I0000 00:00:1737137472.172771    2289 cuda_executor.cc:1015] successful NUMA node read from SysFS had negative value (-1), but there must be at least one NUMA node, so returning NUMA node zero. See more at https://github.com/torvalds/linux/blob/v6.0/Documentation/ABI/testing/sysfs-bus-pci#L344-L355\n",
      "I0000 00:00:1737137472.367616    2289 cuda_executor.cc:1015] successful NUMA node read from SysFS had negative value (-1), but there must be at least one NUMA node, so returning NUMA node zero. See more at https://github.com/torvalds/linux/blob/v6.0/Documentation/ABI/testing/sysfs-bus-pci#L344-L355\n",
      "I0000 00:00:1737137472.369547    2289 cuda_executor.cc:1015] successful NUMA node read from SysFS had negative value (-1), but there must be at least one NUMA node, so returning NUMA node zero. See more at https://github.com/torvalds/linux/blob/v6.0/Documentation/ABI/testing/sysfs-bus-pci#L344-L355\n",
      "I0000 00:00:1737137472.371278    2289 cuda_executor.cc:1015] successful NUMA node read from SysFS had negative value (-1), but there must be at least one NUMA node, so returning NUMA node zero. See more at https://github.com/torvalds/linux/blob/v6.0/Documentation/ABI/testing/sysfs-bus-pci#L344-L355\n"
     ]
    },
    {
     "name": "stdout",
     "output_type": "stream",
     "text": [
      "Training iteration 1/5\n",
      "Epoch 1/50\n"
     ]
    },
    {
     "name": "stderr",
     "output_type": "stream",
     "text": [
      "I0000 00:00:1737137485.764281    2335 service.cc:146] XLA service 0x7f0b24001e60 initialized for platform CUDA (this does not guarantee that XLA will be used). Devices:\n",
      "I0000 00:00:1737137485.764313    2335 service.cc:154]   StreamExecutor device (0): Tesla T4, Compute Capability 7.5\n",
      "I0000 00:00:1737137503.825105    2335 device_compiler.h:188] Compiled cluster using XLA!  This line is logged at most once for the lifetime of the process.\n"
     ]
    },
    {
     "name": "stdout",
     "output_type": "stream",
     "text": [
      "\u001b[1m353/354\u001b[0m \u001b[32m━━━━━━━━━━━━━━━━━━━\u001b[0m\u001b[37m━\u001b[0m \u001b[1m0s\u001b[0m 184ms/step - accuracy: 0.1714 - loss: 0.5465"
     ]
    },
    {
     "name": "stderr",
     "output_type": "stream",
     "text": [
      "E0000 00:00:1737137573.414882    2333 gpu_timer.cc:183] Delay kernel timed out: measured time has sub-optimal accuracy. There may be a missing warmup execution, please investigate in Nsight Systems.\n",
      "E0000 00:00:1737137573.634284    2333 gpu_timer.cc:183] Delay kernel timed out: measured time has sub-optimal accuracy. There may be a missing warmup execution, please investigate in Nsight Systems.\n"
     ]
    },
    {
     "name": "stdout",
     "output_type": "stream",
     "text": [
      "\u001b[1m354/354\u001b[0m \u001b[32m━━━━━━━━━━━━━━━━━━━━\u001b[0m\u001b[37m\u001b[0m \u001b[1m114s\u001b[0m 264ms/step - accuracy: 0.1715 - loss: 0.5464 - val_accuracy: 0.1793 - val_loss: 0.4679 - learning_rate: 1.0000e-05\n",
      "Epoch 2/50\n",
      "\u001b[1m354/354\u001b[0m \u001b[32m━━━━━━━━━━━━━━━━━━━━\u001b[0m\u001b[37m\u001b[0m \u001b[1m73s\u001b[0m 207ms/step - accuracy: 0.2242 - loss: 0.4918 - val_accuracy: 0.3180 - val_loss: 0.4351 - learning_rate: 1.0000e-05\n",
      "Epoch 3/50\n",
      "\u001b[1m354/354\u001b[0m \u001b[32m━━━━━━━━━━━━━━━━━━━━\u001b[0m\u001b[37m\u001b[0m \u001b[1m73s\u001b[0m 207ms/step - accuracy: 0.3036 - loss: 0.4424 - val_accuracy: 0.3684 - val_loss: 0.4170 - learning_rate: 1.0000e-05\n",
      "Epoch 4/50\n",
      "\u001b[1m354/354\u001b[0m \u001b[32m━━━━━━━━━━━━━━━━━━━━\u001b[0m\u001b[37m\u001b[0m \u001b[1m73s\u001b[0m 207ms/step - accuracy: 0.3575 - loss: 0.4190 - val_accuracy: 0.4320 - val_loss: 0.4007 - learning_rate: 1.0000e-05\n",
      "Epoch 5/50\n",
      "\u001b[1m354/354\u001b[0m \u001b[32m━━━━━━━━━━━━━━━━━━━━\u001b[0m\u001b[37m\u001b[0m \u001b[1m73s\u001b[0m 208ms/step - accuracy: 0.4002 - loss: 0.3977 - val_accuracy: 0.4178 - val_loss: 0.3989 - learning_rate: 1.0000e-05\n",
      "Epoch 6/50\n",
      "\u001b[1m354/354\u001b[0m \u001b[32m━━━━━━━━━━━━━━━━━━━━\u001b[0m\u001b[37m\u001b[0m \u001b[1m73s\u001b[0m 207ms/step - accuracy: 0.4274 - loss: 0.3858 - val_accuracy: 0.4470 - val_loss: 0.3988 - learning_rate: 1.0000e-05\n",
      "Epoch 7/50\n",
      "\u001b[1m354/354\u001b[0m \u001b[32m━━━━━━━━━━━━━━━━━━━━\u001b[0m\u001b[37m\u001b[0m \u001b[1m74s\u001b[0m 208ms/step - accuracy: 0.4756 - loss: 0.3629 - val_accuracy: 0.4382 - val_loss: 0.3981 - learning_rate: 1.0000e-05\n",
      "Epoch 8/50\n",
      "\u001b[1m354/354\u001b[0m \u001b[32m━━━━━━━━━━━━━━━━━━━━\u001b[0m\u001b[37m\u001b[0m \u001b[1m74s\u001b[0m 208ms/step - accuracy: 0.4781 - loss: 0.3627 - val_accuracy: 0.4814 - val_loss: 0.3814 - learning_rate: 1.0000e-05\n",
      "Epoch 9/50\n",
      "\u001b[1m354/354\u001b[0m \u001b[32m━━━━━━━━━━━━━━━━━━━━\u001b[0m\u001b[37m\u001b[0m \u001b[1m72s\u001b[0m 204ms/step - accuracy: 0.5101 - loss: 0.3481 - val_accuracy: 0.4620 - val_loss: 0.3890 - learning_rate: 1.0000e-05\n",
      "Epoch 10/50\n",
      "\u001b[1m354/354\u001b[0m \u001b[32m━━━━━━━━━━━━━━━━━━━━\u001b[0m\u001b[37m\u001b[0m \u001b[1m74s\u001b[0m 208ms/step - accuracy: 0.5133 - loss: 0.3395 - val_accuracy: 0.4973 - val_loss: 0.3764 - learning_rate: 1.0000e-05\n",
      "Epoch 11/50\n",
      "\u001b[1m354/354\u001b[0m \u001b[32m━━━━━━━━━━━━━━━━━━━━\u001b[0m\u001b[37m\u001b[0m \u001b[1m72s\u001b[0m 204ms/step - accuracy: 0.5413 - loss: 0.3330 - val_accuracy: 0.4867 - val_loss: 0.3930 - learning_rate: 1.0000e-05\n",
      "Epoch 12/50\n",
      "\u001b[1m354/354\u001b[0m \u001b[32m━━━━━━━━━━━━━━━━━━━━\u001b[0m\u001b[37m\u001b[0m \u001b[1m72s\u001b[0m 204ms/step - accuracy: 0.5620 - loss: 0.3184 - val_accuracy: 0.4620 - val_loss: 0.3851 - learning_rate: 1.0000e-05\n",
      "Epoch 13/50\n",
      "\u001b[1m354/354\u001b[0m \u001b[32m━━━━━━━━━━━━━━━━━━━━\u001b[0m\u001b[37m\u001b[0m \u001b[1m72s\u001b[0m 204ms/step - accuracy: 0.5905 - loss: 0.3013 - val_accuracy: 0.5106 - val_loss: 0.3810 - learning_rate: 3.0000e-06\n",
      "Epoch 14/50\n",
      "\u001b[1m354/354\u001b[0m \u001b[32m━━━━━━━━━━━━━━━━━━━━\u001b[0m\u001b[37m\u001b[0m \u001b[1m72s\u001b[0m 204ms/step - accuracy: 0.5950 - loss: 0.2926 - val_accuracy: 0.5035 - val_loss: 0.3816 - learning_rate: 3.0000e-06\n",
      "Epoch 15/50\n",
      "\u001b[1m354/354\u001b[0m \u001b[32m━━━━━━━━━━━━━━━━━━━━\u001b[0m\u001b[37m\u001b[0m \u001b[1m72s\u001b[0m 204ms/step - accuracy: 0.6256 - loss: 0.2768 - val_accuracy: 0.5088 - val_loss: 0.3856 - learning_rate: 9.0000e-07\n",
      "Best current val:0.37639716267585754\n",
      "Training iteration 2/5\n",
      "Epoch 1/50\n",
      "\u001b[1m354/354\u001b[0m \u001b[32m━━━━━━━━━━━━━━━━━━━━\u001b[0m\u001b[37m\u001b[0m \u001b[1m80s\u001b[0m 212ms/step - accuracy: 0.1610 - loss: 0.5455 - val_accuracy: 0.1458 - val_loss: 0.4774 - learning_rate: 1.0000e-05\n",
      "Epoch 2/50\n",
      "\u001b[1m354/354\u001b[0m \u001b[32m━━━━━━━━━━━━━━━━━━━━\u001b[0m\u001b[37m\u001b[0m \u001b[1m72s\u001b[0m 203ms/step - accuracy: 0.2052 - loss: 0.4927 - val_accuracy: 0.3083 - val_loss: 0.4307 - learning_rate: 1.0000e-05\n",
      "Epoch 3/50\n",
      "\u001b[1m354/354\u001b[0m \u001b[32m━━━━━━━━━━━━━━━━━━━━\u001b[0m\u001b[37m\u001b[0m \u001b[1m72s\u001b[0m 204ms/step - accuracy: 0.2952 - loss: 0.4311 - val_accuracy: 0.3410 - val_loss: 0.4247 - learning_rate: 1.0000e-05\n",
      "Epoch 4/50\n",
      "\u001b[1m354/354\u001b[0m \u001b[32m━━━━━━━━━━━━━━━━━━━━\u001b[0m\u001b[37m\u001b[0m \u001b[1m72s\u001b[0m 204ms/step - accuracy: 0.3314 - loss: 0.4182 - val_accuracy: 0.3860 - val_loss: 0.4084 - learning_rate: 1.0000e-05\n",
      "Epoch 5/50\n",
      "\u001b[1m354/354\u001b[0m \u001b[32m━━━━━━━━━━━━━━━━━━━━\u001b[0m\u001b[37m\u001b[0m \u001b[1m77s\u001b[0m 216ms/step - accuracy: 0.3684 - loss: 0.4037 - val_accuracy: 0.3587 - val_loss: 0.4180 - learning_rate: 1.0000e-05\n",
      "Epoch 6/50\n",
      "\u001b[1m354/354\u001b[0m \u001b[32m━━━━━━━━━━━━━━━━━━━━\u001b[0m\u001b[37m\u001b[0m \u001b[1m72s\u001b[0m 204ms/step - accuracy: 0.3958 - loss: 0.3950 - val_accuracy: 0.4514 - val_loss: 0.3887 - learning_rate: 1.0000e-05\n",
      "Epoch 7/50\n",
      "\u001b[1m354/354\u001b[0m \u001b[32m━━━━━━━━━━━━━━━━━━━━\u001b[0m\u001b[37m\u001b[0m \u001b[1m72s\u001b[0m 204ms/step - accuracy: 0.4235 - loss: 0.3848 - val_accuracy: 0.4134 - val_loss: 0.4136 - learning_rate: 1.0000e-05\n",
      "Epoch 8/50\n",
      "\u001b[1m354/354\u001b[0m \u001b[32m━━━━━━━━━━━━━━━━━━━━\u001b[0m\u001b[37m\u001b[0m \u001b[1m72s\u001b[0m 204ms/step - accuracy: 0.4472 - loss: 0.3748 - val_accuracy: 0.4346 - val_loss: 0.3931 - learning_rate: 1.0000e-05\n",
      "Epoch 9/50\n",
      "\u001b[1m354/354\u001b[0m \u001b[32m━━━━━━━━━━━━━━━━━━━━\u001b[0m\u001b[37m\u001b[0m \u001b[1m72s\u001b[0m 204ms/step - accuracy: 0.4865 - loss: 0.3609 - val_accuracy: 0.4629 - val_loss: 0.3835 - learning_rate: 3.0000e-06\n",
      "Epoch 10/50\n",
      "\u001b[1m354/354\u001b[0m \u001b[32m━━━━━━━━━━━━━━━━━━━━\u001b[0m\u001b[37m\u001b[0m \u001b[1m72s\u001b[0m 204ms/step - accuracy: 0.4921 - loss: 0.3485 - val_accuracy: 0.4461 - val_loss: 0.4008 - learning_rate: 3.0000e-06\n",
      "Epoch 11/50\n",
      "\u001b[1m354/354\u001b[0m \u001b[32m━━━━━━━━━━━━━━━━━━━━\u001b[0m\u001b[37m\u001b[0m \u001b[1m72s\u001b[0m 204ms/step - accuracy: 0.5027 - loss: 0.3448 - val_accuracy: 0.4585 - val_loss: 0.3867 - learning_rate: 3.0000e-06\n",
      "Epoch 12/50\n",
      "\u001b[1m354/354\u001b[0m \u001b[32m━━━━━━━━━━━━━━━━━━━━\u001b[0m\u001b[37m\u001b[0m \u001b[1m72s\u001b[0m 204ms/step - accuracy: 0.5241 - loss: 0.3341 - val_accuracy: 0.4629 - val_loss: 0.3880 - learning_rate: 9.0000e-07\n",
      "Epoch 13/50\n",
      "\u001b[1m354/354\u001b[0m \u001b[32m━━━━━━━━━━━━━━━━━━━━\u001b[0m\u001b[37m\u001b[0m \u001b[1m72s\u001b[0m 204ms/step - accuracy: 0.5295 - loss: 0.3274 - val_accuracy: 0.4655 - val_loss: 0.3890 - learning_rate: 9.0000e-07\n",
      "Epoch 14/50\n",
      "\u001b[1m354/354\u001b[0m \u001b[32m━━━━━━━━━━━━━━━━━━━━\u001b[0m\u001b[37m\u001b[0m \u001b[1m72s\u001b[0m 204ms/step - accuracy: 0.5318 - loss: 0.3314 - val_accuracy: 0.4717 - val_loss: 0.3863 - learning_rate: 2.7000e-07\n",
      "Training iteration 3/5\n",
      "Epoch 1/50\n",
      "\u001b[1m354/354\u001b[0m \u001b[32m━━━━━━━━━━━━━━━━━━━━\u001b[0m\u001b[37m\u001b[0m \u001b[1m80s\u001b[0m 212ms/step - accuracy: 0.1752 - loss: 0.5482 - val_accuracy: 0.2111 - val_loss: 0.4783 - learning_rate: 1.0000e-05\n",
      "Epoch 2/50\n",
      "\u001b[1m354/354\u001b[0m \u001b[32m━━━━━━━━━━━━━━━━━━━━\u001b[0m\u001b[37m\u001b[0m \u001b[1m72s\u001b[0m 204ms/step - accuracy: 0.2255 - loss: 0.4857 - val_accuracy: 0.2429 - val_loss: 0.4609 - learning_rate: 1.0000e-05\n",
      "Epoch 3/50\n",
      "\u001b[1m354/354\u001b[0m \u001b[32m━━━━━━━━━━━━━━━━━━━━\u001b[0m\u001b[37m\u001b[0m \u001b[1m72s\u001b[0m 204ms/step - accuracy: 0.2950 - loss: 0.4393 - val_accuracy: 0.3472 - val_loss: 0.4190 - learning_rate: 1.0000e-05\n",
      "Epoch 4/50\n",
      "\u001b[1m354/354\u001b[0m \u001b[32m━━━━━━━━━━━━━━━━━━━━\u001b[0m\u001b[37m\u001b[0m \u001b[1m72s\u001b[0m 205ms/step - accuracy: 0.3651 - loss: 0.4128 - val_accuracy: 0.4125 - val_loss: 0.4015 - learning_rate: 1.0000e-05\n",
      "Epoch 5/50\n",
      "\u001b[1m354/354\u001b[0m \u001b[32m━━━━━━━━━━━━━━━━━━━━\u001b[0m\u001b[37m\u001b[0m \u001b[1m72s\u001b[0m 205ms/step - accuracy: 0.4054 - loss: 0.3969 - val_accuracy: 0.4541 - val_loss: 0.3942 - learning_rate: 1.0000e-05\n",
      "Epoch 6/50\n",
      "\u001b[1m354/354\u001b[0m \u001b[32m━━━━━━━━━━━━━━━━━━━━\u001b[0m\u001b[37m\u001b[0m \u001b[1m72s\u001b[0m 205ms/step - accuracy: 0.4326 - loss: 0.3850 - val_accuracy: 0.4108 - val_loss: 0.4033 - learning_rate: 1.0000e-05\n",
      "Epoch 7/50\n",
      "\u001b[1m354/354\u001b[0m \u001b[32m━━━━━━━━━━━━━━━━━━━━\u001b[0m\u001b[37m\u001b[0m \u001b[1m72s\u001b[0m 205ms/step - accuracy: 0.4301 - loss: 0.3803 - val_accuracy: 0.4329 - val_loss: 0.4013 - learning_rate: 1.0000e-05\n",
      "Epoch 8/50\n",
      "\u001b[1m354/354\u001b[0m \u001b[32m━━━━━━━━━━━━━━━━━━━━\u001b[0m\u001b[37m\u001b[0m \u001b[1m73s\u001b[0m 205ms/step - accuracy: 0.4875 - loss: 0.3579 - val_accuracy: 0.4576 - val_loss: 0.3913 - learning_rate: 3.0000e-06\n",
      "Epoch 9/50\n",
      "\u001b[1m354/354\u001b[0m \u001b[32m━━━━━━━━━━━━━━━━━━━━\u001b[0m\u001b[37m\u001b[0m \u001b[1m72s\u001b[0m 205ms/step - accuracy: 0.5059 - loss: 0.3510 - val_accuracy: 0.4435 - val_loss: 0.3991 - learning_rate: 3.0000e-06\n",
      "Epoch 10/50\n",
      "\u001b[1m354/354\u001b[0m \u001b[32m━━━━━━━━━━━━━━━━━━━━\u001b[0m\u001b[37m\u001b[0m \u001b[1m73s\u001b[0m 205ms/step - accuracy: 0.4910 - loss: 0.3544 - val_accuracy: 0.4806 - val_loss: 0.3860 - learning_rate: 3.0000e-06\n",
      "Epoch 11/50\n",
      "\u001b[1m354/354\u001b[0m \u001b[32m━━━━━━━━━━━━━━━━━━━━\u001b[0m\u001b[37m\u001b[0m \u001b[1m73s\u001b[0m 205ms/step - accuracy: 0.5070 - loss: 0.3493 - val_accuracy: 0.4691 - val_loss: 0.3888 - learning_rate: 3.0000e-06\n",
      "Epoch 12/50\n",
      "\u001b[1m354/354\u001b[0m \u001b[32m━━━━━━━━━━━━━━━━━━━━\u001b[0m\u001b[37m\u001b[0m \u001b[1m73s\u001b[0m 205ms/step - accuracy: 0.5263 - loss: 0.3375 - val_accuracy: 0.4585 - val_loss: 0.3908 - learning_rate: 3.0000e-06\n",
      "Epoch 13/50\n",
      "\u001b[1m354/354\u001b[0m \u001b[32m━━━━━━━━━━━━━━━━━━━━\u001b[0m\u001b[37m\u001b[0m \u001b[1m73s\u001b[0m 205ms/step - accuracy: 0.5327 - loss: 0.3317 - val_accuracy: 0.4682 - val_loss: 0.3927 - learning_rate: 9.0000e-07\n",
      "Epoch 14/50\n",
      "\u001b[1m354/354\u001b[0m \u001b[32m━━━━━━━━━━━━━━━━━━━━\u001b[0m\u001b[37m\u001b[0m \u001b[1m73s\u001b[0m 205ms/step - accuracy: 0.5432 - loss: 0.3303 - val_accuracy: 0.4867 - val_loss: 0.3827 - learning_rate: 9.0000e-07\n",
      "Epoch 15/50\n",
      "\u001b[1m354/354\u001b[0m \u001b[32m━━━━━━━━━━━━━━━━━━━━\u001b[0m\u001b[37m\u001b[0m \u001b[1m73s\u001b[0m 205ms/step - accuracy: 0.5504 - loss: 0.3262 - val_accuracy: 0.4673 - val_loss: 0.3929 - learning_rate: 9.0000e-07\n",
      "Epoch 16/50\n",
      "\u001b[1m354/354\u001b[0m \u001b[32m━━━━━━━━━━━━━━━━━━━━\u001b[0m\u001b[37m\u001b[0m \u001b[1m73s\u001b[0m 205ms/step - accuracy: 0.5415 - loss: 0.3259 - val_accuracy: 0.4832 - val_loss: 0.3857 - learning_rate: 9.0000e-07\n",
      "Epoch 17/50\n",
      "\u001b[1m354/354\u001b[0m \u001b[32m━━━━━━━━━━━━━━━━━━━━\u001b[0m\u001b[37m\u001b[0m \u001b[1m73s\u001b[0m 205ms/step - accuracy: 0.5401 - loss: 0.3228 - val_accuracy: 0.4788 - val_loss: 0.3855 - learning_rate: 2.7000e-07\n",
      "Epoch 18/50\n",
      "\u001b[1m354/354\u001b[0m \u001b[32m━━━━━━━━━━━━━━━━━━━━\u001b[0m\u001b[37m\u001b[0m \u001b[1m73s\u001b[0m 205ms/step - accuracy: 0.5498 - loss: 0.3241 - val_accuracy: 0.4823 - val_loss: 0.3871 - learning_rate: 2.7000e-07\n",
      "Epoch 19/50\n",
      "\u001b[1m354/354\u001b[0m \u001b[32m━━━━━━━━━━━━━━━━━━━━\u001b[0m\u001b[37m\u001b[0m \u001b[1m73s\u001b[0m 205ms/step - accuracy: 0.5598 - loss: 0.3165 - val_accuracy: 0.4779 - val_loss: 0.3852 - learning_rate: 1.0000e-07\n",
      "Training iteration 4/5\n",
      "Epoch 1/50\n",
      "\u001b[1m354/354\u001b[0m \u001b[32m━━━━━━━━━━━━━━━━━━━━\u001b[0m\u001b[37m\u001b[0m \u001b[1m80s\u001b[0m 212ms/step - accuracy: 0.1579 - loss: 0.5643 - val_accuracy: 0.2314 - val_loss: 0.4638 - learning_rate: 1.0000e-05\n",
      "Epoch 2/50\n",
      "\u001b[1m354/354\u001b[0m \u001b[32m━━━━━━━━━━━━━━━━━━━━\u001b[0m\u001b[37m\u001b[0m \u001b[1m72s\u001b[0m 204ms/step - accuracy: 0.2460 - loss: 0.4775 - val_accuracy: 0.3171 - val_loss: 0.4316 - learning_rate: 1.0000e-05\n",
      "Epoch 3/50\n",
      "\u001b[1m354/354\u001b[0m \u001b[32m━━━━━━━━━━━━━━━━━━━━\u001b[0m\u001b[37m\u001b[0m \u001b[1m72s\u001b[0m 204ms/step - accuracy: 0.3019 - loss: 0.4303 - val_accuracy: 0.3675 - val_loss: 0.4235 - learning_rate: 1.0000e-05\n",
      "Epoch 4/50\n",
      "\u001b[1m354/354\u001b[0m \u001b[32m━━━━━━━━━━━━━━━━━━━━\u001b[0m\u001b[37m\u001b[0m \u001b[1m72s\u001b[0m 204ms/step - accuracy: 0.3586 - loss: 0.4104 - val_accuracy: 0.4231 - val_loss: 0.4007 - learning_rate: 1.0000e-05\n",
      "Epoch 5/50\n",
      "\u001b[1m354/354\u001b[0m \u001b[32m━━━━━━━━━━━━━━━━━━━━\u001b[0m\u001b[37m\u001b[0m \u001b[1m72s\u001b[0m 204ms/step - accuracy: 0.3991 - loss: 0.3993 - val_accuracy: 0.4019 - val_loss: 0.4001 - learning_rate: 1.0000e-05\n",
      "Epoch 6/50\n",
      "\u001b[1m354/354\u001b[0m \u001b[32m━━━━━━━━━━━━━━━━━━━━\u001b[0m\u001b[37m\u001b[0m \u001b[1m72s\u001b[0m 204ms/step - accuracy: 0.4225 - loss: 0.3858 - val_accuracy: 0.3913 - val_loss: 0.4229 - learning_rate: 1.0000e-05\n",
      "Epoch 7/50\n",
      "\u001b[1m354/354\u001b[0m \u001b[32m━━━━━━━━━━━━━━━━━━━━\u001b[0m\u001b[37m\u001b[0m \u001b[1m72s\u001b[0m 204ms/step - accuracy: 0.4219 - loss: 0.3758 - val_accuracy: 0.4585 - val_loss: 0.3920 - learning_rate: 1.0000e-05\n",
      "Epoch 8/50\n",
      "\u001b[1m354/354\u001b[0m \u001b[32m━━━━━━━━━━━━━━━━━━━━\u001b[0m\u001b[37m\u001b[0m \u001b[1m72s\u001b[0m 204ms/step - accuracy: 0.4536 - loss: 0.3689 - val_accuracy: 0.4311 - val_loss: 0.4106 - learning_rate: 1.0000e-05\n",
      "Epoch 9/50\n",
      "\u001b[1m354/354\u001b[0m \u001b[32m━━━━━━━━━━━━━━━━━━━━\u001b[0m\u001b[37m\u001b[0m \u001b[1m72s\u001b[0m 204ms/step - accuracy: 0.4588 - loss: 0.3592 - val_accuracy: 0.4435 - val_loss: 0.3983 - learning_rate: 1.0000e-05\n",
      "Epoch 10/50\n",
      "\u001b[1m354/354\u001b[0m \u001b[32m━━━━━━━━━━━━━━━━━━━━\u001b[0m\u001b[37m\u001b[0m \u001b[1m72s\u001b[0m 205ms/step - accuracy: 0.5184 - loss: 0.3407 - val_accuracy: 0.4744 - val_loss: 0.3840 - learning_rate: 3.0000e-06\n",
      "Epoch 11/50\n",
      "\u001b[1m354/354\u001b[0m \u001b[32m━━━━━━━━━━━━━━━━━━━━\u001b[0m\u001b[37m\u001b[0m \u001b[1m72s\u001b[0m 204ms/step - accuracy: 0.5202 - loss: 0.3370 - val_accuracy: 0.4514 - val_loss: 0.4077 - learning_rate: 3.0000e-06\n",
      "Epoch 12/50\n",
      "\u001b[1m354/354\u001b[0m \u001b[32m━━━━━━━━━━━━━━━━━━━━\u001b[0m\u001b[37m\u001b[0m \u001b[1m72s\u001b[0m 204ms/step - accuracy: 0.5294 - loss: 0.3281 - val_accuracy: 0.4867 - val_loss: 0.3884 - learning_rate: 3.0000e-06\n",
      "Epoch 13/50\n",
      "\u001b[1m354/354\u001b[0m \u001b[32m━━━━━━━━━━━━━━━━━━━━\u001b[0m\u001b[37m\u001b[0m \u001b[1m72s\u001b[0m 204ms/step - accuracy: 0.5427 - loss: 0.3226 - val_accuracy: 0.4682 - val_loss: 0.3898 - learning_rate: 9.0000e-07\n",
      "Epoch 14/50\n",
      "\u001b[1m354/354\u001b[0m \u001b[32m━━━━━━━━━━━━━━━━━━━━\u001b[0m\u001b[37m\u001b[0m \u001b[1m72s\u001b[0m 204ms/step - accuracy: 0.5509 - loss: 0.3148 - val_accuracy: 0.4505 - val_loss: 0.3970 - learning_rate: 9.0000e-07\n",
      "Epoch 15/50\n",
      "\u001b[1m354/354\u001b[0m \u001b[32m━━━━━━━━━━━━━━━━━━━━\u001b[0m\u001b[37m\u001b[0m \u001b[1m72s\u001b[0m 205ms/step - accuracy: 0.5462 - loss: 0.3130 - val_accuracy: 0.4770 - val_loss: 0.3879 - learning_rate: 2.7000e-07\n",
      "Training iteration 5/5\n",
      "Epoch 1/50\n",
      "\u001b[1m354/354\u001b[0m \u001b[32m━━━━━━━━━━━━━━━━━━━━\u001b[0m\u001b[37m\u001b[0m \u001b[1m80s\u001b[0m 213ms/step - accuracy: 0.1745 - loss: 0.5515 - val_accuracy: 0.2438 - val_loss: 0.4706 - learning_rate: 1.0000e-05\n",
      "Epoch 2/50\n",
      "\u001b[1m354/354\u001b[0m \u001b[32m━━━━━━━━━━━━━━━━━━━━\u001b[0m\u001b[37m\u001b[0m \u001b[1m72s\u001b[0m 204ms/step - accuracy: 0.2223 - loss: 0.4823 - val_accuracy: 0.2942 - val_loss: 0.4398 - learning_rate: 1.0000e-05\n",
      "Epoch 3/50\n",
      "\u001b[1m354/354\u001b[0m \u001b[32m━━━━━━━━━━━━━━━━━━━━\u001b[0m\u001b[37m\u001b[0m \u001b[1m72s\u001b[0m 204ms/step - accuracy: 0.3074 - loss: 0.4324 - val_accuracy: 0.3472 - val_loss: 0.4212 - learning_rate: 1.0000e-05\n",
      "Epoch 4/50\n",
      "\u001b[1m354/354\u001b[0m \u001b[32m━━━━━━━━━━━━━━━━━━━━\u001b[0m\u001b[37m\u001b[0m \u001b[1m72s\u001b[0m 204ms/step - accuracy: 0.3607 - loss: 0.4134 - val_accuracy: 0.4205 - val_loss: 0.4025 - learning_rate: 1.0000e-05\n",
      "Epoch 5/50\n",
      "\u001b[1m354/354\u001b[0m \u001b[32m━━━━━━━━━━━━━━━━━━━━\u001b[0m\u001b[37m\u001b[0m \u001b[1m72s\u001b[0m 204ms/step - accuracy: 0.3928 - loss: 0.3981 - val_accuracy: 0.4329 - val_loss: 0.3960 - learning_rate: 1.0000e-05\n",
      "Epoch 6/50\n",
      "\u001b[1m354/354\u001b[0m \u001b[32m━━━━━━━━━━━━━━━━━━━━\u001b[0m\u001b[37m\u001b[0m \u001b[1m72s\u001b[0m 205ms/step - accuracy: 0.4136 - loss: 0.3866 - val_accuracy: 0.4576 - val_loss: 0.3874 - learning_rate: 1.0000e-05\n",
      "Epoch 7/50\n",
      "\u001b[1m354/354\u001b[0m \u001b[32m━━━━━━━━━━━━━━━━━━━━\u001b[0m\u001b[37m\u001b[0m \u001b[1m72s\u001b[0m 204ms/step - accuracy: 0.4456 - loss: 0.3740 - val_accuracy: 0.4178 - val_loss: 0.3962 - learning_rate: 1.0000e-05\n",
      "Epoch 8/50\n",
      "\u001b[1m354/354\u001b[0m \u001b[32m━━━━━━━━━━━━━━━━━━━━\u001b[0m\u001b[37m\u001b[0m \u001b[1m72s\u001b[0m 204ms/step - accuracy: 0.4654 - loss: 0.3706 - val_accuracy: 0.4267 - val_loss: 0.4096 - learning_rate: 1.0000e-05\n",
      "Epoch 9/50\n",
      "\u001b[1m354/354\u001b[0m \u001b[32m━━━━━━━━━━━━━━━━━━━━\u001b[0m\u001b[37m\u001b[0m \u001b[1m72s\u001b[0m 205ms/step - accuracy: 0.4668 - loss: 0.3619 - val_accuracy: 0.4532 - val_loss: 0.3921 - learning_rate: 3.0000e-06\n",
      "Epoch 10/50\n",
      "\u001b[1m354/354\u001b[0m \u001b[32m━━━━━━━━━━━━━━━━━━━━\u001b[0m\u001b[37m\u001b[0m \u001b[1m72s\u001b[0m 204ms/step - accuracy: 0.5072 - loss: 0.3470 - val_accuracy: 0.4735 - val_loss: 0.3928 - learning_rate: 3.0000e-06\n",
      "Epoch 11/50\n",
      "\u001b[1m354/354\u001b[0m \u001b[32m━━━━━━━━━━━━━━━━━━━━\u001b[0m\u001b[37m\u001b[0m \u001b[1m72s\u001b[0m 205ms/step - accuracy: 0.5102 - loss: 0.3371 - val_accuracy: 0.4956 - val_loss: 0.3834 - learning_rate: 9.0000e-07\n",
      "Epoch 12/50\n",
      "\u001b[1m354/354\u001b[0m \u001b[32m━━━━━━━━━━━━━━━━━━━━\u001b[0m\u001b[37m\u001b[0m \u001b[1m72s\u001b[0m 205ms/step - accuracy: 0.5376 - loss: 0.3336 - val_accuracy: 0.4903 - val_loss: 0.3853 - learning_rate: 9.0000e-07\n",
      "Epoch 13/50\n",
      "\u001b[1m354/354\u001b[0m \u001b[32m━━━━━━━━━━━━━━━━━━━━\u001b[0m\u001b[37m\u001b[0m \u001b[1m72s\u001b[0m 205ms/step - accuracy: 0.5323 - loss: 0.3322 - val_accuracy: 0.4832 - val_loss: 0.3872 - learning_rate: 9.0000e-07\n",
      "Epoch 14/50\n",
      "\u001b[1m354/354\u001b[0m \u001b[32m━━━━━━━━━━━━━━━━━━━━\u001b[0m\u001b[37m\u001b[0m \u001b[1m72s\u001b[0m 205ms/step - accuracy: 0.5356 - loss: 0.3274 - val_accuracy: 0.5018 - val_loss: 0.3836 - learning_rate: 2.7000e-07\n",
      "Epoch 15/50\n",
      "\u001b[1m354/354\u001b[0m \u001b[32m━━━━━━━━━━━━━━━━━━━━\u001b[0m\u001b[37m\u001b[0m \u001b[1m72s\u001b[0m 205ms/step - accuracy: 0.5349 - loss: 0.3310 - val_accuracy: 0.4956 - val_loss: 0.3844 - learning_rate: 2.7000e-07\n",
      "Epoch 16/50\n",
      "\u001b[1m354/354\u001b[0m \u001b[32m━━━━━━━━━━━━━━━━━━━━\u001b[0m\u001b[37m\u001b[0m \u001b[1m73s\u001b[0m 205ms/step - accuracy: 0.5349 - loss: 0.3255 - val_accuracy: 0.5000 - val_loss: 0.3849 - learning_rate: 1.0000e-07\n",
      "Training Complete\n"
     ]
    }
   ],
   "source": [
    "import os\n",
    "os.environ['TF_CPP_MIN_LOG_LEVEL'] = '3'\n",
    "import numpy as np\n",
    "import random\n",
    "import datetime\n",
    "import matplotlib.pyplot as plt\n",
    "import pip\n",
    "pip.main(['install','seaborn'])\n",
    "import seaborn as sns\n",
    "from sklearn.metrics import confusion_matrix\n",
    "from sklearn.utils.class_weight import compute_class_weight\n",
    "from keras.applications import DenseNet121, VGG19\n",
    "from keras.models import Model\n",
    "from keras.layers import Dense, Flatten, Dropout, LeakyReLU, GlobalAveragePooling2D, Conv2D, Input\n",
    "from keras.optimizers import Adam\n",
    "from keras.losses import BinaryCrossentropy\n",
    "from keras.callbacks import EarlyStopping, ReduceLROnPlateau, ModelCheckpoint\n",
    "\n",
    "modelclass = 'all'\n",
    "suffix = 'FIN'\n",
    "iterations = 5\n",
    "iterations2 = 5\n",
    "\n",
    "def CreateModel(learn_rate):\n",
    "    input_tensor = Input(shape=(256, 256, 3))\n",
    "    base_model = VGG19(weights='imagenet', include_top=False, input_shape=(256, 256, 3))\n",
    "\n",
    "    for layer in base_model.layers[:10]:\n",
    "        layer.trainable = False\n",
    "        \n",
    "    x = base_model.output\n",
    "    x = GlobalAveragePooling2D()(x)\n",
    "    x = Dense(1024)(x)\n",
    "    x = LeakyReLU(negative_slope=0.01)(x)\n",
    "    x = Dropout(0.5)(x)\n",
    "    predictions = Dense(6, activation='sigmoid')(x)\n",
    "\n",
    "    model = Model(inputs=base_model.input, outputs=predictions)\n",
    "    model.compile(optimizer=Adam(learning_rate=learn_rate),\n",
    "                  loss=BinaryCrossentropy(),\n",
    "                  metrics=['accuracy'])\n",
    "    return model\n",
    "\n",
    "base_dir = '../../Data/Arrays/'\n",
    "class_dir = 'Converted Arrays/'\n",
    "train_images = np.load(os.path.join(base_dir, 'train_images.npy'))\n",
    "train_labels = np.load(os.path.join(base_dir, 'train_labels.npy'))\n",
    "val_images = np.load(os.path.join(base_dir, 'val_images.npy'))\n",
    "val_labels = np.load(os.path.join(base_dir, 'val_labels.npy'))\n",
    "\n",
    "if len(train_images.shape) == 3:\n",
    "    train_images = np.expand_dims(train_images, axis=-1)\n",
    "    train_images = np.repeat(train_images, 3, axis=-1)\n",
    "\n",
    "if len(val_images.shape) == 3:\n",
    "    val_images = np.expand_dims(val_images, axis=-1)\n",
    "    val_images = np.repeat(val_images, 3, axis=-1)\n",
    "\n",
    "class_weights = compute_class_weight('balanced', classes=np.unique(train_labels), y=train_labels.flatten())\n",
    "class_weights = {i: class_weights[i] for i in range(len(class_weights))}\n",
    "\n",
    "print(\"Initial class weights:\", class_weights)\n",
    "print(\"Start time: \", datetime.datetime.now())\n",
    "\n",
    "best_model_path = f'Models/class{suffix}{modelclass}temp.keras'\n",
    "model_checkpoint = ModelCheckpoint(best_model_path, monitor='val_loss', save_best_only=True, mode='min')\n",
    "\n",
    "best_val_loss = float('inf')\n",
    "for i in range(iterations):\n",
    "    early_stopping = EarlyStopping(monitor='val_loss', patience=5, restore_best_weights=True)\n",
    "    reduce_lr = ReduceLROnPlateau(monitor='val_loss', factor=0.3, patience=2, min_lr=1e-7)\n",
    "    model = CreateModel(1e-5)\n",
    "    print(f\"Training iteration {i+1}/{iterations}\")\n",
    "    history = model.fit(train_images, train_labels,\n",
    "                        epochs=50,\n",
    "                        batch_size=16,\n",
    "                        validation_data=(val_images, val_labels),\n",
    "                        class_weight=class_weights,\n",
    "                        callbacks=[early_stopping, reduce_lr, model_checkpoint])\n",
    "\n",
    "    model.load_weights(best_model_path)\n",
    "    val_loss = min(history.history['val_loss'])\n",
    "    if val_loss < best_val_loss:\n",
    "        best_val_loss = val_loss\n",
    "        print(f\"Best current val:{best_val_loss}\")\n",
    "        model.save(f'Models/class_{suffix}{modelclass}_overallbest.keras')\n",
    "\n",
    "print(\"Training Complete\")"
   ]
  },
  {
   "cell_type": "code",
   "execution_count": 2,
   "id": "b5bd43c1-b11b-4c5c-956e-06e030bd4e1e",
   "metadata": {},
   "outputs": [
    {
     "name": "stderr",
     "output_type": "stream",
     "text": [
      "/opt/conda/lib/python3.11/site-packages/keras/src/saving/saving_lib.py:719: UserWarning: Skipping variable loading for optimizer 'adam', because it has 2 variables whereas the saved optimizer has 46 variables. \n",
      "  saveable.load_own_variables(weights_store.get(inner_path))\n"
     ]
    },
    {
     "name": "stdout",
     "output_type": "stream",
     "text": [
      "Training iteration 1/5\n",
      "Epoch 1/50\n",
      "\u001b[1m354/354\u001b[0m \u001b[32m━━━━━━━━━━━━━━━━━━━━\u001b[0m\u001b[37m\u001b[0m \u001b[1m82s\u001b[0m 217ms/step - accuracy: 0.5626 - loss: 0.3304 - val_accuracy: 0.5000 - val_loss: 0.3775 - learning_rate: 1.0000e-07\n",
      "Epoch 2/50\n",
      "\u001b[1m354/354\u001b[0m \u001b[32m━━━━━━━━━━━━━━━━━━━━\u001b[0m\u001b[37m\u001b[0m \u001b[1m72s\u001b[0m 204ms/step - accuracy: 0.5589 - loss: 0.3206 - val_accuracy: 0.4973 - val_loss: 0.3777 - learning_rate: 1.0000e-07\n",
      "Epoch 3/50\n",
      "\u001b[1m354/354\u001b[0m \u001b[32m━━━━━━━━━━━━━━━━━━━━\u001b[0m\u001b[37m\u001b[0m \u001b[1m73s\u001b[0m 205ms/step - accuracy: 0.5690 - loss: 0.3209 - val_accuracy: 0.4991 - val_loss: 0.3778 - learning_rate: 1.0000e-07\n",
      "Epoch 4/50\n",
      "\u001b[1m354/354\u001b[0m \u001b[32m━━━━━━━━━━━━━━━━━━━━\u001b[0m\u001b[37m\u001b[0m \u001b[1m73s\u001b[0m 205ms/step - accuracy: 0.5580 - loss: 0.3162 - val_accuracy: 0.4920 - val_loss: 0.3787 - learning_rate: 1.0000e-07\n",
      "Epoch 5/50\n",
      "\u001b[1m354/354\u001b[0m \u001b[32m━━━━━━━━━━━━━━━━━━━━\u001b[0m\u001b[37m\u001b[0m \u001b[1m72s\u001b[0m 205ms/step - accuracy: 0.5771 - loss: 0.3122 - val_accuracy: 0.4912 - val_loss: 0.3786 - learning_rate: 1.0000e-08\n",
      "Epoch 6/50\n",
      "\u001b[1m354/354\u001b[0m \u001b[32m━━━━━━━━━━━━━━━━━━━━\u001b[0m\u001b[37m\u001b[0m \u001b[1m72s\u001b[0m 205ms/step - accuracy: 0.5616 - loss: 0.3189 - val_accuracy: 0.4920 - val_loss: 0.3784 - learning_rate: 1.0000e-08\n",
      "Best last val:0.37745341658592224\n",
      "Best current val:0.37745341658592224\n",
      "Training iteration 2/5\n",
      "Epoch 1/50\n",
      "\u001b[1m354/354\u001b[0m \u001b[32m━━━━━━━━━━━━━━━━━━━━\u001b[0m\u001b[37m\u001b[0m \u001b[1m80s\u001b[0m 213ms/step - accuracy: 0.5449 - loss: 0.3311 - val_accuracy: 0.5009 - val_loss: 0.3777 - learning_rate: 1.0000e-07\n",
      "Epoch 2/50\n",
      "\u001b[1m354/354\u001b[0m \u001b[32m━━━━━━━━━━━━━━━━━━━━\u001b[0m\u001b[37m\u001b[0m \u001b[1m72s\u001b[0m 204ms/step - accuracy: 0.5549 - loss: 0.3236 - val_accuracy: 0.4956 - val_loss: 0.3783 - learning_rate: 1.0000e-07\n",
      "Epoch 3/50\n",
      "\u001b[1m354/354\u001b[0m \u001b[32m━━━━━━━━━━━━━━━━━━━━\u001b[0m\u001b[37m\u001b[0m \u001b[1m72s\u001b[0m 204ms/step - accuracy: 0.5596 - loss: 0.3206 - val_accuracy: 0.4947 - val_loss: 0.3788 - learning_rate: 1.0000e-07\n",
      "Epoch 4/50\n",
      "\u001b[1m354/354\u001b[0m \u001b[32m━━━━━━━━━━━━━━━━━━━━\u001b[0m\u001b[37m\u001b[0m \u001b[1m72s\u001b[0m 205ms/step - accuracy: 0.5493 - loss: 0.3226 - val_accuracy: 0.4991 - val_loss: 0.3778 - learning_rate: 1.0000e-07\n",
      "Epoch 5/50\n",
      "\u001b[1m354/354\u001b[0m \u001b[32m━━━━━━━━━━━━━━━━━━━━\u001b[0m\u001b[37m\u001b[0m \u001b[1m72s\u001b[0m 205ms/step - accuracy: 0.5624 - loss: 0.3151 - val_accuracy: 0.4973 - val_loss: 0.3779 - learning_rate: 1.0000e-08\n",
      "Epoch 6/50\n",
      "\u001b[1m354/354\u001b[0m \u001b[32m━━━━━━━━━━━━━━━━━━━━\u001b[0m\u001b[37m\u001b[0m \u001b[1m72s\u001b[0m 205ms/step - accuracy: 0.5592 - loss: 0.3144 - val_accuracy: 0.4973 - val_loss: 0.3781 - learning_rate: 1.0000e-08\n",
      "Training iteration 3/5\n",
      "Epoch 1/50\n",
      "\u001b[1m354/354\u001b[0m \u001b[32m━━━━━━━━━━━━━━━━━━━━\u001b[0m\u001b[37m\u001b[0m \u001b[1m82s\u001b[0m 218ms/step - accuracy: 0.5576 - loss: 0.3235 - val_accuracy: 0.5000 - val_loss: 0.3772 - learning_rate: 1.0000e-07\n",
      "Epoch 2/50\n",
      "\u001b[1m354/354\u001b[0m \u001b[32m━━━━━━━━━━━━━━━━━━━━\u001b[0m\u001b[37m\u001b[0m \u001b[1m72s\u001b[0m 204ms/step - accuracy: 0.5500 - loss: 0.3236 - val_accuracy: 0.4938 - val_loss: 0.3780 - learning_rate: 1.0000e-07\n",
      "Epoch 3/50\n",
      "\u001b[1m354/354\u001b[0m \u001b[32m━━━━━━━━━━━━━━━━━━━━\u001b[0m\u001b[37m\u001b[0m \u001b[1m72s\u001b[0m 204ms/step - accuracy: 0.5697 - loss: 0.3175 - val_accuracy: 0.4920 - val_loss: 0.3795 - learning_rate: 1.0000e-07\n",
      "Epoch 4/50\n",
      "\u001b[1m354/354\u001b[0m \u001b[32m━━━━━━━━━━━━━━━━━━━━\u001b[0m\u001b[37m\u001b[0m \u001b[1m72s\u001b[0m 205ms/step - accuracy: 0.5587 - loss: 0.3188 - val_accuracy: 0.4956 - val_loss: 0.3780 - learning_rate: 1.0000e-07\n",
      "Epoch 5/50\n",
      "\u001b[1m354/354\u001b[0m \u001b[32m━━━━━━━━━━━━━━━━━━━━\u001b[0m\u001b[37m\u001b[0m \u001b[1m72s\u001b[0m 205ms/step - accuracy: 0.5509 - loss: 0.3196 - val_accuracy: 0.4956 - val_loss: 0.3780 - learning_rate: 1.0000e-08\n",
      "Epoch 6/50\n",
      "\u001b[1m354/354\u001b[0m \u001b[32m━━━━━━━━━━━━━━━━━━━━\u001b[0m\u001b[37m\u001b[0m \u001b[1m72s\u001b[0m 204ms/step - accuracy: 0.5694 - loss: 0.3105 - val_accuracy: 0.4956 - val_loss: 0.3781 - learning_rate: 1.0000e-08\n",
      "Best last val:0.37716591358184814\n",
      "Best current val:0.37716591358184814\n",
      "Training iteration 4/5\n",
      "Epoch 1/50\n",
      "\u001b[1m354/354\u001b[0m \u001b[32m━━━━━━━━━━━━━━━━━━━━\u001b[0m\u001b[37m\u001b[0m \u001b[1m82s\u001b[0m 217ms/step - accuracy: 0.5528 - loss: 0.3294 - val_accuracy: 0.5018 - val_loss: 0.3765 - learning_rate: 1.0000e-07\n",
      "Epoch 2/50\n",
      "\u001b[1m354/354\u001b[0m \u001b[32m━━━━━━━━━━━━━━━━━━━━\u001b[0m\u001b[37m\u001b[0m \u001b[1m72s\u001b[0m 204ms/step - accuracy: 0.5546 - loss: 0.3223 - val_accuracy: 0.4965 - val_loss: 0.3788 - learning_rate: 1.0000e-07\n",
      "Epoch 3/50\n",
      "\u001b[1m354/354\u001b[0m \u001b[32m━━━━━━━━━━━━━━━━━━━━\u001b[0m\u001b[37m\u001b[0m \u001b[1m72s\u001b[0m 205ms/step - accuracy: 0.5589 - loss: 0.3192 - val_accuracy: 0.4973 - val_loss: 0.3786 - learning_rate: 1.0000e-07\n",
      "Epoch 4/50\n",
      "\u001b[1m354/354\u001b[0m \u001b[32m━━━━━━━━━━━━━━━━━━━━\u001b[0m\u001b[37m\u001b[0m \u001b[1m72s\u001b[0m 205ms/step - accuracy: 0.5628 - loss: 0.3152 - val_accuracy: 0.4956 - val_loss: 0.3788 - learning_rate: 1.0000e-07\n",
      "Epoch 5/50\n",
      "\u001b[1m354/354\u001b[0m \u001b[32m━━━━━━━━━━━━━━━━━━━━\u001b[0m\u001b[37m\u001b[0m \u001b[1m72s\u001b[0m 205ms/step - accuracy: 0.5611 - loss: 0.3160 - val_accuracy: 0.4947 - val_loss: 0.3786 - learning_rate: 1.0000e-08\n",
      "Epoch 6/50\n",
      "\u001b[1m354/354\u001b[0m \u001b[32m━━━━━━━━━━━━━━━━━━━━\u001b[0m\u001b[37m\u001b[0m \u001b[1m73s\u001b[0m 205ms/step - accuracy: 0.5555 - loss: 0.3185 - val_accuracy: 0.4956 - val_loss: 0.3786 - learning_rate: 1.0000e-08\n",
      "Best last val:0.37652915716171265\n",
      "Best current val:0.37652915716171265\n",
      "Training iteration 5/5\n",
      "Epoch 1/50\n",
      "\u001b[1m354/354\u001b[0m \u001b[32m━━━━━━━━━━━━━━━━━━━━\u001b[0m\u001b[37m\u001b[0m \u001b[1m81s\u001b[0m 214ms/step - accuracy: 0.5515 - loss: 0.3269 - val_accuracy: 0.4982 - val_loss: 0.3774 - learning_rate: 1.0000e-07\n",
      "Epoch 2/50\n",
      "\u001b[1m354/354\u001b[0m \u001b[32m━━━━━━━━━━━━━━━━━━━━\u001b[0m\u001b[37m\u001b[0m \u001b[1m72s\u001b[0m 204ms/step - accuracy: 0.5600 - loss: 0.3169 - val_accuracy: 0.4938 - val_loss: 0.3787 - learning_rate: 1.0000e-07\n",
      "Epoch 3/50\n",
      "\u001b[1m354/354\u001b[0m \u001b[32m━━━━━━━━━━━━━━━━━━━━\u001b[0m\u001b[37m\u001b[0m \u001b[1m72s\u001b[0m 205ms/step - accuracy: 0.5615 - loss: 0.3202 - val_accuracy: 0.4929 - val_loss: 0.3795 - learning_rate: 1.0000e-07\n",
      "Epoch 4/50\n",
      "\u001b[1m354/354\u001b[0m \u001b[32m━━━━━━━━━━━━━━━━━━━━\u001b[0m\u001b[37m\u001b[0m \u001b[1m72s\u001b[0m 204ms/step - accuracy: 0.5558 - loss: 0.3177 - val_accuracy: 0.4912 - val_loss: 0.3784 - learning_rate: 1.0000e-07\n",
      "Epoch 5/50\n",
      "\u001b[1m354/354\u001b[0m \u001b[32m━━━━━━━━━━━━━━━━━━━━\u001b[0m\u001b[37m\u001b[0m \u001b[1m72s\u001b[0m 204ms/step - accuracy: 0.5553 - loss: 0.3204 - val_accuracy: 0.4929 - val_loss: 0.3784 - learning_rate: 1.0000e-08\n",
      "Epoch 6/50\n",
      "\u001b[1m354/354\u001b[0m \u001b[32m━━━━━━━━━━━━━━━━━━━━\u001b[0m\u001b[37m\u001b[0m \u001b[1m72s\u001b[0m 204ms/step - accuracy: 0.5547 - loss: 0.3176 - val_accuracy: 0.4938 - val_loss: 0.3784 - learning_rate: 1.0000e-08\n"
     ]
    }
   ],
   "source": [
    "best_model_path = f'Models/class{suffix}secondary{modelclass}temp.keras'\n",
    "model_checkpoint = ModelCheckpoint(best_model_path, monitor='val_loss', save_best_only=True, mode='min')\n",
    "best_val_loss = float('inf')\n",
    "for i in range (iterations2):\n",
    "    model = CreateModel(1e-7)\n",
    "    model.load_weights(f'Models/class_{suffix}{modelclass}_overallbest.keras')\n",
    "    early_stopping = EarlyStopping(monitor='val_loss', patience=5, restore_best_weights=True)\n",
    "    reduce_lr = ReduceLROnPlateau(monitor='val_loss', factor=0.1, patience=3, min_lr=1e-8)\n",
    "    \n",
    "    print(f\"Training iteration {i+1}/{iterations2}\")\n",
    "    history = model.fit(train_images, train_labels,\n",
    "                        epochs=50,\n",
    "                        batch_size=16,\n",
    "                        validation_data=(val_images, val_labels),\n",
    "                        class_weight=class_weights,\n",
    "                        callbacks=[early_stopping, reduce_lr, model_checkpoint])\n",
    "\n",
    "    model.load_weights(best_model_path)\n",
    "    val_loss = min(history.history['val_loss'])\n",
    "    if val_loss < best_val_loss:\n",
    "        best_val_loss = val_loss\n",
    "        print(f\"Best last val:{val_loss}\")\n",
    "        print(f\"Best current val:{best_val_loss}\")\n",
    "        model.save(f'Models/class_{suffix}{modelclass}_overallbestFIN.keras')"
   ]
  }
 ],
 "metadata": {
  "kernelspec": {
   "display_name": "Python 3 (ipykernel)",
   "language": "python",
   "name": "python3"
  },
  "language_info": {
   "codemirror_mode": {
    "name": "ipython",
    "version": 3
   },
   "file_extension": ".py",
   "mimetype": "text/x-python",
   "name": "python",
   "nbconvert_exporter": "python",
   "pygments_lexer": "ipython3",
   "version": "3.11.11"
  }
 },
 "nbformat": 4,
 "nbformat_minor": 5
}
