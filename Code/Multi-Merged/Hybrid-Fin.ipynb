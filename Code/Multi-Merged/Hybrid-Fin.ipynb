{
 "cells": [
  {
   "cell_type": "code",
   "execution_count": 1,
   "id": "05fd7ab0-9370-4970-a49b-9b597c45c208",
   "metadata": {},
   "outputs": [
    {
     "name": "stderr",
     "output_type": "stream",
     "text": [
      "WARNING: pip is being invoked by an old script wrapper. This will fail in a future version of pip.\n",
      "Please see https://github.com/pypa/pip/issues/5599 for advice on fixing the underlying issue.\n",
      "To avoid this problem you can invoke Python with '-m pip' instead of running pip directly.\n"
     ]
    },
    {
     "data": {
      "text/html": [
       "<pre style=\"white-space:pre;overflow-x:auto;line-height:normal;font-family:Menlo,'DejaVu Sans Mono',consolas,'Courier New',monospace\">Requirement already satisfied: seaborn in /opt/conda/lib/python3.11/site-packages (0.13.2)\n",
       "</pre>\n"
      ],
      "text/plain": [
       "Requirement already satisfied: seaborn in /opt/conda/lib/python3.11/site-packages (0.13.2)\n"
      ]
     },
     "metadata": {},
     "output_type": "display_data"
    },
    {
     "data": {
      "text/html": [
       "<pre style=\"white-space:pre;overflow-x:auto;line-height:normal;font-family:Menlo,'DejaVu Sans Mono',consolas,'Courier New',monospace\">Requirement already satisfied: numpy!=1.24.0,&gt;=1.20 in /opt/conda/lib/python3.11/site-packages (from seaborn) (1.26.4)\n",
       "</pre>\n"
      ],
      "text/plain": [
       "Requirement already satisfied: numpy!=1.24.0,>=1.20 in /opt/conda/lib/python3.11/site-packages (from seaborn) (1.26.4)\n"
      ]
     },
     "metadata": {},
     "output_type": "display_data"
    },
    {
     "data": {
      "text/html": [
       "<pre style=\"white-space:pre;overflow-x:auto;line-height:normal;font-family:Menlo,'DejaVu Sans Mono',consolas,'Courier New',monospace\">Requirement already satisfied: pandas&gt;=1.2 in /opt/conda/lib/python3.11/site-packages (from seaborn) (2.2.3)\n",
       "</pre>\n"
      ],
      "text/plain": [
       "Requirement already satisfied: pandas>=1.2 in /opt/conda/lib/python3.11/site-packages (from seaborn) (2.2.3)\n"
      ]
     },
     "metadata": {},
     "output_type": "display_data"
    },
    {
     "data": {
      "text/html": [
       "<pre style=\"white-space:pre;overflow-x:auto;line-height:normal;font-family:Menlo,'DejaVu Sans Mono',consolas,'Courier New',monospace\">Requirement already satisfied: matplotlib!=3.6.1,&gt;=3.4 in /opt/conda/lib/python3.11/site-packages (from seaborn) (3.9.3)\n",
       "</pre>\n"
      ],
      "text/plain": [
       "Requirement already satisfied: matplotlib!=3.6.1,>=3.4 in /opt/conda/lib/python3.11/site-packages (from seaborn) (3.9.3)\n"
      ]
     },
     "metadata": {},
     "output_type": "display_data"
    },
    {
     "data": {
      "text/html": [
       "<pre style=\"white-space:pre;overflow-x:auto;line-height:normal;font-family:Menlo,'DejaVu Sans Mono',consolas,'Courier New',monospace\">Requirement already satisfied: contourpy&gt;=1.0.1 in /opt/conda/lib/python3.11/site-packages (from matplotlib!=3.6.1,&gt;=3.4-&gt;seaborn) (1.3.1)\n",
       "</pre>\n"
      ],
      "text/plain": [
       "Requirement already satisfied: contourpy>=1.0.1 in /opt/conda/lib/python3.11/site-packages (from matplotlib!=3.6.1,>=3.4->seaborn) (1.3.1)\n"
      ]
     },
     "metadata": {},
     "output_type": "display_data"
    },
    {
     "data": {
      "text/html": [
       "<pre style=\"white-space:pre;overflow-x:auto;line-height:normal;font-family:Menlo,'DejaVu Sans Mono',consolas,'Courier New',monospace\">Requirement already satisfied: cycler&gt;=0.10 in /opt/conda/lib/python3.11/site-packages (from matplotlib!=3.6.1,&gt;=3.4-&gt;seaborn) (0.12.1)\n",
       "</pre>\n"
      ],
      "text/plain": [
       "Requirement already satisfied: cycler>=0.10 in /opt/conda/lib/python3.11/site-packages (from matplotlib!=3.6.1,>=3.4->seaborn) (0.12.1)\n"
      ]
     },
     "metadata": {},
     "output_type": "display_data"
    },
    {
     "data": {
      "text/html": [
       "<pre style=\"white-space:pre;overflow-x:auto;line-height:normal;font-family:Menlo,'DejaVu Sans Mono',consolas,'Courier New',monospace\">Requirement already satisfied: fonttools&gt;=4.22.0 in /opt/conda/lib/python3.11/site-packages (from matplotlib!=3.6.1,&gt;=3.4-&gt;seaborn) (4.55.3)\n",
       "</pre>\n"
      ],
      "text/plain": [
       "Requirement already satisfied: fonttools>=4.22.0 in /opt/conda/lib/python3.11/site-packages (from matplotlib!=3.6.1,>=3.4->seaborn) (4.55.3)\n"
      ]
     },
     "metadata": {},
     "output_type": "display_data"
    },
    {
     "data": {
      "text/html": [
       "<pre style=\"white-space:pre;overflow-x:auto;line-height:normal;font-family:Menlo,'DejaVu Sans Mono',consolas,'Courier New',monospace\">Requirement already satisfied: kiwisolver&gt;=1.3.1 in /opt/conda/lib/python3.11/site-packages (from matplotlib!=3.6.1,&gt;=3.4-&gt;seaborn) (1.4.7)\n",
       "</pre>\n"
      ],
      "text/plain": [
       "Requirement already satisfied: kiwisolver>=1.3.1 in /opt/conda/lib/python3.11/site-packages (from matplotlib!=3.6.1,>=3.4->seaborn) (1.4.7)\n"
      ]
     },
     "metadata": {},
     "output_type": "display_data"
    },
    {
     "data": {
      "text/html": [
       "<pre style=\"white-space:pre;overflow-x:auto;line-height:normal;font-family:Menlo,'DejaVu Sans Mono',consolas,'Courier New',monospace\">Requirement already satisfied: packaging&gt;=20.0 in /opt/conda/lib/python3.11/site-packages (from matplotlib!=3.6.1,&gt;=3.4-&gt;seaborn) (24.2)\n",
       "</pre>\n"
      ],
      "text/plain": [
       "Requirement already satisfied: packaging>=20.0 in /opt/conda/lib/python3.11/site-packages (from matplotlib!=3.6.1,>=3.4->seaborn) (24.2)\n"
      ]
     },
     "metadata": {},
     "output_type": "display_data"
    },
    {
     "data": {
      "text/html": [
       "<pre style=\"white-space:pre;overflow-x:auto;line-height:normal;font-family:Menlo,'DejaVu Sans Mono',consolas,'Courier New',monospace\">Requirement already satisfied: pillow&gt;=8 in /opt/conda/lib/python3.11/site-packages (from matplotlib!=3.6.1,&gt;=3.4-&gt;seaborn) (10.4.0)\n",
       "</pre>\n"
      ],
      "text/plain": [
       "Requirement already satisfied: pillow>=8 in /opt/conda/lib/python3.11/site-packages (from matplotlib!=3.6.1,>=3.4->seaborn) (10.4.0)\n"
      ]
     },
     "metadata": {},
     "output_type": "display_data"
    },
    {
     "data": {
      "text/html": [
       "<pre style=\"white-space:pre;overflow-x:auto;line-height:normal;font-family:Menlo,'DejaVu Sans Mono',consolas,'Courier New',monospace\">Requirement already satisfied: pyparsing&gt;=2.3.1 in /opt/conda/lib/python3.11/site-packages (from matplotlib!=3.6.1,&gt;=3.4-&gt;seaborn) (3.2.0)\n",
       "</pre>\n"
      ],
      "text/plain": [
       "Requirement already satisfied: pyparsing>=2.3.1 in /opt/conda/lib/python3.11/site-packages (from matplotlib!=3.6.1,>=3.4->seaborn) (3.2.0)\n"
      ]
     },
     "metadata": {},
     "output_type": "display_data"
    },
    {
     "data": {
      "text/html": [
       "<pre style=\"white-space:pre;overflow-x:auto;line-height:normal;font-family:Menlo,'DejaVu Sans Mono',consolas,'Courier New',monospace\">Requirement already satisfied: python-dateutil&gt;=2.7 in /opt/conda/lib/python3.11/site-packages (from matplotlib!=3.6.1,&gt;=3.4-&gt;seaborn) (2.9.0.post0)\n",
       "</pre>\n"
      ],
      "text/plain": [
       "Requirement already satisfied: python-dateutil>=2.7 in /opt/conda/lib/python3.11/site-packages (from matplotlib!=3.6.1,>=3.4->seaborn) (2.9.0.post0)\n"
      ]
     },
     "metadata": {},
     "output_type": "display_data"
    },
    {
     "data": {
      "text/html": [
       "<pre style=\"white-space:pre;overflow-x:auto;line-height:normal;font-family:Menlo,'DejaVu Sans Mono',consolas,'Courier New',monospace\">Requirement already satisfied: pytz&gt;=2020.1 in /opt/conda/lib/python3.11/site-packages (from pandas&gt;=1.2-&gt;seaborn) (2023.3)\n",
       "</pre>\n"
      ],
      "text/plain": [
       "Requirement already satisfied: pytz>=2020.1 in /opt/conda/lib/python3.11/site-packages (from pandas>=1.2->seaborn) (2023.3)\n"
      ]
     },
     "metadata": {},
     "output_type": "display_data"
    },
    {
     "data": {
      "text/html": [
       "<pre style=\"white-space:pre;overflow-x:auto;line-height:normal;font-family:Menlo,'DejaVu Sans Mono',consolas,'Courier New',monospace\">Requirement already satisfied: tzdata&gt;=2022.7 in /opt/conda/lib/python3.11/site-packages (from pandas&gt;=1.2-&gt;seaborn) (2024.2)\n",
       "</pre>\n"
      ],
      "text/plain": [
       "Requirement already satisfied: tzdata>=2022.7 in /opt/conda/lib/python3.11/site-packages (from pandas>=1.2->seaborn) (2024.2)\n"
      ]
     },
     "metadata": {},
     "output_type": "display_data"
    },
    {
     "data": {
      "text/html": [
       "<pre style=\"white-space:pre;overflow-x:auto;line-height:normal;font-family:Menlo,'DejaVu Sans Mono',consolas,'Courier New',monospace\">Requirement already satisfied: six&gt;=1.5 in /opt/conda/lib/python3.11/site-packages (from python-dateutil&gt;=2.7-&gt;matplotlib!=3.6.1,&gt;=3.4-&gt;seaborn) (1.17.0)\n",
       "</pre>\n"
      ],
      "text/plain": [
       "Requirement already satisfied: six>=1.5 in /opt/conda/lib/python3.11/site-packages (from python-dateutil>=2.7->matplotlib!=3.6.1,>=3.4->seaborn) (1.17.0)\n"
      ]
     },
     "metadata": {},
     "output_type": "display_data"
    },
    {
     "name": "stdout",
     "output_type": "stream",
     "text": [
      "Initial class weights: {0: 0.6387396740847741, 1: 2.301935903692858}\n",
      "Start time:  2025-01-19 15:37:10.116819\n"
     ]
    },
    {
     "name": "stderr",
     "output_type": "stream",
     "text": [
      "WARNING: All log messages before absl::InitializeLog() is called are written to STDERR\n",
      "I0000 00:00:1737301030.272614    1976 cuda_executor.cc:1015] successful NUMA node read from SysFS had negative value (-1), but there must be at least one NUMA node, so returning NUMA node zero. See more at https://github.com/torvalds/linux/blob/v6.0/Documentation/ABI/testing/sysfs-bus-pci#L344-L355\n",
      "I0000 00:00:1737301030.327204    1976 cuda_executor.cc:1015] successful NUMA node read from SysFS had negative value (-1), but there must be at least one NUMA node, so returning NUMA node zero. See more at https://github.com/torvalds/linux/blob/v6.0/Documentation/ABI/testing/sysfs-bus-pci#L344-L355\n",
      "I0000 00:00:1737301030.330663    1976 cuda_executor.cc:1015] successful NUMA node read from SysFS had negative value (-1), but there must be at least one NUMA node, so returning NUMA node zero. See more at https://github.com/torvalds/linux/blob/v6.0/Documentation/ABI/testing/sysfs-bus-pci#L344-L355\n",
      "I0000 00:00:1737301030.334818    1976 cuda_executor.cc:1015] successful NUMA node read from SysFS had negative value (-1), but there must be at least one NUMA node, so returning NUMA node zero. See more at https://github.com/torvalds/linux/blob/v6.0/Documentation/ABI/testing/sysfs-bus-pci#L344-L355\n",
      "I0000 00:00:1737301030.337990    1976 cuda_executor.cc:1015] successful NUMA node read from SysFS had negative value (-1), but there must be at least one NUMA node, so returning NUMA node zero. See more at https://github.com/torvalds/linux/blob/v6.0/Documentation/ABI/testing/sysfs-bus-pci#L344-L355\n",
      "I0000 00:00:1737301030.340953    1976 cuda_executor.cc:1015] successful NUMA node read from SysFS had negative value (-1), but there must be at least one NUMA node, so returning NUMA node zero. See more at https://github.com/torvalds/linux/blob/v6.0/Documentation/ABI/testing/sysfs-bus-pci#L344-L355\n",
      "I0000 00:00:1737301030.530476    1976 cuda_executor.cc:1015] successful NUMA node read from SysFS had negative value (-1), but there must be at least one NUMA node, so returning NUMA node zero. See more at https://github.com/torvalds/linux/blob/v6.0/Documentation/ABI/testing/sysfs-bus-pci#L344-L355\n",
      "I0000 00:00:1737301030.532499    1976 cuda_executor.cc:1015] successful NUMA node read from SysFS had negative value (-1), but there must be at least one NUMA node, so returning NUMA node zero. See more at https://github.com/torvalds/linux/blob/v6.0/Documentation/ABI/testing/sysfs-bus-pci#L344-L355\n",
      "I0000 00:00:1737301030.534288    1976 cuda_executor.cc:1015] successful NUMA node read from SysFS had negative value (-1), but there must be at least one NUMA node, so returning NUMA node zero. See more at https://github.com/torvalds/linux/blob/v6.0/Documentation/ABI/testing/sysfs-bus-pci#L344-L355\n"
     ]
    },
    {
     "name": "stdout",
     "output_type": "stream",
     "text": [
      "Training iteration 1/5\n",
      "Epoch 1/50\n"
     ]
    },
    {
     "name": "stderr",
     "output_type": "stream",
     "text": [
      "I0000 00:00:1737301041.480763    2036 service.cc:146] XLA service 0x7eff5c018b50 initialized for platform CUDA (this does not guarantee that XLA will be used). Devices:\n",
      "I0000 00:00:1737301041.480856    2036 service.cc:154]   StreamExecutor device (0): Tesla T4, Compute Capability 7.5\n",
      "I0000 00:00:1737301059.785972    2036 device_compiler.h:188] Compiled cluster using XLA!  This line is logged at most once for the lifetime of the process.\n"
     ]
    },
    {
     "name": "stdout",
     "output_type": "stream",
     "text": [
      "\u001b[1m353/354\u001b[0m \u001b[32m━━━━━━━━━━━━━━━━━━━\u001b[0m\u001b[37m━\u001b[0m \u001b[1m0s\u001b[0m 181ms/step - accuracy: 0.3273 - loss: 0.5398"
     ]
    },
    {
     "name": "stderr",
     "output_type": "stream",
     "text": [
      "E0000 00:00:1737301128.027302    2033 gpu_timer.cc:183] Delay kernel timed out: measured time has sub-optimal accuracy. There may be a missing warmup execution, please investigate in Nsight Systems.\n",
      "E0000 00:00:1737301128.244935    2033 gpu_timer.cc:183] Delay kernel timed out: measured time has sub-optimal accuracy. There may be a missing warmup execution, please investigate in Nsight Systems.\n"
     ]
    },
    {
     "name": "stdout",
     "output_type": "stream",
     "text": [
      "\u001b[1m354/354\u001b[0m \u001b[32m━━━━━━━━━━━━━━━━━━━━\u001b[0m\u001b[37m\u001b[0m \u001b[1m113s\u001b[0m 260ms/step - accuracy: 0.3274 - loss: 0.5397 - val_accuracy: 0.3825 - val_loss: 0.4887 - learning_rate: 1.0000e-05\n",
      "Epoch 2/50\n",
      "\u001b[1m354/354\u001b[0m \u001b[32m━━━━━━━━━━━━━━━━━━━━\u001b[0m\u001b[37m\u001b[0m \u001b[1m72s\u001b[0m 204ms/step - accuracy: 0.4029 - loss: 0.4845 - val_accuracy: 0.4205 - val_loss: 0.4414 - learning_rate: 1.0000e-05\n",
      "Epoch 3/50\n",
      "\u001b[1m354/354\u001b[0m \u001b[32m━━━━━━━━━━━━━━━━━━━━\u001b[0m\u001b[37m\u001b[0m \u001b[1m72s\u001b[0m 204ms/step - accuracy: 0.4447 - loss: 0.4329 - val_accuracy: 0.4973 - val_loss: 0.4177 - learning_rate: 1.0000e-05\n",
      "Epoch 4/50\n",
      "\u001b[1m354/354\u001b[0m \u001b[32m━━━━━━━━━━━━━━━━━━━━\u001b[0m\u001b[37m\u001b[0m \u001b[1m73s\u001b[0m 205ms/step - accuracy: 0.4838 - loss: 0.4024 - val_accuracy: 0.4726 - val_loss: 0.4062 - learning_rate: 1.0000e-05\n",
      "Epoch 5/50\n",
      "\u001b[1m354/354\u001b[0m \u001b[32m━━━━━━━━━━━━━━━━━━━━\u001b[0m\u001b[37m\u001b[0m \u001b[1m71s\u001b[0m 201ms/step - accuracy: 0.5151 - loss: 0.3878 - val_accuracy: 0.4753 - val_loss: 0.4256 - learning_rate: 1.0000e-05\n",
      "Epoch 6/50\n",
      "\u001b[1m354/354\u001b[0m \u001b[32m━━━━━━━━━━━━━━━━━━━━\u001b[0m\u001b[37m\u001b[0m \u001b[1m73s\u001b[0m 205ms/step - accuracy: 0.5408 - loss: 0.3717 - val_accuracy: 0.5150 - val_loss: 0.3979 - learning_rate: 1.0000e-05\n",
      "Epoch 7/50\n",
      "\u001b[1m354/354\u001b[0m \u001b[32m━━━━━━━━━━━━━━━━━━━━\u001b[0m\u001b[37m\u001b[0m \u001b[1m73s\u001b[0m 205ms/step - accuracy: 0.5436 - loss: 0.3655 - val_accuracy: 0.5583 - val_loss: 0.3879 - learning_rate: 1.0000e-05\n",
      "Epoch 8/50\n",
      "\u001b[1m354/354\u001b[0m \u001b[32m━━━━━━━━━━━━━━━━━━━━\u001b[0m\u001b[37m\u001b[0m \u001b[1m71s\u001b[0m 202ms/step - accuracy: 0.5640 - loss: 0.3606 - val_accuracy: 0.5512 - val_loss: 0.4048 - learning_rate: 1.0000e-05\n",
      "Epoch 9/50\n",
      "\u001b[1m354/354\u001b[0m \u001b[32m━━━━━━━━━━━━━━━━━━━━\u001b[0m\u001b[37m\u001b[0m \u001b[1m72s\u001b[0m 202ms/step - accuracy: 0.5699 - loss: 0.3475 - val_accuracy: 0.5106 - val_loss: 0.4087 - learning_rate: 1.0000e-05\n",
      "Epoch 10/50\n",
      "\u001b[1m354/354\u001b[0m \u001b[32m━━━━━━━━━━━━━━━━━━━━\u001b[0m\u001b[37m\u001b[0m \u001b[1m71s\u001b[0m 202ms/step - accuracy: 0.6152 - loss: 0.3195 - val_accuracy: 0.5221 - val_loss: 0.4309 - learning_rate: 3.0000e-06\n",
      "Epoch 11/50\n",
      "\u001b[1m354/354\u001b[0m \u001b[32m━━━━━━━━━━━━━━━━━━━━\u001b[0m\u001b[37m\u001b[0m \u001b[1m72s\u001b[0m 202ms/step - accuracy: 0.6161 - loss: 0.3214 - val_accuracy: 0.5592 - val_loss: 0.4035 - learning_rate: 3.0000e-06\n",
      "Epoch 12/50\n",
      "\u001b[1m354/354\u001b[0m \u001b[32m━━━━━━━━━━━━━━━━━━━━\u001b[0m\u001b[37m\u001b[0m \u001b[1m72s\u001b[0m 202ms/step - accuracy: 0.6461 - loss: 0.3025 - val_accuracy: 0.5663 - val_loss: 0.3885 - learning_rate: 9.0000e-07\n",
      "Best current val:0.38787412643432617\n",
      "Training iteration 2/5\n",
      "Epoch 1/50\n",
      "\u001b[1m354/354\u001b[0m \u001b[32m━━━━━━━━━━━━━━━━━━━━\u001b[0m\u001b[37m\u001b[0m \u001b[1m79s\u001b[0m 208ms/step - accuracy: 0.3051 - loss: 0.5510 - val_accuracy: 0.3869 - val_loss: 0.4728 - learning_rate: 1.0000e-05\n",
      "Epoch 2/50\n",
      "\u001b[1m354/354\u001b[0m \u001b[32m━━━━━━━━━━━━━━━━━━━━\u001b[0m\u001b[37m\u001b[0m \u001b[1m71s\u001b[0m 200ms/step - accuracy: 0.3878 - loss: 0.4830 - val_accuracy: 0.4329 - val_loss: 0.4333 - learning_rate: 1.0000e-05\n",
      "Epoch 3/50\n",
      "\u001b[1m354/354\u001b[0m \u001b[32m━━━━━━━━━━━━━━━━━━━━\u001b[0m\u001b[37m\u001b[0m \u001b[1m71s\u001b[0m 201ms/step - accuracy: 0.4451 - loss: 0.4214 - val_accuracy: 0.4435 - val_loss: 0.4241 - learning_rate: 1.0000e-05\n",
      "Epoch 4/50\n",
      "\u001b[1m354/354\u001b[0m \u001b[32m━━━━━━━━━━━━━━━━━━━━\u001b[0m\u001b[37m\u001b[0m \u001b[1m71s\u001b[0m 201ms/step - accuracy: 0.4754 - loss: 0.4099 - val_accuracy: 0.4691 - val_loss: 0.4187 - learning_rate: 1.0000e-05\n",
      "Epoch 5/50\n",
      "\u001b[1m354/354\u001b[0m \u001b[32m━━━━━━━━━━━━━━━━━━━━\u001b[0m\u001b[37m\u001b[0m \u001b[1m71s\u001b[0m 201ms/step - accuracy: 0.5110 - loss: 0.3890 - val_accuracy: 0.4894 - val_loss: 0.4021 - learning_rate: 1.0000e-05\n",
      "Epoch 6/50\n",
      "\u001b[1m354/354\u001b[0m \u001b[32m━━━━━━━━━━━━━━━━━━━━\u001b[0m\u001b[37m\u001b[0m \u001b[1m71s\u001b[0m 201ms/step - accuracy: 0.5338 - loss: 0.3821 - val_accuracy: 0.5071 - val_loss: 0.4043 - learning_rate: 1.0000e-05\n",
      "Epoch 7/50\n",
      "\u001b[1m354/354\u001b[0m \u001b[32m━━━━━━━━━━━━━━━━━━━━\u001b[0m\u001b[37m\u001b[0m \u001b[1m71s\u001b[0m 201ms/step - accuracy: 0.5335 - loss: 0.3735 - val_accuracy: 0.5327 - val_loss: 0.3934 - learning_rate: 1.0000e-05\n",
      "Epoch 8/50\n",
      "\u001b[1m354/354\u001b[0m \u001b[32m━━━━━━━━━━━━━━━━━━━━\u001b[0m\u001b[37m\u001b[0m \u001b[1m71s\u001b[0m 201ms/step - accuracy: 0.5646 - loss: 0.3535 - val_accuracy: 0.5415 - val_loss: 0.3945 - learning_rate: 1.0000e-05\n",
      "Epoch 9/50\n",
      "\u001b[1m354/354\u001b[0m \u001b[32m━━━━━━━━━━━━━━━━━━━━\u001b[0m\u001b[37m\u001b[0m \u001b[1m71s\u001b[0m 201ms/step - accuracy: 0.5787 - loss: 0.3457 - val_accuracy: 0.5618 - val_loss: 0.3898 - learning_rate: 1.0000e-05\n",
      "Epoch 10/50\n",
      "\u001b[1m354/354\u001b[0m \u001b[32m━━━━━━━━━━━━━━━━━━━━\u001b[0m\u001b[37m\u001b[0m \u001b[1m71s\u001b[0m 202ms/step - accuracy: 0.6043 - loss: 0.3349 - val_accuracy: 0.5504 - val_loss: 0.3894 - learning_rate: 1.0000e-05\n",
      "Epoch 11/50\n",
      "\u001b[1m354/354\u001b[0m \u001b[32m━━━━━━━━━━━━━━━━━━━━\u001b[0m\u001b[37m\u001b[0m \u001b[1m71s\u001b[0m 202ms/step - accuracy: 0.6222 - loss: 0.3211 - val_accuracy: 0.5380 - val_loss: 0.3881 - learning_rate: 1.0000e-05\n",
      "Epoch 12/50\n",
      "\u001b[1m354/354\u001b[0m \u001b[32m━━━━━━━━━━━━━━━━━━━━\u001b[0m\u001b[37m\u001b[0m \u001b[1m71s\u001b[0m 202ms/step - accuracy: 0.6257 - loss: 0.3147 - val_accuracy: 0.5468 - val_loss: 0.4121 - learning_rate: 1.0000e-05\n",
      "Epoch 13/50\n",
      "\u001b[1m354/354\u001b[0m \u001b[32m━━━━━━━━━━━━━━━━━━━━\u001b[0m\u001b[37m\u001b[0m \u001b[1m71s\u001b[0m 202ms/step - accuracy: 0.6548 - loss: 0.2934 - val_accuracy: 0.5406 - val_loss: 0.4015 - learning_rate: 1.0000e-05\n",
      "Epoch 14/50\n",
      "\u001b[1m354/354\u001b[0m \u001b[32m━━━━━━━━━━━━━━━━━━━━\u001b[0m\u001b[37m\u001b[0m \u001b[1m71s\u001b[0m 202ms/step - accuracy: 0.6768 - loss: 0.2783 - val_accuracy: 0.5866 - val_loss: 0.3922 - learning_rate: 3.0000e-06\n",
      "Epoch 15/50\n",
      "\u001b[1m354/354\u001b[0m \u001b[32m━━━━━━━━━━━━━━━━━━━━\u001b[0m\u001b[37m\u001b[0m \u001b[1m71s\u001b[0m 202ms/step - accuracy: 0.6985 - loss: 0.2670 - val_accuracy: 0.5786 - val_loss: 0.3984 - learning_rate: 3.0000e-06\n",
      "Epoch 16/50\n",
      "\u001b[1m354/354\u001b[0m \u001b[32m━━━━━━━━━━━━━━━━━━━━\u001b[0m\u001b[37m\u001b[0m \u001b[1m71s\u001b[0m 202ms/step - accuracy: 0.7103 - loss: 0.2535 - val_accuracy: 0.5724 - val_loss: 0.3994 - learning_rate: 9.0000e-07\n",
      "Training iteration 3/5\n",
      "Epoch 1/50\n",
      "\u001b[1m354/354\u001b[0m \u001b[32m━━━━━━━━━━━━━━━━━━━━\u001b[0m\u001b[37m\u001b[0m \u001b[1m79s\u001b[0m 209ms/step - accuracy: 0.3379 - loss: 0.5515 - val_accuracy: 0.3843 - val_loss: 0.4737 - learning_rate: 1.0000e-05\n",
      "Epoch 2/50\n",
      "\u001b[1m354/354\u001b[0m \u001b[32m━━━━━━━━━━━━━━━━━━━━\u001b[0m\u001b[37m\u001b[0m \u001b[1m71s\u001b[0m 200ms/step - accuracy: 0.3901 - loss: 0.4849 - val_accuracy: 0.4249 - val_loss: 0.4395 - learning_rate: 1.0000e-05\n",
      "Epoch 3/50\n",
      "\u001b[1m354/354\u001b[0m \u001b[32m━━━━━━━━━━━━━━━━━━━━\u001b[0m\u001b[37m\u001b[0m \u001b[1m71s\u001b[0m 201ms/step - accuracy: 0.4478 - loss: 0.4382 - val_accuracy: 0.4223 - val_loss: 0.4530 - learning_rate: 1.0000e-05\n",
      "Epoch 4/50\n",
      "\u001b[1m354/354\u001b[0m \u001b[32m━━━━━━━━━━━━━━━━━━━━\u001b[0m\u001b[37m\u001b[0m \u001b[1m71s\u001b[0m 202ms/step - accuracy: 0.4765 - loss: 0.4060 - val_accuracy: 0.4770 - val_loss: 0.4177 - learning_rate: 1.0000e-05\n",
      "Epoch 5/50\n",
      "\u001b[1m354/354\u001b[0m \u001b[32m━━━━━━━━━━━━━━━━━━━━\u001b[0m\u001b[37m\u001b[0m \u001b[1m71s\u001b[0m 201ms/step - accuracy: 0.5329 - loss: 0.3834 - val_accuracy: 0.5018 - val_loss: 0.4209 - learning_rate: 1.0000e-05\n",
      "Epoch 6/50\n",
      "\u001b[1m354/354\u001b[0m \u001b[32m━━━━━━━━━━━━━━━━━━━━\u001b[0m\u001b[37m\u001b[0m \u001b[1m71s\u001b[0m 202ms/step - accuracy: 0.5253 - loss: 0.3817 - val_accuracy: 0.5398 - val_loss: 0.3910 - learning_rate: 1.0000e-05\n",
      "Epoch 7/50\n",
      "\u001b[1m354/354\u001b[0m \u001b[32m━━━━━━━━━━━━━━━━━━━━\u001b[0m\u001b[37m\u001b[0m \u001b[1m71s\u001b[0m 201ms/step - accuracy: 0.5477 - loss: 0.3650 - val_accuracy: 0.5265 - val_loss: 0.4032 - learning_rate: 1.0000e-05\n",
      "Epoch 8/50\n",
      "\u001b[1m354/354\u001b[0m \u001b[32m━━━━━━━━━━━━━━━━━━━━\u001b[0m\u001b[37m\u001b[0m \u001b[1m71s\u001b[0m 201ms/step - accuracy: 0.5706 - loss: 0.3569 - val_accuracy: 0.5371 - val_loss: 0.3941 - learning_rate: 1.0000e-05\n",
      "Epoch 9/50\n",
      "\u001b[1m354/354\u001b[0m \u001b[32m━━━━━━━━━━━━━━━━━━━━\u001b[0m\u001b[37m\u001b[0m \u001b[1m71s\u001b[0m 202ms/step - accuracy: 0.6192 - loss: 0.3269 - val_accuracy: 0.5627 - val_loss: 0.3906 - learning_rate: 3.0000e-06\n",
      "Epoch 10/50\n",
      "\u001b[1m354/354\u001b[0m \u001b[32m━━━━━━━━━━━━━━━━━━━━\u001b[0m\u001b[37m\u001b[0m \u001b[1m73s\u001b[0m 206ms/step - accuracy: 0.6245 - loss: 0.3172 - val_accuracy: 0.5565 - val_loss: 0.3814 - learning_rate: 3.0000e-06\n",
      "Epoch 11/50\n",
      "\u001b[1m354/354\u001b[0m \u001b[32m━━━━━━━━━━━━━━━━━━━━\u001b[0m\u001b[37m\u001b[0m \u001b[1m71s\u001b[0m 202ms/step - accuracy: 0.6171 - loss: 0.3202 - val_accuracy: 0.5442 - val_loss: 0.3909 - learning_rate: 3.0000e-06\n",
      "Epoch 12/50\n",
      "\u001b[1m354/354\u001b[0m \u001b[32m━━━━━━━━━━━━━━━━━━━━\u001b[0m\u001b[37m\u001b[0m \u001b[1m71s\u001b[0m 202ms/step - accuracy: 0.6373 - loss: 0.3140 - val_accuracy: 0.5707 - val_loss: 0.3969 - learning_rate: 3.0000e-06\n",
      "Epoch 13/50\n",
      "\u001b[1m354/354\u001b[0m \u001b[32m━━━━━━━━━━━━━━━━━━━━\u001b[0m\u001b[37m\u001b[0m \u001b[1m71s\u001b[0m 202ms/step - accuracy: 0.6422 - loss: 0.3018 - val_accuracy: 0.5724 - val_loss: 0.3896 - learning_rate: 9.0000e-07\n",
      "Epoch 14/50\n",
      "\u001b[1m354/354\u001b[0m \u001b[32m━━━━━━━━━━━━━━━━━━━━\u001b[0m\u001b[37m\u001b[0m \u001b[1m71s\u001b[0m 202ms/step - accuracy: 0.6578 - loss: 0.2953 - val_accuracy: 0.5504 - val_loss: 0.3934 - learning_rate: 9.0000e-07\n",
      "Epoch 15/50\n",
      "\u001b[1m354/354\u001b[0m \u001b[32m━━━━━━━━━━━━━━━━━━━━\u001b[0m\u001b[37m\u001b[0m \u001b[1m71s\u001b[0m 202ms/step - accuracy: 0.6451 - loss: 0.2984 - val_accuracy: 0.5707 - val_loss: 0.3908 - learning_rate: 2.7000e-07\n",
      "Best current val:0.38136428594589233\n",
      "Training iteration 4/5\n",
      "Epoch 1/50\n",
      "\u001b[1m354/354\u001b[0m \u001b[32m━━━━━━━━━━━━━━━━━━━━\u001b[0m\u001b[37m\u001b[0m \u001b[1m79s\u001b[0m 209ms/step - accuracy: 0.3423 - loss: 0.5484 - val_accuracy: 0.3772 - val_loss: 0.4848 - learning_rate: 1.0000e-05\n",
      "Epoch 2/50\n",
      "\u001b[1m354/354\u001b[0m \u001b[32m━━━━━━━━━━━━━━━━━━━━\u001b[0m\u001b[37m\u001b[0m \u001b[1m71s\u001b[0m 200ms/step - accuracy: 0.3963 - loss: 0.4890 - val_accuracy: 0.3958 - val_loss: 0.4648 - learning_rate: 1.0000e-05\n",
      "Epoch 3/50\n",
      "\u001b[1m354/354\u001b[0m \u001b[32m━━━━━━━━━━━━━━━━━━━━\u001b[0m\u001b[37m\u001b[0m \u001b[1m71s\u001b[0m 201ms/step - accuracy: 0.4481 - loss: 0.4238 - val_accuracy: 0.4558 - val_loss: 0.4207 - learning_rate: 1.0000e-05\n",
      "Epoch 4/50\n",
      "\u001b[1m354/354\u001b[0m \u001b[32m━━━━━━━━━━━━━━━━━━━━\u001b[0m\u001b[37m\u001b[0m \u001b[1m71s\u001b[0m 201ms/step - accuracy: 0.4683 - loss: 0.4103 - val_accuracy: 0.5168 - val_loss: 0.4052 - learning_rate: 1.0000e-05\n",
      "Epoch 5/50\n",
      "\u001b[1m354/354\u001b[0m \u001b[32m━━━━━━━━━━━━━━━━━━━━\u001b[0m\u001b[37m\u001b[0m \u001b[1m71s\u001b[0m 201ms/step - accuracy: 0.4995 - loss: 0.3964 - val_accuracy: 0.5265 - val_loss: 0.3986 - learning_rate: 1.0000e-05\n",
      "Epoch 6/50\n",
      "\u001b[1m354/354\u001b[0m \u001b[32m━━━━━━━━━━━━━━━━━━━━\u001b[0m\u001b[37m\u001b[0m \u001b[1m71s\u001b[0m 201ms/step - accuracy: 0.5215 - loss: 0.3793 - val_accuracy: 0.5327 - val_loss: 0.3938 - learning_rate: 1.0000e-05\n",
      "Epoch 7/50\n",
      "\u001b[1m354/354\u001b[0m \u001b[32m━━━━━━━━━━━━━━━━━━━━\u001b[0m\u001b[37m\u001b[0m \u001b[1m71s\u001b[0m 201ms/step - accuracy: 0.5532 - loss: 0.3662 - val_accuracy: 0.5300 - val_loss: 0.3912 - learning_rate: 1.0000e-05\n",
      "Epoch 8/50\n",
      "\u001b[1m354/354\u001b[0m \u001b[32m━━━━━━━━━━━━━━━━━━━━\u001b[0m\u001b[37m\u001b[0m \u001b[1m71s\u001b[0m 201ms/step - accuracy: 0.5648 - loss: 0.3588 - val_accuracy: 0.5380 - val_loss: 0.3886 - learning_rate: 1.0000e-05\n",
      "Epoch 9/50\n",
      "\u001b[1m354/354\u001b[0m \u001b[32m━━━━━━━━━━━━━━━━━━━━\u001b[0m\u001b[37m\u001b[0m \u001b[1m71s\u001b[0m 201ms/step - accuracy: 0.5821 - loss: 0.3440 - val_accuracy: 0.5442 - val_loss: 0.3903 - learning_rate: 1.0000e-05\n",
      "Epoch 10/50\n",
      "\u001b[1m354/354\u001b[0m \u001b[32m━━━━━━━━━━━━━━━━━━━━\u001b[0m\u001b[37m\u001b[0m \u001b[1m71s\u001b[0m 201ms/step - accuracy: 0.5954 - loss: 0.3353 - val_accuracy: 0.5769 - val_loss: 0.3823 - learning_rate: 1.0000e-05\n",
      "Epoch 11/50\n",
      "\u001b[1m354/354\u001b[0m \u001b[32m━━━━━━━━━━━━━━━━━━━━\u001b[0m\u001b[37m\u001b[0m \u001b[1m73s\u001b[0m 206ms/step - accuracy: 0.6098 - loss: 0.3243 - val_accuracy: 0.5769 - val_loss: 0.3772 - learning_rate: 1.0000e-05\n",
      "Epoch 12/50\n",
      "\u001b[1m354/354\u001b[0m \u001b[32m━━━━━━━━━━━━━━━━━━━━\u001b[0m\u001b[37m\u001b[0m \u001b[1m71s\u001b[0m 201ms/step - accuracy: 0.6194 - loss: 0.3159 - val_accuracy: 0.5574 - val_loss: 0.4023 - learning_rate: 1.0000e-05\n",
      "Epoch 13/50\n",
      "\u001b[1m354/354\u001b[0m \u001b[32m━━━━━━━━━━━━━━━━━━━━\u001b[0m\u001b[37m\u001b[0m \u001b[1m71s\u001b[0m 201ms/step - accuracy: 0.6393 - loss: 0.3018 - val_accuracy: 0.5459 - val_loss: 0.4148 - learning_rate: 1.0000e-05\n",
      "Epoch 14/50\n",
      "\u001b[1m354/354\u001b[0m \u001b[32m━━━━━━━━━━━━━━━━━━━━\u001b[0m\u001b[37m\u001b[0m \u001b[1m71s\u001b[0m 201ms/step - accuracy: 0.6577 - loss: 0.2781 - val_accuracy: 0.5857 - val_loss: 0.3849 - learning_rate: 3.0000e-06\n",
      "Epoch 15/50\n",
      "\u001b[1m354/354\u001b[0m \u001b[32m━━━━━━━━━━━━━━━━━━━━\u001b[0m\u001b[37m\u001b[0m \u001b[1m71s\u001b[0m 201ms/step - accuracy: 0.7008 - loss: 0.2577 - val_accuracy: 0.5707 - val_loss: 0.3895 - learning_rate: 3.0000e-06\n",
      "Epoch 16/50\n",
      "\u001b[1m354/354\u001b[0m \u001b[32m━━━━━━━━━━━━━━━━━━━━\u001b[0m\u001b[37m\u001b[0m \u001b[1m71s\u001b[0m 202ms/step - accuracy: 0.7121 - loss: 0.2509 - val_accuracy: 0.5830 - val_loss: 0.3925 - learning_rate: 9.0000e-07\n",
      "Best current val:0.37715399265289307\n",
      "Training iteration 5/5\n",
      "Epoch 1/50\n",
      "\u001b[1m354/354\u001b[0m \u001b[32m━━━━━━━━━━━━━━━━━━━━\u001b[0m\u001b[37m\u001b[0m \u001b[1m79s\u001b[0m 209ms/step - accuracy: 0.3350 - loss: 0.5468 - val_accuracy: 0.3887 - val_loss: 0.4699 - learning_rate: 1.0000e-05\n",
      "Epoch 2/50\n",
      "\u001b[1m354/354\u001b[0m \u001b[32m━━━━━━━━━━━━━━━━━━━━\u001b[0m\u001b[37m\u001b[0m \u001b[1m71s\u001b[0m 201ms/step - accuracy: 0.4034 - loss: 0.4692 - val_accuracy: 0.4611 - val_loss: 0.4192 - learning_rate: 1.0000e-05\n",
      "Epoch 3/50\n",
      "\u001b[1m354/354\u001b[0m \u001b[32m━━━━━━━━━━━━━━━━━━━━\u001b[0m\u001b[37m\u001b[0m \u001b[1m71s\u001b[0m 201ms/step - accuracy: 0.4643 - loss: 0.4177 - val_accuracy: 0.4567 - val_loss: 0.4352 - learning_rate: 1.0000e-05\n",
      "Epoch 4/50\n",
      "\u001b[1m354/354\u001b[0m \u001b[32m━━━━━━━━━━━━━━━━━━━━\u001b[0m\u001b[37m\u001b[0m \u001b[1m71s\u001b[0m 202ms/step - accuracy: 0.4866 - loss: 0.4046 - val_accuracy: 0.5424 - val_loss: 0.3967 - learning_rate: 1.0000e-05\n",
      "Epoch 5/50\n",
      "\u001b[1m354/354\u001b[0m \u001b[32m━━━━━━━━━━━━━━━━━━━━\u001b[0m\u001b[37m\u001b[0m \u001b[1m71s\u001b[0m 202ms/step - accuracy: 0.5143 - loss: 0.3885 - val_accuracy: 0.5018 - val_loss: 0.3970 - learning_rate: 1.0000e-05\n",
      "Epoch 6/50\n",
      "\u001b[1m354/354\u001b[0m \u001b[32m━━━━━━━━━━━━━━━━━━━━\u001b[0m\u001b[37m\u001b[0m \u001b[1m72s\u001b[0m 202ms/step - accuracy: 0.5264 - loss: 0.3805 - val_accuracy: 0.5292 - val_loss: 0.3890 - learning_rate: 1.0000e-05\n",
      "Epoch 7/50\n",
      "\u001b[1m354/354\u001b[0m \u001b[32m━━━━━━━━━━━━━━━━━━━━\u001b[0m\u001b[37m\u001b[0m \u001b[1m72s\u001b[0m 202ms/step - accuracy: 0.5323 - loss: 0.3718 - val_accuracy: 0.5256 - val_loss: 0.3987 - learning_rate: 1.0000e-05\n",
      "Epoch 8/50\n",
      "\u001b[1m354/354\u001b[0m \u001b[32m━━━━━━━━━━━━━━━━━━━━\u001b[0m\u001b[37m\u001b[0m \u001b[1m72s\u001b[0m 202ms/step - accuracy: 0.5810 - loss: 0.3531 - val_accuracy: 0.5636 - val_loss: 0.3847 - learning_rate: 1.0000e-05\n",
      "Epoch 9/50\n",
      "\u001b[1m354/354\u001b[0m \u001b[32m━━━━━━━━━━━━━━━━━━━━\u001b[0m\u001b[37m\u001b[0m \u001b[1m72s\u001b[0m 202ms/step - accuracy: 0.5825 - loss: 0.3450 - val_accuracy: 0.5495 - val_loss: 0.3972 - learning_rate: 1.0000e-05\n",
      "Epoch 10/50\n",
      "\u001b[1m354/354\u001b[0m \u001b[32m━━━━━━━━━━━━━━━━━━━━\u001b[0m\u001b[37m\u001b[0m \u001b[1m72s\u001b[0m 202ms/step - accuracy: 0.6064 - loss: 0.3291 - val_accuracy: 0.5389 - val_loss: 0.4026 - learning_rate: 1.0000e-05\n",
      "Epoch 11/50\n",
      "\u001b[1m354/354\u001b[0m \u001b[32m━━━━━━━━━━━━━━━━━━━━\u001b[0m\u001b[37m\u001b[0m \u001b[1m72s\u001b[0m 202ms/step - accuracy: 0.6511 - loss: 0.3021 - val_accuracy: 0.5627 - val_loss: 0.3830 - learning_rate: 3.0000e-06\n",
      "Epoch 12/50\n",
      "\u001b[1m354/354\u001b[0m \u001b[32m━━━━━━━━━━━━━━━━━━━━\u001b[0m\u001b[37m\u001b[0m \u001b[1m72s\u001b[0m 202ms/step - accuracy: 0.6438 - loss: 0.2982 - val_accuracy: 0.5654 - val_loss: 0.3990 - learning_rate: 3.0000e-06\n",
      "Epoch 13/50\n",
      "\u001b[1m354/354\u001b[0m \u001b[32m━━━━━━━━━━━━━━━━━━━━\u001b[0m\u001b[37m\u001b[0m \u001b[1m72s\u001b[0m 202ms/step - accuracy: 0.6591 - loss: 0.2884 - val_accuracy: 0.5742 - val_loss: 0.3887 - learning_rate: 3.0000e-06\n",
      "Epoch 14/50\n",
      "\u001b[1m354/354\u001b[0m \u001b[32m━━━━━━━━━━━━━━━━━━━━\u001b[0m\u001b[37m\u001b[0m \u001b[1m72s\u001b[0m 203ms/step - accuracy: 0.6893 - loss: 0.2764 - val_accuracy: 0.5716 - val_loss: 0.3898 - learning_rate: 9.0000e-07\n",
      "Epoch 15/50\n",
      "\u001b[1m354/354\u001b[0m \u001b[32m━━━━━━━━━━━━━━━━━━━━\u001b[0m\u001b[37m\u001b[0m \u001b[1m72s\u001b[0m 202ms/step - accuracy: 0.6809 - loss: 0.2759 - val_accuracy: 0.5742 - val_loss: 0.3921 - learning_rate: 9.0000e-07\n",
      "Epoch 16/50\n",
      "\u001b[1m354/354\u001b[0m \u001b[32m━━━━━━━━━━━━━━━━━━━━\u001b[0m\u001b[37m\u001b[0m \u001b[1m72s\u001b[0m 202ms/step - accuracy: 0.6821 - loss: 0.2765 - val_accuracy: 0.5733 - val_loss: 0.3916 - learning_rate: 2.7000e-07\n",
      "Training Complete\n"
     ]
    }
   ],
   "source": [
    "import os\n",
    "os.environ['TF_CPP_MIN_LOG_LEVEL'] = '3'\n",
    "import numpy as np\n",
    "import random\n",
    "import datetime\n",
    "import matplotlib.pyplot as plt\n",
    "import pip\n",
    "pip.main(['install','seaborn'])\n",
    "import seaborn as sns\n",
    "from sklearn.metrics import confusion_matrix\n",
    "from sklearn.utils.class_weight import compute_class_weight\n",
    "from keras.applications import DenseNet121, VGG19\n",
    "from keras.models import Model\n",
    "from keras.layers import Dense, Flatten, Dropout, LeakyReLU, GlobalAveragePooling2D, Conv2D, Input\n",
    "from keras.optimizers import Adam\n",
    "from keras.losses import BinaryCrossentropy\n",
    "from keras.callbacks import EarlyStopping, ReduceLROnPlateau, ModelCheckpoint\n",
    "\n",
    "modelclass = 'allMerged'\n",
    "suffix = 'FIN'\n",
    "iterations = 5\n",
    "iterations2 = 5\n",
    "\n",
    "def CreateModel(learn_rate):\n",
    "    input_tensor = Input(shape=(256, 256, 3))\n",
    "    base_model = VGG19(weights='imagenet', include_top=False, input_shape=(256, 256, 3))\n",
    "\n",
    "    for layer in base_model.layers[:10]:\n",
    "        layer.trainable = False\n",
    "        \n",
    "    x = base_model.output\n",
    "    x = GlobalAveragePooling2D()(x)\n",
    "    x = Dense(1024)(x)\n",
    "    x = LeakyReLU(negative_slope=0.01)(x)\n",
    "    x = Dropout(0.5)(x)\n",
    "    predictions = Dense(5, activation='sigmoid')(x)\n",
    "\n",
    "    model = Model(inputs=base_model.input, outputs=predictions)\n",
    "    model.compile(optimizer=Adam(learning_rate=learn_rate),\n",
    "                  loss=BinaryCrossentropy(),\n",
    "                  metrics=['accuracy'])\n",
    "    return model\n",
    "\n",
    "base_dir = '../../Data/Arrays/'\n",
    "class_dir = 'Converted Arrays/'\n",
    "train_images = np.load(os.path.join(base_dir, 'train_images.npy'))\n",
    "train_labels = np.load(os.path.join(class_dir, 'train_labels_classallMerged.npy'))\n",
    "val_images = np.load(os.path.join(base_dir, 'val_images.npy'))\n",
    "val_labels = np.load(os.path.join(class_dir, 'val_labels_classallMerged.npy'))\n",
    "\n",
    "if len(train_images.shape) == 3:\n",
    "    train_images = np.expand_dims(train_images, axis=-1)\n",
    "    train_images = np.repeat(train_images, 3, axis=-1)\n",
    "\n",
    "if len(val_images.shape) == 3:\n",
    "    val_images = np.expand_dims(val_images, axis=-1)\n",
    "    val_images = np.repeat(val_images, 3, axis=-1)\n",
    "\n",
    "class_weights = compute_class_weight('balanced', classes=np.unique(train_labels), y=train_labels.flatten())\n",
    "class_weights = {i: class_weights[i] for i in range(len(class_weights))}\n",
    "\n",
    "print(\"Initial class weights:\", class_weights)\n",
    "print(\"Start time: \", datetime.datetime.now())\n",
    "\n",
    "best_model_path = f'Models/class{suffix}{modelclass}temp.keras'\n",
    "model_checkpoint = ModelCheckpoint(best_model_path, monitor='val_loss', save_best_only=True, mode='min')\n",
    "\n",
    "best_val_loss = float('inf')\n",
    "for i in range(iterations):\n",
    "    early_stopping = EarlyStopping(monitor='val_loss', patience=5, restore_best_weights=True)\n",
    "    reduce_lr = ReduceLROnPlateau(monitor='val_loss', factor=0.3, patience=2, min_lr=1e-7)\n",
    "    model = CreateModel(1e-5)\n",
    "    print(f\"Training iteration {i+1}/{iterations}\")\n",
    "    history = model.fit(train_images, train_labels,\n",
    "                        epochs=50,\n",
    "                        batch_size=16,\n",
    "                        validation_data=(val_images, val_labels),\n",
    "                        class_weight=class_weights,\n",
    "                        callbacks=[early_stopping, reduce_lr, model_checkpoint])\n",
    "\n",
    "    model.load_weights(best_model_path)\n",
    "    val_loss = min(history.history['val_loss'])\n",
    "    if val_loss < best_val_loss:\n",
    "        best_val_loss = val_loss\n",
    "        print(f\"Best current val:{best_val_loss}\")\n",
    "        model.save(f'Models/class_{suffix}{modelclass}_overallbest.keras')\n",
    "\n",
    "print(\"Training Complete\")"
   ]
  },
  {
   "cell_type": "code",
   "execution_count": null,
   "id": "b5bd43c1-b11b-4c5c-956e-06e030bd4e1e",
   "metadata": {},
   "outputs": [
    {
     "name": "stderr",
     "output_type": "stream",
     "text": [
      "/opt/conda/lib/python3.11/site-packages/keras/src/saving/saving_lib.py:719: UserWarning: Skipping variable loading for optimizer 'adam', because it has 2 variables whereas the saved optimizer has 46 variables. \n",
      "  saveable.load_own_variables(weights_store.get(inner_path))\n"
     ]
    },
    {
     "name": "stdout",
     "output_type": "stream",
     "text": [
      "Training iteration 1/5\n",
      "Epoch 1/50\n",
      "\u001b[1m354/354\u001b[0m \u001b[32m━━━━━━━━━━━━━━━━━━━━\u001b[0m\u001b[37m\u001b[0m \u001b[1m80s\u001b[0m 214ms/step - accuracy: 0.6493 - loss: 0.3047 - val_accuracy: 0.5707 - val_loss: 0.3851 - learning_rate: 1.0000e-07\n",
      "Epoch 2/50\n",
      "\u001b[1m354/354\u001b[0m \u001b[32m━━━━━━━━━━━━━━━━━━━━\u001b[0m\u001b[37m\u001b[0m \u001b[1m73s\u001b[0m 206ms/step - accuracy: 0.6391 - loss: 0.2984 - val_accuracy: 0.5663 - val_loss: 0.3850 - learning_rate: 1.0000e-07\n",
      "Epoch 3/50\n",
      "\u001b[1m354/354\u001b[0m \u001b[32m━━━━━━━━━━━━━━━━━━━━\u001b[0m\u001b[37m\u001b[0m \u001b[1m72s\u001b[0m 203ms/step - accuracy: 0.6496 - loss: 0.2925 - val_accuracy: 0.5707 - val_loss: 0.3853 - learning_rate: 1.0000e-07\n",
      "Epoch 4/50\n",
      "\u001b[1m354/354\u001b[0m \u001b[32m━━━━━━━━━━━━━━━━━━━━\u001b[0m\u001b[37m\u001b[0m \u001b[1m72s\u001b[0m 202ms/step - accuracy: 0.6547 - loss: 0.2912 - val_accuracy: 0.5698 - val_loss: 0.3859 - learning_rate: 1.0000e-07\n",
      "Epoch 5/50\n",
      "\u001b[1m354/354\u001b[0m \u001b[32m━━━━━━━━━━━━━━━━━━━━\u001b[0m\u001b[37m\u001b[0m \u001b[1m72s\u001b[0m 202ms/step - accuracy: 0.6564 - loss: 0.2890 - val_accuracy: 0.5707 - val_loss: 0.3862 - learning_rate: 1.0000e-07\n",
      "Epoch 6/50\n",
      "\u001b[1m354/354\u001b[0m \u001b[32m━━━━━━━━━━━━━━━━━━━━\u001b[0m\u001b[37m\u001b[0m \u001b[1m72s\u001b[0m 202ms/step - accuracy: 0.6437 - loss: 0.2924 - val_accuracy: 0.5689 - val_loss: 0.3858 - learning_rate: 1.0000e-08\n",
      "Epoch 7/50\n",
      "\u001b[1m354/354\u001b[0m \u001b[32m━━━━━━━━━━━━━━━━━━━━\u001b[0m\u001b[37m\u001b[0m \u001b[1m72s\u001b[0m 203ms/step - accuracy: 0.6441 - loss: 0.2967 - val_accuracy: 0.5698 - val_loss: 0.3857 - learning_rate: 1.0000e-08\n",
      "Best last val:0.38497593998908997\n",
      "Best current val:0.38497593998908997\n",
      "Training iteration 2/5\n",
      "Epoch 1/50\n",
      "\u001b[1m354/354\u001b[0m \u001b[32m━━━━━━━━━━━━━━━━━━━━\u001b[0m\u001b[37m\u001b[0m \u001b[1m81s\u001b[0m 214ms/step - accuracy: 0.6627 - loss: 0.3056 - val_accuracy: 0.5689 - val_loss: 0.3839 - learning_rate: 1.0000e-07\n",
      "Epoch 2/50\n",
      "\u001b[1m354/354\u001b[0m \u001b[32m━━━━━━━━━━━━━━━━━━━━\u001b[0m\u001b[37m\u001b[0m \u001b[1m71s\u001b[0m 202ms/step - accuracy: 0.6486 - loss: 0.2998 - val_accuracy: 0.5680 - val_loss: 0.3849 - learning_rate: 1.0000e-07\n",
      "Epoch 3/50\n",
      "\u001b[1m354/354\u001b[0m \u001b[32m━━━━━━━━━━━━━━━━━━━━\u001b[0m\u001b[37m\u001b[0m \u001b[1m72s\u001b[0m 202ms/step - accuracy: 0.6439 - loss: 0.3019 - val_accuracy: 0.5680 - val_loss: 0.3851 - learning_rate: 1.0000e-07\n",
      "Epoch 4/50\n",
      "\u001b[1m354/354\u001b[0m \u001b[32m━━━━━━━━━━━━━━━━━━━━\u001b[0m\u001b[37m\u001b[0m \u001b[1m72s\u001b[0m 203ms/step - accuracy: 0.6481 - loss: 0.2910 - val_accuracy: 0.5707 - val_loss: 0.3864 - learning_rate: 1.0000e-07\n",
      "Epoch 5/50\n",
      "\u001b[1m354/354\u001b[0m \u001b[32m━━━━━━━━━━━━━━━━━━━━\u001b[0m\u001b[37m\u001b[0m \u001b[1m72s\u001b[0m 203ms/step - accuracy: 0.6530 - loss: 0.2909 - val_accuracy: 0.5689 - val_loss: 0.3860 - learning_rate: 1.0000e-08\n",
      "Epoch 6/50\n",
      "\u001b[1m354/354\u001b[0m \u001b[32m━━━━━━━━━━━━━━━━━━━━\u001b[0m\u001b[37m\u001b[0m \u001b[1m72s\u001b[0m 203ms/step - accuracy: 0.6474 - loss: 0.2903 - val_accuracy: 0.5689 - val_loss: 0.3857 - learning_rate: 1.0000e-08\n",
      "Best last val:0.38394635915756226\n",
      "Best current val:0.38394635915756226\n",
      "Training iteration 3/5\n",
      "Epoch 1/50\n",
      "\u001b[1m354/354\u001b[0m \u001b[32m━━━━━━━━━━━━━━━━━━━━\u001b[0m\u001b[37m\u001b[0m \u001b[1m79s\u001b[0m 210ms/step - accuracy: 0.6370 - loss: 0.3031 - val_accuracy: 0.5689 - val_loss: 0.3847 - learning_rate: 1.0000e-07\n",
      "Epoch 2/50\n",
      "\u001b[1m354/354\u001b[0m \u001b[32m━━━━━━━━━━━━━━━━━━━━\u001b[0m\u001b[37m\u001b[0m \u001b[1m72s\u001b[0m 202ms/step - accuracy: 0.6466 - loss: 0.3006 - val_accuracy: 0.5689 - val_loss: 0.3845 - learning_rate: 1.0000e-07\n",
      "Epoch 3/50\n",
      "\u001b[1m354/354\u001b[0m \u001b[32m━━━━━━━━━━━━━━━━━━━━\u001b[0m\u001b[37m\u001b[0m \u001b[1m72s\u001b[0m 202ms/step - accuracy: 0.6576 - loss: 0.2934 - val_accuracy: 0.5716 - val_loss: 0.3859 - learning_rate: 1.0000e-07\n",
      "Epoch 4/50\n",
      "\u001b[1m354/354\u001b[0m \u001b[32m━━━━━━━━━━━━━━━━━━━━\u001b[0m\u001b[37m\u001b[0m \u001b[1m72s\u001b[0m 203ms/step - accuracy: 0.6416 - loss: 0.2914 - val_accuracy: 0.5724 - val_loss: 0.3860 - learning_rate: 1.0000e-07\n",
      "Epoch 5/50\n",
      "\u001b[1m354/354\u001b[0m \u001b[32m━━━━━━━━━━━━━━━━━━━━\u001b[0m\u001b[37m\u001b[0m \u001b[1m72s\u001b[0m 202ms/step - accuracy: 0.6536 - loss: 0.2880 - val_accuracy: 0.5716 - val_loss: 0.3855 - learning_rate: 1.0000e-07\n",
      "Epoch 6/50\n",
      "\u001b[1m354/354\u001b[0m \u001b[32m━━━━━━━━━━━━━━━━━━━━\u001b[0m\u001b[37m\u001b[0m \u001b[1m72s\u001b[0m 203ms/step - accuracy: 0.6632 - loss: 0.2881 - val_accuracy: 0.5716 - val_loss: 0.3854 - learning_rate: 1.0000e-08\n",
      "Epoch 7/50\n",
      "\u001b[1m354/354\u001b[0m \u001b[32m━━━━━━━━━━━━━━━━━━━━\u001b[0m\u001b[37m\u001b[0m \u001b[1m72s\u001b[0m 203ms/step - accuracy: 0.6444 - loss: 0.2924 - val_accuracy: 0.5724 - val_loss: 0.3854 - learning_rate: 1.0000e-08\n",
      "Training iteration 4/5\n",
      "Epoch 1/50\n",
      "\u001b[1m354/354\u001b[0m \u001b[32m━━━━━━━━━━━━━━━━━━━━\u001b[0m\u001b[37m\u001b[0m \u001b[1m81s\u001b[0m 215ms/step - accuracy: 0.6507 - loss: 0.3041 - val_accuracy: 0.5680 - val_loss: 0.3839 - learning_rate: 1.0000e-07\n",
      "Epoch 2/50\n",
      "\u001b[1m354/354\u001b[0m \u001b[32m━━━━━━━━━━━━━━━━━━━━\u001b[0m\u001b[37m\u001b[0m \u001b[1m72s\u001b[0m 202ms/step - accuracy: 0.6489 - loss: 0.2954 - val_accuracy: 0.5680 - val_loss: 0.3851 - learning_rate: 1.0000e-07\n",
      "Epoch 3/50\n",
      "\u001b[1m354/354\u001b[0m \u001b[32m━━━━━━━━━━━━━━━━━━━━\u001b[0m\u001b[37m\u001b[0m \u001b[1m72s\u001b[0m 203ms/step - accuracy: 0.6380 - loss: 0.2943 - val_accuracy: 0.5707 - val_loss: 0.3864 - learning_rate: 1.0000e-07\n",
      "Epoch 4/50\n",
      "\u001b[1m354/354\u001b[0m \u001b[32m━━━━━━━━━━━━━━━━━━━━\u001b[0m\u001b[37m\u001b[0m \u001b[1m72s\u001b[0m 202ms/step - accuracy: 0.6501 - loss: 0.2892 - val_accuracy: 0.5707 - val_loss: 0.3855 - learning_rate: 1.0000e-07\n",
      "Epoch 5/50\n",
      "\u001b[1m354/354\u001b[0m \u001b[32m━━━━━━━━━━━━━━━━━━━━\u001b[0m\u001b[37m\u001b[0m \u001b[1m72s\u001b[0m 203ms/step - accuracy: 0.6416 - loss: 0.2969 - val_accuracy: 0.5707 - val_loss: 0.3855 - learning_rate: 1.0000e-08\n",
      "Epoch 6/50\n",
      "\u001b[1m354/354\u001b[0m \u001b[32m━━━━━━━━━━━━━━━━━━━━\u001b[0m\u001b[37m\u001b[0m \u001b[1m72s\u001b[0m 203ms/step - accuracy: 0.6598 - loss: 0.2924 - val_accuracy: 0.5707 - val_loss: 0.3854 - learning_rate: 1.0000e-08\n",
      "Best last val:0.38387447595596313\n",
      "Best current val:0.38387447595596313\n",
      "Training iteration 5/5\n",
      "Epoch 1/50\n",
      "\u001b[1m354/354\u001b[0m \u001b[32m━━━━━━━━━━━━━━━━━━━━\u001b[0m\u001b[37m\u001b[0m \u001b[1m81s\u001b[0m 215ms/step - accuracy: 0.6550 - loss: 0.3044 - val_accuracy: 0.5707 - val_loss: 0.3833 - learning_rate: 1.0000e-07\n",
      "Epoch 2/50\n",
      "\u001b[1m354/354\u001b[0m \u001b[32m━━━━━━━━━━━━━━━━━━━━\u001b[0m\u001b[37m\u001b[0m \u001b[1m71s\u001b[0m 201ms/step - accuracy: 0.6433 - loss: 0.2981 - val_accuracy: 0.5698 - val_loss: 0.3848 - learning_rate: 1.0000e-07\n",
      "Epoch 3/50\n",
      "\u001b[1m354/354\u001b[0m \u001b[32m━━━━━━━━━━━━━━━━━━━━\u001b[0m\u001b[37m\u001b[0m \u001b[1m71s\u001b[0m 201ms/step - accuracy: 0.6465 - loss: 0.2942 - val_accuracy: 0.5698 - val_loss: 0.3851 - learning_rate: 1.0000e-07\n",
      "Epoch 4/50\n",
      "\u001b[1m354/354\u001b[0m \u001b[32m━━━━━━━━━━━━━━━━━━━━\u001b[0m\u001b[37m\u001b[0m \u001b[1m71s\u001b[0m 201ms/step - accuracy: 0.6456 - loss: 0.2971 - val_accuracy: 0.5689 - val_loss: 0.3853 - learning_rate: 1.0000e-07\n",
      "Epoch 5/50\n",
      "\u001b[1m354/354\u001b[0m \u001b[32m━━━━━━━━━━━━━━━━━━━━\u001b[0m\u001b[37m\u001b[0m \u001b[1m71s\u001b[0m 201ms/step - accuracy: 0.6480 - loss: 0.2949 - val_accuracy: 0.5698 - val_loss: 0.3853 - learning_rate: 1.0000e-08\n",
      "Epoch 6/50\n",
      "\u001b[1m354/354\u001b[0m \u001b[32m━━━━━━━━━━━━━━━━━━━━\u001b[0m\u001b[37m\u001b[0m \u001b[1m71s\u001b[0m 201ms/step - accuracy: 0.6518 - loss: 0.2928 - val_accuracy: 0.5689 - val_loss: 0.3853 - learning_rate: 1.0000e-08\n",
      "Best last val:0.38332632184028625\n",
      "Best current val:0.38332632184028625\n"
     ]
    }
   ],
   "source": [
    "best_model_path = f'Models/class{suffix}secondary{modelclass}temp.keras'\n",
    "model_checkpoint = ModelCheckpoint(best_model_path, monitor='val_loss', save_best_only=True, mode='min')\n",
    "best_val_loss = float('inf')\n",
    "for i in range (iterations2):\n",
    "    model = CreateModel(1e-7)\n",
    "    model.load_weights(f'Models/class_{suffix}{modelclass}_overallbest.keras')\n",
    "    early_stopping = EarlyStopping(monitor='val_loss', patience=5, restore_best_weights=True)\n",
    "    reduce_lr = ReduceLROnPlateau(monitor='val_loss', factor=0.1, patience=3, min_lr=1e-8)\n",
    "    \n",
    "    print(f\"Training iteration {i+1}/{iterations2}\")\n",
    "    history = model.fit(train_images, train_labels,\n",
    "                        epochs=50,\n",
    "                        batch_size=16,\n",
    "                        validation_data=(val_images, val_labels),\n",
    "                        class_weight=class_weights,\n",
    "                        callbacks=[early_stopping, reduce_lr, model_checkpoint])\n",
    "\n",
    "    model.load_weights(best_model_path)\n",
    "    val_loss = min(history.history['val_loss'])\n",
    "    if val_loss < best_val_loss:\n",
    "        best_val_loss = val_loss\n",
    "        print(f\"Best last val:{val_loss}\")\n",
    "        print(f\"Best current val:{best_val_loss}\")\n",
    "        model.save(f'Models/class_{suffix}{modelclass}_overallbestFIN.keras')"
   ]
  }
 ],
 "metadata": {
  "kernelspec": {
   "display_name": "Python 3 (ipykernel)",
   "language": "python",
   "name": "python3"
  },
  "language_info": {
   "codemirror_mode": {
    "name": "ipython",
    "version": 3
   },
   "file_extension": ".py",
   "mimetype": "text/x-python",
   "name": "python",
   "nbconvert_exporter": "python",
   "pygments_lexer": "ipython3",
   "version": "3.11.11"
  }
 },
 "nbformat": 4,
 "nbformat_minor": 5
}
