{
 "cells": [
  {
   "cell_type": "code",
   "execution_count": 3,
   "id": "fa3bfaad-3c11-49d8-accb-aa715b41515e",
   "metadata": {},
   "outputs": [
    {
     "name": "stdout",
     "output_type": "stream",
     "text": [
      "(755, 256, 256, 3)\n",
      "\u001b[1m24/24\u001b[0m \u001b[32m━━━━━━━━━━━━━━━━━━━━\u001b[0m\u001b[37m\u001b[0m \u001b[1m4s\u001b[0m 174ms/step\n",
      "Results binary array saved to FINallMerged_results.npy\n"
     ]
    }
   ],
   "source": [
    "import numpy as np\n",
    "from keras.models import load_model\n",
    "\n",
    "def assess_images(test_images):\n",
    "    model_path = 'Models/class_FINallMerged_overallbestFIN.keras'\n",
    "    model = load_model(model_path)\n",
    "    predictions = model.predict(test_images)\n",
    "    results = (predictions > 0.5).astype(int)\n",
    "    return results\n",
    "\n",
    "base_array = '../../Data/Arrays/'\n",
    "test_images = np.load(f'{base_array}/test_images.npy')\n",
    "\n",
    "test_images = np.expand_dims(test_images, axis=-1)\n",
    "test_images = np.repeat(test_images, 3, axis=-1)\n",
    "\n",
    "print(test_images.shape)\n",
    "results = assess_images(test_images)\n",
    "\n",
    "save_location = 'FINallMerged_results.npy'\n",
    "np.save(save_location, results)\n",
    "\n",
    "print(f'Results binary array saved to {save_location}')"
   ]
  },
  {
   "cell_type": "code",
   "execution_count": null,
   "id": "b5772b91-59f5-4d23-b393-a79f262e60f4",
   "metadata": {},
   "outputs": [],
   "source": []
  }
 ],
 "metadata": {
  "kernelspec": {
   "display_name": "Python 3 (ipykernel)",
   "language": "python",
   "name": "python3"
  },
  "language_info": {
   "codemirror_mode": {
    "name": "ipython",
    "version": 3
   },
   "file_extension": ".py",
   "mimetype": "text/x-python",
   "name": "python",
   "nbconvert_exporter": "python",
   "pygments_lexer": "ipython3",
   "version": "3.11.11"
  }
 },
 "nbformat": 4,
 "nbformat_minor": 5
}
