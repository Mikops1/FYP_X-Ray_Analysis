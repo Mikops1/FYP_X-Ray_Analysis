{
 "cells": [
  {
   "cell_type": "code",
   "execution_count": 2,
   "id": "31e2b5b0-3905-46c5-a933-17aadf4a8b59",
   "metadata": {},
   "outputs": [],
   "source": [
    "import numpy as np\n",
    "\n",
    "def convert_and_save_binary_labels(binary_labels, file_path):\n",
    "    converted_labels = []\n",
    "    for label in binary_labels:\n",
    "        if label == 1:\n",
    "            converted_labels.append([1, 0])\n",
    "        else:\n",
    "            converted_labels.append([0, 1])\n",
    "    \n",
    "    converted_labels = np.array(converted_labels)\n",
    "    \n",
    "    np.save(file_path, converted_labels)\n",
    "\n",
    "file_paths = ['Converted Arrays/test_labels_class5.npy',\n",
    "                'Converted Arrays/train_labels_class5.npy',\n",
    "                'Converted Arrays/val_labels_class5.npy']\n",
    "for path in file_paths:\n",
    "    array = np.load(path)\n",
    "    out_file_path = path.replace('.npy', '_duo.npy')\n",
    "    convert_and_save_binary_labels(array, out_file_path)"
   ]
  },
  {
   "cell_type": "code",
   "execution_count": null,
   "id": "c5fc482e-a42b-4459-acaf-b34fd3fce145",
   "metadata": {},
   "outputs": [],
   "source": []
  }
 ],
 "metadata": {
  "kernelspec": {
   "display_name": "Python 3 (ipykernel)",
   "language": "python",
   "name": "python3"
  },
  "language_info": {
   "codemirror_mode": {
    "name": "ipython",
    "version": 3
   },
   "file_extension": ".py",
   "mimetype": "text/x-python",
   "name": "python",
   "nbconvert_exporter": "python",
   "pygments_lexer": "ipython3",
   "version": "3.11.11"
  }
 },
 "nbformat": 4,
 "nbformat_minor": 5
}
