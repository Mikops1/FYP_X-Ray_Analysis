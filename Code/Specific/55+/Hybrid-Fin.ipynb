{
 "cells": [
  {
   "cell_type": "code",
   "execution_count": 1,
   "id": "05fd7ab0-9370-4970-a49b-9b597c45c208",
   "metadata": {},
   "outputs": [
    {
     "name": "stderr",
     "output_type": "stream",
     "text": [
      "WARNING: pip is being invoked by an old script wrapper. This will fail in a future version of pip.\n",
      "Please see https://github.com/pypa/pip/issues/5599 for advice on fixing the underlying issue.\n",
      "To avoid this problem you can invoke Python with '-m pip' instead of running pip directly.\n"
     ]
    },
    {
     "data": {
      "text/html": [
       "<pre style=\"white-space:pre;overflow-x:auto;line-height:normal;font-family:Menlo,'DejaVu Sans Mono',consolas,'Courier New',monospace\">Collecting seaborn\n",
       "</pre>\n"
      ],
      "text/plain": [
       "Collecting seaborn\n"
      ]
     },
     "metadata": {},
     "output_type": "display_data"
    },
    {
     "data": {
      "text/html": [
       "<pre style=\"white-space:pre;overflow-x:auto;line-height:normal;font-family:Menlo,'DejaVu Sans Mono',consolas,'Courier New',monospace\">  Using cached seaborn-0.13.2-py3-none-any.whl.metadata (5.4 kB)\n",
       "</pre>\n"
      ],
      "text/plain": [
       "  Using cached seaborn-0.13.2-py3-none-any.whl.metadata (5.4 kB)\n"
      ]
     },
     "metadata": {},
     "output_type": "display_data"
    },
    {
     "data": {
      "text/html": [
       "<pre style=\"white-space:pre;overflow-x:auto;line-height:normal;font-family:Menlo,'DejaVu Sans Mono',consolas,'Courier New',monospace\">Requirement already satisfied: numpy!=1.24.0,&gt;=1.20 in /opt/conda/lib/python3.11/site-packages (from seaborn) (1.26.4)\n",
       "</pre>\n"
      ],
      "text/plain": [
       "Requirement already satisfied: numpy!=1.24.0,>=1.20 in /opt/conda/lib/python3.11/site-packages (from seaborn) (1.26.4)\n"
      ]
     },
     "metadata": {},
     "output_type": "display_data"
    },
    {
     "data": {
      "text/html": [
       "<pre style=\"white-space:pre;overflow-x:auto;line-height:normal;font-family:Menlo,'DejaVu Sans Mono',consolas,'Courier New',monospace\">Requirement already satisfied: pandas&gt;=1.2 in /opt/conda/lib/python3.11/site-packages (from seaborn) (2.2.3)\n",
       "</pre>\n"
      ],
      "text/plain": [
       "Requirement already satisfied: pandas>=1.2 in /opt/conda/lib/python3.11/site-packages (from seaborn) (2.2.3)\n"
      ]
     },
     "metadata": {},
     "output_type": "display_data"
    },
    {
     "data": {
      "text/html": [
       "<pre style=\"white-space:pre;overflow-x:auto;line-height:normal;font-family:Menlo,'DejaVu Sans Mono',consolas,'Courier New',monospace\">Requirement already satisfied: matplotlib!=3.6.1,&gt;=3.4 in /opt/conda/lib/python3.11/site-packages (from seaborn) (3.9.3)\n",
       "</pre>\n"
      ],
      "text/plain": [
       "Requirement already satisfied: matplotlib!=3.6.1,>=3.4 in /opt/conda/lib/python3.11/site-packages (from seaborn) (3.9.3)\n"
      ]
     },
     "metadata": {},
     "output_type": "display_data"
    },
    {
     "data": {
      "text/html": [
       "<pre style=\"white-space:pre;overflow-x:auto;line-height:normal;font-family:Menlo,'DejaVu Sans Mono',consolas,'Courier New',monospace\">Requirement already satisfied: contourpy&gt;=1.0.1 in /opt/conda/lib/python3.11/site-packages (from matplotlib!=3.6.1,&gt;=3.4-&gt;seaborn) (1.3.1)\n",
       "</pre>\n"
      ],
      "text/plain": [
       "Requirement already satisfied: contourpy>=1.0.1 in /opt/conda/lib/python3.11/site-packages (from matplotlib!=3.6.1,>=3.4->seaborn) (1.3.1)\n"
      ]
     },
     "metadata": {},
     "output_type": "display_data"
    },
    {
     "data": {
      "text/html": [
       "<pre style=\"white-space:pre;overflow-x:auto;line-height:normal;font-family:Menlo,'DejaVu Sans Mono',consolas,'Courier New',monospace\">Requirement already satisfied: cycler&gt;=0.10 in /opt/conda/lib/python3.11/site-packages (from matplotlib!=3.6.1,&gt;=3.4-&gt;seaborn) (0.12.1)\n",
       "</pre>\n"
      ],
      "text/plain": [
       "Requirement already satisfied: cycler>=0.10 in /opt/conda/lib/python3.11/site-packages (from matplotlib!=3.6.1,>=3.4->seaborn) (0.12.1)\n"
      ]
     },
     "metadata": {},
     "output_type": "display_data"
    },
    {
     "data": {
      "text/html": [
       "<pre style=\"white-space:pre;overflow-x:auto;line-height:normal;font-family:Menlo,'DejaVu Sans Mono',consolas,'Courier New',monospace\">Requirement already satisfied: fonttools&gt;=4.22.0 in /opt/conda/lib/python3.11/site-packages (from matplotlib!=3.6.1,&gt;=3.4-&gt;seaborn) (4.55.3)\n",
       "</pre>\n"
      ],
      "text/plain": [
       "Requirement already satisfied: fonttools>=4.22.0 in /opt/conda/lib/python3.11/site-packages (from matplotlib!=3.6.1,>=3.4->seaborn) (4.55.3)\n"
      ]
     },
     "metadata": {},
     "output_type": "display_data"
    },
    {
     "data": {
      "text/html": [
       "<pre style=\"white-space:pre;overflow-x:auto;line-height:normal;font-family:Menlo,'DejaVu Sans Mono',consolas,'Courier New',monospace\">Requirement already satisfied: kiwisolver&gt;=1.3.1 in /opt/conda/lib/python3.11/site-packages (from matplotlib!=3.6.1,&gt;=3.4-&gt;seaborn) (1.4.7)\n",
       "</pre>\n"
      ],
      "text/plain": [
       "Requirement already satisfied: kiwisolver>=1.3.1 in /opt/conda/lib/python3.11/site-packages (from matplotlib!=3.6.1,>=3.4->seaborn) (1.4.7)\n"
      ]
     },
     "metadata": {},
     "output_type": "display_data"
    },
    {
     "data": {
      "text/html": [
       "<pre style=\"white-space:pre;overflow-x:auto;line-height:normal;font-family:Menlo,'DejaVu Sans Mono',consolas,'Courier New',monospace\">Requirement already satisfied: packaging&gt;=20.0 in /opt/conda/lib/python3.11/site-packages (from matplotlib!=3.6.1,&gt;=3.4-&gt;seaborn) (24.2)\n",
       "</pre>\n"
      ],
      "text/plain": [
       "Requirement already satisfied: packaging>=20.0 in /opt/conda/lib/python3.11/site-packages (from matplotlib!=3.6.1,>=3.4->seaborn) (24.2)\n"
      ]
     },
     "metadata": {},
     "output_type": "display_data"
    },
    {
     "data": {
      "text/html": [
       "<pre style=\"white-space:pre;overflow-x:auto;line-height:normal;font-family:Menlo,'DejaVu Sans Mono',consolas,'Courier New',monospace\">Requirement already satisfied: pillow&gt;=8 in /opt/conda/lib/python3.11/site-packages (from matplotlib!=3.6.1,&gt;=3.4-&gt;seaborn) (10.4.0)\n",
       "</pre>\n"
      ],
      "text/plain": [
       "Requirement already satisfied: pillow>=8 in /opt/conda/lib/python3.11/site-packages (from matplotlib!=3.6.1,>=3.4->seaborn) (10.4.0)\n"
      ]
     },
     "metadata": {},
     "output_type": "display_data"
    },
    {
     "data": {
      "text/html": [
       "<pre style=\"white-space:pre;overflow-x:auto;line-height:normal;font-family:Menlo,'DejaVu Sans Mono',consolas,'Courier New',monospace\">Requirement already satisfied: pyparsing&gt;=2.3.1 in /opt/conda/lib/python3.11/site-packages (from matplotlib!=3.6.1,&gt;=3.4-&gt;seaborn) (3.2.0)\n",
       "</pre>\n"
      ],
      "text/plain": [
       "Requirement already satisfied: pyparsing>=2.3.1 in /opt/conda/lib/python3.11/site-packages (from matplotlib!=3.6.1,>=3.4->seaborn) (3.2.0)\n"
      ]
     },
     "metadata": {},
     "output_type": "display_data"
    },
    {
     "data": {
      "text/html": [
       "<pre style=\"white-space:pre;overflow-x:auto;line-height:normal;font-family:Menlo,'DejaVu Sans Mono',consolas,'Courier New',monospace\">Requirement already satisfied: python-dateutil&gt;=2.7 in /opt/conda/lib/python3.11/site-packages (from matplotlib!=3.6.1,&gt;=3.4-&gt;seaborn) (2.9.0.post0)\n",
       "</pre>\n"
      ],
      "text/plain": [
       "Requirement already satisfied: python-dateutil>=2.7 in /opt/conda/lib/python3.11/site-packages (from matplotlib!=3.6.1,>=3.4->seaborn) (2.9.0.post0)\n"
      ]
     },
     "metadata": {},
     "output_type": "display_data"
    },
    {
     "data": {
      "text/html": [
       "<pre style=\"white-space:pre;overflow-x:auto;line-height:normal;font-family:Menlo,'DejaVu Sans Mono',consolas,'Courier New',monospace\">Requirement already satisfied: pytz&gt;=2020.1 in /opt/conda/lib/python3.11/site-packages (from pandas&gt;=1.2-&gt;seaborn) (2023.3)\n",
       "</pre>\n"
      ],
      "text/plain": [
       "Requirement already satisfied: pytz>=2020.1 in /opt/conda/lib/python3.11/site-packages (from pandas>=1.2->seaborn) (2023.3)\n"
      ]
     },
     "metadata": {},
     "output_type": "display_data"
    },
    {
     "data": {
      "text/html": [
       "<pre style=\"white-space:pre;overflow-x:auto;line-height:normal;font-family:Menlo,'DejaVu Sans Mono',consolas,'Courier New',monospace\">Requirement already satisfied: tzdata&gt;=2022.7 in /opt/conda/lib/python3.11/site-packages (from pandas&gt;=1.2-&gt;seaborn) (2024.2)\n",
       "</pre>\n"
      ],
      "text/plain": [
       "Requirement already satisfied: tzdata>=2022.7 in /opt/conda/lib/python3.11/site-packages (from pandas>=1.2->seaborn) (2024.2)\n"
      ]
     },
     "metadata": {},
     "output_type": "display_data"
    },
    {
     "data": {
      "text/html": [
       "<pre style=\"white-space:pre;overflow-x:auto;line-height:normal;font-family:Menlo,'DejaVu Sans Mono',consolas,'Courier New',monospace\">Requirement already satisfied: six&gt;=1.5 in /opt/conda/lib/python3.11/site-packages (from python-dateutil&gt;=2.7-&gt;matplotlib!=3.6.1,&gt;=3.4-&gt;seaborn) (1.17.0)\n",
       "</pre>\n"
      ],
      "text/plain": [
       "Requirement already satisfied: six>=1.5 in /opt/conda/lib/python3.11/site-packages (from python-dateutil>=2.7->matplotlib!=3.6.1,>=3.4->seaborn) (1.17.0)\n"
      ]
     },
     "metadata": {},
     "output_type": "display_data"
    },
    {
     "data": {
      "text/html": [
       "<pre style=\"white-space:pre;overflow-x:auto;line-height:normal;font-family:Menlo,'DejaVu Sans Mono',consolas,'Courier New',monospace\">Using cached seaborn-0.13.2-py3-none-any.whl (294 kB)\n",
       "</pre>\n"
      ],
      "text/plain": [
       "Using cached seaborn-0.13.2-py3-none-any.whl (294 kB)\n"
      ]
     },
     "metadata": {},
     "output_type": "display_data"
    },
    {
     "data": {
      "text/html": [
       "<pre style=\"white-space:pre;overflow-x:auto;line-height:normal;font-family:Menlo,'DejaVu Sans Mono',consolas,'Courier New',monospace\">Installing collected packages: seaborn\n",
       "</pre>\n"
      ],
      "text/plain": [
       "Installing collected packages: seaborn\n"
      ]
     },
     "metadata": {},
     "output_type": "display_data"
    },
    {
     "data": {
      "text/html": [
       "<pre style=\"white-space:pre;overflow-x:auto;line-height:normal;font-family:Menlo,'DejaVu Sans Mono',consolas,'Courier New',monospace\">Successfully installed seaborn-0.13.2\n",
       "</pre>\n"
      ],
      "text/plain": [
       "Successfully installed seaborn-0.13.2\n"
      ]
     },
     "metadata": {},
     "output_type": "display_data"
    },
    {
     "name": "stdout",
     "output_type": "stream",
     "text": [
      "Initial class weights: {0: 0.6395891690009337, 1: 2.290969899665552}\n",
      "Start time:  2025-02-01 18:04:46.029601\n"
     ]
    },
    {
     "name": "stderr",
     "output_type": "stream",
     "text": [
      "WARNING: All log messages before absl::InitializeLog() is called are written to STDERR\n",
      "I0000 00:00:1738433086.217299    1419 cuda_executor.cc:1015] successful NUMA node read from SysFS had negative value (-1), but there must be at least one NUMA node, so returning NUMA node zero. See more at https://github.com/torvalds/linux/blob/v6.0/Documentation/ABI/testing/sysfs-bus-pci#L344-L355\n",
      "I0000 00:00:1738433086.613610    1419 cuda_executor.cc:1015] successful NUMA node read from SysFS had negative value (-1), but there must be at least one NUMA node, so returning NUMA node zero. See more at https://github.com/torvalds/linux/blob/v6.0/Documentation/ABI/testing/sysfs-bus-pci#L344-L355\n",
      "I0000 00:00:1738433086.616996    1419 cuda_executor.cc:1015] successful NUMA node read from SysFS had negative value (-1), but there must be at least one NUMA node, so returning NUMA node zero. See more at https://github.com/torvalds/linux/blob/v6.0/Documentation/ABI/testing/sysfs-bus-pci#L344-L355\n",
      "I0000 00:00:1738433086.623587    1419 cuda_executor.cc:1015] successful NUMA node read from SysFS had negative value (-1), but there must be at least one NUMA node, so returning NUMA node zero. See more at https://github.com/torvalds/linux/blob/v6.0/Documentation/ABI/testing/sysfs-bus-pci#L344-L355\n",
      "I0000 00:00:1738433086.626663    1419 cuda_executor.cc:1015] successful NUMA node read from SysFS had negative value (-1), but there must be at least one NUMA node, so returning NUMA node zero. See more at https://github.com/torvalds/linux/blob/v6.0/Documentation/ABI/testing/sysfs-bus-pci#L344-L355\n",
      "I0000 00:00:1738433086.631725    1419 cuda_executor.cc:1015] successful NUMA node read from SysFS had negative value (-1), but there must be at least one NUMA node, so returning NUMA node zero. See more at https://github.com/torvalds/linux/blob/v6.0/Documentation/ABI/testing/sysfs-bus-pci#L344-L355\n",
      "I0000 00:00:1738433086.864890    1419 cuda_executor.cc:1015] successful NUMA node read from SysFS had negative value (-1), but there must be at least one NUMA node, so returning NUMA node zero. See more at https://github.com/torvalds/linux/blob/v6.0/Documentation/ABI/testing/sysfs-bus-pci#L344-L355\n",
      "I0000 00:00:1738433086.866953    1419 cuda_executor.cc:1015] successful NUMA node read from SysFS had negative value (-1), but there must be at least one NUMA node, so returning NUMA node zero. See more at https://github.com/torvalds/linux/blob/v6.0/Documentation/ABI/testing/sysfs-bus-pci#L344-L355\n",
      "I0000 00:00:1738433086.868757    1419 cuda_executor.cc:1015] successful NUMA node read from SysFS had negative value (-1), but there must be at least one NUMA node, so returning NUMA node zero. See more at https://github.com/torvalds/linux/blob/v6.0/Documentation/ABI/testing/sysfs-bus-pci#L344-L355\n"
     ]
    },
    {
     "name": "stdout",
     "output_type": "stream",
     "text": [
      "Training iteration 1/5\n",
      "Epoch 1/50\n"
     ]
    },
    {
     "name": "stderr",
     "output_type": "stream",
     "text": [
      "I0000 00:00:1738433096.471768    1460 service.cc:146] XLA service 0x7ff434002d70 initialized for platform CUDA (this does not guarantee that XLA will be used). Devices:\n",
      "I0000 00:00:1738433096.471799    1460 service.cc:154]   StreamExecutor device (0): Tesla T4, Compute Capability 7.5\n"
     ]
    },
    {
     "name": "stdout",
     "output_type": "stream",
     "text": [
      "\u001b[1m  1/155\u001b[0m \u001b[37m━━━━━━━━━━━━━━━━━━━━\u001b[0m \u001b[1m1:01:37\u001b[0m 24s/step - accuracy: 0.2500 - loss: 0.9424"
     ]
    },
    {
     "name": "stderr",
     "output_type": "stream",
     "text": [
      "I0000 00:00:1738433117.500200    1460 device_compiler.h:188] Compiled cluster using XLA!  This line is logged at most once for the lifetime of the process.\n"
     ]
    },
    {
     "name": "stdout",
     "output_type": "stream",
     "text": [
      "\u001b[1m154/155\u001b[0m \u001b[32m━━━━━━━━━━━━━━━━━━━\u001b[0m\u001b[37m━\u001b[0m \u001b[1m0s\u001b[0m 185ms/step - accuracy: 0.3262 - loss: 0.6178"
     ]
    },
    {
     "name": "stderr",
     "output_type": "stream",
     "text": [
      "E0000 00:00:1738433148.312135    1460 gpu_timer.cc:183] Delay kernel timed out: measured time has sub-optimal accuracy. There may be a missing warmup execution, please investigate in Nsight Systems.\n",
      "E0000 00:00:1738433148.520329    1460 gpu_timer.cc:183] Delay kernel timed out: measured time has sub-optimal accuracy. There may be a missing warmup execution, please investigate in Nsight Systems.\n",
      "E0000 00:00:1738433149.289846    1460 gpu_timer.cc:183] Delay kernel timed out: measured time has sub-optimal accuracy. There may be a missing warmup execution, please investigate in Nsight Systems.\n",
      "E0000 00:00:1738433149.573296    1460 gpu_timer.cc:183] Delay kernel timed out: measured time has sub-optimal accuracy. There may be a missing warmup execution, please investigate in Nsight Systems.\n"
     ]
    },
    {
     "name": "stdout",
     "output_type": "stream",
     "text": [
      "\u001b[1m155/155\u001b[0m \u001b[32m━━━━━━━━━━━━━━━━━━━━\u001b[0m\u001b[37m\u001b[0m \u001b[1m0s\u001b[0m 239ms/step - accuracy: 0.3264 - loss: 0.6173"
     ]
    },
    {
     "name": "stderr",
     "output_type": "stream",
     "text": [
      "E0000 00:00:1738433166.338940    1463 gpu_timer.cc:183] Delay kernel timed out: measured time has sub-optimal accuracy. There may be a missing warmup execution, please investigate in Nsight Systems.\n",
      "E0000 00:00:1738433166.558272    1463 gpu_timer.cc:183] Delay kernel timed out: measured time has sub-optimal accuracy. There may be a missing warmup execution, please investigate in Nsight Systems.\n",
      "E0000 00:00:1738433168.121840    1463 gpu_timer.cc:183] Delay kernel timed out: measured time has sub-optimal accuracy. There may be a missing warmup execution, please investigate in Nsight Systems.\n",
      "E0000 00:00:1738433168.419610    1463 gpu_timer.cc:183] Delay kernel timed out: measured time has sub-optimal accuracy. There may be a missing warmup execution, please investigate in Nsight Systems.\n"
     ]
    },
    {
     "name": "stdout",
     "output_type": "stream",
     "text": [
      "\u001b[1m155/155\u001b[0m \u001b[32m━━━━━━━━━━━━━━━━━━━━\u001b[0m\u001b[37m\u001b[0m \u001b[1m79s\u001b[0m 357ms/step - accuracy: 0.3265 - loss: 0.6168 - val_accuracy: 0.3874 - val_loss: 0.4823 - learning_rate: 1.0000e-05\n",
      "Epoch 2/50\n",
      "\u001b[1m155/155\u001b[0m \u001b[32m━━━━━━━━━━━━━━━━━━━━\u001b[0m\u001b[37m\u001b[0m \u001b[1m32s\u001b[0m 203ms/step - accuracy: 0.3960 - loss: 0.4976 - val_accuracy: 0.3793 - val_loss: 0.5023 - learning_rate: 1.0000e-05\n",
      "Epoch 3/50\n",
      "\u001b[1m155/155\u001b[0m \u001b[32m━━━━━━━━━━━━━━━━━━━━\u001b[0m\u001b[37m\u001b[0m \u001b[1m33s\u001b[0m 213ms/step - accuracy: 0.4012 - loss: 0.4802 - val_accuracy: 0.3753 - val_loss: 0.4768 - learning_rate: 1.0000e-05\n",
      "Epoch 4/50\n",
      "\u001b[1m155/155\u001b[0m \u001b[32m━━━━━━━━━━━━━━━━━━━━\u001b[0m\u001b[37m\u001b[0m \u001b[1m32s\u001b[0m 204ms/step - accuracy: 0.3905 - loss: 0.4828 - val_accuracy: 0.3671 - val_loss: 0.4828 - learning_rate: 1.0000e-05\n",
      "Epoch 5/50\n",
      "\u001b[1m155/155\u001b[0m \u001b[32m━━━━━━━━━━━━━━━━━━━━\u001b[0m\u001b[37m\u001b[0m \u001b[1m33s\u001b[0m 214ms/step - accuracy: 0.4389 - loss: 0.4529 - val_accuracy: 0.4097 - val_loss: 0.4522 - learning_rate: 1.0000e-05\n",
      "Epoch 6/50\n",
      "\u001b[1m155/155\u001b[0m \u001b[32m━━━━━━━━━━━━━━━━━━━━\u001b[0m\u001b[37m\u001b[0m \u001b[1m33s\u001b[0m 214ms/step - accuracy: 0.4469 - loss: 0.4282 - val_accuracy: 0.4280 - val_loss: 0.4404 - learning_rate: 1.0000e-05\n",
      "Epoch 7/50\n",
      "\u001b[1m155/155\u001b[0m \u001b[32m━━━━━━━━━━━━━━━━━━━━\u001b[0m\u001b[37m\u001b[0m \u001b[1m32s\u001b[0m 205ms/step - accuracy: 0.4994 - loss: 0.4005 - val_accuracy: 0.4118 - val_loss: 0.4949 - learning_rate: 1.0000e-05\n",
      "Epoch 8/50\n",
      "\u001b[1m155/155\u001b[0m \u001b[32m━━━━━━━━━━━━━━━━━━━━\u001b[0m\u001b[37m\u001b[0m \u001b[1m32s\u001b[0m 206ms/step - accuracy: 0.4773 - loss: 0.4077 - val_accuracy: 0.3976 - val_loss: 0.4974 - learning_rate: 1.0000e-05\n",
      "Epoch 9/50\n",
      "\u001b[1m155/155\u001b[0m \u001b[32m━━━━━━━━━━━━━━━━━━━━\u001b[0m\u001b[37m\u001b[0m \u001b[1m33s\u001b[0m 215ms/step - accuracy: 0.5245 - loss: 0.3814 - val_accuracy: 0.5274 - val_loss: 0.4188 - learning_rate: 3.0000e-06\n",
      "Epoch 10/50\n",
      "\u001b[1m155/155\u001b[0m \u001b[32m━━━━━━━━━━━━━━━━━━━━\u001b[0m\u001b[37m\u001b[0m \u001b[1m32s\u001b[0m 206ms/step - accuracy: 0.5346 - loss: 0.3679 - val_accuracy: 0.5233 - val_loss: 0.4219 - learning_rate: 3.0000e-06\n",
      "Epoch 11/50\n",
      "\u001b[1m155/155\u001b[0m \u001b[32m━━━━━━━━━━━━━━━━━━━━\u001b[0m\u001b[37m\u001b[0m \u001b[1m32s\u001b[0m 206ms/step - accuracy: 0.5648 - loss: 0.3610 - val_accuracy: 0.5416 - val_loss: 0.4219 - learning_rate: 3.0000e-06\n",
      "Epoch 12/50\n",
      "\u001b[1m155/155\u001b[0m \u001b[32m━━━━━━━━━━━━━━━━━━━━\u001b[0m\u001b[37m\u001b[0m \u001b[1m32s\u001b[0m 206ms/step - accuracy: 0.5772 - loss: 0.3424 - val_accuracy: 0.5335 - val_loss: 0.4239 - learning_rate: 9.0000e-07\n",
      "Epoch 13/50\n",
      "\u001b[1m155/155\u001b[0m \u001b[32m━━━━━━━━━━━━━━━━━━━━\u001b[0m\u001b[37m\u001b[0m \u001b[1m32s\u001b[0m 206ms/step - accuracy: 0.5689 - loss: 0.3432 - val_accuracy: 0.5071 - val_loss: 0.4335 - learning_rate: 9.0000e-07\n",
      "Epoch 14/50\n",
      "\u001b[1m155/155\u001b[0m \u001b[32m━━━━━━━━━━━━━━━━━━━━\u001b[0m\u001b[37m\u001b[0m \u001b[1m32s\u001b[0m 206ms/step - accuracy: 0.5777 - loss: 0.3415 - val_accuracy: 0.5213 - val_loss: 0.4315 - learning_rate: 2.7000e-07\n",
      "Best current val:0.418752521276474\n",
      "Training iteration 2/5\n",
      "Epoch 1/50\n",
      "\u001b[1m155/155\u001b[0m \u001b[32m━━━━━━━━━━━━━━━━━━━━\u001b[0m\u001b[37m\u001b[0m \u001b[1m39s\u001b[0m 222ms/step - accuracy: 0.3543 - loss: 0.5684 - val_accuracy: 0.3834 - val_loss: 0.4926 - learning_rate: 1.0000e-05\n",
      "Epoch 2/50\n",
      "\u001b[1m155/155\u001b[0m \u001b[32m━━━━━━━━━━━━━━━━━━━━\u001b[0m\u001b[37m\u001b[0m \u001b[1m32s\u001b[0m 204ms/step - accuracy: 0.4137 - loss: 0.4869 - val_accuracy: 0.3874 - val_loss: 0.4806 - learning_rate: 1.0000e-05\n",
      "Epoch 3/50\n",
      "\u001b[1m155/155\u001b[0m \u001b[32m━━━━━━━━━━━━━━━━━━━━\u001b[0m\u001b[37m\u001b[0m \u001b[1m32s\u001b[0m 205ms/step - accuracy: 0.4136 - loss: 0.4840 - val_accuracy: 0.3874 - val_loss: 0.4773 - learning_rate: 1.0000e-05\n",
      "Epoch 4/50\n",
      "\u001b[1m155/155\u001b[0m \u001b[32m━━━━━━━━━━━━━━━━━━━━\u001b[0m\u001b[37m\u001b[0m \u001b[1m32s\u001b[0m 206ms/step - accuracy: 0.4096 - loss: 0.4680 - val_accuracy: 0.3874 - val_loss: 0.4750 - learning_rate: 1.0000e-05\n",
      "Epoch 5/50\n",
      "\u001b[1m155/155\u001b[0m \u001b[32m━━━━━━━━━━━━━━━━━━━━\u001b[0m\u001b[37m\u001b[0m \u001b[1m32s\u001b[0m 206ms/step - accuracy: 0.4221 - loss: 0.4682 - val_accuracy: 0.4239 - val_loss: 0.4618 - learning_rate: 1.0000e-05\n",
      "Epoch 6/50\n",
      "\u001b[1m155/155\u001b[0m \u001b[32m━━━━━━━━━━━━━━━━━━━━\u001b[0m\u001b[37m\u001b[0m \u001b[1m32s\u001b[0m 207ms/step - accuracy: 0.4424 - loss: 0.4357 - val_accuracy: 0.4118 - val_loss: 0.4664 - learning_rate: 1.0000e-05\n",
      "Epoch 7/50\n",
      "\u001b[1m155/155\u001b[0m \u001b[32m━━━━━━━━━━━━━━━━━━━━\u001b[0m\u001b[37m\u001b[0m \u001b[1m32s\u001b[0m 207ms/step - accuracy: 0.4736 - loss: 0.4133 - val_accuracy: 0.4361 - val_loss: 0.4502 - learning_rate: 1.0000e-05\n",
      "Epoch 8/50\n",
      "\u001b[1m155/155\u001b[0m \u001b[32m━━━━━━━━━━━━━━━━━━━━\u001b[0m\u001b[37m\u001b[0m \u001b[1m41s\u001b[0m 206ms/step - accuracy: 0.4955 - loss: 0.4026 - val_accuracy: 0.5152 - val_loss: 0.4343 - learning_rate: 1.0000e-05\n",
      "Epoch 9/50\n",
      "\u001b[1m155/155\u001b[0m \u001b[32m━━━━━━━━━━━━━━━━━━━━\u001b[0m\u001b[37m\u001b[0m \u001b[1m32s\u001b[0m 206ms/step - accuracy: 0.5089 - loss: 0.3818 - val_accuracy: 0.5071 - val_loss: 0.4371 - learning_rate: 1.0000e-05\n",
      "Epoch 10/50\n",
      "\u001b[1m155/155\u001b[0m \u001b[32m━━━━━━━━━━━━━━━━━━━━\u001b[0m\u001b[37m\u001b[0m \u001b[1m32s\u001b[0m 207ms/step - accuracy: 0.5512 - loss: 0.3781 - val_accuracy: 0.4868 - val_loss: 0.4507 - learning_rate: 1.0000e-05\n",
      "Epoch 11/50\n",
      "\u001b[1m155/155\u001b[0m \u001b[32m━━━━━━━━━━━━━━━━━━━━\u001b[0m\u001b[37m\u001b[0m \u001b[1m32s\u001b[0m 207ms/step - accuracy: 0.5684 - loss: 0.3415 - val_accuracy: 0.5477 - val_loss: 0.4197 - learning_rate: 3.0000e-06\n",
      "Epoch 12/50\n",
      "\u001b[1m155/155\u001b[0m \u001b[32m━━━━━━━━━━━━━━━━━━━━\u001b[0m\u001b[37m\u001b[0m \u001b[1m42s\u001b[0m 215ms/step - accuracy: 0.5958 - loss: 0.3352 - val_accuracy: 0.5477 - val_loss: 0.4133 - learning_rate: 3.0000e-06\n",
      "Epoch 13/50\n",
      "\u001b[1m155/155\u001b[0m \u001b[32m━━━━━━━━━━━━━━━━━━━━\u001b[0m\u001b[37m\u001b[0m \u001b[1m32s\u001b[0m 206ms/step - accuracy: 0.5828 - loss: 0.3366 - val_accuracy: 0.5335 - val_loss: 0.4259 - learning_rate: 3.0000e-06\n",
      "Epoch 14/50\n",
      "\u001b[1m155/155\u001b[0m \u001b[32m━━━━━━━━━━━━━━━━━━━━\u001b[0m\u001b[37m\u001b[0m \u001b[1m32s\u001b[0m 207ms/step - accuracy: 0.5974 - loss: 0.3311 - val_accuracy: 0.5558 - val_loss: 0.4243 - learning_rate: 3.0000e-06\n",
      "Epoch 15/50\n",
      "\u001b[1m155/155\u001b[0m \u001b[32m━━━━━━━━━━━━━━━━━━━━\u001b[0m\u001b[37m\u001b[0m \u001b[1m32s\u001b[0m 207ms/step - accuracy: 0.6025 - loss: 0.3252 - val_accuracy: 0.5436 - val_loss: 0.4281 - learning_rate: 9.0000e-07\n",
      "Epoch 16/50\n",
      "\u001b[1m155/155\u001b[0m \u001b[32m━━━━━━━━━━━━━━━━━━━━\u001b[0m\u001b[37m\u001b[0m \u001b[1m35s\u001b[0m 223ms/step - accuracy: 0.6204 - loss: 0.3222 - val_accuracy: 0.5517 - val_loss: 0.4210 - learning_rate: 9.0000e-07\n",
      "Epoch 17/50\n",
      "\u001b[1m155/155\u001b[0m \u001b[32m━━━━━━━━━━━━━━━━━━━━\u001b[0m\u001b[37m\u001b[0m \u001b[1m32s\u001b[0m 207ms/step - accuracy: 0.6078 - loss: 0.3265 - val_accuracy: 0.5477 - val_loss: 0.4255 - learning_rate: 2.7000e-07\n",
      "Best current val:0.4133185148239136\n",
      "Training iteration 3/5\n",
      "Epoch 1/50\n",
      "\u001b[1m155/155\u001b[0m \u001b[32m━━━━━━━━━━━━━━━━━━━━\u001b[0m\u001b[37m\u001b[0m \u001b[1m40s\u001b[0m 224ms/step - accuracy: 0.3649 - loss: 0.5690 - val_accuracy: 0.3874 - val_loss: 0.4851 - learning_rate: 1.0000e-05\n",
      "Epoch 2/50\n",
      "\u001b[1m155/155\u001b[0m \u001b[32m━━━━━━━━━━━━━━━━━━━━\u001b[0m\u001b[37m\u001b[0m \u001b[1m32s\u001b[0m 205ms/step - accuracy: 0.4173 - loss: 0.4821 - val_accuracy: 0.3854 - val_loss: 0.4875 - learning_rate: 1.0000e-05\n",
      "Epoch 3/50\n",
      "\u001b[1m155/155\u001b[0m \u001b[32m━━━━━━━━━━━━━━━━━━━━\u001b[0m\u001b[37m\u001b[0m \u001b[1m32s\u001b[0m 206ms/step - accuracy: 0.4217 - loss: 0.4809 - val_accuracy: 0.3874 - val_loss: 0.4743 - learning_rate: 1.0000e-05\n",
      "Epoch 4/50\n",
      "\u001b[1m155/155\u001b[0m \u001b[32m━━━━━━━━━━━━━━━━━━━━\u001b[0m\u001b[37m\u001b[0m \u001b[1m32s\u001b[0m 206ms/step - accuracy: 0.4100 - loss: 0.4714 - val_accuracy: 0.4118 - val_loss: 0.4609 - learning_rate: 1.0000e-05\n",
      "Epoch 5/50\n",
      "\u001b[1m155/155\u001b[0m \u001b[32m━━━━━━━━━━━━━━━━━━━━\u001b[0m\u001b[37m\u001b[0m \u001b[1m32s\u001b[0m 207ms/step - accuracy: 0.4415 - loss: 0.4332 - val_accuracy: 0.4138 - val_loss: 0.4494 - learning_rate: 1.0000e-05\n",
      "Epoch 6/50\n",
      "\u001b[1m155/155\u001b[0m \u001b[32m━━━━━━━━━━━━━━━━━━━━\u001b[0m\u001b[37m\u001b[0m \u001b[1m32s\u001b[0m 207ms/step - accuracy: 0.4758 - loss: 0.4191 - val_accuracy: 0.4280 - val_loss: 0.4582 - learning_rate: 1.0000e-05\n",
      "Epoch 7/50\n",
      "\u001b[1m155/155\u001b[0m \u001b[32m━━━━━━━━━━━━━━━━━━━━\u001b[0m\u001b[37m\u001b[0m \u001b[1m32s\u001b[0m 207ms/step - accuracy: 0.4807 - loss: 0.4032 - val_accuracy: 0.4523 - val_loss: 0.4347 - learning_rate: 1.0000e-05\n",
      "Epoch 8/50\n",
      "\u001b[1m155/155\u001b[0m \u001b[32m━━━━━━━━━━━━━━━━━━━━\u001b[0m\u001b[37m\u001b[0m \u001b[1m32s\u001b[0m 207ms/step - accuracy: 0.4862 - loss: 0.3864 - val_accuracy: 0.5030 - val_loss: 0.4304 - learning_rate: 1.0000e-05\n",
      "Epoch 9/50\n",
      "\u001b[1m155/155\u001b[0m \u001b[32m━━━━━━━━━━━━━━━━━━━━\u001b[0m\u001b[37m\u001b[0m \u001b[1m32s\u001b[0m 207ms/step - accuracy: 0.5226 - loss: 0.3797 - val_accuracy: 0.5213 - val_loss: 0.4314 - learning_rate: 1.0000e-05\n",
      "Epoch 10/50\n",
      "\u001b[1m155/155\u001b[0m \u001b[32m━━━━━━━━━━━━━━━━━━━━\u001b[0m\u001b[37m\u001b[0m \u001b[1m32s\u001b[0m 207ms/step - accuracy: 0.5733 - loss: 0.3616 - val_accuracy: 0.5456 - val_loss: 0.4261 - learning_rate: 1.0000e-05\n",
      "Epoch 11/50\n",
      "\u001b[1m155/155\u001b[0m \u001b[32m━━━━━━━━━━━━━━━━━━━━\u001b[0m\u001b[37m\u001b[0m \u001b[1m32s\u001b[0m 207ms/step - accuracy: 0.5611 - loss: 0.3509 - val_accuracy: 0.5051 - val_loss: 0.4385 - learning_rate: 1.0000e-05\n",
      "Epoch 12/50\n",
      "\u001b[1m155/155\u001b[0m \u001b[32m━━━━━━━━━━━━━━━━━━━━\u001b[0m\u001b[37m\u001b[0m \u001b[1m32s\u001b[0m 208ms/step - accuracy: 0.5802 - loss: 0.3374 - val_accuracy: 0.5274 - val_loss: 0.4253 - learning_rate: 1.0000e-05\n",
      "Epoch 13/50\n",
      "\u001b[1m155/155\u001b[0m \u001b[32m━━━━━━━━━━━━━━━━━━━━\u001b[0m\u001b[37m\u001b[0m \u001b[1m32s\u001b[0m 207ms/step - accuracy: 0.5920 - loss: 0.3320 - val_accuracy: 0.5112 - val_loss: 0.4424 - learning_rate: 1.0000e-05\n",
      "Epoch 14/50\n",
      "\u001b[1m155/155\u001b[0m \u001b[32m━━━━━━━━━━━━━━━━━━━━\u001b[0m\u001b[37m\u001b[0m \u001b[1m32s\u001b[0m 207ms/step - accuracy: 0.5981 - loss: 0.3307 - val_accuracy: 0.5436 - val_loss: 0.4303 - learning_rate: 1.0000e-05\n",
      "Epoch 15/50\n",
      "\u001b[1m155/155\u001b[0m \u001b[32m━━━━━━━━━━━━━━━━━━━━\u001b[0m\u001b[37m\u001b[0m \u001b[1m32s\u001b[0m 208ms/step - accuracy: 0.6305 - loss: 0.2884 - val_accuracy: 0.5274 - val_loss: 0.4564 - learning_rate: 3.0000e-06\n",
      "Epoch 16/50\n",
      "\u001b[1m155/155\u001b[0m \u001b[32m━━━━━━━━━━━━━━━━━━━━\u001b[0m\u001b[37m\u001b[0m \u001b[1m32s\u001b[0m 208ms/step - accuracy: 0.6452 - loss: 0.2841 - val_accuracy: 0.5335 - val_loss: 0.4516 - learning_rate: 3.0000e-06\n",
      "Epoch 17/50\n",
      "\u001b[1m155/155\u001b[0m \u001b[32m━━━━━━━━━━━━━━━━━━━━\u001b[0m\u001b[37m\u001b[0m \u001b[1m32s\u001b[0m 208ms/step - accuracy: 0.6796 - loss: 0.2623 - val_accuracy: 0.5335 - val_loss: 0.4524 - learning_rate: 9.0000e-07\n",
      "Training iteration 4/5\n",
      "Epoch 1/50\n",
      "\u001b[1m155/155\u001b[0m \u001b[32m━━━━━━━━━━━━━━━━━━━━\u001b[0m\u001b[37m\u001b[0m \u001b[1m39s\u001b[0m 224ms/step - accuracy: 0.3165 - loss: 0.5739 - val_accuracy: 0.3874 - val_loss: 0.4868 - learning_rate: 1.0000e-05\n",
      "Epoch 2/50\n",
      "\u001b[1m155/155\u001b[0m \u001b[32m━━━━━━━━━━━━━━━━━━━━\u001b[0m\u001b[37m\u001b[0m \u001b[1m32s\u001b[0m 205ms/step - accuracy: 0.3917 - loss: 0.5008 - val_accuracy: 0.3874 - val_loss: 0.4748 - learning_rate: 1.0000e-05\n",
      "Epoch 3/50\n",
      "\u001b[1m155/155\u001b[0m \u001b[32m━━━━━━━━━━━━━━━━━━━━\u001b[0m\u001b[37m\u001b[0m \u001b[1m32s\u001b[0m 206ms/step - accuracy: 0.4189 - loss: 0.4762 - val_accuracy: 0.3874 - val_loss: 0.4753 - learning_rate: 1.0000e-05\n",
      "Epoch 4/50\n",
      "\u001b[1m155/155\u001b[0m \u001b[32m━━━━━━━━━━━━━━━━━━━━\u001b[0m\u001b[37m\u001b[0m \u001b[1m32s\u001b[0m 207ms/step - accuracy: 0.4135 - loss: 0.4500 - val_accuracy: 0.3996 - val_loss: 0.4727 - learning_rate: 1.0000e-05\n",
      "Epoch 5/50\n",
      "\u001b[1m155/155\u001b[0m \u001b[32m━━━━━━━━━━━━━━━━━━━━\u001b[0m\u001b[37m\u001b[0m \u001b[1m32s\u001b[0m 207ms/step - accuracy: 0.4473 - loss: 0.4304 - val_accuracy: 0.3469 - val_loss: 0.4997 - learning_rate: 1.0000e-05\n",
      "Epoch 6/50\n",
      "\u001b[1m155/155\u001b[0m \u001b[32m━━━━━━━━━━━━━━━━━━━━\u001b[0m\u001b[37m\u001b[0m \u001b[1m32s\u001b[0m 207ms/step - accuracy: 0.4606 - loss: 0.4201 - val_accuracy: 0.4118 - val_loss: 0.4578 - learning_rate: 1.0000e-05\n",
      "Epoch 7/50\n",
      "\u001b[1m155/155\u001b[0m \u001b[32m━━━━━━━━━━━━━━━━━━━━\u001b[0m\u001b[37m\u001b[0m \u001b[1m32s\u001b[0m 207ms/step - accuracy: 0.4845 - loss: 0.4093 - val_accuracy: 0.4118 - val_loss: 0.4581 - learning_rate: 1.0000e-05\n",
      "Epoch 8/50\n",
      "\u001b[1m155/155\u001b[0m \u001b[32m━━━━━━━━━━━━━━━━━━━━\u001b[0m\u001b[37m\u001b[0m \u001b[1m32s\u001b[0m 207ms/step - accuracy: 0.5060 - loss: 0.3907 - val_accuracy: 0.4868 - val_loss: 0.4261 - learning_rate: 1.0000e-05\n",
      "Epoch 9/50\n",
      "\u001b[1m155/155\u001b[0m \u001b[32m━━━━━━━━━━━━━━━━━━━━\u001b[0m\u001b[37m\u001b[0m \u001b[1m32s\u001b[0m 207ms/step - accuracy: 0.5365 - loss: 0.3783 - val_accuracy: 0.5193 - val_loss: 0.4215 - learning_rate: 1.0000e-05\n",
      "Epoch 10/50\n",
      "\u001b[1m155/155\u001b[0m \u001b[32m━━━━━━━━━━━━━━━━━━━━\u001b[0m\u001b[37m\u001b[0m \u001b[1m32s\u001b[0m 207ms/step - accuracy: 0.5580 - loss: 0.3674 - val_accuracy: 0.5213 - val_loss: 0.4285 - learning_rate: 1.0000e-05\n",
      "Epoch 11/50\n",
      "\u001b[1m155/155\u001b[0m \u001b[32m━━━━━━━━━━━━━━━━━━━━\u001b[0m\u001b[37m\u001b[0m \u001b[1m32s\u001b[0m 207ms/step - accuracy: 0.5718 - loss: 0.3410 - val_accuracy: 0.5172 - val_loss: 0.4378 - learning_rate: 1.0000e-05\n",
      "Epoch 12/50\n",
      "\u001b[1m155/155\u001b[0m \u001b[32m━━━━━━━━━━━━━━━━━━━━\u001b[0m\u001b[37m\u001b[0m \u001b[1m32s\u001b[0m 207ms/step - accuracy: 0.5865 - loss: 0.3292 - val_accuracy: 0.5172 - val_loss: 0.4293 - learning_rate: 3.0000e-06\n",
      "Epoch 13/50\n",
      "\u001b[1m155/155\u001b[0m \u001b[32m━━━━━━━━━━━━━━━━━━━━\u001b[0m\u001b[37m\u001b[0m \u001b[1m32s\u001b[0m 207ms/step - accuracy: 0.6003 - loss: 0.3224 - val_accuracy: 0.5314 - val_loss: 0.4223 - learning_rate: 3.0000e-06\n",
      "Epoch 14/50\n",
      "\u001b[1m155/155\u001b[0m \u001b[32m━━━━━━━━━━━━━━━━━━━━\u001b[0m\u001b[37m\u001b[0m \u001b[1m32s\u001b[0m 207ms/step - accuracy: 0.6232 - loss: 0.3070 - val_accuracy: 0.5294 - val_loss: 0.4219 - learning_rate: 9.0000e-07\n",
      "Training iteration 5/5\n",
      "Epoch 1/50\n",
      "\u001b[1m155/155\u001b[0m \u001b[32m━━━━━━━━━━━━━━━━━━━━\u001b[0m\u001b[37m\u001b[0m \u001b[1m40s\u001b[0m 225ms/step - accuracy: 0.2821 - loss: 0.6302 - val_accuracy: 0.3874 - val_loss: 0.4834 - learning_rate: 1.0000e-05\n",
      "Epoch 2/50\n",
      "\u001b[1m155/155\u001b[0m \u001b[32m━━━━━━━━━━━━━━━━━━━━\u001b[0m\u001b[37m\u001b[0m \u001b[1m32s\u001b[0m 204ms/step - accuracy: 0.4030 - loss: 0.4988 - val_accuracy: 0.3874 - val_loss: 0.4854 - learning_rate: 1.0000e-05\n",
      "Epoch 3/50\n",
      "\u001b[1m155/155\u001b[0m \u001b[32m━━━━━━━━━━━━━━━━━━━━\u001b[0m\u001b[37m\u001b[0m \u001b[1m32s\u001b[0m 205ms/step - accuracy: 0.4100 - loss: 0.4924 - val_accuracy: 0.3874 - val_loss: 0.4796 - learning_rate: 1.0000e-05\n",
      "Epoch 4/50\n",
      "\u001b[1m155/155\u001b[0m \u001b[32m━━━━━━━━━━━━━━━━━━━━\u001b[0m\u001b[37m\u001b[0m \u001b[1m32s\u001b[0m 206ms/step - accuracy: 0.4224 - loss: 0.4776 - val_accuracy: 0.3874 - val_loss: 0.4773 - learning_rate: 1.0000e-05\n",
      "Epoch 5/50\n",
      "\u001b[1m155/155\u001b[0m \u001b[32m━━━━━━━━━━━━━━━━━━━━\u001b[0m\u001b[37m\u001b[0m \u001b[1m32s\u001b[0m 206ms/step - accuracy: 0.4193 - loss: 0.4666 - val_accuracy: 0.3935 - val_loss: 0.4645 - learning_rate: 1.0000e-05\n",
      "Epoch 6/50\n",
      "\u001b[1m155/155\u001b[0m \u001b[32m━━━━━━━━━━━━━━━━━━━━\u001b[0m\u001b[37m\u001b[0m \u001b[1m32s\u001b[0m 207ms/step - accuracy: 0.4474 - loss: 0.4423 - val_accuracy: 0.4138 - val_loss: 0.4617 - learning_rate: 1.0000e-05\n",
      "Epoch 7/50\n",
      "\u001b[1m155/155\u001b[0m \u001b[32m━━━━━━━━━━━━━━━━━━━━\u001b[0m\u001b[37m\u001b[0m \u001b[1m41s\u001b[0m 205ms/step - accuracy: 0.4236 - loss: 0.4383 - val_accuracy: 0.4341 - val_loss: 0.4612 - learning_rate: 1.0000e-05\n",
      "Epoch 8/50\n",
      "\u001b[1m155/155\u001b[0m \u001b[32m━━━━━━━━━━━━━━━━━━━━\u001b[0m\u001b[37m\u001b[0m \u001b[1m32s\u001b[0m 206ms/step - accuracy: 0.4605 - loss: 0.4162 - val_accuracy: 0.4584 - val_loss: 0.4475 - learning_rate: 1.0000e-05\n",
      "Epoch 9/50\n",
      "\u001b[1m155/155\u001b[0m \u001b[32m━━━━━━━━━━━━━━━━━━━━\u001b[0m\u001b[37m\u001b[0m \u001b[1m32s\u001b[0m 207ms/step - accuracy: 0.4867 - loss: 0.3914 - val_accuracy: 0.4625 - val_loss: 0.4378 - learning_rate: 1.0000e-05\n",
      "Epoch 10/50\n",
      "\u001b[1m155/155\u001b[0m \u001b[32m━━━━━━━━━━━━━━━━━━━━\u001b[0m\u001b[37m\u001b[0m \u001b[1m32s\u001b[0m 207ms/step - accuracy: 0.5016 - loss: 0.3923 - val_accuracy: 0.4888 - val_loss: 0.4316 - learning_rate: 1.0000e-05\n",
      "Epoch 11/50\n",
      "\u001b[1m155/155\u001b[0m \u001b[32m━━━━━━━━━━━━━━━━━━━━\u001b[0m\u001b[37m\u001b[0m \u001b[1m32s\u001b[0m 207ms/step - accuracy: 0.5315 - loss: 0.3734 - val_accuracy: 0.5477 - val_loss: 0.4215 - learning_rate: 1.0000e-05\n",
      "Epoch 12/50\n",
      "\u001b[1m155/155\u001b[0m \u001b[32m━━━━━━━━━━━━━━━━━━━━\u001b[0m\u001b[37m\u001b[0m \u001b[1m32s\u001b[0m 207ms/step - accuracy: 0.5722 - loss: 0.3457 - val_accuracy: 0.5152 - val_loss: 0.4291 - learning_rate: 1.0000e-05\n",
      "Epoch 13/50\n",
      "\u001b[1m155/155\u001b[0m \u001b[32m━━━━━━━━━━━━━━━━━━━━\u001b[0m\u001b[37m\u001b[0m \u001b[1m32s\u001b[0m 207ms/step - accuracy: 0.5712 - loss: 0.3466 - val_accuracy: 0.5680 - val_loss: 0.4149 - learning_rate: 1.0000e-05\n",
      "Epoch 14/50\n",
      "\u001b[1m155/155\u001b[0m \u001b[32m━━━━━━━━━━━━━━━━━━━━\u001b[0m\u001b[37m\u001b[0m \u001b[1m32s\u001b[0m 208ms/step - accuracy: 0.5847 - loss: 0.3348 - val_accuracy: 0.5538 - val_loss: 0.4271 - learning_rate: 1.0000e-05\n",
      "Epoch 15/50\n",
      "\u001b[1m155/155\u001b[0m \u001b[32m━━━━━━━━━━━━━━━━━━━━\u001b[0m\u001b[37m\u001b[0m \u001b[1m32s\u001b[0m 208ms/step - accuracy: 0.6053 - loss: 0.3241 - val_accuracy: 0.5091 - val_loss: 0.4524 - learning_rate: 1.0000e-05\n",
      "Epoch 16/50\n",
      "\u001b[1m155/155\u001b[0m \u001b[32m━━━━━━━━━━━━━━━━━━━━\u001b[0m\u001b[37m\u001b[0m \u001b[1m32s\u001b[0m 208ms/step - accuracy: 0.6342 - loss: 0.2967 - val_accuracy: 0.5680 - val_loss: 0.4174 - learning_rate: 3.0000e-06\n",
      "Epoch 17/50\n",
      "\u001b[1m155/155\u001b[0m \u001b[32m━━━━━━━━━━━━━━━━━━━━\u001b[0m\u001b[37m\u001b[0m \u001b[1m32s\u001b[0m 208ms/step - accuracy: 0.6640 - loss: 0.2924 - val_accuracy: 0.5598 - val_loss: 0.4403 - learning_rate: 3.0000e-06\n",
      "Epoch 18/50\n",
      "\u001b[1m155/155\u001b[0m \u001b[32m━━━━━━━━━━━━━━━━━━━━\u001b[0m\u001b[37m\u001b[0m \u001b[1m32s\u001b[0m 208ms/step - accuracy: 0.6730 - loss: 0.2710 - val_accuracy: 0.5497 - val_loss: 0.4368 - learning_rate: 9.0000e-07\n",
      "Training Complete\n"
     ]
    }
   ],
   "source": [
    "import os\n",
    "os.environ['TF_CPP_MIN_LOG_LEVEL'] = '3'\n",
    "import numpy as np\n",
    "import random\n",
    "import datetime\n",
    "import matplotlib.pyplot as plt\n",
    "import pip\n",
    "pip.main(['install','seaborn'])\n",
    "import seaborn as sns\n",
    "from sklearn.metrics import confusion_matrix\n",
    "from sklearn.utils.class_weight import compute_class_weight\n",
    "from keras.applications import DenseNet121, VGG19\n",
    "from keras.models import Model\n",
    "from keras.layers import Dense, Flatten, Dropout, LeakyReLU, GlobalAveragePooling2D, Conv2D, Input\n",
    "from keras.optimizers import Adam\n",
    "from keras.losses import BinaryCrossentropy\n",
    "from keras.callbacks import EarlyStopping, ReduceLROnPlateau, ModelCheckpoint\n",
    "modelclass = '50+'\n",
    "suffix = '50+'\n",
    "iterations = 5\n",
    "iterations2 = 5\n",
    "\n",
    "def CreateModel(learn_rate):\n",
    "    input_tensor = Input(shape=(256, 256, 3))\n",
    "    base_model = VGG19(weights='imagenet', include_top=False, input_shape=(256, 256, 3))\n",
    "\n",
    "    for layer in base_model.layers[:10]:\n",
    "        layer.trainable = False\n",
    "        \n",
    "    x = base_model.output\n",
    "    x = GlobalAveragePooling2D()(x)\n",
    "    x = Dense(1024)(x)\n",
    "    x = LeakyReLU(negative_slope=0.01)(x)\n",
    "    x = Dropout(0.5)(x)\n",
    "    predictions = Dense(5, activation='sigmoid')(x)\n",
    "\n",
    "    model = Model(inputs=base_model.input, outputs=predictions)\n",
    "    model.compile(optimizer=Adam(learning_rate=learn_rate),\n",
    "                  loss=BinaryCrossentropy(),\n",
    "                  metrics=['accuracy'])\n",
    "    return model\n",
    "\n",
    "base_dir = 'Data/'\n",
    "train_images = np.load(os.path.join(base_dir, 'train_images.npy'))\n",
    "train_labels = np.load(os.path.join(base_dir, 'train_labels.npy'))\n",
    "val_images = np.load(os.path.join(base_dir, 'val_images.npy'))\n",
    "val_labels = np.load(os.path.join(base_dir, 'val_labels.npy'))\n",
    "\n",
    "if len(train_images.shape) == 3:\n",
    "    train_images = np.expand_dims(train_images, axis=-1)\n",
    "    train_images = np.repeat(train_images, 3, axis=-1)\n",
    "\n",
    "if len(val_images.shape) == 3:\n",
    "    val_images = np.expand_dims(val_images, axis=-1)\n",
    "    val_images = np.repeat(val_images, 3, axis=-1)\n",
    "\n",
    "class_weights = compute_class_weight('balanced', classes=np.unique(train_labels), y=train_labels.flatten())\n",
    "class_weights = {i: class_weights[i] for i in range(len(class_weights))}\n",
    "\n",
    "print(\"Initial class weights:\", class_weights)\n",
    "print(\"Start time: \", datetime.datetime.now())\n",
    "\n",
    "best_model_path = f'Models/class{suffix}{modelclass}temp.keras'\n",
    "model_checkpoint = ModelCheckpoint(best_model_path, monitor='val_loss', save_best_only=True, mode='min')\n",
    "\n",
    "best_val_loss = float('inf')\n",
    "for i in range(iterations):\n",
    "    early_stopping = EarlyStopping(monitor='val_loss', patience=5, restore_best_weights=True)\n",
    "    reduce_lr = ReduceLROnPlateau(monitor='val_loss', factor=0.3, patience=2, min_lr=1e-7)\n",
    "    model = CreateModel(1e-5)\n",
    "    print(f\"Training iteration {i+1}/{iterations}\")\n",
    "    history = model.fit(train_images, train_labels,\n",
    "                        epochs=50,\n",
    "                        batch_size=16,\n",
    "                        validation_data=(val_images, val_labels),\n",
    "                        class_weight=class_weights,\n",
    "                        callbacks=[early_stopping, reduce_lr, model_checkpoint])\n",
    "\n",
    "    model.load_weights(best_model_path)\n",
    "    val_loss = min(history.history['val_loss'])\n",
    "    if val_loss < best_val_loss:\n",
    "        best_val_loss = val_loss\n",
    "        print(f\"Best current val:{best_val_loss}\")\n",
    "        model.save(f'Models/class_{suffix}{modelclass}_overallbest.keras')\n",
    "\n",
    "print(\"Training Complete\")"
   ]
  },
  {
   "cell_type": "code",
   "execution_count": 2,
   "id": "b5bd43c1-b11b-4c5c-956e-06e030bd4e1e",
   "metadata": {},
   "outputs": [
    {
     "name": "stderr",
     "output_type": "stream",
     "text": [
      "/opt/conda/lib/python3.11/site-packages/keras/src/saving/saving_lib.py:719: UserWarning: Skipping variable loading for optimizer 'adam', because it has 2 variables whereas the saved optimizer has 46 variables. \n",
      "  saveable.load_own_variables(weights_store.get(inner_path))\n"
     ]
    },
    {
     "name": "stdout",
     "output_type": "stream",
     "text": [
      "Training iteration 1/5\n",
      "Epoch 1/50\n",
      "\u001b[1m155/155\u001b[0m \u001b[32m━━━━━━━━━━━━━━━━━━━━\u001b[0m\u001b[37m\u001b[0m \u001b[1m41s\u001b[0m 232ms/step - accuracy: 0.6001 - loss: 0.3347 - val_accuracy: 0.5558 - val_loss: 0.4196 - learning_rate: 1.0000e-07\n",
      "Epoch 2/50\n",
      "\u001b[1m155/155\u001b[0m \u001b[32m━━━━━━━━━━━━━━━━━━━━\u001b[0m\u001b[37m\u001b[0m \u001b[1m32s\u001b[0m 206ms/step - accuracy: 0.5859 - loss: 0.3395 - val_accuracy: 0.5497 - val_loss: 0.4226 - learning_rate: 1.0000e-07\n",
      "Epoch 3/50\n",
      "\u001b[1m155/155\u001b[0m \u001b[32m━━━━━━━━━━━━━━━━━━━━\u001b[0m\u001b[37m\u001b[0m \u001b[1m32s\u001b[0m 207ms/step - accuracy: 0.6066 - loss: 0.3255 - val_accuracy: 0.5538 - val_loss: 0.4231 - learning_rate: 1.0000e-07\n",
      "Epoch 4/50\n",
      "\u001b[1m155/155\u001b[0m \u001b[32m━━━━━━━━━━━━━━━━━━━━\u001b[0m\u001b[37m\u001b[0m \u001b[1m32s\u001b[0m 207ms/step - accuracy: 0.5986 - loss: 0.3387 - val_accuracy: 0.5517 - val_loss: 0.4237 - learning_rate: 1.0000e-07\n",
      "Epoch 5/50\n",
      "\u001b[1m155/155\u001b[0m \u001b[32m━━━━━━━━━━━━━━━━━━━━\u001b[0m\u001b[37m\u001b[0m \u001b[1m32s\u001b[0m 207ms/step - accuracy: 0.6069 - loss: 0.3264 - val_accuracy: 0.5538 - val_loss: 0.4237 - learning_rate: 1.0000e-08\n",
      "Epoch 6/50\n",
      "\u001b[1m155/155\u001b[0m \u001b[32m━━━━━━━━━━━━━━━━━━━━\u001b[0m\u001b[37m\u001b[0m \u001b[1m32s\u001b[0m 207ms/step - accuracy: 0.5909 - loss: 0.3296 - val_accuracy: 0.5538 - val_loss: 0.4236 - learning_rate: 1.0000e-08\n",
      "Best last val:0.41956257820129395\n",
      "Best current val:0.41956257820129395\n",
      "Training iteration 2/5\n",
      "Epoch 1/50\n",
      "\u001b[1m155/155\u001b[0m \u001b[32m━━━━━━━━━━━━━━━━━━━━\u001b[0m\u001b[37m\u001b[0m \u001b[1m41s\u001b[0m 233ms/step - accuracy: 0.6035 - loss: 0.3423 - val_accuracy: 0.5639 - val_loss: 0.4192 - learning_rate: 1.0000e-07\n",
      "Epoch 2/50\n",
      "\u001b[1m155/155\u001b[0m \u001b[32m━━━━━━━━━━━━━━━━━━━━\u001b[0m\u001b[37m\u001b[0m \u001b[1m32s\u001b[0m 206ms/step - accuracy: 0.5856 - loss: 0.3348 - val_accuracy: 0.5497 - val_loss: 0.4226 - learning_rate: 1.0000e-07\n",
      "Epoch 3/50\n",
      "\u001b[1m155/155\u001b[0m \u001b[32m━━━━━━━━━━━━━━━━━━━━\u001b[0m\u001b[37m\u001b[0m \u001b[1m32s\u001b[0m 206ms/step - accuracy: 0.6135 - loss: 0.3278 - val_accuracy: 0.5517 - val_loss: 0.4229 - learning_rate: 1.0000e-07\n",
      "Epoch 4/50\n",
      "\u001b[1m155/155\u001b[0m \u001b[32m━━━━━━━━━━━━━━━━━━━━\u001b[0m\u001b[37m\u001b[0m \u001b[1m32s\u001b[0m 207ms/step - accuracy: 0.5907 - loss: 0.3361 - val_accuracy: 0.5517 - val_loss: 0.4227 - learning_rate: 1.0000e-07\n",
      "Epoch 5/50\n",
      "\u001b[1m155/155\u001b[0m \u001b[32m━━━━━━━━━━━━━━━━━━━━\u001b[0m\u001b[37m\u001b[0m \u001b[1m32s\u001b[0m 207ms/step - accuracy: 0.5882 - loss: 0.3389 - val_accuracy: 0.5517 - val_loss: 0.4229 - learning_rate: 1.0000e-08\n",
      "Epoch 6/50\n",
      "\u001b[1m155/155\u001b[0m \u001b[32m━━━━━━━━━━━━━━━━━━━━\u001b[0m\u001b[37m\u001b[0m \u001b[1m32s\u001b[0m 207ms/step - accuracy: 0.6066 - loss: 0.3369 - val_accuracy: 0.5517 - val_loss: 0.4229 - learning_rate: 1.0000e-08\n",
      "Best last val:0.4192170202732086\n",
      "Best current val:0.4192170202732086\n",
      "Training iteration 3/5\n",
      "Epoch 1/50\n",
      "\u001b[1m155/155\u001b[0m \u001b[32m━━━━━━━━━━━━━━━━━━━━\u001b[0m\u001b[37m\u001b[0m \u001b[1m40s\u001b[0m 226ms/step - accuracy: 0.6152 - loss: 0.3374 - val_accuracy: 0.5578 - val_loss: 0.4194 - learning_rate: 1.0000e-07\n",
      "Epoch 2/50\n",
      "\u001b[1m155/155\u001b[0m \u001b[32m━━━━━━━━━━━━━━━━━━━━\u001b[0m\u001b[37m\u001b[0m \u001b[1m36s\u001b[0m 205ms/step - accuracy: 0.5902 - loss: 0.3348 - val_accuracy: 0.5538 - val_loss: 0.4226 - learning_rate: 1.0000e-07\n",
      "Epoch 3/50\n",
      "\u001b[1m155/155\u001b[0m \u001b[32m━━━━━━━━━━━━━━━━━━━━\u001b[0m\u001b[37m\u001b[0m \u001b[1m32s\u001b[0m 206ms/step - accuracy: 0.6125 - loss: 0.3310 - val_accuracy: 0.5497 - val_loss: 0.4235 - learning_rate: 1.0000e-07\n",
      "Epoch 4/50\n",
      "\u001b[1m155/155\u001b[0m \u001b[32m━━━━━━━━━━━━━━━━━━━━\u001b[0m\u001b[37m\u001b[0m \u001b[1m32s\u001b[0m 207ms/step - accuracy: 0.6106 - loss: 0.3220 - val_accuracy: 0.5517 - val_loss: 0.4232 - learning_rate: 1.0000e-07\n",
      "Epoch 5/50\n",
      "\u001b[1m155/155\u001b[0m \u001b[32m━━━━━━━━━━━━━━━━━━━━\u001b[0m\u001b[37m\u001b[0m \u001b[1m32s\u001b[0m 207ms/step - accuracy: 0.6203 - loss: 0.3278 - val_accuracy: 0.5538 - val_loss: 0.4232 - learning_rate: 1.0000e-08\n",
      "Epoch 6/50\n",
      "\u001b[1m155/155\u001b[0m \u001b[32m━━━━━━━━━━━━━━━━━━━━\u001b[0m\u001b[37m\u001b[0m \u001b[1m32s\u001b[0m 207ms/step - accuracy: 0.5885 - loss: 0.3312 - val_accuracy: 0.5558 - val_loss: 0.4231 - learning_rate: 1.0000e-08\n",
      "Training iteration 4/5\n",
      "Epoch 1/50\n",
      "\u001b[1m155/155\u001b[0m \u001b[32m━━━━━━━━━━━━━━━━━━━━\u001b[0m\u001b[37m\u001b[0m \u001b[1m42s\u001b[0m 235ms/step - accuracy: 0.6266 - loss: 0.3289 - val_accuracy: 0.5598 - val_loss: 0.4191 - learning_rate: 1.0000e-07\n",
      "Epoch 2/50\n",
      "\u001b[1m155/155\u001b[0m \u001b[32m━━━━━━━━━━━━━━━━━━━━\u001b[0m\u001b[37m\u001b[0m \u001b[1m32s\u001b[0m 206ms/step - accuracy: 0.6093 - loss: 0.3322 - val_accuracy: 0.5558 - val_loss: 0.4213 - learning_rate: 1.0000e-07\n",
      "Epoch 3/50\n",
      "\u001b[1m155/155\u001b[0m \u001b[32m━━━━━━━━━━━━━━━━━━━━\u001b[0m\u001b[37m\u001b[0m \u001b[1m32s\u001b[0m 206ms/step - accuracy: 0.5893 - loss: 0.3309 - val_accuracy: 0.5517 - val_loss: 0.4225 - learning_rate: 1.0000e-07\n",
      "Epoch 4/50\n",
      "\u001b[1m155/155\u001b[0m \u001b[32m━━━━━━━━━━━━━━━━━━━━\u001b[0m\u001b[37m\u001b[0m \u001b[1m32s\u001b[0m 207ms/step - accuracy: 0.6081 - loss: 0.3253 - val_accuracy: 0.5517 - val_loss: 0.4228 - learning_rate: 1.0000e-07\n",
      "Epoch 5/50\n",
      "\u001b[1m155/155\u001b[0m \u001b[32m━━━━━━━━━━━━━━━━━━━━\u001b[0m\u001b[37m\u001b[0m \u001b[1m32s\u001b[0m 207ms/step - accuracy: 0.5896 - loss: 0.3333 - val_accuracy: 0.5538 - val_loss: 0.4229 - learning_rate: 1.0000e-08\n",
      "Epoch 6/50\n",
      "\u001b[1m155/155\u001b[0m \u001b[32m━━━━━━━━━━━━━━━━━━━━\u001b[0m\u001b[37m\u001b[0m \u001b[1m32s\u001b[0m 207ms/step - accuracy: 0.6004 - loss: 0.3274 - val_accuracy: 0.5538 - val_loss: 0.4230 - learning_rate: 1.0000e-08\n",
      "Best last val:0.41907739639282227\n",
      "Best current val:0.41907739639282227\n",
      "Training iteration 5/5\n",
      "Epoch 1/50\n",
      "\u001b[1m155/155\u001b[0m \u001b[32m━━━━━━━━━━━━━━━━━━━━\u001b[0m\u001b[37m\u001b[0m \u001b[1m41s\u001b[0m 232ms/step - accuracy: 0.6120 - loss: 0.3312 - val_accuracy: 0.5558 - val_loss: 0.4185 - learning_rate: 1.0000e-07\n",
      "Epoch 2/50\n",
      "\u001b[1m155/155\u001b[0m \u001b[32m━━━━━━━━━━━━━━━━━━━━\u001b[0m\u001b[37m\u001b[0m \u001b[1m32s\u001b[0m 205ms/step - accuracy: 0.6001 - loss: 0.3264 - val_accuracy: 0.5558 - val_loss: 0.4230 - learning_rate: 1.0000e-07\n",
      "Epoch 3/50\n",
      "\u001b[1m155/155\u001b[0m \u001b[32m━━━━━━━━━━━━━━━━━━━━\u001b[0m\u001b[37m\u001b[0m \u001b[1m34s\u001b[0m 223ms/step - accuracy: 0.6041 - loss: 0.3289 - val_accuracy: 0.5558 - val_loss: 0.4236 - learning_rate: 1.0000e-07\n",
      "Epoch 4/50\n",
      "\u001b[1m155/155\u001b[0m \u001b[32m━━━━━━━━━━━━━━━━━━━━\u001b[0m\u001b[37m\u001b[0m \u001b[1m32s\u001b[0m 206ms/step - accuracy: 0.6007 - loss: 0.3264 - val_accuracy: 0.5558 - val_loss: 0.4236 - learning_rate: 1.0000e-07\n",
      "Epoch 5/50\n",
      "\u001b[1m155/155\u001b[0m \u001b[32m━━━━━━━━━━━━━━━━━━━━\u001b[0m\u001b[37m\u001b[0m \u001b[1m32s\u001b[0m 206ms/step - accuracy: 0.5975 - loss: 0.3186 - val_accuracy: 0.5558 - val_loss: 0.4235 - learning_rate: 1.0000e-08\n",
      "Epoch 6/50\n",
      "\u001b[1m155/155\u001b[0m \u001b[32m━━━━━━━━━━━━━━━━━━━━\u001b[0m\u001b[37m\u001b[0m \u001b[1m32s\u001b[0m 207ms/step - accuracy: 0.6101 - loss: 0.3306 - val_accuracy: 0.5578 - val_loss: 0.4234 - learning_rate: 1.0000e-08\n",
      "Best last val:0.4185057580471039\n",
      "Best current val:0.4185057580471039\n"
     ]
    }
   ],
   "source": [
    "best_model_path = f'Models/class{suffix}secondary{modelclass}temp.keras'\n",
    "model_checkpoint = ModelCheckpoint(best_model_path, monitor='val_loss', save_best_only=True, mode='min')\n",
    "best_val_loss = float('inf')\n",
    "for i in range (iterations2):\n",
    "    model = CreateModel(1e-7)\n",
    "    model.load_weights(f'Models/class_{suffix}{modelclass}_overallbest.keras')\n",
    "    early_stopping = EarlyStopping(monitor='val_loss', patience=5, restore_best_weights=True)\n",
    "    reduce_lr = ReduceLROnPlateau(monitor='val_loss', factor=0.1, patience=3, min_lr=1e-8)\n",
    "    \n",
    "    print(f\"Training iteration {i+1}/{iterations2}\")\n",
    "    history = model.fit(train_images, train_labels,\n",
    "                        epochs=50,\n",
    "                        batch_size=16,\n",
    "                        validation_data=(val_images, val_labels),\n",
    "                        class_weight=class_weights,\n",
    "                        callbacks=[early_stopping, reduce_lr, model_checkpoint])\n",
    "\n",
    "    model.load_weights(best_model_path)\n",
    "    val_loss = min(history.history['val_loss'])\n",
    "    if val_loss < best_val_loss:\n",
    "        best_val_loss = val_loss\n",
    "        print(f\"Best last val:{val_loss}\")\n",
    "        print(f\"Best current val:{best_val_loss}\")\n",
    "        model.save(f'Models/class_{suffix}{modelclass}_overallbestFIN.keras')"
   ]
  }
 ],
 "metadata": {
  "kernelspec": {
   "display_name": "Python 3 (ipykernel)",
   "language": "python",
   "name": "python3"
  },
  "language_info": {
   "codemirror_mode": {
    "name": "ipython",
    "version": 3
   },
   "file_extension": ".py",
   "mimetype": "text/x-python",
   "name": "python",
   "nbconvert_exporter": "python",
   "pygments_lexer": "ipython3",
   "version": "3.11.11"
  }
 },
 "nbformat": 4,
 "nbformat_minor": 5
}
