{
 "cells": [
  {
   "cell_type": "code",
   "execution_count": 1,
   "id": "05fd7ab0-9370-4970-a49b-9b597c45c208",
   "metadata": {},
   "outputs": [
    {
     "name": "stderr",
     "output_type": "stream",
     "text": [
      "WARNING: pip is being invoked by an old script wrapper. This will fail in a future version of pip.\n",
      "Please see https://github.com/pypa/pip/issues/5599 for advice on fixing the underlying issue.\n",
      "To avoid this problem you can invoke Python with '-m pip' instead of running pip directly.\n"
     ]
    },
    {
     "data": {
      "text/html": [
       "<pre style=\"white-space:pre;overflow-x:auto;line-height:normal;font-family:Menlo,'DejaVu Sans Mono',consolas,'Courier New',monospace\">Requirement already satisfied: seaborn in /opt/conda/lib/python3.11/site-packages (0.13.2)\n",
       "</pre>\n"
      ],
      "text/plain": [
       "Requirement already satisfied: seaborn in /opt/conda/lib/python3.11/site-packages (0.13.2)\n"
      ]
     },
     "metadata": {},
     "output_type": "display_data"
    },
    {
     "data": {
      "text/html": [
       "<pre style=\"white-space:pre;overflow-x:auto;line-height:normal;font-family:Menlo,'DejaVu Sans Mono',consolas,'Courier New',monospace\">Requirement already satisfied: numpy!=1.24.0,&gt;=1.20 in /opt/conda/lib/python3.11/site-packages (from seaborn) (1.26.4)\n",
       "</pre>\n"
      ],
      "text/plain": [
       "Requirement already satisfied: numpy!=1.24.0,>=1.20 in /opt/conda/lib/python3.11/site-packages (from seaborn) (1.26.4)\n"
      ]
     },
     "metadata": {},
     "output_type": "display_data"
    },
    {
     "data": {
      "text/html": [
       "<pre style=\"white-space:pre;overflow-x:auto;line-height:normal;font-family:Menlo,'DejaVu Sans Mono',consolas,'Courier New',monospace\">Requirement already satisfied: pandas&gt;=1.2 in /opt/conda/lib/python3.11/site-packages (from seaborn) (2.2.3)\n",
       "</pre>\n"
      ],
      "text/plain": [
       "Requirement already satisfied: pandas>=1.2 in /opt/conda/lib/python3.11/site-packages (from seaborn) (2.2.3)\n"
      ]
     },
     "metadata": {},
     "output_type": "display_data"
    },
    {
     "data": {
      "text/html": [
       "<pre style=\"white-space:pre;overflow-x:auto;line-height:normal;font-family:Menlo,'DejaVu Sans Mono',consolas,'Courier New',monospace\">Requirement already satisfied: matplotlib!=3.6.1,&gt;=3.4 in /opt/conda/lib/python3.11/site-packages (from seaborn) (3.9.3)\n",
       "</pre>\n"
      ],
      "text/plain": [
       "Requirement already satisfied: matplotlib!=3.6.1,>=3.4 in /opt/conda/lib/python3.11/site-packages (from seaborn) (3.9.3)\n"
      ]
     },
     "metadata": {},
     "output_type": "display_data"
    },
    {
     "data": {
      "text/html": [
       "<pre style=\"white-space:pre;overflow-x:auto;line-height:normal;font-family:Menlo,'DejaVu Sans Mono',consolas,'Courier New',monospace\">Requirement already satisfied: contourpy&gt;=1.0.1 in /opt/conda/lib/python3.11/site-packages (from matplotlib!=3.6.1,&gt;=3.4-&gt;seaborn) (1.3.1)\n",
       "</pre>\n"
      ],
      "text/plain": [
       "Requirement already satisfied: contourpy>=1.0.1 in /opt/conda/lib/python3.11/site-packages (from matplotlib!=3.6.1,>=3.4->seaborn) (1.3.1)\n"
      ]
     },
     "metadata": {},
     "output_type": "display_data"
    },
    {
     "data": {
      "text/html": [
       "<pre style=\"white-space:pre;overflow-x:auto;line-height:normal;font-family:Menlo,'DejaVu Sans Mono',consolas,'Courier New',monospace\">Requirement already satisfied: cycler&gt;=0.10 in /opt/conda/lib/python3.11/site-packages (from matplotlib!=3.6.1,&gt;=3.4-&gt;seaborn) (0.12.1)\n",
       "</pre>\n"
      ],
      "text/plain": [
       "Requirement already satisfied: cycler>=0.10 in /opt/conda/lib/python3.11/site-packages (from matplotlib!=3.6.1,>=3.4->seaborn) (0.12.1)\n"
      ]
     },
     "metadata": {},
     "output_type": "display_data"
    },
    {
     "data": {
      "text/html": [
       "<pre style=\"white-space:pre;overflow-x:auto;line-height:normal;font-family:Menlo,'DejaVu Sans Mono',consolas,'Courier New',monospace\">Requirement already satisfied: fonttools&gt;=4.22.0 in /opt/conda/lib/python3.11/site-packages (from matplotlib!=3.6.1,&gt;=3.4-&gt;seaborn) (4.55.3)\n",
       "</pre>\n"
      ],
      "text/plain": [
       "Requirement already satisfied: fonttools>=4.22.0 in /opt/conda/lib/python3.11/site-packages (from matplotlib!=3.6.1,>=3.4->seaborn) (4.55.3)\n"
      ]
     },
     "metadata": {},
     "output_type": "display_data"
    },
    {
     "data": {
      "text/html": [
       "<pre style=\"white-space:pre;overflow-x:auto;line-height:normal;font-family:Menlo,'DejaVu Sans Mono',consolas,'Courier New',monospace\">Requirement already satisfied: kiwisolver&gt;=1.3.1 in /opt/conda/lib/python3.11/site-packages (from matplotlib!=3.6.1,&gt;=3.4-&gt;seaborn) (1.4.7)\n",
       "</pre>\n"
      ],
      "text/plain": [
       "Requirement already satisfied: kiwisolver>=1.3.1 in /opt/conda/lib/python3.11/site-packages (from matplotlib!=3.6.1,>=3.4->seaborn) (1.4.7)\n"
      ]
     },
     "metadata": {},
     "output_type": "display_data"
    },
    {
     "data": {
      "text/html": [
       "<pre style=\"white-space:pre;overflow-x:auto;line-height:normal;font-family:Menlo,'DejaVu Sans Mono',consolas,'Courier New',monospace\">Requirement already satisfied: packaging&gt;=20.0 in /opt/conda/lib/python3.11/site-packages (from matplotlib!=3.6.1,&gt;=3.4-&gt;seaborn) (24.2)\n",
       "</pre>\n"
      ],
      "text/plain": [
       "Requirement already satisfied: packaging>=20.0 in /opt/conda/lib/python3.11/site-packages (from matplotlib!=3.6.1,>=3.4->seaborn) (24.2)\n"
      ]
     },
     "metadata": {},
     "output_type": "display_data"
    },
    {
     "data": {
      "text/html": [
       "<pre style=\"white-space:pre;overflow-x:auto;line-height:normal;font-family:Menlo,'DejaVu Sans Mono',consolas,'Courier New',monospace\">Requirement already satisfied: pillow&gt;=8 in /opt/conda/lib/python3.11/site-packages (from matplotlib!=3.6.1,&gt;=3.4-&gt;seaborn) (10.4.0)\n",
       "</pre>\n"
      ],
      "text/plain": [
       "Requirement already satisfied: pillow>=8 in /opt/conda/lib/python3.11/site-packages (from matplotlib!=3.6.1,>=3.4->seaborn) (10.4.0)\n"
      ]
     },
     "metadata": {},
     "output_type": "display_data"
    },
    {
     "data": {
      "text/html": [
       "<pre style=\"white-space:pre;overflow-x:auto;line-height:normal;font-family:Menlo,'DejaVu Sans Mono',consolas,'Courier New',monospace\">Requirement already satisfied: pyparsing&gt;=2.3.1 in /opt/conda/lib/python3.11/site-packages (from matplotlib!=3.6.1,&gt;=3.4-&gt;seaborn) (3.2.0)\n",
       "</pre>\n"
      ],
      "text/plain": [
       "Requirement already satisfied: pyparsing>=2.3.1 in /opt/conda/lib/python3.11/site-packages (from matplotlib!=3.6.1,>=3.4->seaborn) (3.2.0)\n"
      ]
     },
     "metadata": {},
     "output_type": "display_data"
    },
    {
     "data": {
      "text/html": [
       "<pre style=\"white-space:pre;overflow-x:auto;line-height:normal;font-family:Menlo,'DejaVu Sans Mono',consolas,'Courier New',monospace\">Requirement already satisfied: python-dateutil&gt;=2.7 in /opt/conda/lib/python3.11/site-packages (from matplotlib!=3.6.1,&gt;=3.4-&gt;seaborn) (2.9.0.post0)\n",
       "</pre>\n"
      ],
      "text/plain": [
       "Requirement already satisfied: python-dateutil>=2.7 in /opt/conda/lib/python3.11/site-packages (from matplotlib!=3.6.1,>=3.4->seaborn) (2.9.0.post0)\n"
      ]
     },
     "metadata": {},
     "output_type": "display_data"
    },
    {
     "data": {
      "text/html": [
       "<pre style=\"white-space:pre;overflow-x:auto;line-height:normal;font-family:Menlo,'DejaVu Sans Mono',consolas,'Courier New',monospace\">Requirement already satisfied: pytz&gt;=2020.1 in /opt/conda/lib/python3.11/site-packages (from pandas&gt;=1.2-&gt;seaborn) (2023.3)\n",
       "</pre>\n"
      ],
      "text/plain": [
       "Requirement already satisfied: pytz>=2020.1 in /opt/conda/lib/python3.11/site-packages (from pandas>=1.2->seaborn) (2023.3)\n"
      ]
     },
     "metadata": {},
     "output_type": "display_data"
    },
    {
     "data": {
      "text/html": [
       "<pre style=\"white-space:pre;overflow-x:auto;line-height:normal;font-family:Menlo,'DejaVu Sans Mono',consolas,'Courier New',monospace\">Requirement already satisfied: tzdata&gt;=2022.7 in /opt/conda/lib/python3.11/site-packages (from pandas&gt;=1.2-&gt;seaborn) (2024.2)\n",
       "</pre>\n"
      ],
      "text/plain": [
       "Requirement already satisfied: tzdata>=2022.7 in /opt/conda/lib/python3.11/site-packages (from pandas>=1.2->seaborn) (2024.2)\n"
      ]
     },
     "metadata": {},
     "output_type": "display_data"
    },
    {
     "data": {
      "text/html": [
       "<pre style=\"white-space:pre;overflow-x:auto;line-height:normal;font-family:Menlo,'DejaVu Sans Mono',consolas,'Courier New',monospace\">Requirement already satisfied: six&gt;=1.5 in /opt/conda/lib/python3.11/site-packages (from python-dateutil&gt;=2.7-&gt;matplotlib!=3.6.1,&gt;=3.4-&gt;seaborn) (1.17.0)\n",
       "</pre>\n"
      ],
      "text/plain": [
       "Requirement already satisfied: six>=1.5 in /opt/conda/lib/python3.11/site-packages (from python-dateutil>=2.7->matplotlib!=3.6.1,>=3.4->seaborn) (1.17.0)\n"
      ]
     },
     "metadata": {},
     "output_type": "display_data"
    },
    {
     "name": "stdout",
     "output_type": "stream",
     "text": [
      "Initial class weights: {0: 0.6386153387048642, 1: 2.3035522066738428}\n",
      "Start time:  2025-02-01 19:55:37.389436\n"
     ]
    },
    {
     "name": "stderr",
     "output_type": "stream",
     "text": [
      "WARNING: All log messages before absl::InitializeLog() is called are written to STDERR\n",
      "I0000 00:00:1738439737.549291    6894 cuda_executor.cc:1015] successful NUMA node read from SysFS had negative value (-1), but there must be at least one NUMA node, so returning NUMA node zero. See more at https://github.com/torvalds/linux/blob/v6.0/Documentation/ABI/testing/sysfs-bus-pci#L344-L355\n",
      "I0000 00:00:1738439737.607723    6894 cuda_executor.cc:1015] successful NUMA node read from SysFS had negative value (-1), but there must be at least one NUMA node, so returning NUMA node zero. See more at https://github.com/torvalds/linux/blob/v6.0/Documentation/ABI/testing/sysfs-bus-pci#L344-L355\n",
      "I0000 00:00:1738439737.611665    6894 cuda_executor.cc:1015] successful NUMA node read from SysFS had negative value (-1), but there must be at least one NUMA node, so returning NUMA node zero. See more at https://github.com/torvalds/linux/blob/v6.0/Documentation/ABI/testing/sysfs-bus-pci#L344-L355\n",
      "I0000 00:00:1738439737.616051    6894 cuda_executor.cc:1015] successful NUMA node read from SysFS had negative value (-1), but there must be at least one NUMA node, so returning NUMA node zero. See more at https://github.com/torvalds/linux/blob/v6.0/Documentation/ABI/testing/sysfs-bus-pci#L344-L355\n",
      "I0000 00:00:1738439737.619333    6894 cuda_executor.cc:1015] successful NUMA node read from SysFS had negative value (-1), but there must be at least one NUMA node, so returning NUMA node zero. See more at https://github.com/torvalds/linux/blob/v6.0/Documentation/ABI/testing/sysfs-bus-pci#L344-L355\n",
      "I0000 00:00:1738439737.622353    6894 cuda_executor.cc:1015] successful NUMA node read from SysFS had negative value (-1), but there must be at least one NUMA node, so returning NUMA node zero. See more at https://github.com/torvalds/linux/blob/v6.0/Documentation/ABI/testing/sysfs-bus-pci#L344-L355\n",
      "I0000 00:00:1738439737.815632    6894 cuda_executor.cc:1015] successful NUMA node read from SysFS had negative value (-1), but there must be at least one NUMA node, so returning NUMA node zero. See more at https://github.com/torvalds/linux/blob/v6.0/Documentation/ABI/testing/sysfs-bus-pci#L344-L355\n",
      "I0000 00:00:1738439737.817781    6894 cuda_executor.cc:1015] successful NUMA node read from SysFS had negative value (-1), but there must be at least one NUMA node, so returning NUMA node zero. See more at https://github.com/torvalds/linux/blob/v6.0/Documentation/ABI/testing/sysfs-bus-pci#L344-L355\n",
      "I0000 00:00:1738439737.819704    6894 cuda_executor.cc:1015] successful NUMA node read from SysFS had negative value (-1), but there must be at least one NUMA node, so returning NUMA node zero. See more at https://github.com/torvalds/linux/blob/v6.0/Documentation/ABI/testing/sysfs-bus-pci#L344-L355\n"
     ]
    },
    {
     "name": "stdout",
     "output_type": "stream",
     "text": [
      "Training iteration 1/5\n",
      "Epoch 1/50\n"
     ]
    },
    {
     "name": "stderr",
     "output_type": "stream",
     "text": [
      "I0000 00:00:1738439745.618934    6936 service.cc:146] XLA service 0x7fe9cc018580 initialized for platform CUDA (this does not guarantee that XLA will be used). Devices:\n",
      "I0000 00:00:1738439745.619026    6936 service.cc:154]   StreamExecutor device (0): Tesla T4, Compute Capability 7.5\n"
     ]
    },
    {
     "name": "stdout",
     "output_type": "stream",
     "text": [
      "\u001b[1m  1/161\u001b[0m \u001b[37m━━━━━━━━━━━━━━━━━━━━\u001b[0m \u001b[1m1:02:04\u001b[0m 23s/step - accuracy: 0.5000 - loss: 0.6652"
     ]
    },
    {
     "name": "stderr",
     "output_type": "stream",
     "text": [
      "I0000 00:00:1738439765.838726    6936 device_compiler.h:188] Compiled cluster using XLA!  This line is logged at most once for the lifetime of the process.\n"
     ]
    },
    {
     "name": "stdout",
     "output_type": "stream",
     "text": [
      "\u001b[1m161/161\u001b[0m \u001b[32m━━━━━━━━━━━━━━━━━━━━\u001b[0m\u001b[37m\u001b[0m \u001b[1m0s\u001b[0m 265ms/step - accuracy: 0.3120 - loss: 0.5985"
     ]
    },
    {
     "name": "stderr",
     "output_type": "stream",
     "text": [
      "E0000 00:00:1738439816.716134    6937 gpu_timer.cc:183] Delay kernel timed out: measured time has sub-optimal accuracy. There may be a missing warmup execution, please investigate in Nsight Systems.\n",
      "E0000 00:00:1738439816.925134    6937 gpu_timer.cc:183] Delay kernel timed out: measured time has sub-optimal accuracy. There may be a missing warmup execution, please investigate in Nsight Systems.\n",
      "E0000 00:00:1738439817.530335    6937 gpu_timer.cc:183] Delay kernel timed out: measured time has sub-optimal accuracy. There may be a missing warmup execution, please investigate in Nsight Systems.\n",
      "E0000 00:00:1738439817.812203    6937 gpu_timer.cc:183] Delay kernel timed out: measured time has sub-optimal accuracy. There may be a missing warmup execution, please investigate in Nsight Systems.\n"
     ]
    },
    {
     "name": "stdout",
     "output_type": "stream",
     "text": [
      "\u001b[1m161/161\u001b[0m \u001b[32m━━━━━━━━━━━━━━━━━━━━\u001b[0m\u001b[37m\u001b[0m \u001b[1m78s\u001b[0m 343ms/step - accuracy: 0.3120 - loss: 0.5983 - val_accuracy: 0.3852 - val_loss: 0.4813 - learning_rate: 1.0000e-05\n",
      "Epoch 2/50\n",
      "\u001b[1m161/161\u001b[0m \u001b[32m━━━━━━━━━━━━━━━━━━━━\u001b[0m\u001b[37m\u001b[0m \u001b[1m41s\u001b[0m 213ms/step - accuracy: 0.3537 - loss: 0.5271 - val_accuracy: 0.3891 - val_loss: 0.4800 - learning_rate: 1.0000e-05\n",
      "Epoch 3/50\n",
      "\u001b[1m161/161\u001b[0m \u001b[32m━━━━━━━━━━━━━━━━━━━━\u001b[0m\u001b[37m\u001b[0m \u001b[1m34s\u001b[0m 214ms/step - accuracy: 0.3743 - loss: 0.5039 - val_accuracy: 0.4163 - val_loss: 0.4604 - learning_rate: 1.0000e-05\n",
      "Epoch 4/50\n",
      "\u001b[1m161/161\u001b[0m \u001b[32m━━━━━━━━━━━━━━━━━━━━\u001b[0m\u001b[37m\u001b[0m \u001b[1m34s\u001b[0m 214ms/step - accuracy: 0.4214 - loss: 0.4633 - val_accuracy: 0.4008 - val_loss: 0.4602 - learning_rate: 1.0000e-05\n",
      "Epoch 5/50\n",
      "\u001b[1m161/161\u001b[0m \u001b[32m━━━━━━━━━━━━━━━━━━━━\u001b[0m\u001b[37m\u001b[0m \u001b[1m35s\u001b[0m 214ms/step - accuracy: 0.4670 - loss: 0.4309 - val_accuracy: 0.4300 - val_loss: 0.4503 - learning_rate: 1.0000e-05\n",
      "Epoch 6/50\n",
      "\u001b[1m161/161\u001b[0m \u001b[32m━━━━━━━━━━━━━━━━━━━━\u001b[0m\u001b[37m\u001b[0m \u001b[1m34s\u001b[0m 214ms/step - accuracy: 0.4744 - loss: 0.4028 - val_accuracy: 0.4494 - val_loss: 0.4419 - learning_rate: 1.0000e-05\n",
      "Epoch 7/50\n",
      "\u001b[1m161/161\u001b[0m \u001b[32m━━━━━━━━━━━━━━━━━━━━\u001b[0m\u001b[37m\u001b[0m \u001b[1m34s\u001b[0m 214ms/step - accuracy: 0.5013 - loss: 0.3886 - val_accuracy: 0.4494 - val_loss: 0.4282 - learning_rate: 1.0000e-05\n",
      "Epoch 8/50\n",
      "\u001b[1m161/161\u001b[0m \u001b[32m━━━━━━━━━━━━━━━━━━━━\u001b[0m\u001b[37m\u001b[0m \u001b[1m33s\u001b[0m 206ms/step - accuracy: 0.5134 - loss: 0.3878 - val_accuracy: 0.4864 - val_loss: 0.4286 - learning_rate: 1.0000e-05\n",
      "Epoch 9/50\n",
      "\u001b[1m161/161\u001b[0m \u001b[32m━━━━━━━━━━━━━━━━━━━━\u001b[0m\u001b[37m\u001b[0m \u001b[1m35s\u001b[0m 215ms/step - accuracy: 0.5568 - loss: 0.3696 - val_accuracy: 0.5078 - val_loss: 0.4154 - learning_rate: 1.0000e-05\n",
      "Epoch 10/50\n",
      "\u001b[1m161/161\u001b[0m \u001b[32m━━━━━━━━━━━━━━━━━━━━\u001b[0m\u001b[37m\u001b[0m \u001b[1m35s\u001b[0m 214ms/step - accuracy: 0.5517 - loss: 0.3620 - val_accuracy: 0.5195 - val_loss: 0.4036 - learning_rate: 1.0000e-05\n",
      "Epoch 11/50\n",
      "\u001b[1m161/161\u001b[0m \u001b[32m━━━━━━━━━━━━━━━━━━━━\u001b[0m\u001b[37m\u001b[0m \u001b[1m33s\u001b[0m 207ms/step - accuracy: 0.5959 - loss: 0.3435 - val_accuracy: 0.5272 - val_loss: 0.4087 - learning_rate: 1.0000e-05\n",
      "Epoch 12/50\n",
      "\u001b[1m161/161\u001b[0m \u001b[32m━━━━━━━━━━━━━━━━━━━━\u001b[0m\u001b[37m\u001b[0m \u001b[1m33s\u001b[0m 207ms/step - accuracy: 0.6028 - loss: 0.3494 - val_accuracy: 0.5447 - val_loss: 0.4100 - learning_rate: 1.0000e-05\n",
      "Epoch 13/50\n",
      "\u001b[1m161/161\u001b[0m \u001b[32m━━━━━━━━━━━━━━━━━━━━\u001b[0m\u001b[37m\u001b[0m \u001b[1m33s\u001b[0m 207ms/step - accuracy: 0.6464 - loss: 0.3034 - val_accuracy: 0.5195 - val_loss: 0.4205 - learning_rate: 3.0000e-06\n",
      "Epoch 14/50\n",
      "\u001b[1m161/161\u001b[0m \u001b[32m━━━━━━━━━━━━━━━━━━━━\u001b[0m\u001b[37m\u001b[0m \u001b[1m35s\u001b[0m 215ms/step - accuracy: 0.6517 - loss: 0.3027 - val_accuracy: 0.5486 - val_loss: 0.3988 - learning_rate: 3.0000e-06\n",
      "Epoch 15/50\n",
      "\u001b[1m161/161\u001b[0m \u001b[32m━━━━━━━━━━━━━━━━━━━━\u001b[0m\u001b[37m\u001b[0m \u001b[1m36s\u001b[0m 222ms/step - accuracy: 0.6530 - loss: 0.2977 - val_accuracy: 0.5311 - val_loss: 0.4136 - learning_rate: 3.0000e-06\n",
      "Epoch 16/50\n",
      "\u001b[1m161/161\u001b[0m \u001b[32m━━━━━━━━━━━━━━━━━━━━\u001b[0m\u001b[37m\u001b[0m \u001b[1m35s\u001b[0m 215ms/step - accuracy: 0.6575 - loss: 0.2880 - val_accuracy: 0.5506 - val_loss: 0.3966 - learning_rate: 3.0000e-06\n",
      "Epoch 17/50\n",
      "\u001b[1m161/161\u001b[0m \u001b[32m━━━━━━━━━━━━━━━━━━━━\u001b[0m\u001b[37m\u001b[0m \u001b[1m33s\u001b[0m 207ms/step - accuracy: 0.6770 - loss: 0.2890 - val_accuracy: 0.5253 - val_loss: 0.4128 - learning_rate: 3.0000e-06\n",
      "Epoch 18/50\n",
      "\u001b[1m161/161\u001b[0m \u001b[32m━━━━━━━━━━━━━━━━━━━━\u001b[0m\u001b[37m\u001b[0m \u001b[1m33s\u001b[0m 207ms/step - accuracy: 0.6776 - loss: 0.2789 - val_accuracy: 0.5389 - val_loss: 0.4139 - learning_rate: 3.0000e-06\n",
      "Epoch 19/50\n",
      "\u001b[1m161/161\u001b[0m \u001b[32m━━━━━━━━━━━━━━━━━━━━\u001b[0m\u001b[37m\u001b[0m \u001b[1m33s\u001b[0m 208ms/step - accuracy: 0.6874 - loss: 0.2656 - val_accuracy: 0.5700 - val_loss: 0.4035 - learning_rate: 9.0000e-07\n",
      "Epoch 20/50\n",
      "\u001b[1m161/161\u001b[0m \u001b[32m━━━━━━━━━━━━━━━━━━━━\u001b[0m\u001b[37m\u001b[0m \u001b[1m33s\u001b[0m 208ms/step - accuracy: 0.6881 - loss: 0.2722 - val_accuracy: 0.5331 - val_loss: 0.4198 - learning_rate: 9.0000e-07\n",
      "Epoch 21/50\n",
      "\u001b[1m161/161\u001b[0m \u001b[32m━━━━━━━━━━━━━━━━━━━━\u001b[0m\u001b[37m\u001b[0m \u001b[1m33s\u001b[0m 207ms/step - accuracy: 0.7040 - loss: 0.2531 - val_accuracy: 0.5642 - val_loss: 0.4060 - learning_rate: 2.7000e-07\n",
      "Best current val:0.39656582474708557\n",
      "Training iteration 2/5\n",
      "Epoch 1/50\n",
      "\u001b[1m161/161\u001b[0m \u001b[32m━━━━━━━━━━━━━━━━━━━━\u001b[0m\u001b[37m\u001b[0m \u001b[1m41s\u001b[0m 225ms/step - accuracy: 0.2979 - loss: 0.5776 - val_accuracy: 0.3794 - val_loss: 0.4861 - learning_rate: 1.0000e-05\n",
      "Epoch 2/50\n",
      "\u001b[1m161/161\u001b[0m \u001b[32m━━━━━━━━━━━━━━━━━━━━\u001b[0m\u001b[37m\u001b[0m \u001b[1m33s\u001b[0m 205ms/step - accuracy: 0.3466 - loss: 0.5261 - val_accuracy: 0.3113 - val_loss: 0.4867 - learning_rate: 1.0000e-05\n",
      "Epoch 3/50\n",
      "\u001b[1m161/161\u001b[0m \u001b[32m━━━━━━━━━━━━━━━━━━━━\u001b[0m\u001b[37m\u001b[0m \u001b[1m33s\u001b[0m 207ms/step - accuracy: 0.3685 - loss: 0.5001 - val_accuracy: 0.3658 - val_loss: 0.4779 - learning_rate: 1.0000e-05\n",
      "Epoch 4/50\n",
      "\u001b[1m161/161\u001b[0m \u001b[32m━━━━━━━━━━━━━━━━━━━━\u001b[0m\u001b[37m\u001b[0m \u001b[1m33s\u001b[0m 207ms/step - accuracy: 0.4043 - loss: 0.4671 - val_accuracy: 0.3560 - val_loss: 0.4892 - learning_rate: 1.0000e-05\n",
      "Epoch 5/50\n",
      "\u001b[1m161/161\u001b[0m \u001b[32m━━━━━━━━━━━━━━━━━━━━\u001b[0m\u001b[37m\u001b[0m \u001b[1m33s\u001b[0m 208ms/step - accuracy: 0.4418 - loss: 0.4379 - val_accuracy: 0.4650 - val_loss: 0.4305 - learning_rate: 1.0000e-05\n",
      "Epoch 6/50\n",
      "\u001b[1m161/161\u001b[0m \u001b[32m━━━━━━━━━━━━━━━━━━━━\u001b[0m\u001b[37m\u001b[0m \u001b[1m33s\u001b[0m 208ms/step - accuracy: 0.4719 - loss: 0.4077 - val_accuracy: 0.3949 - val_loss: 0.4963 - learning_rate: 1.0000e-05\n",
      "Epoch 7/50\n",
      "\u001b[1m161/161\u001b[0m \u001b[32m━━━━━━━━━━━━━━━━━━━━\u001b[0m\u001b[37m\u001b[0m \u001b[1m33s\u001b[0m 208ms/step - accuracy: 0.5043 - loss: 0.4043 - val_accuracy: 0.4202 - val_loss: 0.4707 - learning_rate: 1.0000e-05\n",
      "Epoch 8/50\n",
      "\u001b[1m161/161\u001b[0m \u001b[32m━━━━━━━━━━━━━━━━━━━━\u001b[0m\u001b[37m\u001b[0m \u001b[1m34s\u001b[0m 208ms/step - accuracy: 0.5409 - loss: 0.3731 - val_accuracy: 0.4825 - val_loss: 0.4291 - learning_rate: 3.0000e-06\n",
      "Epoch 9/50\n",
      "\u001b[1m161/161\u001b[0m \u001b[32m━━━━━━━━━━━━━━━━━━━━\u001b[0m\u001b[37m\u001b[0m \u001b[1m34s\u001b[0m 209ms/step - accuracy: 0.5513 - loss: 0.3654 - val_accuracy: 0.5447 - val_loss: 0.3990 - learning_rate: 3.0000e-06\n",
      "Epoch 10/50\n",
      "\u001b[1m161/161\u001b[0m \u001b[32m━━━━━━━━━━━━━━━━━━━━\u001b[0m\u001b[37m\u001b[0m \u001b[1m33s\u001b[0m 208ms/step - accuracy: 0.5784 - loss: 0.3538 - val_accuracy: 0.5331 - val_loss: 0.4060 - learning_rate: 3.0000e-06\n",
      "Epoch 11/50\n",
      "\u001b[1m161/161\u001b[0m \u001b[32m━━━━━━━━━━━━━━━━━━━━\u001b[0m\u001b[37m\u001b[0m \u001b[1m33s\u001b[0m 208ms/step - accuracy: 0.5800 - loss: 0.3446 - val_accuracy: 0.5272 - val_loss: 0.4033 - learning_rate: 3.0000e-06\n",
      "Epoch 12/50\n",
      "\u001b[1m161/161\u001b[0m \u001b[32m━━━━━━━━━━━━━━━━━━━━\u001b[0m\u001b[37m\u001b[0m \u001b[1m34s\u001b[0m 208ms/step - accuracy: 0.5787 - loss: 0.3419 - val_accuracy: 0.5233 - val_loss: 0.4085 - learning_rate: 9.0000e-07\n",
      "Epoch 13/50\n",
      "\u001b[1m161/161\u001b[0m \u001b[32m━━━━━━━━━━━━━━━━━━━━\u001b[0m\u001b[37m\u001b[0m \u001b[1m34s\u001b[0m 208ms/step - accuracy: 0.5936 - loss: 0.3330 - val_accuracy: 0.5136 - val_loss: 0.4171 - learning_rate: 9.0000e-07\n",
      "Epoch 14/50\n",
      "\u001b[1m161/161\u001b[0m \u001b[32m━━━━━━━━━━━━━━━━━━━━\u001b[0m\u001b[37m\u001b[0m \u001b[1m34s\u001b[0m 208ms/step - accuracy: 0.6030 - loss: 0.3371 - val_accuracy: 0.5233 - val_loss: 0.4020 - learning_rate: 2.7000e-07\n",
      "Training iteration 3/5\n",
      "Epoch 1/50\n",
      "\u001b[1m161/161\u001b[0m \u001b[32m━━━━━━━━━━━━━━━━━━━━\u001b[0m\u001b[37m\u001b[0m \u001b[1m41s\u001b[0m 226ms/step - accuracy: 0.2688 - loss: 0.6128 - val_accuracy: 0.3852 - val_loss: 0.4864 - learning_rate: 1.0000e-05\n",
      "Epoch 2/50\n",
      "\u001b[1m161/161\u001b[0m \u001b[32m━━━━━━━━━━━━━━━━━━━━\u001b[0m\u001b[37m\u001b[0m \u001b[1m33s\u001b[0m 205ms/step - accuracy: 0.3155 - loss: 0.5384 - val_accuracy: 0.3735 - val_loss: 0.4869 - learning_rate: 1.0000e-05\n",
      "Epoch 3/50\n",
      "\u001b[1m161/161\u001b[0m \u001b[32m━━━━━━━━━━━━━━━━━━━━\u001b[0m\u001b[37m\u001b[0m \u001b[1m33s\u001b[0m 206ms/step - accuracy: 0.3601 - loss: 0.5158 - val_accuracy: 0.3911 - val_loss: 0.4771 - learning_rate: 1.0000e-05\n",
      "Epoch 4/50\n",
      "\u001b[1m161/161\u001b[0m \u001b[32m━━━━━━━━━━━━━━━━━━━━\u001b[0m\u001b[37m\u001b[0m \u001b[1m33s\u001b[0m 207ms/step - accuracy: 0.4073 - loss: 0.4852 - val_accuracy: 0.4086 - val_loss: 0.4560 - learning_rate: 1.0000e-05\n",
      "Epoch 5/50\n",
      "\u001b[1m161/161\u001b[0m \u001b[32m━━━━━━━━━━━━━━━━━━━━\u001b[0m\u001b[37m\u001b[0m \u001b[1m33s\u001b[0m 208ms/step - accuracy: 0.4339 - loss: 0.4463 - val_accuracy: 0.4358 - val_loss: 0.4525 - learning_rate: 1.0000e-05\n",
      "Epoch 6/50\n",
      "\u001b[1m161/161\u001b[0m \u001b[32m━━━━━━━━━━━━━━━━━━━━\u001b[0m\u001b[37m\u001b[0m \u001b[1m33s\u001b[0m 208ms/step - accuracy: 0.4480 - loss: 0.4314 - val_accuracy: 0.4514 - val_loss: 0.4317 - learning_rate: 1.0000e-05\n",
      "Epoch 7/50\n",
      "\u001b[1m161/161\u001b[0m \u001b[32m━━━━━━━━━━━━━━━━━━━━\u001b[0m\u001b[37m\u001b[0m \u001b[1m33s\u001b[0m 208ms/step - accuracy: 0.4864 - loss: 0.4012 - val_accuracy: 0.4922 - val_loss: 0.4176 - learning_rate: 1.0000e-05\n",
      "Epoch 8/50\n",
      "\u001b[1m161/161\u001b[0m \u001b[32m━━━━━━━━━━━━━━━━━━━━\u001b[0m\u001b[37m\u001b[0m \u001b[1m33s\u001b[0m 208ms/step - accuracy: 0.5216 - loss: 0.3910 - val_accuracy: 0.4844 - val_loss: 0.4325 - learning_rate: 1.0000e-05\n",
      "Epoch 9/50\n",
      "\u001b[1m161/161\u001b[0m \u001b[32m━━━━━━━━━━━━━━━━━━━━\u001b[0m\u001b[37m\u001b[0m \u001b[1m34s\u001b[0m 208ms/step - accuracy: 0.5524 - loss: 0.3769 - val_accuracy: 0.5136 - val_loss: 0.4139 - learning_rate: 1.0000e-05\n",
      "Epoch 10/50\n",
      "\u001b[1m161/161\u001b[0m \u001b[32m━━━━━━━━━━━━━━━━━━━━\u001b[0m\u001b[37m\u001b[0m \u001b[1m34s\u001b[0m 208ms/step - accuracy: 0.5845 - loss: 0.3605 - val_accuracy: 0.5195 - val_loss: 0.4084 - learning_rate: 1.0000e-05\n",
      "Epoch 11/50\n",
      "\u001b[1m161/161\u001b[0m \u001b[32m━━━━━━━━━━━━━━━━━━━━\u001b[0m\u001b[37m\u001b[0m \u001b[1m34s\u001b[0m 208ms/step - accuracy: 0.5630 - loss: 0.3494 - val_accuracy: 0.5272 - val_loss: 0.4024 - learning_rate: 1.0000e-05\n",
      "Epoch 12/50\n",
      "\u001b[1m161/161\u001b[0m \u001b[32m━━━━━━━━━━━━━━━━━━━━\u001b[0m\u001b[37m\u001b[0m \u001b[1m34s\u001b[0m 208ms/step - accuracy: 0.5704 - loss: 0.3528 - val_accuracy: 0.5175 - val_loss: 0.4131 - learning_rate: 1.0000e-05\n",
      "Epoch 13/50\n",
      "\u001b[1m161/161\u001b[0m \u001b[32m━━━━━━━━━━━━━━━━━━━━\u001b[0m\u001b[37m\u001b[0m \u001b[1m34s\u001b[0m 208ms/step - accuracy: 0.6211 - loss: 0.3254 - val_accuracy: 0.5078 - val_loss: 0.4342 - learning_rate: 1.0000e-05\n",
      "Epoch 14/50\n",
      "\u001b[1m161/161\u001b[0m \u001b[32m━━━━━━━━━━━━━━━━━━━━\u001b[0m\u001b[37m\u001b[0m \u001b[1m34s\u001b[0m 208ms/step - accuracy: 0.6162 - loss: 0.3100 - val_accuracy: 0.5720 - val_loss: 0.4022 - learning_rate: 3.0000e-06\n",
      "Epoch 15/50\n",
      "\u001b[1m161/161\u001b[0m \u001b[32m━━━━━━━━━━━━━━━━━━━━\u001b[0m\u001b[37m\u001b[0m \u001b[1m34s\u001b[0m 208ms/step - accuracy: 0.6761 - loss: 0.2909 - val_accuracy: 0.5233 - val_loss: 0.4137 - learning_rate: 3.0000e-06\n",
      "Epoch 16/50\n",
      "\u001b[1m161/161\u001b[0m \u001b[32m━━━━━━━━━━━━━━━━━━━━\u001b[0m\u001b[37m\u001b[0m \u001b[1m34s\u001b[0m 209ms/step - accuracy: 0.6637 - loss: 0.2886 - val_accuracy: 0.5642 - val_loss: 0.4102 - learning_rate: 3.0000e-06\n",
      "Epoch 17/50\n",
      "\u001b[1m161/161\u001b[0m \u001b[32m━━━━━━━━━━━━━━━━━━━━\u001b[0m\u001b[37m\u001b[0m \u001b[1m34s\u001b[0m 208ms/step - accuracy: 0.6963 - loss: 0.2668 - val_accuracy: 0.5525 - val_loss: 0.4074 - learning_rate: 9.0000e-07\n",
      "Epoch 18/50\n",
      "\u001b[1m161/161\u001b[0m \u001b[32m━━━━━━━━━━━━━━━━━━━━\u001b[0m\u001b[37m\u001b[0m \u001b[1m34s\u001b[0m 208ms/step - accuracy: 0.6806 - loss: 0.2759 - val_accuracy: 0.5642 - val_loss: 0.4103 - learning_rate: 9.0000e-07\n",
      "Epoch 19/50\n",
      "\u001b[1m161/161\u001b[0m \u001b[32m━━━━━━━━━━━━━━━━━━━━\u001b[0m\u001b[37m\u001b[0m \u001b[1m34s\u001b[0m 208ms/step - accuracy: 0.6892 - loss: 0.2668 - val_accuracy: 0.5447 - val_loss: 0.4082 - learning_rate: 2.7000e-07\n",
      "Training iteration 4/5\n",
      "Epoch 1/50\n",
      "\u001b[1m161/161\u001b[0m \u001b[32m━━━━━━━━━━━━━━━━━━━━\u001b[0m\u001b[37m\u001b[0m \u001b[1m41s\u001b[0m 224ms/step - accuracy: 0.2580 - loss: 0.6443 - val_accuracy: 0.3852 - val_loss: 0.4871 - learning_rate: 1.0000e-05\n",
      "Epoch 2/50\n",
      "\u001b[1m161/161\u001b[0m \u001b[32m━━━━━━━━━━━━━━━━━━━━\u001b[0m\u001b[37m\u001b[0m \u001b[1m33s\u001b[0m 206ms/step - accuracy: 0.3216 - loss: 0.5271 - val_accuracy: 0.3949 - val_loss: 0.4779 - learning_rate: 1.0000e-05\n",
      "Epoch 3/50\n",
      "\u001b[1m161/161\u001b[0m \u001b[32m━━━━━━━━━━━━━━━━━━━━\u001b[0m\u001b[37m\u001b[0m \u001b[1m33s\u001b[0m 207ms/step - accuracy: 0.3872 - loss: 0.4961 - val_accuracy: 0.4222 - val_loss: 0.4665 - learning_rate: 1.0000e-05\n",
      "Epoch 4/50\n",
      "\u001b[1m161/161\u001b[0m \u001b[32m━━━━━━━━━━━━━━━━━━━━\u001b[0m\u001b[37m\u001b[0m \u001b[1m33s\u001b[0m 208ms/step - accuracy: 0.4484 - loss: 0.4484 - val_accuracy: 0.4397 - val_loss: 0.4649 - learning_rate: 1.0000e-05\n",
      "Epoch 5/50\n",
      "\u001b[1m161/161\u001b[0m \u001b[32m━━━━━━━━━━━━━━━━━━━━\u001b[0m\u001b[37m\u001b[0m \u001b[1m33s\u001b[0m 208ms/step - accuracy: 0.4739 - loss: 0.4189 - val_accuracy: 0.4455 - val_loss: 0.4374 - learning_rate: 1.0000e-05\n",
      "Epoch 6/50\n",
      "\u001b[1m161/161\u001b[0m \u001b[32m━━━━━━━━━━━━━━━━━━━━\u001b[0m\u001b[37m\u001b[0m \u001b[1m33s\u001b[0m 208ms/step - accuracy: 0.4800 - loss: 0.4035 - val_accuracy: 0.4961 - val_loss: 0.4164 - learning_rate: 1.0000e-05\n",
      "Epoch 7/50\n",
      "\u001b[1m161/161\u001b[0m \u001b[32m━━━━━━━━━━━━━━━━━━━━\u001b[0m\u001b[37m\u001b[0m \u001b[1m33s\u001b[0m 208ms/step - accuracy: 0.5148 - loss: 0.3962 - val_accuracy: 0.4611 - val_loss: 0.4484 - learning_rate: 1.0000e-05\n",
      "Epoch 8/50\n",
      "\u001b[1m161/161\u001b[0m \u001b[32m━━━━━━━━━━━━━━━━━━━━\u001b[0m\u001b[37m\u001b[0m \u001b[1m33s\u001b[0m 208ms/step - accuracy: 0.5160 - loss: 0.3880 - val_accuracy: 0.4514 - val_loss: 0.4229 - learning_rate: 1.0000e-05\n",
      "Epoch 9/50\n",
      "\u001b[1m161/161\u001b[0m \u001b[32m━━━━━━━━━━━━━━━━━━━━\u001b[0m\u001b[37m\u001b[0m \u001b[1m41s\u001b[0m 207ms/step - accuracy: 0.5377 - loss: 0.3680 - val_accuracy: 0.5136 - val_loss: 0.4142 - learning_rate: 3.0000e-06\n",
      "Epoch 10/50\n",
      "\u001b[1m161/161\u001b[0m \u001b[32m━━━━━━━━━━━━━━━━━━━━\u001b[0m\u001b[37m\u001b[0m \u001b[1m33s\u001b[0m 208ms/step - accuracy: 0.5643 - loss: 0.3495 - val_accuracy: 0.5078 - val_loss: 0.4105 - learning_rate: 3.0000e-06\n",
      "Epoch 11/50\n",
      "\u001b[1m161/161\u001b[0m \u001b[32m━━━━━━━━━━━━━━━━━━━━\u001b[0m\u001b[37m\u001b[0m \u001b[1m33s\u001b[0m 208ms/step - accuracy: 0.5908 - loss: 0.3419 - val_accuracy: 0.5331 - val_loss: 0.4160 - learning_rate: 3.0000e-06\n",
      "Epoch 12/50\n",
      "\u001b[1m161/161\u001b[0m \u001b[32m━━━━━━━━━━━━━━━━━━━━\u001b[0m\u001b[37m\u001b[0m \u001b[1m34s\u001b[0m 208ms/step - accuracy: 0.5820 - loss: 0.3379 - val_accuracy: 0.5311 - val_loss: 0.4036 - learning_rate: 3.0000e-06\n",
      "Epoch 13/50\n",
      "\u001b[1m161/161\u001b[0m \u001b[32m━━━━━━━━━━━━━━━━━━━━\u001b[0m\u001b[37m\u001b[0m \u001b[1m33s\u001b[0m 208ms/step - accuracy: 0.6035 - loss: 0.3330 - val_accuracy: 0.5409 - val_loss: 0.4045 - learning_rate: 3.0000e-06\n",
      "Epoch 14/50\n",
      "\u001b[1m161/161\u001b[0m \u001b[32m━━━━━━━━━━━━━━━━━━━━\u001b[0m\u001b[37m\u001b[0m \u001b[1m34s\u001b[0m 208ms/step - accuracy: 0.6114 - loss: 0.3230 - val_accuracy: 0.5467 - val_loss: 0.3980 - learning_rate: 3.0000e-06\n",
      "Epoch 15/50\n",
      "\u001b[1m161/161\u001b[0m \u001b[32m━━━━━━━━━━━━━━━━━━━━\u001b[0m\u001b[37m\u001b[0m \u001b[1m34s\u001b[0m 208ms/step - accuracy: 0.6274 - loss: 0.3231 - val_accuracy: 0.5292 - val_loss: 0.4124 - learning_rate: 3.0000e-06\n",
      "Epoch 16/50\n",
      "\u001b[1m161/161\u001b[0m \u001b[32m━━━━━━━━━━━━━━━━━━━━\u001b[0m\u001b[37m\u001b[0m \u001b[1m34s\u001b[0m 208ms/step - accuracy: 0.6303 - loss: 0.3098 - val_accuracy: 0.5506 - val_loss: 0.4018 - learning_rate: 3.0000e-06\n",
      "Epoch 17/50\n",
      "\u001b[1m161/161\u001b[0m \u001b[32m━━━━━━━━━━━━━━━━━━━━\u001b[0m\u001b[37m\u001b[0m \u001b[1m36s\u001b[0m 223ms/step - accuracy: 0.6383 - loss: 0.3085 - val_accuracy: 0.5623 - val_loss: 0.3983 - learning_rate: 9.0000e-07\n",
      "Epoch 18/50\n",
      "\u001b[1m161/161\u001b[0m \u001b[32m━━━━━━━━━━━━━━━━━━━━\u001b[0m\u001b[37m\u001b[0m \u001b[1m34s\u001b[0m 208ms/step - accuracy: 0.6572 - loss: 0.3018 - val_accuracy: 0.5545 - val_loss: 0.4021 - learning_rate: 9.0000e-07\n",
      "Epoch 19/50\n",
      "\u001b[1m161/161\u001b[0m \u001b[32m━━━━━━━━━━━━━━━━━━━━\u001b[0m\u001b[37m\u001b[0m \u001b[1m34s\u001b[0m 208ms/step - accuracy: 0.6350 - loss: 0.3055 - val_accuracy: 0.5603 - val_loss: 0.4049 - learning_rate: 2.7000e-07\n",
      "Training iteration 5/5\n",
      "Epoch 1/50\n",
      "\u001b[1m161/161\u001b[0m \u001b[32m━━━━━━━━━━━━━━━━━━━━\u001b[0m\u001b[37m\u001b[0m \u001b[1m41s\u001b[0m 224ms/step - accuracy: 0.3270 - loss: 0.5945 - val_accuracy: 0.3852 - val_loss: 0.4908 - learning_rate: 1.0000e-05\n",
      "Epoch 2/50\n",
      "\u001b[1m161/161\u001b[0m \u001b[32m━━━━━━━━━━━━━━━━━━━━\u001b[0m\u001b[37m\u001b[0m \u001b[1m33s\u001b[0m 206ms/step - accuracy: 0.3195 - loss: 0.5310 - val_accuracy: 0.3113 - val_loss: 0.4974 - learning_rate: 1.0000e-05\n",
      "Epoch 3/50\n",
      "\u001b[1m161/161\u001b[0m \u001b[32m━━━━━━━━━━━━━━━━━━━━\u001b[0m\u001b[37m\u001b[0m \u001b[1m33s\u001b[0m 207ms/step - accuracy: 0.3735 - loss: 0.5074 - val_accuracy: 0.3911 - val_loss: 0.4708 - learning_rate: 1.0000e-05\n",
      "Epoch 4/50\n",
      "\u001b[1m161/161\u001b[0m \u001b[32m━━━━━━━━━━━━━━━━━━━━\u001b[0m\u001b[37m\u001b[0m \u001b[1m33s\u001b[0m 208ms/step - accuracy: 0.4189 - loss: 0.4650 - val_accuracy: 0.4008 - val_loss: 0.4551 - learning_rate: 1.0000e-05\n",
      "Epoch 5/50\n",
      "\u001b[1m161/161\u001b[0m \u001b[32m━━━━━━━━━━━━━━━━━━━━\u001b[0m\u001b[37m\u001b[0m \u001b[1m33s\u001b[0m 208ms/step - accuracy: 0.4544 - loss: 0.4286 - val_accuracy: 0.4319 - val_loss: 0.4364 - learning_rate: 1.0000e-05\n",
      "Epoch 6/50\n",
      "\u001b[1m161/161\u001b[0m \u001b[32m━━━━━━━━━━━━━━━━━━━━\u001b[0m\u001b[37m\u001b[0m \u001b[1m41s\u001b[0m 207ms/step - accuracy: 0.4768 - loss: 0.4117 - val_accuracy: 0.4728 - val_loss: 0.4373 - learning_rate: 1.0000e-05\n",
      "Epoch 7/50\n",
      "\u001b[1m161/161\u001b[0m \u001b[32m━━━━━━━━━━━━━━━━━━━━\u001b[0m\u001b[37m\u001b[0m \u001b[1m33s\u001b[0m 208ms/step - accuracy: 0.5154 - loss: 0.3859 - val_accuracy: 0.5000 - val_loss: 0.4171 - learning_rate: 1.0000e-05\n",
      "Epoch 8/50\n",
      "\u001b[1m161/161\u001b[0m \u001b[32m━━━━━━━━━━━━━━━━━━━━\u001b[0m\u001b[37m\u001b[0m \u001b[1m33s\u001b[0m 208ms/step - accuracy: 0.5490 - loss: 0.3704 - val_accuracy: 0.5097 - val_loss: 0.4279 - learning_rate: 1.0000e-05\n",
      "Epoch 9/50\n",
      "\u001b[1m161/161\u001b[0m \u001b[32m━━━━━━━━━━━━━━━━━━━━\u001b[0m\u001b[37m\u001b[0m \u001b[1m34s\u001b[0m 209ms/step - accuracy: 0.5656 - loss: 0.3663 - val_accuracy: 0.5428 - val_loss: 0.4009 - learning_rate: 1.0000e-05\n",
      "Epoch 10/50\n",
      "\u001b[1m161/161\u001b[0m \u001b[32m━━━━━━━━━━━━━━━━━━━━\u001b[0m\u001b[37m\u001b[0m \u001b[1m34s\u001b[0m 208ms/step - accuracy: 0.5657 - loss: 0.3577 - val_accuracy: 0.5370 - val_loss: 0.4108 - learning_rate: 1.0000e-05\n",
      "Epoch 11/50\n",
      "\u001b[1m161/161\u001b[0m \u001b[32m━━━━━━━━━━━━━━━━━━━━\u001b[0m\u001b[37m\u001b[0m \u001b[1m34s\u001b[0m 208ms/step - accuracy: 0.5912 - loss: 0.3346 - val_accuracy: 0.4514 - val_loss: 0.4719 - learning_rate: 1.0000e-05\n",
      "Epoch 12/50\n",
      "\u001b[1m161/161\u001b[0m \u001b[32m━━━━━━━━━━━━━━━━━━━━\u001b[0m\u001b[37m\u001b[0m \u001b[1m34s\u001b[0m 209ms/step - accuracy: 0.6094 - loss: 0.3252 - val_accuracy: 0.5428 - val_loss: 0.4059 - learning_rate: 3.0000e-06\n",
      "Epoch 13/50\n",
      "\u001b[1m161/161\u001b[0m \u001b[32m━━━━━━━━━━━━━━━━━━━━\u001b[0m\u001b[37m\u001b[0m \u001b[1m34s\u001b[0m 209ms/step - accuracy: 0.6556 - loss: 0.3078 - val_accuracy: 0.5389 - val_loss: 0.4050 - learning_rate: 3.0000e-06\n",
      "Epoch 14/50\n",
      "\u001b[1m161/161\u001b[0m \u001b[32m━━━━━━━━━━━━━━━━━━━━\u001b[0m\u001b[37m\u001b[0m \u001b[1m34s\u001b[0m 209ms/step - accuracy: 0.6503 - loss: 0.3019 - val_accuracy: 0.5467 - val_loss: 0.4094 - learning_rate: 9.0000e-07\n",
      "Training Complete\n"
     ]
    }
   ],
   "source": [
    "import os\n",
    "os.environ['TF_CPP_MIN_LOG_LEVEL'] = '3'\n",
    "import numpy as np\n",
    "import random\n",
    "import datetime\n",
    "import matplotlib.pyplot as plt\n",
    "import pip\n",
    "pip.main(['install','seaborn'])\n",
    "import seaborn as sns\n",
    "from sklearn.metrics import confusion_matrix\n",
    "from sklearn.utils.class_weight import compute_class_weight\n",
    "from keras.applications import DenseNet121, VGG19\n",
    "from keras.models import Model\n",
    "from keras.layers import Dense, Flatten, Dropout, LeakyReLU, GlobalAveragePooling2D, Conv2D, Input\n",
    "from keras.optimizers import Adam\n",
    "from keras.losses import BinaryCrossentropy\n",
    "from keras.callbacks import EarlyStopping, ReduceLROnPlateau, ModelCheckpoint\n",
    "modelclass = 'Female'\n",
    "suffix = 'Female'\n",
    "iterations = 5\n",
    "iterations2 = 5\n",
    "\n",
    "def CreateModel(learn_rate):\n",
    "    input_tensor = Input(shape=(256, 256, 3))\n",
    "    base_model = VGG19(weights='imagenet', include_top=False, input_shape=(256, 256, 3))\n",
    "\n",
    "    for layer in base_model.layers[:10]:\n",
    "        layer.trainable = False\n",
    "        \n",
    "    x = base_model.output\n",
    "    x = GlobalAveragePooling2D()(x)\n",
    "    x = Dense(1024)(x)\n",
    "    x = LeakyReLU(negative_slope=0.01)(x)\n",
    "    x = Dropout(0.5)(x)\n",
    "    predictions = Dense(5, activation='sigmoid')(x)\n",
    "\n",
    "    model = Model(inputs=base_model.input, outputs=predictions)\n",
    "    model.compile(optimizer=Adam(learning_rate=learn_rate),\n",
    "                  loss=BinaryCrossentropy(),\n",
    "                  metrics=['accuracy'])\n",
    "    return model\n",
    "\n",
    "base_dir = 'Data/'\n",
    "train_images = np.load(os.path.join(base_dir, 'train_images.npy'))\n",
    "train_labels = np.load(os.path.join(base_dir, 'train_labels.npy'))\n",
    "val_images = np.load(os.path.join(base_dir, 'val_images.npy'))\n",
    "val_labels = np.load(os.path.join(base_dir, 'val_labels.npy'))\n",
    "\n",
    "if len(train_images.shape) == 3:\n",
    "    train_images = np.expand_dims(train_images, axis=-1)\n",
    "    train_images = np.repeat(train_images, 3, axis=-1)\n",
    "\n",
    "if len(val_images.shape) == 3:\n",
    "    val_images = np.expand_dims(val_images, axis=-1)\n",
    "    val_images = np.repeat(val_images, 3, axis=-1)\n",
    "\n",
    "class_weights = compute_class_weight('balanced', classes=np.unique(train_labels), y=train_labels.flatten())\n",
    "class_weights = {i: class_weights[i] for i in range(len(class_weights))}\n",
    "\n",
    "print(\"Initial class weights:\", class_weights)\n",
    "print(\"Start time: \", datetime.datetime.now())\n",
    "\n",
    "best_model_path = f'Models/class{suffix}{modelclass}temp.keras'\n",
    "model_checkpoint = ModelCheckpoint(best_model_path, monitor='val_loss', save_best_only=True, mode='min')\n",
    "\n",
    "best_val_loss = float('inf')\n",
    "for i in range(iterations):\n",
    "    early_stopping = EarlyStopping(monitor='val_loss', patience=5, restore_best_weights=True)\n",
    "    reduce_lr = ReduceLROnPlateau(monitor='val_loss', factor=0.3, patience=2, min_lr=1e-7)\n",
    "    model = CreateModel(1e-5)\n",
    "    print(f\"Training iteration {i+1}/{iterations}\")\n",
    "    history = model.fit(train_images, train_labels,\n",
    "                        epochs=50,\n",
    "                        batch_size=16,\n",
    "                        validation_data=(val_images, val_labels),\n",
    "                        class_weight=class_weights,\n",
    "                        callbacks=[early_stopping, reduce_lr, model_checkpoint])\n",
    "\n",
    "    model.load_weights(best_model_path)\n",
    "    val_loss = min(history.history['val_loss'])\n",
    "    if val_loss < best_val_loss:\n",
    "        best_val_loss = val_loss\n",
    "        print(f\"Best current val:{best_val_loss}\")\n",
    "        model.save(f'Models/class_{suffix}{modelclass}_overallbest.keras')\n",
    "\n",
    "print(\"Training Complete\")"
   ]
  },
  {
   "cell_type": "code",
   "execution_count": 2,
   "id": "b5bd43c1-b11b-4c5c-956e-06e030bd4e1e",
   "metadata": {},
   "outputs": [
    {
     "name": "stderr",
     "output_type": "stream",
     "text": [
      "/opt/conda/lib/python3.11/site-packages/keras/src/saving/saving_lib.py:719: UserWarning: Skipping variable loading for optimizer 'adam', because it has 2 variables whereas the saved optimizer has 46 variables. \n",
      "  saveable.load_own_variables(weights_store.get(inner_path))\n"
     ]
    },
    {
     "name": "stdout",
     "output_type": "stream",
     "text": [
      "Training iteration 1/5\n",
      "Epoch 1/50\n",
      "\u001b[1m161/161\u001b[0m \u001b[32m━━━━━━━━━━━━━━━━━━━━\u001b[0m\u001b[37m\u001b[0m \u001b[1m43s\u001b[0m 237ms/step - accuracy: 0.6892 - loss: 0.2836 - val_accuracy: 0.5623 - val_loss: 0.3992 - learning_rate: 1.0000e-07\n",
      "Epoch 2/50\n",
      "\u001b[1m161/161\u001b[0m \u001b[32m━━━━━━━━━━━━━━━━━━━━\u001b[0m\u001b[37m\u001b[0m \u001b[1m33s\u001b[0m 207ms/step - accuracy: 0.6768 - loss: 0.2854 - val_accuracy: 0.5584 - val_loss: 0.4028 - learning_rate: 1.0000e-07\n",
      "Epoch 3/50\n",
      "\u001b[1m161/161\u001b[0m \u001b[32m━━━━━━━━━━━━━━━━━━━━\u001b[0m\u001b[37m\u001b[0m \u001b[1m33s\u001b[0m 208ms/step - accuracy: 0.6856 - loss: 0.2757 - val_accuracy: 0.5584 - val_loss: 0.4013 - learning_rate: 1.0000e-07\n",
      "Epoch 4/50\n",
      "\u001b[1m161/161\u001b[0m \u001b[32m━━━━━━━━━━━━━━━━━━━━\u001b[0m\u001b[37m\u001b[0m \u001b[1m36s\u001b[0m 223ms/step - accuracy: 0.6881 - loss: 0.2745 - val_accuracy: 0.5564 - val_loss: 0.4026 - learning_rate: 1.0000e-07\n",
      "Epoch 5/50\n",
      "\u001b[1m161/161\u001b[0m \u001b[32m━━━━━━━━━━━━━━━━━━━━\u001b[0m\u001b[37m\u001b[0m \u001b[1m33s\u001b[0m 208ms/step - accuracy: 0.6647 - loss: 0.2799 - val_accuracy: 0.5564 - val_loss: 0.4027 - learning_rate: 1.0000e-08\n",
      "Epoch 6/50\n",
      "\u001b[1m161/161\u001b[0m \u001b[32m━━━━━━━━━━━━━━━━━━━━\u001b[0m\u001b[37m\u001b[0m \u001b[1m34s\u001b[0m 208ms/step - accuracy: 0.6915 - loss: 0.2789 - val_accuracy: 0.5564 - val_loss: 0.4028 - learning_rate: 1.0000e-08\n",
      "Best last val:0.3992293179035187\n",
      "Best current val:0.3992293179035187\n",
      "Training iteration 2/5\n",
      "Epoch 1/50\n",
      "\u001b[1m161/161\u001b[0m \u001b[32m━━━━━━━━━━━━━━━━━━━━\u001b[0m\u001b[37m\u001b[0m \u001b[1m42s\u001b[0m 235ms/step - accuracy: 0.6686 - loss: 0.2886 - val_accuracy: 0.5564 - val_loss: 0.3992 - learning_rate: 1.0000e-07\n",
      "Epoch 2/50\n",
      "\u001b[1m161/161\u001b[0m \u001b[32m━━━━━━━━━━━━━━━━━━━━\u001b[0m\u001b[37m\u001b[0m \u001b[1m34s\u001b[0m 208ms/step - accuracy: 0.6689 - loss: 0.2820 - val_accuracy: 0.5545 - val_loss: 0.4013 - learning_rate: 1.0000e-07\n",
      "Epoch 3/50\n",
      "\u001b[1m161/161\u001b[0m \u001b[32m━━━━━━━━━━━━━━━━━━━━\u001b[0m\u001b[37m\u001b[0m \u001b[1m33s\u001b[0m 208ms/step - accuracy: 0.6833 - loss: 0.2793 - val_accuracy: 0.5584 - val_loss: 0.4021 - learning_rate: 1.0000e-07\n",
      "Epoch 4/50\n",
      "\u001b[1m161/161\u001b[0m \u001b[32m━━━━━━━━━━━━━━━━━━━━\u001b[0m\u001b[37m\u001b[0m \u001b[1m33s\u001b[0m 208ms/step - accuracy: 0.6656 - loss: 0.2822 - val_accuracy: 0.5584 - val_loss: 0.4028 - learning_rate: 1.0000e-07\n",
      "Epoch 5/50\n",
      "\u001b[1m161/161\u001b[0m \u001b[32m━━━━━━━━━━━━━━━━━━━━\u001b[0m\u001b[37m\u001b[0m \u001b[1m34s\u001b[0m 208ms/step - accuracy: 0.6840 - loss: 0.2825 - val_accuracy: 0.5564 - val_loss: 0.4029 - learning_rate: 1.0000e-08\n",
      "Epoch 6/50\n",
      "\u001b[1m161/161\u001b[0m \u001b[32m━━━━━━━━━━━━━━━━━━━━\u001b[0m\u001b[37m\u001b[0m \u001b[1m34s\u001b[0m 208ms/step - accuracy: 0.6722 - loss: 0.2798 - val_accuracy: 0.5564 - val_loss: 0.4030 - learning_rate: 1.0000e-08\n",
      "Best last val:0.39919590950012207\n",
      "Best current val:0.39919590950012207\n",
      "Training iteration 3/5\n",
      "Epoch 1/50\n",
      "\u001b[1m161/161\u001b[0m \u001b[32m━━━━━━━━━━━━━━━━━━━━\u001b[0m\u001b[37m\u001b[0m \u001b[1m43s\u001b[0m 234ms/step - accuracy: 0.6923 - loss: 0.2850 - val_accuracy: 0.5564 - val_loss: 0.3989 - learning_rate: 1.0000e-07\n",
      "Epoch 2/50\n",
      "\u001b[1m161/161\u001b[0m \u001b[32m━━━━━━━━━━━━━━━━━━━━\u001b[0m\u001b[37m\u001b[0m \u001b[1m33s\u001b[0m 207ms/step - accuracy: 0.6958 - loss: 0.2780 - val_accuracy: 0.5545 - val_loss: 0.4022 - learning_rate: 1.0000e-07\n",
      "Epoch 3/50\n",
      "\u001b[1m161/161\u001b[0m \u001b[32m━━━━━━━━━━━━━━━━━━━━\u001b[0m\u001b[37m\u001b[0m \u001b[1m33s\u001b[0m 208ms/step - accuracy: 0.6859 - loss: 0.2748 - val_accuracy: 0.5525 - val_loss: 0.4020 - learning_rate: 1.0000e-07\n",
      "Epoch 4/50\n",
      "\u001b[1m161/161\u001b[0m \u001b[32m━━━━━━━━━━━━━━━━━━━━\u001b[0m\u001b[37m\u001b[0m \u001b[1m33s\u001b[0m 208ms/step - accuracy: 0.6713 - loss: 0.2818 - val_accuracy: 0.5564 - val_loss: 0.4027 - learning_rate: 1.0000e-07\n",
      "Epoch 5/50\n",
      "\u001b[1m161/161\u001b[0m \u001b[32m━━━━━━━━━━━━━━━━━━━━\u001b[0m\u001b[37m\u001b[0m \u001b[1m34s\u001b[0m 208ms/step - accuracy: 0.6719 - loss: 0.2860 - val_accuracy: 0.5584 - val_loss: 0.4028 - learning_rate: 1.0000e-08\n",
      "Epoch 6/50\n",
      "\u001b[1m161/161\u001b[0m \u001b[32m━━━━━━━━━━━━━━━━━━━━\u001b[0m\u001b[37m\u001b[0m \u001b[1m34s\u001b[0m 208ms/step - accuracy: 0.6913 - loss: 0.2724 - val_accuracy: 0.5584 - val_loss: 0.4030 - learning_rate: 1.0000e-08\n",
      "Best last val:0.39886608719825745\n",
      "Best current val:0.39886608719825745\n",
      "Training iteration 4/5\n",
      "Epoch 1/50\n",
      "\u001b[1m161/161\u001b[0m \u001b[32m━━━━━━━━━━━━━━━━━━━━\u001b[0m\u001b[37m\u001b[0m \u001b[1m43s\u001b[0m 234ms/step - accuracy: 0.6761 - loss: 0.2819 - val_accuracy: 0.5603 - val_loss: 0.3988 - learning_rate: 1.0000e-07\n",
      "Epoch 2/50\n",
      "\u001b[1m161/161\u001b[0m \u001b[32m━━━━━━━━━━━━━━━━━━━━\u001b[0m\u001b[37m\u001b[0m \u001b[1m33s\u001b[0m 206ms/step - accuracy: 0.6760 - loss: 0.2744 - val_accuracy: 0.5564 - val_loss: 0.4009 - learning_rate: 1.0000e-07\n",
      "Epoch 3/50\n",
      "\u001b[1m161/161\u001b[0m \u001b[32m━━━━━━━━━━━━━━━━━━━━\u001b[0m\u001b[37m\u001b[0m \u001b[1m33s\u001b[0m 207ms/step - accuracy: 0.7075 - loss: 0.2670 - val_accuracy: 0.5603 - val_loss: 0.4014 - learning_rate: 1.0000e-07\n",
      "Epoch 4/50\n",
      "\u001b[1m161/161\u001b[0m \u001b[32m━━━━━━━━━━━━━━━━━━━━\u001b[0m\u001b[37m\u001b[0m \u001b[1m33s\u001b[0m 208ms/step - accuracy: 0.6779 - loss: 0.2733 - val_accuracy: 0.5564 - val_loss: 0.4028 - learning_rate: 1.0000e-07\n",
      "Epoch 5/50\n",
      "\u001b[1m161/161\u001b[0m \u001b[32m━━━━━━━━━━━━━━━━━━━━\u001b[0m\u001b[37m\u001b[0m \u001b[1m33s\u001b[0m 208ms/step - accuracy: 0.6707 - loss: 0.2830 - val_accuracy: 0.5545 - val_loss: 0.4028 - learning_rate: 1.0000e-08\n",
      "Epoch 6/50\n",
      "\u001b[1m161/161\u001b[0m \u001b[32m━━━━━━━━━━━━━━━━━━━━\u001b[0m\u001b[37m\u001b[0m \u001b[1m33s\u001b[0m 208ms/step - accuracy: 0.6841 - loss: 0.2804 - val_accuracy: 0.5584 - val_loss: 0.4029 - learning_rate: 1.0000e-08\n",
      "Best last val:0.3988136053085327\n",
      "Best current val:0.3988136053085327\n",
      "Training iteration 5/5\n",
      "Epoch 1/50\n",
      "\u001b[1m161/161\u001b[0m \u001b[32m━━━━━━━━━━━━━━━━━━━━\u001b[0m\u001b[37m\u001b[0m \u001b[1m42s\u001b[0m 230ms/step - accuracy: 0.6852 - loss: 0.2898 - val_accuracy: 0.5584 - val_loss: 0.3991 - learning_rate: 1.0000e-07\n",
      "Epoch 2/50\n",
      "\u001b[1m161/161\u001b[0m \u001b[32m━━━━━━━━━━━━━━━━━━━━\u001b[0m\u001b[37m\u001b[0m \u001b[1m33s\u001b[0m 207ms/step - accuracy: 0.6829 - loss: 0.2811 - val_accuracy: 0.5603 - val_loss: 0.4006 - learning_rate: 1.0000e-07\n",
      "Epoch 3/50\n",
      "\u001b[1m161/161\u001b[0m \u001b[32m━━━━━━━━━━━━━━━━━━━━\u001b[0m\u001b[37m\u001b[0m \u001b[1m33s\u001b[0m 207ms/step - accuracy: 0.6929 - loss: 0.2769 - val_accuracy: 0.5584 - val_loss: 0.4013 - learning_rate: 1.0000e-07\n",
      "Epoch 4/50\n",
      "\u001b[1m161/161\u001b[0m \u001b[32m━━━━━━━━━━━━━━━━━━━━\u001b[0m\u001b[37m\u001b[0m \u001b[1m36s\u001b[0m 223ms/step - accuracy: 0.6767 - loss: 0.2818 - val_accuracy: 0.5603 - val_loss: 0.4026 - learning_rate: 1.0000e-07\n",
      "Epoch 5/50\n",
      "\u001b[1m161/161\u001b[0m \u001b[32m━━━━━━━━━━━━━━━━━━━━\u001b[0m\u001b[37m\u001b[0m \u001b[1m34s\u001b[0m 208ms/step - accuracy: 0.6903 - loss: 0.2799 - val_accuracy: 0.5584 - val_loss: 0.4028 - learning_rate: 1.0000e-08\n",
      "Epoch 6/50\n",
      "\u001b[1m161/161\u001b[0m \u001b[32m━━━━━━━━━━━━━━━━━━━━\u001b[0m\u001b[37m\u001b[0m \u001b[1m33s\u001b[0m 208ms/step - accuracy: 0.6738 - loss: 0.2798 - val_accuracy: 0.5564 - val_loss: 0.4028 - learning_rate: 1.0000e-08\n"
     ]
    }
   ],
   "source": [
    "best_model_path = f'Models/class{suffix}secondary{modelclass}temp.keras'\n",
    "model_checkpoint = ModelCheckpoint(best_model_path, monitor='val_loss', save_best_only=True, mode='min')\n",
    "best_val_loss = float('inf')\n",
    "for i in range (iterations2):\n",
    "    model = CreateModel(1e-7)\n",
    "    model.load_weights(f'Models/class_{suffix}{modelclass}_overallbest.keras')\n",
    "    early_stopping = EarlyStopping(monitor='val_loss', patience=5, restore_best_weights=True)\n",
    "    reduce_lr = ReduceLROnPlateau(monitor='val_loss', factor=0.1, patience=3, min_lr=1e-8)\n",
    "    \n",
    "    print(f\"Training iteration {i+1}/{iterations2}\")\n",
    "    history = model.fit(train_images, train_labels,\n",
    "                        epochs=50,\n",
    "                        batch_size=16,\n",
    "                        validation_data=(val_images, val_labels),\n",
    "                        class_weight=class_weights,\n",
    "                        callbacks=[early_stopping, reduce_lr, model_checkpoint])\n",
    "\n",
    "    model.load_weights(best_model_path)\n",
    "    val_loss = min(history.history['val_loss'])\n",
    "    if val_loss < best_val_loss:\n",
    "        best_val_loss = val_loss\n",
    "        print(f\"Best last val:{val_loss}\")\n",
    "        print(f\"Best current val:{best_val_loss}\")\n",
    "        model.save(f'Models/class_{suffix}{modelclass}_overallbestFIN.keras')"
   ]
  }
 ],
 "metadata": {
  "kernelspec": {
   "display_name": "Python 3 (ipykernel)",
   "language": "python",
   "name": "python3"
  },
  "language_info": {
   "codemirror_mode": {
    "name": "ipython",
    "version": 3
   },
   "file_extension": ".py",
   "mimetype": "text/x-python",
   "name": "python",
   "nbconvert_exporter": "python",
   "pygments_lexer": "ipython3",
   "version": "3.11.11"
  }
 },
 "nbformat": 4,
 "nbformat_minor": 5
}
