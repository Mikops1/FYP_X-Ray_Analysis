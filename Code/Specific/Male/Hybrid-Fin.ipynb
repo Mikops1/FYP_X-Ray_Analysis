{
 "cells": [
  {
   "cell_type": "code",
   "execution_count": 1,
   "id": "05fd7ab0-9370-4970-a49b-9b597c45c208",
   "metadata": {},
   "outputs": [
    {
     "name": "stderr",
     "output_type": "stream",
     "text": [
      "WARNING: pip is being invoked by an old script wrapper. This will fail in a future version of pip.\n",
      "Please see https://github.com/pypa/pip/issues/5599 for advice on fixing the underlying issue.\n",
      "To avoid this problem you can invoke Python with '-m pip' instead of running pip directly.\n"
     ]
    },
    {
     "data": {
      "text/html": [
       "<pre style=\"white-space:pre;overflow-x:auto;line-height:normal;font-family:Menlo,'DejaVu Sans Mono',consolas,'Courier New',monospace\">Requirement already satisfied: seaborn in /opt/conda/lib/python3.11/site-packages (0.13.2)\n",
       "</pre>\n"
      ],
      "text/plain": [
       "Requirement already satisfied: seaborn in /opt/conda/lib/python3.11/site-packages (0.13.2)\n"
      ]
     },
     "metadata": {},
     "output_type": "display_data"
    },
    {
     "data": {
      "text/html": [
       "<pre style=\"white-space:pre;overflow-x:auto;line-height:normal;font-family:Menlo,'DejaVu Sans Mono',consolas,'Courier New',monospace\">Requirement already satisfied: numpy!=1.24.0,&gt;=1.20 in /opt/conda/lib/python3.11/site-packages (from seaborn) (1.26.4)\n",
       "</pre>\n"
      ],
      "text/plain": [
       "Requirement already satisfied: numpy!=1.24.0,>=1.20 in /opt/conda/lib/python3.11/site-packages (from seaborn) (1.26.4)\n"
      ]
     },
     "metadata": {},
     "output_type": "display_data"
    },
    {
     "data": {
      "text/html": [
       "<pre style=\"white-space:pre;overflow-x:auto;line-height:normal;font-family:Menlo,'DejaVu Sans Mono',consolas,'Courier New',monospace\">Requirement already satisfied: pandas&gt;=1.2 in /opt/conda/lib/python3.11/site-packages (from seaborn) (2.2.3)\n",
       "</pre>\n"
      ],
      "text/plain": [
       "Requirement already satisfied: pandas>=1.2 in /opt/conda/lib/python3.11/site-packages (from seaborn) (2.2.3)\n"
      ]
     },
     "metadata": {},
     "output_type": "display_data"
    },
    {
     "data": {
      "text/html": [
       "<pre style=\"white-space:pre;overflow-x:auto;line-height:normal;font-family:Menlo,'DejaVu Sans Mono',consolas,'Courier New',monospace\">Requirement already satisfied: matplotlib!=3.6.1,&gt;=3.4 in /opt/conda/lib/python3.11/site-packages (from seaborn) (3.9.3)\n",
       "</pre>\n"
      ],
      "text/plain": [
       "Requirement already satisfied: matplotlib!=3.6.1,>=3.4 in /opt/conda/lib/python3.11/site-packages (from seaborn) (3.9.3)\n"
      ]
     },
     "metadata": {},
     "output_type": "display_data"
    },
    {
     "data": {
      "text/html": [
       "<pre style=\"white-space:pre;overflow-x:auto;line-height:normal;font-family:Menlo,'DejaVu Sans Mono',consolas,'Courier New',monospace\">Requirement already satisfied: contourpy&gt;=1.0.1 in /opt/conda/lib/python3.11/site-packages (from matplotlib!=3.6.1,&gt;=3.4-&gt;seaborn) (1.3.1)\n",
       "</pre>\n"
      ],
      "text/plain": [
       "Requirement already satisfied: contourpy>=1.0.1 in /opt/conda/lib/python3.11/site-packages (from matplotlib!=3.6.1,>=3.4->seaborn) (1.3.1)\n"
      ]
     },
     "metadata": {},
     "output_type": "display_data"
    },
    {
     "data": {
      "text/html": [
       "<pre style=\"white-space:pre;overflow-x:auto;line-height:normal;font-family:Menlo,'DejaVu Sans Mono',consolas,'Courier New',monospace\">Requirement already satisfied: cycler&gt;=0.10 in /opt/conda/lib/python3.11/site-packages (from matplotlib!=3.6.1,&gt;=3.4-&gt;seaborn) (0.12.1)\n",
       "</pre>\n"
      ],
      "text/plain": [
       "Requirement already satisfied: cycler>=0.10 in /opt/conda/lib/python3.11/site-packages (from matplotlib!=3.6.1,>=3.4->seaborn) (0.12.1)\n"
      ]
     },
     "metadata": {},
     "output_type": "display_data"
    },
    {
     "data": {
      "text/html": [
       "<pre style=\"white-space:pre;overflow-x:auto;line-height:normal;font-family:Menlo,'DejaVu Sans Mono',consolas,'Courier New',monospace\">Requirement already satisfied: fonttools&gt;=4.22.0 in /opt/conda/lib/python3.11/site-packages (from matplotlib!=3.6.1,&gt;=3.4-&gt;seaborn) (4.55.3)\n",
       "</pre>\n"
      ],
      "text/plain": [
       "Requirement already satisfied: fonttools>=4.22.0 in /opt/conda/lib/python3.11/site-packages (from matplotlib!=3.6.1,>=3.4->seaborn) (4.55.3)\n"
      ]
     },
     "metadata": {},
     "output_type": "display_data"
    },
    {
     "data": {
      "text/html": [
       "<pre style=\"white-space:pre;overflow-x:auto;line-height:normal;font-family:Menlo,'DejaVu Sans Mono',consolas,'Courier New',monospace\">Requirement already satisfied: kiwisolver&gt;=1.3.1 in /opt/conda/lib/python3.11/site-packages (from matplotlib!=3.6.1,&gt;=3.4-&gt;seaborn) (1.4.7)\n",
       "</pre>\n"
      ],
      "text/plain": [
       "Requirement already satisfied: kiwisolver>=1.3.1 in /opt/conda/lib/python3.11/site-packages (from matplotlib!=3.6.1,>=3.4->seaborn) (1.4.7)\n"
      ]
     },
     "metadata": {},
     "output_type": "display_data"
    },
    {
     "data": {
      "text/html": [
       "<pre style=\"white-space:pre;overflow-x:auto;line-height:normal;font-family:Menlo,'DejaVu Sans Mono',consolas,'Courier New',monospace\">Requirement already satisfied: packaging&gt;=20.0 in /opt/conda/lib/python3.11/site-packages (from matplotlib!=3.6.1,&gt;=3.4-&gt;seaborn) (24.2)\n",
       "</pre>\n"
      ],
      "text/plain": [
       "Requirement already satisfied: packaging>=20.0 in /opt/conda/lib/python3.11/site-packages (from matplotlib!=3.6.1,>=3.4->seaborn) (24.2)\n"
      ]
     },
     "metadata": {},
     "output_type": "display_data"
    },
    {
     "data": {
      "text/html": [
       "<pre style=\"white-space:pre;overflow-x:auto;line-height:normal;font-family:Menlo,'DejaVu Sans Mono',consolas,'Courier New',monospace\">Requirement already satisfied: pillow&gt;=8 in /opt/conda/lib/python3.11/site-packages (from matplotlib!=3.6.1,&gt;=3.4-&gt;seaborn) (10.4.0)\n",
       "</pre>\n"
      ],
      "text/plain": [
       "Requirement already satisfied: pillow>=8 in /opt/conda/lib/python3.11/site-packages (from matplotlib!=3.6.1,>=3.4->seaborn) (10.4.0)\n"
      ]
     },
     "metadata": {},
     "output_type": "display_data"
    },
    {
     "data": {
      "text/html": [
       "<pre style=\"white-space:pre;overflow-x:auto;line-height:normal;font-family:Menlo,'DejaVu Sans Mono',consolas,'Courier New',monospace\">Requirement already satisfied: pyparsing&gt;=2.3.1 in /opt/conda/lib/python3.11/site-packages (from matplotlib!=3.6.1,&gt;=3.4-&gt;seaborn) (3.2.0)\n",
       "</pre>\n"
      ],
      "text/plain": [
       "Requirement already satisfied: pyparsing>=2.3.1 in /opt/conda/lib/python3.11/site-packages (from matplotlib!=3.6.1,>=3.4->seaborn) (3.2.0)\n"
      ]
     },
     "metadata": {},
     "output_type": "display_data"
    },
    {
     "data": {
      "text/html": [
       "<pre style=\"white-space:pre;overflow-x:auto;line-height:normal;font-family:Menlo,'DejaVu Sans Mono',consolas,'Courier New',monospace\">Requirement already satisfied: python-dateutil&gt;=2.7 in /opt/conda/lib/python3.11/site-packages (from matplotlib!=3.6.1,&gt;=3.4-&gt;seaborn) (2.9.0.post0)\n",
       "</pre>\n"
      ],
      "text/plain": [
       "Requirement already satisfied: python-dateutil>=2.7 in /opt/conda/lib/python3.11/site-packages (from matplotlib!=3.6.1,>=3.4->seaborn) (2.9.0.post0)\n"
      ]
     },
     "metadata": {},
     "output_type": "display_data"
    },
    {
     "data": {
      "text/html": [
       "<pre style=\"white-space:pre;overflow-x:auto;line-height:normal;font-family:Menlo,'DejaVu Sans Mono',consolas,'Courier New',monospace\">Requirement already satisfied: pytz&gt;=2020.1 in /opt/conda/lib/python3.11/site-packages (from pandas&gt;=1.2-&gt;seaborn) (2023.3)\n",
       "</pre>\n"
      ],
      "text/plain": [
       "Requirement already satisfied: pytz>=2020.1 in /opt/conda/lib/python3.11/site-packages (from pandas>=1.2->seaborn) (2023.3)\n"
      ]
     },
     "metadata": {},
     "output_type": "display_data"
    },
    {
     "data": {
      "text/html": [
       "<pre style=\"white-space:pre;overflow-x:auto;line-height:normal;font-family:Menlo,'DejaVu Sans Mono',consolas,'Courier New',monospace\">Requirement already satisfied: tzdata&gt;=2022.7 in /opt/conda/lib/python3.11/site-packages (from pandas&gt;=1.2-&gt;seaborn) (2024.2)\n",
       "</pre>\n"
      ],
      "text/plain": [
       "Requirement already satisfied: tzdata>=2022.7 in /opt/conda/lib/python3.11/site-packages (from pandas>=1.2->seaborn) (2024.2)\n"
      ]
     },
     "metadata": {},
     "output_type": "display_data"
    },
    {
     "data": {
      "text/html": [
       "<pre style=\"white-space:pre;overflow-x:auto;line-height:normal;font-family:Menlo,'DejaVu Sans Mono',consolas,'Courier New',monospace\">Requirement already satisfied: six&gt;=1.5 in /opt/conda/lib/python3.11/site-packages (from python-dateutil&gt;=2.7-&gt;matplotlib!=3.6.1,&gt;=3.4-&gt;seaborn) (1.17.0)\n",
       "</pre>\n"
      ],
      "text/plain": [
       "Requirement already satisfied: six>=1.5 in /opt/conda/lib/python3.11/site-packages (from python-dateutil>=2.7->matplotlib!=3.6.1,>=3.4->seaborn) (1.17.0)\n"
      ]
     },
     "metadata": {},
     "output_type": "display_data"
    },
    {
     "name": "stdout",
     "output_type": "stream",
     "text": [
      "Initial class weights: {0: 0.639058881905392, 1: 2.297799583705025}\n",
      "Start time:  2025-02-02 11:34:37.892695\n"
     ]
    },
    {
     "name": "stderr",
     "output_type": "stream",
     "text": [
      "WARNING: All log messages before absl::InitializeLog() is called are written to STDERR\n",
      "I0000 00:00:1738496078.055198    2039 cuda_executor.cc:1015] successful NUMA node read from SysFS had negative value (-1), but there must be at least one NUMA node, so returning NUMA node zero. See more at https://github.com/torvalds/linux/blob/v6.0/Documentation/ABI/testing/sysfs-bus-pci#L344-L355\n",
      "I0000 00:00:1738496078.250215    2039 cuda_executor.cc:1015] successful NUMA node read from SysFS had negative value (-1), but there must be at least one NUMA node, so returning NUMA node zero. See more at https://github.com/torvalds/linux/blob/v6.0/Documentation/ABI/testing/sysfs-bus-pci#L344-L355\n",
      "I0000 00:00:1738496078.253928    2039 cuda_executor.cc:1015] successful NUMA node read from SysFS had negative value (-1), but there must be at least one NUMA node, so returning NUMA node zero. See more at https://github.com/torvalds/linux/blob/v6.0/Documentation/ABI/testing/sysfs-bus-pci#L344-L355\n",
      "I0000 00:00:1738496078.257927    2039 cuda_executor.cc:1015] successful NUMA node read from SysFS had negative value (-1), but there must be at least one NUMA node, so returning NUMA node zero. See more at https://github.com/torvalds/linux/blob/v6.0/Documentation/ABI/testing/sysfs-bus-pci#L344-L355\n",
      "I0000 00:00:1738496078.261219    2039 cuda_executor.cc:1015] successful NUMA node read from SysFS had negative value (-1), but there must be at least one NUMA node, so returning NUMA node zero. See more at https://github.com/torvalds/linux/blob/v6.0/Documentation/ABI/testing/sysfs-bus-pci#L344-L355\n",
      "I0000 00:00:1738496078.264310    2039 cuda_executor.cc:1015] successful NUMA node read from SysFS had negative value (-1), but there must be at least one NUMA node, so returning NUMA node zero. See more at https://github.com/torvalds/linux/blob/v6.0/Documentation/ABI/testing/sysfs-bus-pci#L344-L355\n",
      "I0000 00:00:1738496078.466616    2039 cuda_executor.cc:1015] successful NUMA node read from SysFS had negative value (-1), but there must be at least one NUMA node, so returning NUMA node zero. See more at https://github.com/torvalds/linux/blob/v6.0/Documentation/ABI/testing/sysfs-bus-pci#L344-L355\n",
      "I0000 00:00:1738496078.468599    2039 cuda_executor.cc:1015] successful NUMA node read from SysFS had negative value (-1), but there must be at least one NUMA node, so returning NUMA node zero. See more at https://github.com/torvalds/linux/blob/v6.0/Documentation/ABI/testing/sysfs-bus-pci#L344-L355\n",
      "I0000 00:00:1738496078.470375    2039 cuda_executor.cc:1015] successful NUMA node read from SysFS had negative value (-1), but there must be at least one NUMA node, so returning NUMA node zero. See more at https://github.com/torvalds/linux/blob/v6.0/Documentation/ABI/testing/sysfs-bus-pci#L344-L355\n"
     ]
    },
    {
     "name": "stdout",
     "output_type": "stream",
     "text": [
      "Training iteration 1/5\n",
      "Epoch 1/50\n"
     ]
    },
    {
     "name": "stderr",
     "output_type": "stream",
     "text": [
      "I0000 00:00:1738496087.622172    2072 service.cc:146] XLA service 0x7f15f0003410 initialized for platform CUDA (this does not guarantee that XLA will be used). Devices:\n",
      "I0000 00:00:1738496087.622213    2072 service.cc:154]   StreamExecutor device (0): Tesla T4, Compute Capability 7.5\n",
      "I0000 00:00:1738496107.738595    2072 device_compiler.h:188] Compiled cluster using XLA!  This line is logged at most once for the lifetime of the process.\n"
     ]
    },
    {
     "name": "stdout",
     "output_type": "stream",
     "text": [
      "\u001b[1m193/194\u001b[0m \u001b[32m━━━━━━━━━━━━━━━━━━━\u001b[0m\u001b[37m━\u001b[0m \u001b[1m0s\u001b[0m 189ms/step - accuracy: 0.3315 - loss: 0.5511"
     ]
    },
    {
     "name": "stderr",
     "output_type": "stream",
     "text": [
      "E0000 00:00:1738496146.937742    2072 gpu_timer.cc:183] Delay kernel timed out: measured time has sub-optimal accuracy. There may be a missing warmup execution, please investigate in Nsight Systems.\n",
      "E0000 00:00:1738496147.148151    2072 gpu_timer.cc:183] Delay kernel timed out: measured time has sub-optimal accuracy. There may be a missing warmup execution, please investigate in Nsight Systems.\n",
      "E0000 00:00:1738496147.987216    2072 gpu_timer.cc:183] Delay kernel timed out: measured time has sub-optimal accuracy. There may be a missing warmup execution, please investigate in Nsight Systems.\n",
      "E0000 00:00:1738496148.272217    2072 gpu_timer.cc:183] Delay kernel timed out: measured time has sub-optimal accuracy. There may be a missing warmup execution, please investigate in Nsight Systems.\n"
     ]
    },
    {
     "name": "stdout",
     "output_type": "stream",
     "text": [
      "\u001b[1m194/194\u001b[0m \u001b[32m━━━━━━━━━━━━━━━━━━━━\u001b[0m\u001b[37m\u001b[0m \u001b[1m0s\u001b[0m 239ms/step - accuracy: 0.3317 - loss: 0.5509"
     ]
    },
    {
     "name": "stderr",
     "output_type": "stream",
     "text": [
      "E0000 00:00:1738496165.185537    2073 gpu_timer.cc:183] Delay kernel timed out: measured time has sub-optimal accuracy. There may be a missing warmup execution, please investigate in Nsight Systems.\n",
      "E0000 00:00:1738496165.404116    2073 gpu_timer.cc:183] Delay kernel timed out: measured time has sub-optimal accuracy. There may be a missing warmup execution, please investigate in Nsight Systems.\n",
      "E0000 00:00:1738496166.509714    2073 gpu_timer.cc:183] Delay kernel timed out: measured time has sub-optimal accuracy. There may be a missing warmup execution, please investigate in Nsight Systems.\n",
      "E0000 00:00:1738496166.803694    2073 gpu_timer.cc:183] Delay kernel timed out: measured time has sub-optimal accuracy. There may be a missing warmup execution, please investigate in Nsight Systems.\n"
     ]
    },
    {
     "name": "stdout",
     "output_type": "stream",
     "text": [
      "\u001b[1m194/194\u001b[0m \u001b[32m━━━━━━━━━━━━━━━━━━━━\u001b[0m\u001b[37m\u001b[0m \u001b[1m86s\u001b[0m 325ms/step - accuracy: 0.3319 - loss: 0.5507 - val_accuracy: 0.3835 - val_loss: 0.4704 - learning_rate: 1.0000e-05\n",
      "Epoch 2/50\n",
      "\u001b[1m194/194\u001b[0m \u001b[32m━━━━━━━━━━━━━━━━━━━━\u001b[0m\u001b[37m\u001b[0m \u001b[1m99s\u001b[0m 205ms/step - accuracy: 0.4011 - loss: 0.4852 - val_accuracy: 0.3835 - val_loss: 0.4707 - learning_rate: 1.0000e-05\n",
      "Epoch 3/50\n",
      "\u001b[1m194/194\u001b[0m \u001b[32m━━━━━━━━━━━━━━━━━━━━\u001b[0m\u001b[37m\u001b[0m \u001b[1m41s\u001b[0m 213ms/step - accuracy: 0.4146 - loss: 0.4858 - val_accuracy: 0.3835 - val_loss: 0.4583 - learning_rate: 1.0000e-05\n",
      "Epoch 4/50\n",
      "\u001b[1m194/194\u001b[0m \u001b[32m━━━━━━━━━━━━━━━━━━━━\u001b[0m\u001b[37m\u001b[0m \u001b[1m42s\u001b[0m 215ms/step - accuracy: 0.4124 - loss: 0.4661 - val_accuracy: 0.3964 - val_loss: 0.4369 - learning_rate: 1.0000e-05\n",
      "Epoch 5/50\n",
      "\u001b[1m194/194\u001b[0m \u001b[32m━━━━━━━━━━━━━━━━━━━━\u001b[0m\u001b[37m\u001b[0m \u001b[1m42s\u001b[0m 215ms/step - accuracy: 0.4406 - loss: 0.4445 - val_accuracy: 0.4207 - val_loss: 0.4336 - learning_rate: 1.0000e-05\n",
      "Epoch 6/50\n",
      "\u001b[1m194/194\u001b[0m \u001b[32m━━━━━━━━━━━━━━━━━━━━\u001b[0m\u001b[37m\u001b[0m \u001b[1m40s\u001b[0m 208ms/step - accuracy: 0.4434 - loss: 0.4339 - val_accuracy: 0.4159 - val_loss: 0.4342 - learning_rate: 1.0000e-05\n",
      "Epoch 7/50\n",
      "\u001b[1m194/194\u001b[0m \u001b[32m━━━━━━━━━━━━━━━━━━━━\u001b[0m\u001b[37m\u001b[0m \u001b[1m42s\u001b[0m 216ms/step - accuracy: 0.4796 - loss: 0.4089 - val_accuracy: 0.4417 - val_loss: 0.4314 - learning_rate: 1.0000e-05\n",
      "Epoch 8/50\n",
      "\u001b[1m194/194\u001b[0m \u001b[32m━━━━━━━━━━━━━━━━━━━━\u001b[0m\u001b[37m\u001b[0m \u001b[1m42s\u001b[0m 215ms/step - accuracy: 0.4990 - loss: 0.3978 - val_accuracy: 0.4709 - val_loss: 0.4236 - learning_rate: 1.0000e-05\n",
      "Epoch 9/50\n",
      "\u001b[1m194/194\u001b[0m \u001b[32m━━━━━━━━━━━━━━━━━━━━\u001b[0m\u001b[37m\u001b[0m \u001b[1m42s\u001b[0m 215ms/step - accuracy: 0.5289 - loss: 0.3663 - val_accuracy: 0.4709 - val_loss: 0.4093 - learning_rate: 1.0000e-05\n",
      "Epoch 10/50\n",
      "\u001b[1m194/194\u001b[0m \u001b[32m━━━━━━━━━━━━━━━━━━━━\u001b[0m\u001b[37m\u001b[0m \u001b[1m40s\u001b[0m 208ms/step - accuracy: 0.5492 - loss: 0.3564 - val_accuracy: 0.4595 - val_loss: 0.4339 - learning_rate: 1.0000e-05\n",
      "Epoch 11/50\n",
      "\u001b[1m194/194\u001b[0m \u001b[32m━━━━━━━━━━━━━━━━━━━━\u001b[0m\u001b[37m\u001b[0m \u001b[1m41s\u001b[0m 209ms/step - accuracy: 0.5634 - loss: 0.3603 - val_accuracy: 0.4822 - val_loss: 0.4272 - learning_rate: 1.0000e-05\n",
      "Epoch 12/50\n",
      "\u001b[1m194/194\u001b[0m \u001b[32m━━━━━━━━━━━━━━━━━━━━\u001b[0m\u001b[37m\u001b[0m \u001b[1m42s\u001b[0m 215ms/step - accuracy: 0.5865 - loss: 0.3284 - val_accuracy: 0.5259 - val_loss: 0.3967 - learning_rate: 3.0000e-06\n",
      "Epoch 13/50\n",
      "\u001b[1m194/194\u001b[0m \u001b[32m━━━━━━━━━━━━━━━━━━━━\u001b[0m\u001b[37m\u001b[0m \u001b[1m42s\u001b[0m 218ms/step - accuracy: 0.6465 - loss: 0.3110 - val_accuracy: 0.5275 - val_loss: 0.4101 - learning_rate: 3.0000e-06\n",
      "Epoch 14/50\n",
      "\u001b[1m194/194\u001b[0m \u001b[32m━━━━━━━━━━━━━━━━━━━━\u001b[0m\u001b[37m\u001b[0m \u001b[1m41s\u001b[0m 209ms/step - accuracy: 0.6458 - loss: 0.3032 - val_accuracy: 0.5453 - val_loss: 0.4080 - learning_rate: 3.0000e-06\n",
      "Epoch 15/50\n",
      "\u001b[1m194/194\u001b[0m \u001b[32m━━━━━━━━━━━━━━━━━━━━\u001b[0m\u001b[37m\u001b[0m \u001b[1m40s\u001b[0m 209ms/step - accuracy: 0.6569 - loss: 0.2990 - val_accuracy: 0.5324 - val_loss: 0.4134 - learning_rate: 9.0000e-07\n",
      "Epoch 16/50\n",
      "\u001b[1m194/194\u001b[0m \u001b[32m━━━━━━━━━━━━━━━━━━━━\u001b[0m\u001b[37m\u001b[0m \u001b[1m41s\u001b[0m 209ms/step - accuracy: 0.6585 - loss: 0.2883 - val_accuracy: 0.5340 - val_loss: 0.4028 - learning_rate: 9.0000e-07\n",
      "Epoch 17/50\n",
      "\u001b[1m194/194\u001b[0m \u001b[32m━━━━━━━━━━━━━━━━━━━━\u001b[0m\u001b[37m\u001b[0m \u001b[1m41s\u001b[0m 209ms/step - accuracy: 0.6667 - loss: 0.2923 - val_accuracy: 0.5291 - val_loss: 0.4038 - learning_rate: 2.7000e-07\n",
      "Best current val:0.39669519662857056\n",
      "Training iteration 2/5\n",
      "Epoch 1/50\n",
      "\u001b[1m194/194\u001b[0m \u001b[32m━━━━━━━━━━━━━━━━━━━━\u001b[0m\u001b[37m\u001b[0m \u001b[1m48s\u001b[0m 223ms/step - accuracy: 0.3687 - loss: 0.5648 - val_accuracy: 0.3835 - val_loss: 0.4643 - learning_rate: 1.0000e-05\n",
      "Epoch 2/50\n",
      "\u001b[1m194/194\u001b[0m \u001b[32m━━━━━━━━━━━━━━━━━━━━\u001b[0m\u001b[37m\u001b[0m \u001b[1m40s\u001b[0m 208ms/step - accuracy: 0.4182 - loss: 0.4766 - val_accuracy: 0.3835 - val_loss: 0.4737 - learning_rate: 1.0000e-05\n",
      "Epoch 3/50\n",
      "\u001b[1m194/194\u001b[0m \u001b[32m━━━━━━━━━━━━━━━━━━━━\u001b[0m\u001b[37m\u001b[0m \u001b[1m40s\u001b[0m 208ms/step - accuracy: 0.4112 - loss: 0.4723 - val_accuracy: 0.3835 - val_loss: 0.4622 - learning_rate: 1.0000e-05\n",
      "Epoch 4/50\n",
      "\u001b[1m194/194\u001b[0m \u001b[32m━━━━━━━━━━━━━━━━━━━━\u001b[0m\u001b[37m\u001b[0m \u001b[1m41s\u001b[0m 209ms/step - accuracy: 0.4152 - loss: 0.4559 - val_accuracy: 0.3883 - val_loss: 0.4446 - learning_rate: 1.0000e-05\n",
      "Epoch 5/50\n",
      "\u001b[1m194/194\u001b[0m \u001b[32m━━━━━━━━━━━━━━━━━━━━\u001b[0m\u001b[37m\u001b[0m \u001b[1m41s\u001b[0m 209ms/step - accuracy: 0.4340 - loss: 0.4348 - val_accuracy: 0.4045 - val_loss: 0.4417 - learning_rate: 1.0000e-05\n",
      "Epoch 6/50\n",
      "\u001b[1m194/194\u001b[0m \u001b[32m━━━━━━━━━━━━━━━━━━━━\u001b[0m\u001b[37m\u001b[0m \u001b[1m41s\u001b[0m 209ms/step - accuracy: 0.4812 - loss: 0.4080 - val_accuracy: 0.4579 - val_loss: 0.4254 - learning_rate: 1.0000e-05\n",
      "Epoch 7/50\n",
      "\u001b[1m194/194\u001b[0m \u001b[32m━━━━━━━━━━━━━━━━━━━━\u001b[0m\u001b[37m\u001b[0m \u001b[1m41s\u001b[0m 209ms/step - accuracy: 0.4864 - loss: 0.3985 - val_accuracy: 0.5129 - val_loss: 0.4087 - learning_rate: 1.0000e-05\n",
      "Epoch 8/50\n",
      "\u001b[1m194/194\u001b[0m \u001b[32m━━━━━━━━━━━━━━━━━━━━\u001b[0m\u001b[37m\u001b[0m \u001b[1m41s\u001b[0m 209ms/step - accuracy: 0.5273 - loss: 0.3782 - val_accuracy: 0.4595 - val_loss: 0.4407 - learning_rate: 1.0000e-05\n",
      "Epoch 9/50\n",
      "\u001b[1m194/194\u001b[0m \u001b[32m━━━━━━━━━━━━━━━━━━━━\u001b[0m\u001b[37m\u001b[0m \u001b[1m41s\u001b[0m 209ms/step - accuracy: 0.5518 - loss: 0.3552 - val_accuracy: 0.4790 - val_loss: 0.4266 - learning_rate: 1.0000e-05\n",
      "Epoch 10/50\n",
      "\u001b[1m194/194\u001b[0m \u001b[32m━━━━━━━━━━━━━━━━━━━━\u001b[0m\u001b[37m\u001b[0m \u001b[1m41s\u001b[0m 209ms/step - accuracy: 0.5742 - loss: 0.3440 - val_accuracy: 0.5194 - val_loss: 0.4019 - learning_rate: 3.0000e-06\n",
      "Epoch 11/50\n",
      "\u001b[1m194/194\u001b[0m \u001b[32m━━━━━━━━━━━━━━━━━━━━\u001b[0m\u001b[37m\u001b[0m \u001b[1m41s\u001b[0m 209ms/step - accuracy: 0.6002 - loss: 0.3334 - val_accuracy: 0.5162 - val_loss: 0.4052 - learning_rate: 3.0000e-06\n",
      "Epoch 12/50\n",
      "\u001b[1m194/194\u001b[0m \u001b[32m━━━━━━━━━━━━━━━━━━━━\u001b[0m\u001b[37m\u001b[0m \u001b[1m41s\u001b[0m 209ms/step - accuracy: 0.6251 - loss: 0.3198 - val_accuracy: 0.5032 - val_loss: 0.4368 - learning_rate: 3.0000e-06\n",
      "Epoch 13/50\n",
      "\u001b[1m194/194\u001b[0m \u001b[32m━━━━━━━━━━━━━━━━━━━━\u001b[0m\u001b[37m\u001b[0m \u001b[1m41s\u001b[0m 210ms/step - accuracy: 0.5998 - loss: 0.3181 - val_accuracy: 0.5388 - val_loss: 0.3984 - learning_rate: 9.0000e-07\n",
      "Epoch 14/50\n",
      "\u001b[1m194/194\u001b[0m \u001b[32m━━━━━━━━━━━━━━━━━━━━\u001b[0m\u001b[37m\u001b[0m \u001b[1m41s\u001b[0m 210ms/step - accuracy: 0.6093 - loss: 0.3152 - val_accuracy: 0.5097 - val_loss: 0.4121 - learning_rate: 9.0000e-07\n",
      "Epoch 15/50\n",
      "\u001b[1m194/194\u001b[0m \u001b[32m━━━━━━━━━━━━━━━━━━━━\u001b[0m\u001b[37m\u001b[0m \u001b[1m41s\u001b[0m 209ms/step - accuracy: 0.6341 - loss: 0.3088 - val_accuracy: 0.5388 - val_loss: 0.3981 - learning_rate: 9.0000e-07\n",
      "Epoch 16/50\n",
      "\u001b[1m194/194\u001b[0m \u001b[32m━━━━━━━━━━━━━━━━━━━━\u001b[0m\u001b[37m\u001b[0m \u001b[1m41s\u001b[0m 210ms/step - accuracy: 0.6303 - loss: 0.3130 - val_accuracy: 0.5275 - val_loss: 0.4059 - learning_rate: 9.0000e-07\n",
      "Epoch 17/50\n",
      "\u001b[1m194/194\u001b[0m \u001b[32m━━━━━━━━━━━━━━━━━━━━\u001b[0m\u001b[37m\u001b[0m \u001b[1m41s\u001b[0m 210ms/step - accuracy: 0.6275 - loss: 0.2994 - val_accuracy: 0.5324 - val_loss: 0.4027 - learning_rate: 9.0000e-07\n",
      "Epoch 18/50\n",
      "\u001b[1m194/194\u001b[0m \u001b[32m━━━━━━━━━━━━━━━━━━━━\u001b[0m\u001b[37m\u001b[0m \u001b[1m41s\u001b[0m 209ms/step - accuracy: 0.6425 - loss: 0.3036 - val_accuracy: 0.5372 - val_loss: 0.4027 - learning_rate: 2.7000e-07\n",
      "Epoch 19/50\n",
      "\u001b[1m194/194\u001b[0m \u001b[32m━━━━━━━━━━━━━━━━━━━━\u001b[0m\u001b[37m\u001b[0m \u001b[1m41s\u001b[0m 210ms/step - accuracy: 0.6552 - loss: 0.2960 - val_accuracy: 0.5307 - val_loss: 0.4057 - learning_rate: 2.7000e-07\n",
      "Epoch 20/50\n",
      "\u001b[1m194/194\u001b[0m \u001b[32m━━━━━━━━━━━━━━━━━━━━\u001b[0m\u001b[37m\u001b[0m \u001b[1m41s\u001b[0m 210ms/step - accuracy: 0.6300 - loss: 0.2995 - val_accuracy: 0.5324 - val_loss: 0.4028 - learning_rate: 1.0000e-07\n",
      "Training iteration 3/5\n",
      "Epoch 1/50\n",
      "\u001b[1m194/194\u001b[0m \u001b[32m━━━━━━━━━━━━━━━━━━━━\u001b[0m\u001b[37m\u001b[0m \u001b[1m48s\u001b[0m 222ms/step - accuracy: 0.3606 - loss: 0.5368 - val_accuracy: 0.3835 - val_loss: 0.4716 - learning_rate: 1.0000e-05\n",
      "Epoch 2/50\n",
      "\u001b[1m194/194\u001b[0m \u001b[32m━━━━━━━━━━━━━━━━━━━━\u001b[0m\u001b[37m\u001b[0m \u001b[1m40s\u001b[0m 208ms/step - accuracy: 0.4193 - loss: 0.4812 - val_accuracy: 0.3851 - val_loss: 0.4601 - learning_rate: 1.0000e-05\n",
      "Epoch 3/50\n",
      "\u001b[1m194/194\u001b[0m \u001b[32m━━━━━━━━━━━━━━━━━━━━\u001b[0m\u001b[37m\u001b[0m \u001b[1m41s\u001b[0m 209ms/step - accuracy: 0.4034 - loss: 0.4694 - val_accuracy: 0.3932 - val_loss: 0.4519 - learning_rate: 1.0000e-05\n",
      "Epoch 4/50\n",
      "\u001b[1m194/194\u001b[0m \u001b[32m━━━━━━━━━━━━━━━━━━━━\u001b[0m\u001b[37m\u001b[0m \u001b[1m41s\u001b[0m 209ms/step - accuracy: 0.4190 - loss: 0.4479 - val_accuracy: 0.4239 - val_loss: 0.4509 - learning_rate: 1.0000e-05\n",
      "Epoch 5/50\n",
      "\u001b[1m194/194\u001b[0m \u001b[32m━━━━━━━━━━━━━━━━━━━━\u001b[0m\u001b[37m\u001b[0m \u001b[1m41s\u001b[0m 210ms/step - accuracy: 0.4757 - loss: 0.4021 - val_accuracy: 0.4693 - val_loss: 0.4270 - learning_rate: 1.0000e-05\n",
      "Epoch 6/50\n",
      "\u001b[1m194/194\u001b[0m \u001b[32m━━━━━━━━━━━━━━━━━━━━\u001b[0m\u001b[37m\u001b[0m \u001b[1m41s\u001b[0m 209ms/step - accuracy: 0.4889 - loss: 0.3926 - val_accuracy: 0.4741 - val_loss: 0.4197 - learning_rate: 1.0000e-05\n",
      "Epoch 7/50\n",
      "\u001b[1m194/194\u001b[0m \u001b[32m━━━━━━━━━━━━━━━━━━━━\u001b[0m\u001b[37m\u001b[0m \u001b[1m41s\u001b[0m 209ms/step - accuracy: 0.5222 - loss: 0.3737 - val_accuracy: 0.4644 - val_loss: 0.4448 - learning_rate: 1.0000e-05\n",
      "Epoch 8/50\n",
      "\u001b[1m194/194\u001b[0m \u001b[32m━━━━━━━━━━━━━━━━━━━━\u001b[0m\u001b[37m\u001b[0m \u001b[1m41s\u001b[0m 210ms/step - accuracy: 0.5299 - loss: 0.3693 - val_accuracy: 0.4935 - val_loss: 0.4075 - learning_rate: 1.0000e-05\n",
      "Epoch 9/50\n",
      "\u001b[1m194/194\u001b[0m \u001b[32m━━━━━━━━━━━━━━━━━━━━\u001b[0m\u001b[37m\u001b[0m \u001b[1m41s\u001b[0m 209ms/step - accuracy: 0.5625 - loss: 0.3577 - val_accuracy: 0.5081 - val_loss: 0.4171 - learning_rate: 1.0000e-05\n",
      "Epoch 10/50\n",
      "\u001b[1m194/194\u001b[0m \u001b[32m━━━━━━━━━━━━━━━━━━━━\u001b[0m\u001b[37m\u001b[0m \u001b[1m41s\u001b[0m 209ms/step - accuracy: 0.5948 - loss: 0.3361 - val_accuracy: 0.4968 - val_loss: 0.4159 - learning_rate: 1.0000e-05\n",
      "Epoch 11/50\n",
      "\u001b[1m194/194\u001b[0m \u001b[32m━━━━━━━━━━━━━━━━━━━━\u001b[0m\u001b[37m\u001b[0m \u001b[1m41s\u001b[0m 210ms/step - accuracy: 0.6075 - loss: 0.3199 - val_accuracy: 0.5194 - val_loss: 0.4003 - learning_rate: 3.0000e-06\n",
      "Epoch 12/50\n",
      "\u001b[1m194/194\u001b[0m \u001b[32m━━━━━━━━━━━━━━━━━━━━\u001b[0m\u001b[37m\u001b[0m \u001b[1m41s\u001b[0m 210ms/step - accuracy: 0.6335 - loss: 0.3143 - val_accuracy: 0.5275 - val_loss: 0.3995 - learning_rate: 3.0000e-06\n",
      "Epoch 13/50\n",
      "\u001b[1m194/194\u001b[0m \u001b[32m━━━━━━━━━━━━━━━━━━━━\u001b[0m\u001b[37m\u001b[0m \u001b[1m41s\u001b[0m 210ms/step - accuracy: 0.6401 - loss: 0.3088 - val_accuracy: 0.5210 - val_loss: 0.4022 - learning_rate: 3.0000e-06\n",
      "Epoch 14/50\n",
      "\u001b[1m194/194\u001b[0m \u001b[32m━━━━━━━━━━━━━━━━━━━━\u001b[0m\u001b[37m\u001b[0m \u001b[1m41s\u001b[0m 210ms/step - accuracy: 0.6289 - loss: 0.3127 - val_accuracy: 0.5129 - val_loss: 0.4196 - learning_rate: 3.0000e-06\n",
      "Epoch 15/50\n",
      "\u001b[1m194/194\u001b[0m \u001b[32m━━━━━━━━━━━━━━━━━━━━\u001b[0m\u001b[37m\u001b[0m \u001b[1m41s\u001b[0m 210ms/step - accuracy: 0.6617 - loss: 0.2919 - val_accuracy: 0.5372 - val_loss: 0.3980 - learning_rate: 9.0000e-07\n",
      "Epoch 16/50\n",
      "\u001b[1m194/194\u001b[0m \u001b[32m━━━━━━━━━━━━━━━━━━━━\u001b[0m\u001b[37m\u001b[0m \u001b[1m41s\u001b[0m 210ms/step - accuracy: 0.6680 - loss: 0.2948 - val_accuracy: 0.5502 - val_loss: 0.3980 - learning_rate: 9.0000e-07\n",
      "Epoch 17/50\n",
      "\u001b[1m194/194\u001b[0m \u001b[32m━━━━━━━━━━━━━━━━━━━━\u001b[0m\u001b[37m\u001b[0m \u001b[1m41s\u001b[0m 210ms/step - accuracy: 0.6697 - loss: 0.2917 - val_accuracy: 0.5405 - val_loss: 0.3981 - learning_rate: 9.0000e-07\n",
      "Epoch 18/50\n",
      "\u001b[1m194/194\u001b[0m \u001b[32m━━━━━━━━━━━━━━━━━━━━\u001b[0m\u001b[37m\u001b[0m \u001b[1m41s\u001b[0m 210ms/step - accuracy: 0.6676 - loss: 0.2821 - val_accuracy: 0.5421 - val_loss: 0.4017 - learning_rate: 2.7000e-07\n",
      "Epoch 19/50\n",
      "\u001b[1m194/194\u001b[0m \u001b[32m━━━━━━━━━━━━━━━━━━━━\u001b[0m\u001b[37m\u001b[0m \u001b[1m41s\u001b[0m 210ms/step - accuracy: 0.6764 - loss: 0.2778 - val_accuracy: 0.5356 - val_loss: 0.4039 - learning_rate: 2.7000e-07\n",
      "Epoch 20/50\n",
      "\u001b[1m194/194\u001b[0m \u001b[32m━━━━━━━━━━━━━━━━━━━━\u001b[0m\u001b[37m\u001b[0m \u001b[1m41s\u001b[0m 210ms/step - accuracy: 0.6674 - loss: 0.2826 - val_accuracy: 0.5405 - val_loss: 0.4024 - learning_rate: 1.0000e-07\n",
      "Training iteration 4/5\n",
      "Epoch 1/50\n",
      "\u001b[1m194/194\u001b[0m \u001b[32m━━━━━━━━━━━━━━━━━━━━\u001b[0m\u001b[37m\u001b[0m \u001b[1m48s\u001b[0m 222ms/step - accuracy: 0.3569 - loss: 0.5207 - val_accuracy: 0.3835 - val_loss: 0.4667 - learning_rate: 1.0000e-05\n",
      "Epoch 2/50\n",
      "\u001b[1m194/194\u001b[0m \u001b[32m━━━━━━━━━━━━━━━━━━━━\u001b[0m\u001b[37m\u001b[0m \u001b[1m40s\u001b[0m 208ms/step - accuracy: 0.4182 - loss: 0.4787 - val_accuracy: 0.3835 - val_loss: 0.4659 - learning_rate: 1.0000e-05\n",
      "Epoch 3/50\n",
      "\u001b[1m194/194\u001b[0m \u001b[32m━━━━━━━━━━━━━━━━━━━━\u001b[0m\u001b[37m\u001b[0m \u001b[1m40s\u001b[0m 208ms/step - accuracy: 0.4118 - loss: 0.4634 - val_accuracy: 0.3997 - val_loss: 0.4402 - learning_rate: 1.0000e-05\n",
      "Epoch 4/50\n",
      "\u001b[1m194/194\u001b[0m \u001b[32m━━━━━━━━━━━━━━━━━━━━\u001b[0m\u001b[37m\u001b[0m \u001b[1m40s\u001b[0m 208ms/step - accuracy: 0.4203 - loss: 0.4315 - val_accuracy: 0.4337 - val_loss: 0.4225 - learning_rate: 1.0000e-05\n",
      "Epoch 5/50\n",
      "\u001b[1m194/194\u001b[0m \u001b[32m━━━━━━━━━━━━━━━━━━━━\u001b[0m\u001b[37m\u001b[0m \u001b[1m41s\u001b[0m 209ms/step - accuracy: 0.4683 - loss: 0.3976 - val_accuracy: 0.4628 - val_loss: 0.4174 - learning_rate: 1.0000e-05\n",
      "Epoch 6/50\n",
      "\u001b[1m194/194\u001b[0m \u001b[32m━━━━━━━━━━━━━━━━━━━━\u001b[0m\u001b[37m\u001b[0m \u001b[1m40s\u001b[0m 209ms/step - accuracy: 0.4973 - loss: 0.3935 - val_accuracy: 0.4693 - val_loss: 0.4269 - learning_rate: 1.0000e-05\n",
      "Epoch 7/50\n",
      "\u001b[1m194/194\u001b[0m \u001b[32m━━━━━━━━━━━━━━━━━━━━\u001b[0m\u001b[37m\u001b[0m \u001b[1m41s\u001b[0m 209ms/step - accuracy: 0.5380 - loss: 0.3777 - val_accuracy: 0.5146 - val_loss: 0.4124 - learning_rate: 1.0000e-05\n",
      "Epoch 8/50\n",
      "\u001b[1m194/194\u001b[0m \u001b[32m━━━━━━━━━━━━━━━━━━━━\u001b[0m\u001b[37m\u001b[0m \u001b[1m41s\u001b[0m 209ms/step - accuracy: 0.5493 - loss: 0.3574 - val_accuracy: 0.5210 - val_loss: 0.3989 - learning_rate: 1.0000e-05\n",
      "Epoch 9/50\n",
      "\u001b[1m194/194\u001b[0m \u001b[32m━━━━━━━━━━━━━━━━━━━━\u001b[0m\u001b[37m\u001b[0m \u001b[1m41s\u001b[0m 209ms/step - accuracy: 0.5496 - loss: 0.3605 - val_accuracy: 0.5129 - val_loss: 0.4079 - learning_rate: 1.0000e-05\n",
      "Epoch 10/50\n",
      "\u001b[1m194/194\u001b[0m \u001b[32m━━━━━━━━━━━━━━━━━━━━\u001b[0m\u001b[37m\u001b[0m \u001b[1m41s\u001b[0m 209ms/step - accuracy: 0.5863 - loss: 0.3471 - val_accuracy: 0.4984 - val_loss: 0.3986 - learning_rate: 1.0000e-05\n",
      "Epoch 11/50\n",
      "\u001b[1m194/194\u001b[0m \u001b[32m━━━━━━━━━━━━━━━━━━━━\u001b[0m\u001b[37m\u001b[0m \u001b[1m41s\u001b[0m 209ms/step - accuracy: 0.5836 - loss: 0.3392 - val_accuracy: 0.5469 - val_loss: 0.4009 - learning_rate: 1.0000e-05\n",
      "Epoch 12/50\n",
      "\u001b[1m194/194\u001b[0m \u001b[32m━━━━━━━━━━━━━━━━━━━━\u001b[0m\u001b[37m\u001b[0m \u001b[1m40s\u001b[0m 209ms/step - accuracy: 0.6084 - loss: 0.3270 - val_accuracy: 0.4887 - val_loss: 0.4372 - learning_rate: 1.0000e-05\n",
      "Epoch 13/50\n",
      "\u001b[1m194/194\u001b[0m \u001b[32m━━━━━━━━━━━━━━━━━━━━\u001b[0m\u001b[37m\u001b[0m \u001b[1m42s\u001b[0m 216ms/step - accuracy: 0.6229 - loss: 0.3065 - val_accuracy: 0.5227 - val_loss: 0.3946 - learning_rate: 3.0000e-06\n",
      "Epoch 14/50\n",
      "\u001b[1m194/194\u001b[0m \u001b[32m━━━━━━━━━━━━━━━━━━━━\u001b[0m\u001b[37m\u001b[0m \u001b[1m40s\u001b[0m 209ms/step - accuracy: 0.6497 - loss: 0.2899 - val_accuracy: 0.5227 - val_loss: 0.4056 - learning_rate: 3.0000e-06\n",
      "Epoch 15/50\n",
      "\u001b[1m194/194\u001b[0m \u001b[32m━━━━━━━━━━━━━━━━━━━━\u001b[0m\u001b[37m\u001b[0m \u001b[1m41s\u001b[0m 209ms/step - accuracy: 0.6502 - loss: 0.2900 - val_accuracy: 0.5178 - val_loss: 0.3996 - learning_rate: 3.0000e-06\n",
      "Epoch 16/50\n",
      "\u001b[1m194/194\u001b[0m \u001b[32m━━━━━━━━━━━━━━━━━━━━\u001b[0m\u001b[37m\u001b[0m \u001b[1m42s\u001b[0m 216ms/step - accuracy: 0.6645 - loss: 0.2837 - val_accuracy: 0.5550 - val_loss: 0.3923 - learning_rate: 9.0000e-07\n",
      "Epoch 17/50\n",
      "\u001b[1m194/194\u001b[0m \u001b[32m━━━━━━━━━━━━━━━━━━━━\u001b[0m\u001b[37m\u001b[0m \u001b[1m41s\u001b[0m 209ms/step - accuracy: 0.6884 - loss: 0.2726 - val_accuracy: 0.5485 - val_loss: 0.3952 - learning_rate: 9.0000e-07\n",
      "Epoch 18/50\n",
      "\u001b[1m194/194\u001b[0m \u001b[32m━━━━━━━━━━━━━━━━━━━━\u001b[0m\u001b[37m\u001b[0m \u001b[1m42s\u001b[0m 216ms/step - accuracy: 0.6804 - loss: 0.2744 - val_accuracy: 0.5663 - val_loss: 0.3912 - learning_rate: 9.0000e-07\n",
      "Epoch 19/50\n",
      "\u001b[1m194/194\u001b[0m \u001b[32m━━━━━━━━━━━━━━━━━━━━\u001b[0m\u001b[37m\u001b[0m \u001b[1m41s\u001b[0m 209ms/step - accuracy: 0.6925 - loss: 0.2679 - val_accuracy: 0.5502 - val_loss: 0.4020 - learning_rate: 9.0000e-07\n",
      "Epoch 20/50\n",
      "\u001b[1m194/194\u001b[0m \u001b[32m━━━━━━━━━━━━━━━━━━━━\u001b[0m\u001b[37m\u001b[0m \u001b[1m41s\u001b[0m 209ms/step - accuracy: 0.6889 - loss: 0.2683 - val_accuracy: 0.5437 - val_loss: 0.3992 - learning_rate: 9.0000e-07\n",
      "Epoch 21/50\n",
      "\u001b[1m194/194\u001b[0m \u001b[32m━━━━━━━━━━━━━━━━━━━━\u001b[0m\u001b[37m\u001b[0m \u001b[1m41s\u001b[0m 209ms/step - accuracy: 0.7106 - loss: 0.2674 - val_accuracy: 0.5485 - val_loss: 0.3966 - learning_rate: 2.7000e-07\n",
      "Epoch 22/50\n",
      "\u001b[1m194/194\u001b[0m \u001b[32m━━━━━━━━━━━━━━━━━━━━\u001b[0m\u001b[37m\u001b[0m \u001b[1m41s\u001b[0m 209ms/step - accuracy: 0.6949 - loss: 0.2659 - val_accuracy: 0.5372 - val_loss: 0.3927 - learning_rate: 2.7000e-07\n",
      "Epoch 23/50\n",
      "\u001b[1m194/194\u001b[0m \u001b[32m━━━━━━━━━━━━━━━━━━━━\u001b[0m\u001b[37m\u001b[0m \u001b[1m41s\u001b[0m 209ms/step - accuracy: 0.7133 - loss: 0.2597 - val_accuracy: 0.5485 - val_loss: 0.3974 - learning_rate: 1.0000e-07\n",
      "Best current val:0.39117711782455444\n",
      "Training iteration 5/5\n",
      "Epoch 1/50\n",
      "\u001b[1m194/194\u001b[0m \u001b[32m━━━━━━━━━━━━━━━━━━━━\u001b[0m\u001b[37m\u001b[0m \u001b[1m48s\u001b[0m 221ms/step - accuracy: 0.3352 - loss: 0.5558 - val_accuracy: 0.3835 - val_loss: 0.4665 - learning_rate: 1.0000e-05\n",
      "Epoch 2/50\n",
      "\u001b[1m194/194\u001b[0m \u001b[32m━━━━━━━━━━━━━━━━━━━━\u001b[0m\u001b[37m\u001b[0m \u001b[1m40s\u001b[0m 207ms/step - accuracy: 0.3952 - loss: 0.4896 - val_accuracy: 0.3835 - val_loss: 0.4759 - learning_rate: 1.0000e-05\n",
      "Epoch 3/50\n",
      "\u001b[1m194/194\u001b[0m \u001b[32m━━━━━━━━━━━━━━━━━━━━\u001b[0m\u001b[37m\u001b[0m \u001b[1m40s\u001b[0m 208ms/step - accuracy: 0.4089 - loss: 0.4805 - val_accuracy: 0.3835 - val_loss: 0.4589 - learning_rate: 1.0000e-05\n",
      "Epoch 4/50\n",
      "\u001b[1m194/194\u001b[0m \u001b[32m━━━━━━━━━━━━━━━━━━━━\u001b[0m\u001b[37m\u001b[0m \u001b[1m40s\u001b[0m 208ms/step - accuracy: 0.4258 - loss: 0.4508 - val_accuracy: 0.4142 - val_loss: 0.4513 - learning_rate: 1.0000e-05\n",
      "Epoch 5/50\n",
      "\u001b[1m194/194\u001b[0m \u001b[32m━━━━━━━━━━━━━━━━━━━━\u001b[0m\u001b[37m\u001b[0m \u001b[1m40s\u001b[0m 208ms/step - accuracy: 0.4215 - loss: 0.4366 - val_accuracy: 0.4434 - val_loss: 0.4331 - learning_rate: 1.0000e-05\n",
      "Epoch 6/50\n",
      "\u001b[1m194/194\u001b[0m \u001b[32m━━━━━━━━━━━━━━━━━━━━\u001b[0m\u001b[37m\u001b[0m \u001b[1m40s\u001b[0m 209ms/step - accuracy: 0.4613 - loss: 0.4111 - val_accuracy: 0.4935 - val_loss: 0.4158 - learning_rate: 1.0000e-05\n",
      "Epoch 7/50\n",
      "\u001b[1m194/194\u001b[0m \u001b[32m━━━━━━━━━━━━━━━━━━━━\u001b[0m\u001b[37m\u001b[0m \u001b[1m40s\u001b[0m 209ms/step - accuracy: 0.5043 - loss: 0.4004 - val_accuracy: 0.4854 - val_loss: 0.4135 - learning_rate: 1.0000e-05\n",
      "Epoch 8/50\n",
      "\u001b[1m194/194\u001b[0m \u001b[32m━━━━━━━━━━━━━━━━━━━━\u001b[0m\u001b[37m\u001b[0m \u001b[1m40s\u001b[0m 209ms/step - accuracy: 0.5195 - loss: 0.3826 - val_accuracy: 0.5146 - val_loss: 0.4048 - learning_rate: 1.0000e-05\n",
      "Epoch 9/50\n",
      "\u001b[1m194/194\u001b[0m \u001b[32m━━━━━━━━━━━━━━━━━━━━\u001b[0m\u001b[37m\u001b[0m \u001b[1m41s\u001b[0m 209ms/step - accuracy: 0.5489 - loss: 0.3647 - val_accuracy: 0.5000 - val_loss: 0.4011 - learning_rate: 1.0000e-05\n",
      "Epoch 10/50\n",
      "\u001b[1m194/194\u001b[0m \u001b[32m━━━━━━━━━━━━━━━━━━━━\u001b[0m\u001b[37m\u001b[0m \u001b[1m41s\u001b[0m 209ms/step - accuracy: 0.5527 - loss: 0.3608 - val_accuracy: 0.3544 - val_loss: 0.4979 - learning_rate: 1.0000e-05\n",
      "Epoch 11/50\n",
      "\u001b[1m194/194\u001b[0m \u001b[32m━━━━━━━━━━━━━━━━━━━━\u001b[0m\u001b[37m\u001b[0m \u001b[1m40s\u001b[0m 209ms/step - accuracy: 0.5506 - loss: 0.3549 - val_accuracy: 0.4887 - val_loss: 0.4141 - learning_rate: 1.0000e-05\n",
      "Epoch 12/50\n",
      "\u001b[1m194/194\u001b[0m \u001b[32m━━━━━━━━━━━━━━━━━━━━\u001b[0m\u001b[37m\u001b[0m \u001b[1m41s\u001b[0m 209ms/step - accuracy: 0.6011 - loss: 0.3175 - val_accuracy: 0.5178 - val_loss: 0.4061 - learning_rate: 3.0000e-06\n",
      "Epoch 13/50\n",
      "\u001b[1m194/194\u001b[0m \u001b[32m━━━━━━━━━━━━━━━━━━━━\u001b[0m\u001b[37m\u001b[0m \u001b[1m40s\u001b[0m 209ms/step - accuracy: 0.6143 - loss: 0.3113 - val_accuracy: 0.5113 - val_loss: 0.4057 - learning_rate: 3.0000e-06\n",
      "Epoch 14/50\n",
      "\u001b[1m194/194\u001b[0m \u001b[32m━━━━━━━━━━━━━━━━━━━━\u001b[0m\u001b[37m\u001b[0m \u001b[1m41s\u001b[0m 209ms/step - accuracy: 0.6461 - loss: 0.3033 - val_accuracy: 0.5178 - val_loss: 0.4046 - learning_rate: 9.0000e-07\n",
      "Training Complete\n"
     ]
    }
   ],
   "source": [
    "import os\n",
    "os.environ['TF_CPP_MIN_LOG_LEVEL'] = '3'\n",
    "import numpy as np\n",
    "import random\n",
    "import datetime\n",
    "import matplotlib.pyplot as plt\n",
    "import pip\n",
    "pip.main(['install','seaborn'])\n",
    "import seaborn as sns\n",
    "from sklearn.metrics import confusion_matrix\n",
    "from sklearn.utils.class_weight import compute_class_weight\n",
    "from keras.applications import DenseNet121, VGG19\n",
    "from keras.models import Model\n",
    "from keras.layers import Dense, Flatten, Dropout, LeakyReLU, GlobalAveragePooling2D, Conv2D, Input\n",
    "from keras.optimizers import Adam\n",
    "from keras.losses import BinaryCrossentropy\n",
    "from keras.callbacks import EarlyStopping, ReduceLROnPlateau, ModelCheckpoint\n",
    "modelclass = 'Male'\n",
    "suffix = 'Male'\n",
    "iterations = 5\n",
    "iterations2 = 5\n",
    "\n",
    "def CreateModel(learn_rate):\n",
    "    input_tensor = Input(shape=(256, 256, 3))\n",
    "    base_model = VGG19(weights='imagenet', include_top=False, input_shape=(256, 256, 3))\n",
    "\n",
    "    for layer in base_model.layers[:10]:\n",
    "        layer.trainable = False\n",
    "        \n",
    "    x = base_model.output\n",
    "    x = GlobalAveragePooling2D()(x)\n",
    "    x = Dense(1024)(x)\n",
    "    x = LeakyReLU(negative_slope=0.01)(x)\n",
    "    x = Dropout(0.5)(x)\n",
    "    predictions = Dense(5, activation='sigmoid')(x)\n",
    "\n",
    "    model = Model(inputs=base_model.input, outputs=predictions)\n",
    "    model.compile(optimizer=Adam(learning_rate=learn_rate),\n",
    "                  loss=BinaryCrossentropy(),\n",
    "                  metrics=['accuracy'])\n",
    "    return model\n",
    "\n",
    "base_dir = 'Data/'\n",
    "train_images = np.load(os.path.join(base_dir, 'train_images.npy'))\n",
    "train_labels = np.load(os.path.join(base_dir, 'train_labels.npy'))\n",
    "val_images = np.load(os.path.join(base_dir, 'val_images.npy'))\n",
    "val_labels = np.load(os.path.join(base_dir, 'val_labels.npy'))\n",
    "\n",
    "if len(train_images.shape) == 3:\n",
    "    train_images = np.expand_dims(train_images, axis=-1)\n",
    "    train_images = np.repeat(train_images, 3, axis=-1)\n",
    "\n",
    "if len(val_images.shape) == 3:\n",
    "    val_images = np.expand_dims(val_images, axis=-1)\n",
    "    val_images = np.repeat(val_images, 3, axis=-1)\n",
    "\n",
    "class_weights = compute_class_weight('balanced', classes=np.unique(train_labels), y=train_labels.flatten())\n",
    "class_weights = {i: class_weights[i] for i in range(len(class_weights))}\n",
    "\n",
    "print(\"Initial class weights:\", class_weights)\n",
    "print(\"Start time: \", datetime.datetime.now())\n",
    "\n",
    "best_model_path = f'Models/class{suffix}{modelclass}temp.keras'\n",
    "model_checkpoint = ModelCheckpoint(best_model_path, monitor='val_loss', save_best_only=True, mode='min')\n",
    "\n",
    "best_val_loss = float('inf')\n",
    "for i in range(iterations):\n",
    "    early_stopping = EarlyStopping(monitor='val_loss', patience=5, restore_best_weights=True)\n",
    "    reduce_lr = ReduceLROnPlateau(monitor='val_loss', factor=0.3, patience=2, min_lr=1e-7)\n",
    "    model = CreateModel(1e-5)\n",
    "    print(f\"Training iteration {i+1}/{iterations}\")\n",
    "    history = model.fit(train_images, train_labels,\n",
    "                        epochs=50,\n",
    "                        batch_size=16,\n",
    "                        validation_data=(val_images, val_labels),\n",
    "                        class_weight=class_weights,\n",
    "                        callbacks=[early_stopping, reduce_lr, model_checkpoint])\n",
    "\n",
    "    model.load_weights(best_model_path)\n",
    "    val_loss = min(history.history['val_loss'])\n",
    "    if val_loss < best_val_loss:\n",
    "        best_val_loss = val_loss\n",
    "        print(f\"Best current val:{best_val_loss}\")\n",
    "        model.save(f'Models/class_{suffix}{modelclass}_overallbest.keras')\n",
    "\n",
    "print(\"Training Complete\")"
   ]
  },
  {
   "cell_type": "code",
   "execution_count": 2,
   "id": "b5bd43c1-b11b-4c5c-956e-06e030bd4e1e",
   "metadata": {},
   "outputs": [
    {
     "name": "stderr",
     "output_type": "stream",
     "text": [
      "/opt/conda/lib/python3.11/site-packages/keras/src/saving/saving_lib.py:719: UserWarning: Skipping variable loading for optimizer 'adam', because it has 2 variables whereas the saved optimizer has 46 variables. \n",
      "  saveable.load_own_variables(weights_store.get(inner_path))\n"
     ]
    },
    {
     "name": "stdout",
     "output_type": "stream",
     "text": [
      "Training iteration 1/5\n",
      "Epoch 1/50\n",
      "\u001b[1m194/194\u001b[0m \u001b[32m━━━━━━━━━━━━━━━━━━━━\u001b[0m\u001b[37m\u001b[0m \u001b[1m50s\u001b[0m 230ms/step - accuracy: 0.6932 - loss: 0.2660 - val_accuracy: 0.5518 - val_loss: 0.3961 - learning_rate: 1.0000e-07\n",
      "Epoch 2/50\n",
      "\u001b[1m194/194\u001b[0m \u001b[32m━━━━━━━━━━━━━━━━━━━━\u001b[0m\u001b[37m\u001b[0m \u001b[1m41s\u001b[0m 209ms/step - accuracy: 0.7014 - loss: 0.2640 - val_accuracy: 0.5453 - val_loss: 0.3972 - learning_rate: 1.0000e-07\n",
      "Epoch 3/50\n",
      "\u001b[1m194/194\u001b[0m \u001b[32m━━━━━━━━━━━━━━━━━━━━\u001b[0m\u001b[37m\u001b[0m \u001b[1m41s\u001b[0m 210ms/step - accuracy: 0.6797 - loss: 0.2728 - val_accuracy: 0.5485 - val_loss: 0.3962 - learning_rate: 1.0000e-07\n",
      "Epoch 4/50\n",
      "\u001b[1m194/194\u001b[0m \u001b[32m━━━━━━━━━━━━━━━━━━━━\u001b[0m\u001b[37m\u001b[0m \u001b[1m41s\u001b[0m 210ms/step - accuracy: 0.6874 - loss: 0.2661 - val_accuracy: 0.5485 - val_loss: 0.3963 - learning_rate: 1.0000e-07\n",
      "Epoch 5/50\n",
      "\u001b[1m194/194\u001b[0m \u001b[32m━━━━━━━━━━━━━━━━━━━━\u001b[0m\u001b[37m\u001b[0m \u001b[1m41s\u001b[0m 210ms/step - accuracy: 0.6946 - loss: 0.2704 - val_accuracy: 0.5485 - val_loss: 0.3963 - learning_rate: 1.0000e-08\n",
      "Epoch 6/50\n",
      "\u001b[1m194/194\u001b[0m \u001b[32m━━━━━━━━━━━━━━━━━━━━\u001b[0m\u001b[37m\u001b[0m \u001b[1m41s\u001b[0m 210ms/step - accuracy: 0.6898 - loss: 0.2691 - val_accuracy: 0.5485 - val_loss: 0.3964 - learning_rate: 1.0000e-08\n",
      "Best last val:0.39610984921455383\n",
      "Best current val:0.39610984921455383\n",
      "Training iteration 2/5\n",
      "Epoch 1/50\n",
      "\u001b[1m194/194\u001b[0m \u001b[32m━━━━━━━━━━━━━━━━━━━━\u001b[0m\u001b[37m\u001b[0m \u001b[1m50s\u001b[0m 230ms/step - accuracy: 0.7077 - loss: 0.2683 - val_accuracy: 0.5469 - val_loss: 0.3954 - learning_rate: 1.0000e-07\n",
      "Epoch 2/50\n",
      "\u001b[1m194/194\u001b[0m \u001b[32m━━━━━━━━━━━━━━━━━━━━\u001b[0m\u001b[37m\u001b[0m \u001b[1m41s\u001b[0m 209ms/step - accuracy: 0.6917 - loss: 0.2696 - val_accuracy: 0.5469 - val_loss: 0.3959 - learning_rate: 1.0000e-07\n",
      "Epoch 3/50\n",
      "\u001b[1m194/194\u001b[0m \u001b[32m━━━━━━━━━━━━━━━━━━━━\u001b[0m\u001b[37m\u001b[0m \u001b[1m41s\u001b[0m 210ms/step - accuracy: 0.6812 - loss: 0.2674 - val_accuracy: 0.5485 - val_loss: 0.3967 - learning_rate: 1.0000e-07\n",
      "Epoch 4/50\n",
      "\u001b[1m194/194\u001b[0m \u001b[32m━━━━━━━━━━━━━━━━━━━━\u001b[0m\u001b[37m\u001b[0m \u001b[1m41s\u001b[0m 210ms/step - accuracy: 0.7031 - loss: 0.2621 - val_accuracy: 0.5437 - val_loss: 0.3978 - learning_rate: 1.0000e-07\n",
      "Epoch 5/50\n",
      "\u001b[1m194/194\u001b[0m \u001b[32m━━━━━━━━━━━━━━━━━━━━\u001b[0m\u001b[37m\u001b[0m \u001b[1m41s\u001b[0m 210ms/step - accuracy: 0.7033 - loss: 0.2602 - val_accuracy: 0.5453 - val_loss: 0.3975 - learning_rate: 1.0000e-08\n",
      "Epoch 6/50\n",
      "\u001b[1m194/194\u001b[0m \u001b[32m━━━━━━━━━━━━━━━━━━━━\u001b[0m\u001b[37m\u001b[0m \u001b[1m41s\u001b[0m 210ms/step - accuracy: 0.7027 - loss: 0.2624 - val_accuracy: 0.5469 - val_loss: 0.3972 - learning_rate: 1.0000e-08\n",
      "Best last val:0.39535659551620483\n",
      "Best current val:0.39535659551620483\n",
      "Training iteration 3/5\n",
      "Epoch 1/50\n",
      "\u001b[1m194/194\u001b[0m \u001b[32m━━━━━━━━━━━━━━━━━━━━\u001b[0m\u001b[37m\u001b[0m \u001b[1m49s\u001b[0m 230ms/step - accuracy: 0.7109 - loss: 0.2651 - val_accuracy: 0.5502 - val_loss: 0.3944 - learning_rate: 1.0000e-07\n",
      "Epoch 2/50\n",
      "\u001b[1m194/194\u001b[0m \u001b[32m━━━━━━━━━━━━━━━━━━━━\u001b[0m\u001b[37m\u001b[0m \u001b[1m41s\u001b[0m 209ms/step - accuracy: 0.6922 - loss: 0.2697 - val_accuracy: 0.5485 - val_loss: 0.3951 - learning_rate: 1.0000e-07\n",
      "Epoch 3/50\n",
      "\u001b[1m194/194\u001b[0m \u001b[32m━━━━━━━━━━━━━━━━━━━━\u001b[0m\u001b[37m\u001b[0m \u001b[1m41s\u001b[0m 210ms/step - accuracy: 0.6940 - loss: 0.2687 - val_accuracy: 0.5469 - val_loss: 0.3963 - learning_rate: 1.0000e-07\n",
      "Epoch 4/50\n",
      "\u001b[1m194/194\u001b[0m \u001b[32m━━━━━━━━━━━━━━━━━━━━\u001b[0m\u001b[37m\u001b[0m \u001b[1m41s\u001b[0m 210ms/step - accuracy: 0.6933 - loss: 0.2640 - val_accuracy: 0.5502 - val_loss: 0.3950 - learning_rate: 1.0000e-07\n",
      "Epoch 5/50\n",
      "\u001b[1m194/194\u001b[0m \u001b[32m━━━━━━━━━━━━━━━━━━━━\u001b[0m\u001b[37m\u001b[0m \u001b[1m41s\u001b[0m 210ms/step - accuracy: 0.6815 - loss: 0.2735 - val_accuracy: 0.5502 - val_loss: 0.3953 - learning_rate: 1.0000e-08\n",
      "Epoch 6/50\n",
      "\u001b[1m194/194\u001b[0m \u001b[32m━━━━━━━━━━━━━━━━━━━━\u001b[0m\u001b[37m\u001b[0m \u001b[1m41s\u001b[0m 210ms/step - accuracy: 0.7029 - loss: 0.2680 - val_accuracy: 0.5485 - val_loss: 0.3956 - learning_rate: 1.0000e-08\n",
      "Best last val:0.39438650012016296\n",
      "Best current val:0.39438650012016296\n",
      "Training iteration 4/5\n",
      "Epoch 1/50\n",
      "\u001b[1m194/194\u001b[0m \u001b[32m━━━━━━━━━━━━━━━━━━━━\u001b[0m\u001b[37m\u001b[0m \u001b[1m50s\u001b[0m 232ms/step - accuracy: 0.6945 - loss: 0.2668 - val_accuracy: 0.5453 - val_loss: 0.3964 - learning_rate: 1.0000e-07\n",
      "Epoch 2/50\n",
      "\u001b[1m194/194\u001b[0m \u001b[32m━━━━━━━━━━━━━━━━━━━━\u001b[0m\u001b[37m\u001b[0m \u001b[1m41s\u001b[0m 209ms/step - accuracy: 0.6983 - loss: 0.2638 - val_accuracy: 0.5485 - val_loss: 0.3965 - learning_rate: 1.0000e-07\n",
      "Epoch 3/50\n",
      "\u001b[1m194/194\u001b[0m \u001b[32m━━━━━━━━━━━━━━━━━━━━\u001b[0m\u001b[37m\u001b[0m \u001b[1m41s\u001b[0m 210ms/step - accuracy: 0.7006 - loss: 0.2662 - val_accuracy: 0.5453 - val_loss: 0.3959 - learning_rate: 1.0000e-07\n",
      "Epoch 4/50\n",
      "\u001b[1m194/194\u001b[0m \u001b[32m━━━━━━━━━━━━━━━━━━━━\u001b[0m\u001b[37m\u001b[0m \u001b[1m41s\u001b[0m 210ms/step - accuracy: 0.7099 - loss: 0.2626 - val_accuracy: 0.5485 - val_loss: 0.3959 - learning_rate: 1.0000e-07\n",
      "Epoch 5/50\n",
      "\u001b[1m194/194\u001b[0m \u001b[32m━━━━━━━━━━━━━━━━━━━━\u001b[0m\u001b[37m\u001b[0m \u001b[1m41s\u001b[0m 210ms/step - accuracy: 0.6786 - loss: 0.2786 - val_accuracy: 0.5502 - val_loss: 0.3961 - learning_rate: 1.0000e-07\n",
      "Epoch 6/50\n",
      "\u001b[1m194/194\u001b[0m \u001b[32m━━━━━━━━━━━━━━━━━━━━\u001b[0m\u001b[37m\u001b[0m \u001b[1m41s\u001b[0m 210ms/step - accuracy: 0.6801 - loss: 0.2696 - val_accuracy: 0.5453 - val_loss: 0.3968 - learning_rate: 1.0000e-07\n",
      "Epoch 7/50\n",
      "\u001b[1m194/194\u001b[0m \u001b[32m━━━━━━━━━━━━━━━━━━━━\u001b[0m\u001b[37m\u001b[0m \u001b[1m41s\u001b[0m 210ms/step - accuracy: 0.6955 - loss: 0.2608 - val_accuracy: 0.5453 - val_loss: 0.3965 - learning_rate: 1.0000e-08\n",
      "Epoch 8/50\n",
      "\u001b[1m194/194\u001b[0m \u001b[32m━━━━━━━━━━━━━━━━━━━━\u001b[0m\u001b[37m\u001b[0m \u001b[1m41s\u001b[0m 210ms/step - accuracy: 0.6775 - loss: 0.2723 - val_accuracy: 0.5469 - val_loss: 0.3965 - learning_rate: 1.0000e-08\n",
      "Training iteration 5/5\n",
      "Epoch 1/50\n",
      "\u001b[1m194/194\u001b[0m \u001b[32m━━━━━━━━━━━━━━━━━━━━\u001b[0m\u001b[37m\u001b[0m \u001b[1m48s\u001b[0m 224ms/step - accuracy: 0.6978 - loss: 0.2679 - val_accuracy: 0.5485 - val_loss: 0.3948 - learning_rate: 1.0000e-07\n",
      "Epoch 2/50\n",
      "\u001b[1m194/194\u001b[0m \u001b[32m━━━━━━━━━━━━━━━━━━━━\u001b[0m\u001b[37m\u001b[0m \u001b[1m41s\u001b[0m 209ms/step - accuracy: 0.6970 - loss: 0.2665 - val_accuracy: 0.5453 - val_loss: 0.3958 - learning_rate: 1.0000e-07\n",
      "Epoch 3/50\n",
      "\u001b[1m194/194\u001b[0m \u001b[32m━━━━━━━━━━━━━━━━━━━━\u001b[0m\u001b[37m\u001b[0m \u001b[1m41s\u001b[0m 209ms/step - accuracy: 0.7161 - loss: 0.2598 - val_accuracy: 0.5469 - val_loss: 0.3971 - learning_rate: 1.0000e-07\n",
      "Epoch 4/50\n",
      "\u001b[1m194/194\u001b[0m \u001b[32m━━━━━━━━━━━━━━━━━━━━\u001b[0m\u001b[37m\u001b[0m \u001b[1m41s\u001b[0m 210ms/step - accuracy: 0.7050 - loss: 0.2646 - val_accuracy: 0.5453 - val_loss: 0.3967 - learning_rate: 1.0000e-07\n",
      "Epoch 5/50\n",
      "\u001b[1m194/194\u001b[0m \u001b[32m━━━━━━━━━━━━━━━━━━━━\u001b[0m\u001b[37m\u001b[0m \u001b[1m41s\u001b[0m 210ms/step - accuracy: 0.7068 - loss: 0.2661 - val_accuracy: 0.5453 - val_loss: 0.3966 - learning_rate: 1.0000e-08\n",
      "Epoch 6/50\n",
      "\u001b[1m194/194\u001b[0m \u001b[32m━━━━━━━━━━━━━━━━━━━━\u001b[0m\u001b[37m\u001b[0m \u001b[1m41s\u001b[0m 210ms/step - accuracy: 0.7021 - loss: 0.2651 - val_accuracy: 0.5453 - val_loss: 0.3964 - learning_rate: 1.0000e-08\n"
     ]
    }
   ],
   "source": [
    "best_model_path = f'Models/class{suffix}secondary{modelclass}temp.keras'\n",
    "model_checkpoint = ModelCheckpoint(best_model_path, monitor='val_loss', save_best_only=True, mode='min')\n",
    "best_val_loss = float('inf')\n",
    "for i in range (iterations2):\n",
    "    model = CreateModel(1e-7)\n",
    "    model.load_weights(f'Models/class_{suffix}{modelclass}_overallbest.keras')\n",
    "    early_stopping = EarlyStopping(monitor='val_loss', patience=5, restore_best_weights=True)\n",
    "    reduce_lr = ReduceLROnPlateau(monitor='val_loss', factor=0.1, patience=3, min_lr=1e-8)\n",
    "    \n",
    "    print(f\"Training iteration {i+1}/{iterations2}\")\n",
    "    history = model.fit(train_images, train_labels,\n",
    "                        epochs=50,\n",
    "                        batch_size=16,\n",
    "                        validation_data=(val_images, val_labels),\n",
    "                        class_weight=class_weights,\n",
    "                        callbacks=[early_stopping, reduce_lr, model_checkpoint])\n",
    "\n",
    "    model.load_weights(best_model_path)\n",
    "    val_loss = min(history.history['val_loss'])\n",
    "    if val_loss < best_val_loss:\n",
    "        best_val_loss = val_loss\n",
    "        print(f\"Best last val:{val_loss}\")\n",
    "        print(f\"Best current val:{best_val_loss}\")\n",
    "        model.save(f'Models/class_{suffix}{modelclass}_overallbestFIN.keras')"
   ]
  }
 ],
 "metadata": {
  "kernelspec": {
   "display_name": "Python 3 (ipykernel)",
   "language": "python",
   "name": "python3"
  },
  "language_info": {
   "codemirror_mode": {
    "name": "ipython",
    "version": 3
   },
   "file_extension": ".py",
   "mimetype": "text/x-python",
   "name": "python",
   "nbconvert_exporter": "python",
   "pygments_lexer": "ipython3",
   "version": "3.11.11"
  }
 },
 "nbformat": 4,
 "nbformat_minor": 5
}
