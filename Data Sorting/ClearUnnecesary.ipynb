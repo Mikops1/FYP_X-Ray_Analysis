{
 "cells": [
  {
   "cell_type": "code",
   "id": "initial_id",
   "metadata": {
    "collapsed": true,
    "ExecuteTime": {
     "end_time": "2025-01-15T16:36:57.369860Z",
     "start_time": "2025-01-15T16:36:57.245747Z"
    }
   },
   "source": [
    "import os\n",
    "import pandas as pd\n",
    "\n",
    "def remove_unlisted_images(image_dir, csv_path):\n",
    "    df = pd.read_csv(csv_path)\n",
    "\n",
    "    valid_images = set(df['Image Index'].tolist())\n",
    "    all_images = set(os.listdir(image_dir))\n",
    "    images_to_delete = all_images - valid_images\n",
    "\n",
    "    for image in images_to_delete:\n",
    "        os.remove(os.path.join(image_dir, image))\n",
    "\n",
    "    print(f\"Number of images deleted: {len(images_to_delete)}\")\n",
    "    remaining_images = len(os.listdir(image_dir))\n",
    "    print(f\"Number of images remaining: {remaining_images}\")\n",
    "\n",
    "    if remaining_images == len(df):\n",
    "        print(\"Match\")\n",
    "    else:\n",
    "        print(\"No match\")\n",
    "\n",
    "\n",
    "image_dir = r'E:\\FYP Repos\\NIH Foundation Refined\\Data\\Images'\n",
    "csv_path = r'E:\\FYP Repos\\NIH Foundation Refined\\Data\\NIH_Foundation1.csv'\n",
    "\n",
    "remove_unlisted_images(image_dir, csv_path)"
   ],
   "outputs": [
    {
     "name": "stdout",
     "output_type": "stream",
     "text": [
      "Number of images deleted: 0\n",
      "Number of images remaining: 30257\n",
      "Match\n"
     ]
    }
   ],
   "execution_count": 2
  }
 ],
 "metadata": {
  "kernelspec": {
   "display_name": "Python 3",
   "language": "python",
   "name": "python3"
  },
  "language_info": {
   "codemirror_mode": {
    "name": "ipython",
    "version": 2
   },
   "file_extension": ".py",
   "mimetype": "text/x-python",
   "name": "python",
   "nbconvert_exporter": "python",
   "pygments_lexer": "ipython2",
   "version": "2.7.6"
  }
 },
 "nbformat": 4,
 "nbformat_minor": 5
}
