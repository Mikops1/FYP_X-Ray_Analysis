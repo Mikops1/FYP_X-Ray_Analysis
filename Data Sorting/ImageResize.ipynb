{
 "cells": [
  {
   "cell_type": "code",
   "execution_count": 1,
   "id": "initial_id",
   "metadata": {
    "ExecuteTime": {
     "end_time": "2025-01-15T16:24:48.677445Z",
     "start_time": "2025-01-15T16:07:44.475644Z"
    },
    "collapsed": true,
    "jupyter": {
     "outputs_hidden": true
    }
   },
   "outputs": [
    {
     "name": "stderr",
     "output_type": "stream",
     "text": [
      "100%|██████████| 112120/112120 [17:01<00:00, 109.75it/s]\n",
      "IOPub data rate exceeded.\n",
      "The Jupyter server will temporarily stop sending output\n",
      "to the client in order to avoid crashing it.\n",
      "To change this limit, set the config variable\n",
      "`--ServerApp.iopub_data_rate_limit`.\n",
      "\n",
      "Current values:\n",
      "ServerApp.iopub_data_rate_limit=1000000.0 (bytes/sec)\n",
      "ServerApp.rate_limit_window=3.0 (secs)\n",
      "\n"
     ]
    }
   ],
   "source": [
    "import os\n",
    "from PIL import Image\n",
    "from concurrent.futures import ThreadPoolExecutor\n",
    "from tqdm import tqdm\n",
    "\n",
    "def process_image(file_path, output_dir, target_size, file_extension):\n",
    "    try:\n",
    "        with Image.open(file_path) as img:\n",
    "            img = img.convert('L')\n",
    "            img = img.resize(target_size)\n",
    "            output_file_path = os.path.join(output_dir, os.path.splitext(os.path.basename(file_path))[0] + file_extension)\n",
    "            img.save(output_file_path)\n",
    "            return f\"Resized and saved: {output_file_path}\"\n",
    "    except Exception as e:\n",
    "        return f\"Error processing {file_path}: {e}\"\n",
    "\n",
    "def resize_images_in_subfolders(base_dir, output_dir, target_size=(256, 256), file_extension='.png'):\n",
    "    if not os.path.exists(output_dir):\n",
    "        os.makedirs(output_dir)\n",
    "\n",
    "    file_paths = []\n",
    "    for root, dirs, files in os.walk(base_dir):\n",
    "        for file in files:\n",
    "            if file.endswith(file_extension):\n",
    "                file_paths.append(os.path.join(root, file))\n",
    "\n",
    "    with ThreadPoolExecutor() as executor:\n",
    "        results = list(tqdm(executor.map(lambda file_path: process_image(file_path, output_dir, target_size, file_extension), file_paths), total=len(file_paths)))\n",
    "\n",
    "    for result in results:\n",
    "        print(result)\n",
    "\n",
    "base_dir = r'D:\\FYP Backup\\NIH Chest'\n",
    "output_dir = r'E:\\FYP Repos\\NIH Foundation Refined\\Data\\Images'\n",
    "\n",
    "resize_images_in_subfolders(base_dir, output_dir)"
   ]
  },
  {
   "cell_type": "code",
   "execution_count": null,
   "id": "9a8eb0af067a2cb3",
   "metadata": {},
   "outputs": [],
   "source": []
  }
 ],
 "metadata": {
  "kernelspec": {
   "display_name": "Python 3 (ipykernel)",
   "language": "python",
   "name": "python3"
  },
  "language_info": {
   "codemirror_mode": {
    "name": "ipython",
    "version": 3
   },
   "file_extension": ".py",
   "mimetype": "text/x-python",
   "name": "python",
   "nbconvert_exporter": "python",
   "pygments_lexer": "ipython3",
   "version": "3.11.11"
  }
 },
 "nbformat": 4,
 "nbformat_minor": 5
}
